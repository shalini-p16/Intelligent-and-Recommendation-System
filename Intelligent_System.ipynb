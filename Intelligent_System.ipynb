{
 "cells": [
  {
   "cell_type": "code",
   "execution_count": 2,
   "metadata": {
    "id": "XF8H3xvGDeu3"
   },
   "outputs": [],
   "source": [
    "import pandas as pd\n",
    "import numpy as np\n",
    "import time\n",
    "import turicreate as tc\n",
    "from sklearn.model_selection import train_test_split\n",
    "\n",
    "import sys\n",
    "sys.path.append(\"..\")"
   ]
  },
  {
   "cell_type": "code",
   "execution_count": 3,
   "metadata": {
    "colab": {
     "base_uri": "https://localhost:8080/",
     "height": 419
    },
    "id": "RJC0zXTfkCGo",
    "outputId": "cdbcd56a-5223-4def-a10b-45a751ce6e32"
   },
   "outputs": [
    {
     "data": {
      "text/html": [
       "<div>\n",
       "<style scoped>\n",
       "    .dataframe tbody tr th:only-of-type {\n",
       "        vertical-align: middle;\n",
       "    }\n",
       "\n",
       "    .dataframe tbody tr th {\n",
       "        vertical-align: top;\n",
       "    }\n",
       "\n",
       "    .dataframe thead th {\n",
       "        text-align: right;\n",
       "    }\n",
       "</style>\n",
       "<table border=\"1\" class=\"dataframe\">\n",
       "  <thead>\n",
       "    <tr style=\"text-align: right;\">\n",
       "      <th></th>\n",
       "      <th>sessionId</th>\n",
       "      <th>userId</th>\n",
       "      <th>itemId</th>\n",
       "      <th>timeframe</th>\n",
       "      <th>eventdate</th>\n",
       "    </tr>\n",
       "  </thead>\n",
       "  <tbody>\n",
       "    <tr>\n",
       "      <th>0</th>\n",
       "      <td>1</td>\n",
       "      <td>NaN</td>\n",
       "      <td>81766</td>\n",
       "      <td>526309</td>\n",
       "      <td>2016-05-09</td>\n",
       "    </tr>\n",
       "    <tr>\n",
       "      <th>1</th>\n",
       "      <td>1</td>\n",
       "      <td>NaN</td>\n",
       "      <td>31331</td>\n",
       "      <td>1031018</td>\n",
       "      <td>2016-05-09</td>\n",
       "    </tr>\n",
       "    <tr>\n",
       "      <th>2</th>\n",
       "      <td>1</td>\n",
       "      <td>NaN</td>\n",
       "      <td>32118</td>\n",
       "      <td>243569</td>\n",
       "      <td>2016-05-09</td>\n",
       "    </tr>\n",
       "    <tr>\n",
       "      <th>3</th>\n",
       "      <td>1</td>\n",
       "      <td>NaN</td>\n",
       "      <td>9654</td>\n",
       "      <td>75848</td>\n",
       "      <td>2016-05-09</td>\n",
       "    </tr>\n",
       "    <tr>\n",
       "      <th>4</th>\n",
       "      <td>1</td>\n",
       "      <td>NaN</td>\n",
       "      <td>32627</td>\n",
       "      <td>1112408</td>\n",
       "      <td>2016-05-09</td>\n",
       "    </tr>\n",
       "    <tr>\n",
       "      <th>...</th>\n",
       "      <td>...</td>\n",
       "      <td>...</td>\n",
       "      <td>...</td>\n",
       "      <td>...</td>\n",
       "      <td>...</td>\n",
       "    </tr>\n",
       "    <tr>\n",
       "      <th>1235375</th>\n",
       "      <td>600684</td>\n",
       "      <td>NaN</td>\n",
       "      <td>42906</td>\n",
       "      <td>632853</td>\n",
       "      <td>2016-04-14</td>\n",
       "    </tr>\n",
       "    <tr>\n",
       "      <th>1235376</th>\n",
       "      <td>600684</td>\n",
       "      <td>NaN</td>\n",
       "      <td>33312</td>\n",
       "      <td>643522</td>\n",
       "      <td>2016-04-14</td>\n",
       "    </tr>\n",
       "    <tr>\n",
       "      <th>1235377</th>\n",
       "      <td>600684</td>\n",
       "      <td>NaN</td>\n",
       "      <td>33312</td>\n",
       "      <td>52621</td>\n",
       "      <td>2016-04-14</td>\n",
       "    </tr>\n",
       "    <tr>\n",
       "      <th>1235378</th>\n",
       "      <td>600684</td>\n",
       "      <td>NaN</td>\n",
       "      <td>5227</td>\n",
       "      <td>575276</td>\n",
       "      <td>2016-04-14</td>\n",
       "    </tr>\n",
       "    <tr>\n",
       "      <th>1235379</th>\n",
       "      <td>600687</td>\n",
       "      <td>249347.0</td>\n",
       "      <td>13296</td>\n",
       "      <td>135288</td>\n",
       "      <td>2016-02-16</td>\n",
       "    </tr>\n",
       "  </tbody>\n",
       "</table>\n",
       "<p>1235380 rows × 5 columns</p>\n",
       "</div>"
      ],
      "text/plain": [
       "         sessionId    userId  itemId  timeframe   eventdate\n",
       "0                1       NaN   81766     526309  2016-05-09\n",
       "1                1       NaN   31331    1031018  2016-05-09\n",
       "2                1       NaN   32118     243569  2016-05-09\n",
       "3                1       NaN    9654      75848  2016-05-09\n",
       "4                1       NaN   32627    1112408  2016-05-09\n",
       "...            ...       ...     ...        ...         ...\n",
       "1235375     600684       NaN   42906     632853  2016-04-14\n",
       "1235376     600684       NaN   33312     643522  2016-04-14\n",
       "1235377     600684       NaN   33312      52621  2016-04-14\n",
       "1235378     600684       NaN    5227     575276  2016-04-14\n",
       "1235379     600687  249347.0   13296     135288  2016-02-16\n",
       "\n",
       "[1235380 rows x 5 columns]"
      ]
     },
     "execution_count": 3,
     "metadata": {},
     "output_type": "execute_result"
    }
   ],
   "source": [
    "cust = pd.read_csv(\"train-item-views.csv\",delimiter=\";\")\n",
    "cust"
   ]
  },
  {
   "cell_type": "code",
   "execution_count": 4,
   "metadata": {},
   "outputs": [
    {
     "name": "stdout",
     "output_type": "stream",
     "text": [
      "<class 'pandas.core.frame.DataFrame'>\n",
      "RangeIndex: 1235380 entries, 0 to 1235379\n",
      "Data columns (total 5 columns):\n",
      " #   Column     Non-Null Count    Dtype  \n",
      "---  ------     --------------    -----  \n",
      " 0   sessionId  1235380 non-null  int64  \n",
      " 1   userId     372991 non-null   float64\n",
      " 2   itemId     1235380 non-null  int64  \n",
      " 3   timeframe  1235380 non-null  int64  \n",
      " 4   eventdate  1235380 non-null  object \n",
      "dtypes: float64(1), int64(3), object(1)\n",
      "memory usage: 47.1+ MB\n"
     ]
    }
   ],
   "source": [
    "cust.info()"
   ]
  },
  {
   "cell_type": "code",
   "execution_count": 5,
   "metadata": {
    "id": "rExP8gG6kYQu"
   },
   "outputs": [],
   "source": [
    "cust_final = cust.drop(columns = ['sessionId', 'itemId', 'timeframe', 'eventdate'])"
   ]
  },
  {
   "cell_type": "code",
   "execution_count": 6,
   "metadata": {
    "colab": {
     "base_uri": "https://localhost:8080/"
    },
    "id": "jwBe0_znE_Ia",
    "outputId": "b6b311c0-f65f-4327-b7af-f300434af57c"
   },
   "outputs": [
    {
     "name": "stdout",
     "output_type": "stream",
     "text": [
      "(1235380, 1)\n"
     ]
    }
   ],
   "source": [
    "print(cust_final.shape)"
   ]
  },
  {
   "cell_type": "code",
   "execution_count": 7,
   "metadata": {
    "colab": {
     "base_uri": "https://localhost:8080/",
     "height": 419
    },
    "id": "tiaALP0fFFKc",
    "outputId": "82b6b5c2-8936-4eed-cfc7-39dcfa0b4e95"
   },
   "outputs": [
    {
     "data": {
      "text/html": [
       "<div>\n",
       "<style scoped>\n",
       "    .dataframe tbody tr th:only-of-type {\n",
       "        vertical-align: middle;\n",
       "    }\n",
       "\n",
       "    .dataframe tbody tr th {\n",
       "        vertical-align: top;\n",
       "    }\n",
       "\n",
       "    .dataframe thead th {\n",
       "        text-align: right;\n",
       "    }\n",
       "</style>\n",
       "<table border=\"1\" class=\"dataframe\">\n",
       "  <thead>\n",
       "    <tr style=\"text-align: right;\">\n",
       "      <th></th>\n",
       "      <th>userId</th>\n",
       "    </tr>\n",
       "  </thead>\n",
       "  <tbody>\n",
       "    <tr>\n",
       "      <th>164</th>\n",
       "      <td>2.0</td>\n",
       "    </tr>\n",
       "    <tr>\n",
       "      <th>165</th>\n",
       "      <td>2.0</td>\n",
       "    </tr>\n",
       "    <tr>\n",
       "      <th>166</th>\n",
       "      <td>2.0</td>\n",
       "    </tr>\n",
       "    <tr>\n",
       "      <th>167</th>\n",
       "      <td>2.0</td>\n",
       "    </tr>\n",
       "    <tr>\n",
       "      <th>168</th>\n",
       "      <td>2.0</td>\n",
       "    </tr>\n",
       "    <tr>\n",
       "      <th>...</th>\n",
       "      <td>...</td>\n",
       "    </tr>\n",
       "    <tr>\n",
       "      <th>1235338</th>\n",
       "      <td>249327.0</td>\n",
       "    </tr>\n",
       "    <tr>\n",
       "      <th>1235358</th>\n",
       "      <td>249344.0</td>\n",
       "    </tr>\n",
       "    <tr>\n",
       "      <th>1235359</th>\n",
       "      <td>249344.0</td>\n",
       "    </tr>\n",
       "    <tr>\n",
       "      <th>1235360</th>\n",
       "      <td>249344.0</td>\n",
       "    </tr>\n",
       "    <tr>\n",
       "      <th>1235379</th>\n",
       "      <td>249347.0</td>\n",
       "    </tr>\n",
       "  </tbody>\n",
       "</table>\n",
       "<p>372991 rows × 1 columns</p>\n",
       "</div>"
      ],
      "text/plain": [
       "           userId\n",
       "164           2.0\n",
       "165           2.0\n",
       "166           2.0\n",
       "167           2.0\n",
       "168           2.0\n",
       "...           ...\n",
       "1235338  249327.0\n",
       "1235358  249344.0\n",
       "1235359  249344.0\n",
       "1235360  249344.0\n",
       "1235379  249347.0\n",
       "\n",
       "[372991 rows x 1 columns]"
      ]
     },
     "execution_count": 7,
     "metadata": {},
     "output_type": "execute_result"
    }
   ],
   "source": [
    "cust_final.dropna()"
   ]
  },
  {
   "cell_type": "code",
   "execution_count": 8,
   "metadata": {
    "colab": {
     "base_uri": "https://localhost:8080/",
     "height": 517
    },
    "id": "CUXN0_V5FU41",
    "outputId": "c3aed3f8-00e9-4628-c899-555874e1855d"
   },
   "outputs": [
    {
     "name": "stderr",
     "output_type": "stream",
     "text": [
      "/opt/anaconda3/lib/python3.8/site-packages/IPython/core/interactiveshell.py:3444: DtypeWarning: Columns (6) have mixed types.Specify dtype option on import or set low_memory=False.\n",
      "  exec(code_obj, self.user_global_ns, self.user_ns)\n"
     ]
    },
    {
     "data": {
      "text/html": [
       "<div>\n",
       "<style scoped>\n",
       "    .dataframe tbody tr th:only-of-type {\n",
       "        vertical-align: middle;\n",
       "    }\n",
       "\n",
       "    .dataframe tbody tr th {\n",
       "        vertical-align: top;\n",
       "    }\n",
       "\n",
       "    .dataframe thead th {\n",
       "        text-align: right;\n",
       "    }\n",
       "</style>\n",
       "<table border=\"1\" class=\"dataframe\">\n",
       "  <thead>\n",
       "    <tr style=\"text-align: right;\">\n",
       "      <th></th>\n",
       "      <th>queryId</th>\n",
       "      <th>sessionId</th>\n",
       "      <th>userId</th>\n",
       "      <th>timeframe</th>\n",
       "      <th>duration</th>\n",
       "      <th>eventdate</th>\n",
       "      <th>searchstring.tokens</th>\n",
       "      <th>categoryId</th>\n",
       "      <th>items</th>\n",
       "      <th>is.test</th>\n",
       "    </tr>\n",
       "  </thead>\n",
       "  <tbody>\n",
       "    <tr>\n",
       "      <th>0</th>\n",
       "      <td>1</td>\n",
       "      <td>1</td>\n",
       "      <td>NaN</td>\n",
       "      <td>16327074</td>\n",
       "      <td>311</td>\n",
       "      <td>2016-05-09</td>\n",
       "      <td>16655,244087,51531,529597,58153</td>\n",
       "      <td>0</td>\n",
       "      <td>7518,71,30311,7837,30792,8252,81766,9338,62220...</td>\n",
       "      <td>False</td>\n",
       "    </tr>\n",
       "    <tr>\n",
       "      <th>1</th>\n",
       "      <td>2</td>\n",
       "      <td>2</td>\n",
       "      <td>NaN</td>\n",
       "      <td>705527</td>\n",
       "      <td>314</td>\n",
       "      <td>2016-05-09</td>\n",
       "      <td>528941,529116</td>\n",
       "      <td>0</td>\n",
       "      <td>70095,15964,8627,134850,32754,100747,74771,314...</td>\n",
       "      <td>False</td>\n",
       "    </tr>\n",
       "    <tr>\n",
       "      <th>2</th>\n",
       "      <td>3</td>\n",
       "      <td>3</td>\n",
       "      <td>NaN</td>\n",
       "      <td>0</td>\n",
       "      <td>502</td>\n",
       "      <td>2016-05-09</td>\n",
       "      <td>133713,16655,138389</td>\n",
       "      <td>0</td>\n",
       "      <td>59081,51125,9338,9550,32087,62793,2717,10403,3...</td>\n",
       "      <td>True</td>\n",
       "    </tr>\n",
       "    <tr>\n",
       "      <th>3</th>\n",
       "      <td>4</td>\n",
       "      <td>4</td>\n",
       "      <td>NaN</td>\n",
       "      <td>0</td>\n",
       "      <td>1092</td>\n",
       "      <td>2016-05-09</td>\n",
       "      <td>3918,3822,460416,528812,5276,529517,528738</td>\n",
       "      <td>0</td>\n",
       "      <td>46632,57465,79064,57748,6080,35997,47088,6078,...</td>\n",
       "      <td>False</td>\n",
       "    </tr>\n",
       "    <tr>\n",
       "      <th>4</th>\n",
       "      <td>5</td>\n",
       "      <td>5</td>\n",
       "      <td>NaN</td>\n",
       "      <td>102700</td>\n",
       "      <td>266</td>\n",
       "      <td>2016-05-09</td>\n",
       "      <td>529223,199482</td>\n",
       "      <td>0</td>\n",
       "      <td>27312,84626,12621,46209,5140,57539,5368,12923,...</td>\n",
       "      <td>False</td>\n",
       "    </tr>\n",
       "    <tr>\n",
       "      <th>...</th>\n",
       "      <td>...</td>\n",
       "      <td>...</td>\n",
       "      <td>...</td>\n",
       "      <td>...</td>\n",
       "      <td>...</td>\n",
       "      <td>...</td>\n",
       "      <td>...</td>\n",
       "      <td>...</td>\n",
       "      <td>...</td>\n",
       "      <td>...</td>\n",
       "    </tr>\n",
       "    <tr>\n",
       "      <th>923122</th>\n",
       "      <td>980499</td>\n",
       "      <td>600685</td>\n",
       "      <td>NaN</td>\n",
       "      <td>0</td>\n",
       "      <td>407</td>\n",
       "      <td>2016-05-11</td>\n",
       "      <td>NaN</td>\n",
       "      <td>1174</td>\n",
       "      <td>37197,37877,37878,30493,59914,249161,70728,600...</td>\n",
       "      <td>True</td>\n",
       "    </tr>\n",
       "    <tr>\n",
       "      <th>923123</th>\n",
       "      <td>980500</td>\n",
       "      <td>13265</td>\n",
       "      <td>NaN</td>\n",
       "      <td>361805</td>\n",
       "      <td>1203</td>\n",
       "      <td>2016-04-04</td>\n",
       "      <td>NaN</td>\n",
       "      <td>257</td>\n",
       "      <td>16285,383058,391318,334708,50753,39983,112937,...</td>\n",
       "      <td>False</td>\n",
       "    </tr>\n",
       "    <tr>\n",
       "      <th>923124</th>\n",
       "      <td>980501</td>\n",
       "      <td>286379</td>\n",
       "      <td>NaN</td>\n",
       "      <td>953967</td>\n",
       "      <td>3789</td>\n",
       "      <td>2016-04-07</td>\n",
       "      <td>NaN</td>\n",
       "      <td>273</td>\n",
       "      <td>93417,38387,81656,161236,81657,212080,152555,1...</td>\n",
       "      <td>True</td>\n",
       "    </tr>\n",
       "    <tr>\n",
       "      <th>923125</th>\n",
       "      <td>980502</td>\n",
       "      <td>600686</td>\n",
       "      <td>249346.0</td>\n",
       "      <td>0</td>\n",
       "      <td>1581</td>\n",
       "      <td>2016-05-15</td>\n",
       "      <td>NaN</td>\n",
       "      <td>965</td>\n",
       "      <td>7516,30087,7553,37380,30261,59236,48347,261,20...</td>\n",
       "      <td>True</td>\n",
       "    </tr>\n",
       "    <tr>\n",
       "      <th>923126</th>\n",
       "      <td>980503</td>\n",
       "      <td>600687</td>\n",
       "      <td>249347.0</td>\n",
       "      <td>0</td>\n",
       "      <td>169</td>\n",
       "      <td>2016-02-16</td>\n",
       "      <td>NaN</td>\n",
       "      <td>305</td>\n",
       "      <td>24793,35656,13234,126060,35663,24804,19333,293...</td>\n",
       "      <td>False</td>\n",
       "    </tr>\n",
       "  </tbody>\n",
       "</table>\n",
       "<p>923127 rows × 10 columns</p>\n",
       "</div>"
      ],
      "text/plain": [
       "        queryId  sessionId    userId  timeframe  duration   eventdate  \\\n",
       "0             1          1       NaN   16327074       311  2016-05-09   \n",
       "1             2          2       NaN     705527       314  2016-05-09   \n",
       "2             3          3       NaN          0       502  2016-05-09   \n",
       "3             4          4       NaN          0      1092  2016-05-09   \n",
       "4             5          5       NaN     102700       266  2016-05-09   \n",
       "...         ...        ...       ...        ...       ...         ...   \n",
       "923122   980499     600685       NaN          0       407  2016-05-11   \n",
       "923123   980500      13265       NaN     361805      1203  2016-04-04   \n",
       "923124   980501     286379       NaN     953967      3789  2016-04-07   \n",
       "923125   980502     600686  249346.0          0      1581  2016-05-15   \n",
       "923126   980503     600687  249347.0          0       169  2016-02-16   \n",
       "\n",
       "                               searchstring.tokens  categoryId  \\\n",
       "0                  16655,244087,51531,529597,58153           0   \n",
       "1                                    528941,529116           0   \n",
       "2                              133713,16655,138389           0   \n",
       "3       3918,3822,460416,528812,5276,529517,528738           0   \n",
       "4                                    529223,199482           0   \n",
       "...                                            ...         ...   \n",
       "923122                                         NaN        1174   \n",
       "923123                                         NaN         257   \n",
       "923124                                         NaN         273   \n",
       "923125                                         NaN         965   \n",
       "923126                                         NaN         305   \n",
       "\n",
       "                                                    items  is.test  \n",
       "0       7518,71,30311,7837,30792,8252,81766,9338,62220...    False  \n",
       "1       70095,15964,8627,134850,32754,100747,74771,314...    False  \n",
       "2       59081,51125,9338,9550,32087,62793,2717,10403,3...     True  \n",
       "3       46632,57465,79064,57748,6080,35997,47088,6078,...    False  \n",
       "4       27312,84626,12621,46209,5140,57539,5368,12923,...    False  \n",
       "...                                                   ...      ...  \n",
       "923122  37197,37877,37878,30493,59914,249161,70728,600...     True  \n",
       "923123  16285,383058,391318,334708,50753,39983,112937,...    False  \n",
       "923124  93417,38387,81656,161236,81657,212080,152555,1...     True  \n",
       "923125  7516,30087,7553,37380,30261,59236,48347,261,20...     True  \n",
       "923126  24793,35656,13234,126060,35663,24804,19333,293...    False  \n",
       "\n",
       "[923127 rows x 10 columns]"
      ]
     },
     "execution_count": 8,
     "metadata": {},
     "output_type": "execute_result"
    }
   ],
   "source": [
    "train_queries = pd.read_csv(\"train-queries.csv\", sep=\";\")\n",
    "train_queries"
   ]
  },
  {
   "cell_type": "code",
   "execution_count": 9,
   "metadata": {
    "colab": {
     "base_uri": "https://localhost:8080/",
     "height": 419
    },
    "id": "LOku7WqNFq2_",
    "outputId": "20deb2b8-1164-4f19-9528-140bc3cda4c8"
   },
   "outputs": [
    {
     "data": {
      "text/html": [
       "<div>\n",
       "<style scoped>\n",
       "    .dataframe tbody tr th:only-of-type {\n",
       "        vertical-align: middle;\n",
       "    }\n",
       "\n",
       "    .dataframe tbody tr th {\n",
       "        vertical-align: top;\n",
       "    }\n",
       "\n",
       "    .dataframe thead th {\n",
       "        text-align: right;\n",
       "    }\n",
       "</style>\n",
       "<table border=\"1\" class=\"dataframe\">\n",
       "  <thead>\n",
       "    <tr style=\"text-align: right;\">\n",
       "      <th></th>\n",
       "      <th>userId</th>\n",
       "      <th>items</th>\n",
       "    </tr>\n",
       "  </thead>\n",
       "  <tbody>\n",
       "    <tr>\n",
       "      <th>0</th>\n",
       "      <td>NaN</td>\n",
       "      <td>7518,71,30311,7837,30792,8252,81766,9338,62220...</td>\n",
       "    </tr>\n",
       "    <tr>\n",
       "      <th>1</th>\n",
       "      <td>NaN</td>\n",
       "      <td>70095,15964,8627,134850,32754,100747,74771,314...</td>\n",
       "    </tr>\n",
       "    <tr>\n",
       "      <th>2</th>\n",
       "      <td>NaN</td>\n",
       "      <td>59081,51125,9338,9550,32087,62793,2717,10403,3...</td>\n",
       "    </tr>\n",
       "    <tr>\n",
       "      <th>3</th>\n",
       "      <td>NaN</td>\n",
       "      <td>46632,57465,79064,57748,6080,35997,47088,6078,...</td>\n",
       "    </tr>\n",
       "    <tr>\n",
       "      <th>4</th>\n",
       "      <td>NaN</td>\n",
       "      <td>27312,84626,12621,46209,5140,57539,5368,12923,...</td>\n",
       "    </tr>\n",
       "    <tr>\n",
       "      <th>...</th>\n",
       "      <td>...</td>\n",
       "      <td>...</td>\n",
       "    </tr>\n",
       "    <tr>\n",
       "      <th>923122</th>\n",
       "      <td>NaN</td>\n",
       "      <td>37197,37877,37878,30493,59914,249161,70728,600...</td>\n",
       "    </tr>\n",
       "    <tr>\n",
       "      <th>923123</th>\n",
       "      <td>NaN</td>\n",
       "      <td>16285,383058,391318,334708,50753,39983,112937,...</td>\n",
       "    </tr>\n",
       "    <tr>\n",
       "      <th>923124</th>\n",
       "      <td>NaN</td>\n",
       "      <td>93417,38387,81656,161236,81657,212080,152555,1...</td>\n",
       "    </tr>\n",
       "    <tr>\n",
       "      <th>923125</th>\n",
       "      <td>249346.0</td>\n",
       "      <td>7516,30087,7553,37380,30261,59236,48347,261,20...</td>\n",
       "    </tr>\n",
       "    <tr>\n",
       "      <th>923126</th>\n",
       "      <td>249347.0</td>\n",
       "      <td>24793,35656,13234,126060,35663,24804,19333,293...</td>\n",
       "    </tr>\n",
       "  </tbody>\n",
       "</table>\n",
       "<p>923127 rows × 2 columns</p>\n",
       "</div>"
      ],
      "text/plain": [
       "          userId                                              items\n",
       "0            NaN  7518,71,30311,7837,30792,8252,81766,9338,62220...\n",
       "1            NaN  70095,15964,8627,134850,32754,100747,74771,314...\n",
       "2            NaN  59081,51125,9338,9550,32087,62793,2717,10403,3...\n",
       "3            NaN  46632,57465,79064,57748,6080,35997,47088,6078,...\n",
       "4            NaN  27312,84626,12621,46209,5140,57539,5368,12923,...\n",
       "...          ...                                                ...\n",
       "923122       NaN  37197,37877,37878,30493,59914,249161,70728,600...\n",
       "923123       NaN  16285,383058,391318,334708,50753,39983,112937,...\n",
       "923124       NaN  93417,38387,81656,161236,81657,212080,152555,1...\n",
       "923125  249346.0  7516,30087,7553,37380,30261,59236,48347,261,20...\n",
       "923126  249347.0  24793,35656,13234,126060,35663,24804,19333,293...\n",
       "\n",
       "[923127 rows x 2 columns]"
      ]
     },
     "execution_count": 9,
     "metadata": {},
     "output_type": "execute_result"
    }
   ],
   "source": [
    "train_queries.drop(columns = ['queryId', 'sessionId', 'timeframe', 'duration', 'eventdate', 'searchstring.tokens','categoryId', 'is.test'])"
   ]
  },
  {
   "cell_type": "code",
   "execution_count": 10,
   "metadata": {
    "colab": {
     "base_uri": "https://localhost:8080/",
     "height": 419
    },
    "id": "gJznnIJ4OWBQ",
    "outputId": "91b66e13-0eca-4662-dca4-452e48a1ffd2"
   },
   "outputs": [
    {
     "data": {
      "text/html": [
       "<div>\n",
       "<style scoped>\n",
       "    .dataframe tbody tr th:only-of-type {\n",
       "        vertical-align: middle;\n",
       "    }\n",
       "\n",
       "    .dataframe tbody tr th {\n",
       "        vertical-align: top;\n",
       "    }\n",
       "\n",
       "    .dataframe thead th {\n",
       "        text-align: right;\n",
       "    }\n",
       "</style>\n",
       "<table border=\"1\" class=\"dataframe\">\n",
       "  <thead>\n",
       "    <tr style=\"text-align: right;\">\n",
       "      <th></th>\n",
       "      <th>userId</th>\n",
       "      <th>items</th>\n",
       "    </tr>\n",
       "  </thead>\n",
       "  <tbody>\n",
       "    <tr>\n",
       "      <th>0</th>\n",
       "      <td>NaN</td>\n",
       "      <td>7518,71,30311,7837,30792,8252,81766,9338,62220...</td>\n",
       "    </tr>\n",
       "    <tr>\n",
       "      <th>1</th>\n",
       "      <td>NaN</td>\n",
       "      <td>70095,15964,8627,134850,32754,100747,74771,314...</td>\n",
       "    </tr>\n",
       "    <tr>\n",
       "      <th>2</th>\n",
       "      <td>NaN</td>\n",
       "      <td>59081,51125,9338,9550,32087,62793,2717,10403,3...</td>\n",
       "    </tr>\n",
       "    <tr>\n",
       "      <th>3</th>\n",
       "      <td>NaN</td>\n",
       "      <td>46632,57465,79064,57748,6080,35997,47088,6078,...</td>\n",
       "    </tr>\n",
       "    <tr>\n",
       "      <th>4</th>\n",
       "      <td>NaN</td>\n",
       "      <td>27312,84626,12621,46209,5140,57539,5368,12923,...</td>\n",
       "    </tr>\n",
       "    <tr>\n",
       "      <th>...</th>\n",
       "      <td>...</td>\n",
       "      <td>...</td>\n",
       "    </tr>\n",
       "    <tr>\n",
       "      <th>923122</th>\n",
       "      <td>NaN</td>\n",
       "      <td>37197,37877,37878,30493,59914,249161,70728,600...</td>\n",
       "    </tr>\n",
       "    <tr>\n",
       "      <th>923123</th>\n",
       "      <td>NaN</td>\n",
       "      <td>16285,383058,391318,334708,50753,39983,112937,...</td>\n",
       "    </tr>\n",
       "    <tr>\n",
       "      <th>923124</th>\n",
       "      <td>NaN</td>\n",
       "      <td>93417,38387,81656,161236,81657,212080,152555,1...</td>\n",
       "    </tr>\n",
       "    <tr>\n",
       "      <th>923125</th>\n",
       "      <td>249346.0</td>\n",
       "      <td>7516,30087,7553,37380,30261,59236,48347,261,20...</td>\n",
       "    </tr>\n",
       "    <tr>\n",
       "      <th>923126</th>\n",
       "      <td>249347.0</td>\n",
       "      <td>24793,35656,13234,126060,35663,24804,19333,293...</td>\n",
       "    </tr>\n",
       "  </tbody>\n",
       "</table>\n",
       "<p>923127 rows × 2 columns</p>\n",
       "</div>"
      ],
      "text/plain": [
       "          userId                                              items\n",
       "0            NaN  7518,71,30311,7837,30792,8252,81766,9338,62220...\n",
       "1            NaN  70095,15964,8627,134850,32754,100747,74771,314...\n",
       "2            NaN  59081,51125,9338,9550,32087,62793,2717,10403,3...\n",
       "3            NaN  46632,57465,79064,57748,6080,35997,47088,6078,...\n",
       "4            NaN  27312,84626,12621,46209,5140,57539,5368,12923,...\n",
       "...          ...                                                ...\n",
       "923122       NaN  37197,37877,37878,30493,59914,249161,70728,600...\n",
       "923123       NaN  16285,383058,391318,334708,50753,39983,112937,...\n",
       "923124       NaN  93417,38387,81656,161236,81657,212080,152555,1...\n",
       "923125  249346.0  7516,30087,7553,37380,30261,59236,48347,261,20...\n",
       "923126  249347.0  24793,35656,13234,126060,35663,24804,19333,293...\n",
       "\n",
       "[923127 rows x 2 columns]"
      ]
     },
     "execution_count": 10,
     "metadata": {},
     "output_type": "execute_result"
    }
   ],
   "source": [
    "train_f= train_queries.drop(columns = ['queryId', 'sessionId', 'timeframe', 'duration', 'eventdate', 'searchstring.tokens','categoryId', 'is.test'])\n",
    "train_f"
   ]
  },
  {
   "cell_type": "code",
   "execution_count": 11,
   "metadata": {
    "colab": {
     "base_uri": "https://localhost:8080/",
     "height": 521
    },
    "id": "3-h061X4OkgF",
    "outputId": "5a0bc14c-54c9-436d-bdde-8ee81eb34f97"
   },
   "outputs": [
    {
     "name": "stderr",
     "output_type": "stream",
     "text": [
      "/var/folders/k5/4j1l0hjx1cz26q703gh4y1kh0000gn/T/ipykernel_35515/3012063681.py:3: SettingWithCopyWarning: \n",
      "A value is trying to be set on a copy of a slice from a DataFrame.\n",
      "Try using .loc[row_indexer,col_indexer] = value instead\n",
      "\n",
      "See the caveats in the documentation: https://pandas.pydata.org/pandas-docs/stable/user_guide/indexing.html#returning-a-view-versus-a-copy\n",
      "  final_table['userId'] = final_table['userId'].astype(\"Int64\")\n"
     ]
    },
    {
     "data": {
      "text/html": [
       "<div>\n",
       "<style scoped>\n",
       "    .dataframe tbody tr th:only-of-type {\n",
       "        vertical-align: middle;\n",
       "    }\n",
       "\n",
       "    .dataframe tbody tr th {\n",
       "        vertical-align: top;\n",
       "    }\n",
       "\n",
       "    .dataframe thead th {\n",
       "        text-align: right;\n",
       "    }\n",
       "</style>\n",
       "<table border=\"1\" class=\"dataframe\">\n",
       "  <thead>\n",
       "    <tr style=\"text-align: right;\">\n",
       "      <th></th>\n",
       "      <th>userId</th>\n",
       "      <th>items</th>\n",
       "    </tr>\n",
       "  </thead>\n",
       "  <tbody>\n",
       "    <tr>\n",
       "      <th>47</th>\n",
       "      <td>2</td>\n",
       "      <td>35389,68366,35438,5472,5683,24764,35627,46907,...</td>\n",
       "    </tr>\n",
       "    <tr>\n",
       "      <th>59</th>\n",
       "      <td>3</td>\n",
       "      <td>21100,113639,22128,2444,52938,129975,17247,329...</td>\n",
       "    </tr>\n",
       "    <tr>\n",
       "      <th>104</th>\n",
       "      <td>4</td>\n",
       "      <td>48336,30308,7763,7776,30839,81819,111066,8525,...</td>\n",
       "    </tr>\n",
       "    <tr>\n",
       "      <th>107</th>\n",
       "      <td>5</td>\n",
       "      <td>666,38247,8138,8619,32979,85571,33070,85771,10...</td>\n",
       "    </tr>\n",
       "    <tr>\n",
       "      <th>129</th>\n",
       "      <td>6</td>\n",
       "      <td>7837,513,30792,8252,416192,94453,293921,62239,...</td>\n",
       "    </tr>\n",
       "    <tr>\n",
       "      <th>...</th>\n",
       "      <td>...</td>\n",
       "      <td>...</td>\n",
       "    </tr>\n",
       "    <tr>\n",
       "      <th>923114</th>\n",
       "      <td>62039</td>\n",
       "      <td>26006,30180,48359,283,30313,7827,460,504,48768...</td>\n",
       "    </tr>\n",
       "    <tr>\n",
       "      <th>923117</th>\n",
       "      <td>74686</td>\n",
       "      <td>91036,37156,60,61,91096,7589,7590,110,58958,30...</td>\n",
       "    </tr>\n",
       "    <tr>\n",
       "      <th>923118</th>\n",
       "      <td>189994</td>\n",
       "      <td>59134,69919,59135,59248,7735,108619,20776,7006...</td>\n",
       "    </tr>\n",
       "    <tr>\n",
       "      <th>923125</th>\n",
       "      <td>249346</td>\n",
       "      <td>7516,30087,7553,37380,30261,59236,48347,261,20...</td>\n",
       "    </tr>\n",
       "    <tr>\n",
       "      <th>923126</th>\n",
       "      <td>249347</td>\n",
       "      <td>24793,35656,13234,126060,35663,24804,19333,293...</td>\n",
       "    </tr>\n",
       "  </tbody>\n",
       "</table>\n",
       "<p>348240 rows × 2 columns</p>\n",
       "</div>"
      ],
      "text/plain": [
       "        userId                                              items\n",
       "47           2  35389,68366,35438,5472,5683,24764,35627,46907,...\n",
       "59           3  21100,113639,22128,2444,52938,129975,17247,329...\n",
       "104          4  48336,30308,7763,7776,30839,81819,111066,8525,...\n",
       "107          5  666,38247,8138,8619,32979,85571,33070,85771,10...\n",
       "129          6  7837,513,30792,8252,416192,94453,293921,62239,...\n",
       "...        ...                                                ...\n",
       "923114   62039  26006,30180,48359,283,30313,7827,460,504,48768...\n",
       "923117   74686  91036,37156,60,61,91096,7589,7590,110,58958,30...\n",
       "923118  189994  59134,69919,59135,59248,7735,108619,20776,7006...\n",
       "923125  249346  7516,30087,7553,37380,30261,59236,48347,261,20...\n",
       "923126  249347  24793,35656,13234,126060,35663,24804,19333,293...\n",
       "\n",
       "[348240 rows x 2 columns]"
      ]
     },
     "execution_count": 11,
     "metadata": {},
     "output_type": "execute_result"
    }
   ],
   "source": [
    "final_table=train_f.dropna()\n",
    "final_table[:200]\n",
    "final_table['userId'] = final_table['userId'].astype(\"int64\")\n",
    "final_table"
   ]
  },
  {
   "cell_type": "code",
   "execution_count": 12,
   "metadata": {
    "id": "jnhj3OWIGDb8"
   },
   "outputs": [],
   "source": [
    "#final_table['items']=final_table['items'].tolist()\n",
    "#final_table"
   ]
  },
  {
   "cell_type": "code",
   "execution_count": 13,
   "metadata": {
    "colab": {
     "base_uri": "https://localhost:8080/",
     "height": 213
    },
    "id": "XxAJMUqgdF-3",
    "outputId": "bd273def-83dd-4f6d-d37f-febc7320f26a"
   },
   "outputs": [
    {
     "name": "stderr",
     "output_type": "stream",
     "text": [
      "/var/folders/k5/4j1l0hjx1cz26q703gh4y1kh0000gn/T/ipykernel_35515/4265787848.py:1: SettingWithCopyWarning: \n",
      "A value is trying to be set on a copy of a slice from a DataFrame.\n",
      "Try using .loc[row_indexer,col_indexer] = value instead\n",
      "\n",
      "See the caveats in the documentation: https://pandas.pydata.org/pandas-docs/stable/user_guide/indexing.html#returning-a-view-versus-a-copy\n",
      "  final_table['items'] = final_table['items'].apply(lambda x: [int(i) for i in x.split(',')])\n"
     ]
    },
    {
     "data": {
      "text/html": [
       "<div>\n",
       "<style scoped>\n",
       "    .dataframe tbody tr th:only-of-type {\n",
       "        vertical-align: middle;\n",
       "    }\n",
       "\n",
       "    .dataframe tbody tr th {\n",
       "        vertical-align: top;\n",
       "    }\n",
       "\n",
       "    .dataframe thead th {\n",
       "        text-align: right;\n",
       "    }\n",
       "</style>\n",
       "<table border=\"1\" class=\"dataframe\">\n",
       "  <thead>\n",
       "    <tr style=\"text-align: right;\">\n",
       "      <th></th>\n",
       "      <th>userId</th>\n",
       "      <th>0</th>\n",
       "      <th>1</th>\n",
       "      <th>2</th>\n",
       "      <th>3</th>\n",
       "      <th>4</th>\n",
       "      <th>5</th>\n",
       "      <th>6</th>\n",
       "      <th>7</th>\n",
       "      <th>8</th>\n",
       "      <th>...</th>\n",
       "      <th>10</th>\n",
       "      <th>11</th>\n",
       "      <th>12</th>\n",
       "      <th>13</th>\n",
       "      <th>14</th>\n",
       "      <th>15</th>\n",
       "      <th>16</th>\n",
       "      <th>17</th>\n",
       "      <th>18</th>\n",
       "      <th>19</th>\n",
       "    </tr>\n",
       "  </thead>\n",
       "  <tbody>\n",
       "    <tr>\n",
       "      <th>0</th>\n",
       "      <td>2</td>\n",
       "      <td>35389</td>\n",
       "      <td>68366</td>\n",
       "      <td>35438</td>\n",
       "      <td>5472</td>\n",
       "      <td>5683</td>\n",
       "      <td>24764</td>\n",
       "      <td>35627</td>\n",
       "      <td>46907</td>\n",
       "      <td>13326</td>\n",
       "      <td>...</td>\n",
       "      <td>36031</td>\n",
       "      <td>36146</td>\n",
       "      <td>6308</td>\n",
       "      <td>6526</td>\n",
       "      <td>36411</td>\n",
       "      <td>36412</td>\n",
       "      <td>36410</td>\n",
       "      <td>6530</td>\n",
       "      <td>6560</td>\n",
       "      <td>6848</td>\n",
       "    </tr>\n",
       "    <tr>\n",
       "      <th>1</th>\n",
       "      <td>3</td>\n",
       "      <td>21100</td>\n",
       "      <td>113639</td>\n",
       "      <td>22128</td>\n",
       "      <td>2444</td>\n",
       "      <td>52938</td>\n",
       "      <td>129975</td>\n",
       "      <td>17247</td>\n",
       "      <td>32902</td>\n",
       "      <td>64097</td>\n",
       "      <td>...</td>\n",
       "      <td>43228</td>\n",
       "      <td>65293</td>\n",
       "      <td>3935</td>\n",
       "      <td>4699</td>\n",
       "      <td>67991</td>\n",
       "      <td>130748</td>\n",
       "      <td>6190</td>\n",
       "      <td>47159</td>\n",
       "      <td>25610</td>\n",
       "      <td>14635</td>\n",
       "    </tr>\n",
       "  </tbody>\n",
       "</table>\n",
       "<p>2 rows × 21 columns</p>\n",
       "</div>"
      ],
      "text/plain": [
       "   userId      0       1      2     3      4       5      6      7      8  \\\n",
       "0       2  35389   68366  35438  5472   5683   24764  35627  46907  13326   \n",
       "1       3  21100  113639  22128  2444  52938  129975  17247  32902  64097   \n",
       "\n",
       "   ...     10     11    12    13     14      15     16     17     18     19  \n",
       "0  ...  36031  36146  6308  6526  36411   36412  36410   6530   6560   6848  \n",
       "1  ...  43228  65293  3935  4699  67991  130748   6190  47159  25610  14635  \n",
       "\n",
       "[2 rows x 21 columns]"
      ]
     },
     "execution_count": 13,
     "metadata": {},
     "output_type": "execute_result"
    }
   ],
   "source": [
    "final_table['items'] = final_table['items'].apply(lambda x: [int(i) for i in x.split(',')])\n",
    "final_table.head(2).set_index('userId')['items'].apply(pd.Series).reset_index()"
   ]
  },
  {
   "cell_type": "code",
   "execution_count": null,
   "metadata": {
    "id": "KHkGvch1dkBO"
   },
   "outputs": [],
   "source": []
  },
  {
   "cell_type": "code",
   "execution_count": 14,
   "metadata": {
    "id": "NY0H_T3mGdSX"
   },
   "outputs": [],
   "source": [
    "import pandas as pd\n",
    "\n",
    "data = pd.melt(final_table.set_index('userId')['items'].apply(pd.Series).reset_index(), \n",
    "             id_vars=['userId'],\n",
    "             value_name='items') \\\n",
    "    .dropna().drop(['variable'], axis=1) \\\n",
    "    .groupby(['userId', 'items']) \\\n",
    "    .agg({'items': 'count'}) \\\n",
    "    .rename(columns={'items': 'purchase_count'}) \\\n",
    "    .reset_index() \\\n",
    "    .rename(columns={'items': 'itemId'})\n",
    "data['itemId'] = data['itemId']"
   ]
  },
  {
   "cell_type": "code",
   "execution_count": 15,
   "metadata": {
    "colab": {
     "base_uri": "https://localhost:8080/",
     "height": 223
    },
    "id": "ShxnU6oeKXKR",
    "outputId": "fce9ebc8-fffc-4c41-a0e6-9b327ec8fb2f"
   },
   "outputs": [
    {
     "name": "stdout",
     "output_type": "stream",
     "text": [
      "(38013048, 3)\n"
     ]
    },
    {
     "data": {
      "text/html": [
       "<div>\n",
       "<style scoped>\n",
       "    .dataframe tbody tr th:only-of-type {\n",
       "        vertical-align: middle;\n",
       "    }\n",
       "\n",
       "    .dataframe tbody tr th {\n",
       "        vertical-align: top;\n",
       "    }\n",
       "\n",
       "    .dataframe thead th {\n",
       "        text-align: right;\n",
       "    }\n",
       "</style>\n",
       "<table border=\"1\" class=\"dataframe\">\n",
       "  <thead>\n",
       "    <tr style=\"text-align: right;\">\n",
       "      <th></th>\n",
       "      <th>userId</th>\n",
       "      <th>itemId</th>\n",
       "      <th>purchase_count</th>\n",
       "    </tr>\n",
       "  </thead>\n",
       "  <tbody>\n",
       "    <tr>\n",
       "      <th>0</th>\n",
       "      <td>2</td>\n",
       "      <td>5472.0</td>\n",
       "      <td>1</td>\n",
       "    </tr>\n",
       "    <tr>\n",
       "      <th>1</th>\n",
       "      <td>2</td>\n",
       "      <td>5683.0</td>\n",
       "      <td>1</td>\n",
       "    </tr>\n",
       "    <tr>\n",
       "      <th>2</th>\n",
       "      <td>2</td>\n",
       "      <td>6308.0</td>\n",
       "      <td>1</td>\n",
       "    </tr>\n",
       "    <tr>\n",
       "      <th>3</th>\n",
       "      <td>2</td>\n",
       "      <td>6526.0</td>\n",
       "      <td>1</td>\n",
       "    </tr>\n",
       "    <tr>\n",
       "      <th>4</th>\n",
       "      <td>2</td>\n",
       "      <td>6530.0</td>\n",
       "      <td>1</td>\n",
       "    </tr>\n",
       "  </tbody>\n",
       "</table>\n",
       "</div>"
      ],
      "text/plain": [
       "   userId  itemId  purchase_count\n",
       "0       2  5472.0               1\n",
       "1       2  5683.0               1\n",
       "2       2  6308.0               1\n",
       "3       2  6526.0               1\n",
       "4       2  6530.0               1"
      ]
     },
     "execution_count": 15,
     "metadata": {},
     "output_type": "execute_result"
    }
   ],
   "source": [
    "print(data.shape)\n",
    "data.head()"
   ]
  },
  {
   "cell_type": "code",
   "execution_count": 16,
   "metadata": {
    "colab": {
     "base_uri": "https://localhost:8080/",
     "height": 223
    },
    "id": "7p9q13bYhZw0",
    "outputId": "451204be-a1c1-4f58-d193-17bed6d36761"
   },
   "outputs": [
    {
     "name": "stdout",
     "output_type": "stream",
     "text": [
      "(38013048, 3)\n"
     ]
    },
    {
     "data": {
      "text/html": [
       "<div>\n",
       "<style scoped>\n",
       "    .dataframe tbody tr th:only-of-type {\n",
       "        vertical-align: middle;\n",
       "    }\n",
       "\n",
       "    .dataframe tbody tr th {\n",
       "        vertical-align: top;\n",
       "    }\n",
       "\n",
       "    .dataframe thead th {\n",
       "        text-align: right;\n",
       "    }\n",
       "</style>\n",
       "<table border=\"1\" class=\"dataframe\">\n",
       "  <thead>\n",
       "    <tr style=\"text-align: right;\">\n",
       "      <th></th>\n",
       "      <th>userId</th>\n",
       "      <th>itemId</th>\n",
       "      <th>purchase_count</th>\n",
       "    </tr>\n",
       "  </thead>\n",
       "  <tbody>\n",
       "    <tr>\n",
       "      <th>0</th>\n",
       "      <td>2</td>\n",
       "      <td>5472</td>\n",
       "      <td>1</td>\n",
       "    </tr>\n",
       "    <tr>\n",
       "      <th>1</th>\n",
       "      <td>2</td>\n",
       "      <td>5683</td>\n",
       "      <td>1</td>\n",
       "    </tr>\n",
       "    <tr>\n",
       "      <th>2</th>\n",
       "      <td>2</td>\n",
       "      <td>6308</td>\n",
       "      <td>1</td>\n",
       "    </tr>\n",
       "    <tr>\n",
       "      <th>3</th>\n",
       "      <td>2</td>\n",
       "      <td>6526</td>\n",
       "      <td>1</td>\n",
       "    </tr>\n",
       "    <tr>\n",
       "      <th>4</th>\n",
       "      <td>2</td>\n",
       "      <td>6530</td>\n",
       "      <td>1</td>\n",
       "    </tr>\n",
       "  </tbody>\n",
       "</table>\n",
       "</div>"
      ],
      "text/plain": [
       "   userId  itemId  purchase_count\n",
       "0       2    5472               1\n",
       "1       2    5683               1\n",
       "2       2    6308               1\n",
       "3       2    6526               1\n",
       "4       2    6530               1"
      ]
     },
     "execution_count": 16,
     "metadata": {},
     "output_type": "execute_result"
    }
   ],
   "source": [
    "data['itemId'] = data['itemId'].astype(\"int64\")\n",
    "print(data.shape)\n",
    "data.head()\n"
   ]
  },
  {
   "cell_type": "code",
   "execution_count": 17,
   "metadata": {
    "id": "qQekx9tSQZzY"
   },
   "outputs": [],
   "source": [
    "def create_data_dummy(data):\n",
    "    data_dummy = data.copy()\n",
    "    data_dummy['purchase_dummy'] = 1\n",
    "    return data_dummy\n"
   ]
  },
  {
   "cell_type": "code",
   "execution_count": 18,
   "metadata": {
    "id": "FKpoo1c4e8kT"
   },
   "outputs": [],
   "source": [
    "data_dummy = create_data_dummy(data)"
   ]
  },
  {
   "cell_type": "code",
   "execution_count": 19,
   "metadata": {
    "colab": {
     "base_uri": "https://localhost:8080/",
     "height": 331
    },
    "id": "JzpjY7EuQeiw",
    "outputId": "79d7d392-ba84-494d-d20a-da3ef7018a10"
   },
   "outputs": [
    {
     "data": {
      "text/html": [
       "<div>\n",
       "<style scoped>\n",
       "    .dataframe tbody tr th:only-of-type {\n",
       "        vertical-align: middle;\n",
       "    }\n",
       "\n",
       "    .dataframe tbody tr th {\n",
       "        vertical-align: top;\n",
       "    }\n",
       "\n",
       "    .dataframe thead th {\n",
       "        text-align: right;\n",
       "    }\n",
       "</style>\n",
       "<table border=\"1\" class=\"dataframe\">\n",
       "  <thead>\n",
       "    <tr style=\"text-align: right;\">\n",
       "      <th>itemId</th>\n",
       "      <th>43</th>\n",
       "      <th>58</th>\n",
       "      <th>59</th>\n",
       "      <th>63</th>\n",
       "      <th>67</th>\n",
       "      <th>71</th>\n",
       "      <th>157</th>\n",
       "      <th>163</th>\n",
       "      <th>176</th>\n",
       "      <th>218</th>\n",
       "      <th>...</th>\n",
       "      <th>597181</th>\n",
       "      <th>608474</th>\n",
       "      <th>611064</th>\n",
       "      <th>611115</th>\n",
       "      <th>613078</th>\n",
       "      <th>619574</th>\n",
       "      <th>625661</th>\n",
       "      <th>672648</th>\n",
       "      <th>678608</th>\n",
       "      <th>685992</th>\n",
       "    </tr>\n",
       "    <tr>\n",
       "      <th>userId</th>\n",
       "      <th></th>\n",
       "      <th></th>\n",
       "      <th></th>\n",
       "      <th></th>\n",
       "      <th></th>\n",
       "      <th></th>\n",
       "      <th></th>\n",
       "      <th></th>\n",
       "      <th></th>\n",
       "      <th></th>\n",
       "      <th></th>\n",
       "      <th></th>\n",
       "      <th></th>\n",
       "      <th></th>\n",
       "      <th></th>\n",
       "      <th></th>\n",
       "      <th></th>\n",
       "      <th></th>\n",
       "      <th></th>\n",
       "      <th></th>\n",
       "      <th></th>\n",
       "    </tr>\n",
       "  </thead>\n",
       "  <tbody>\n",
       "    <tr>\n",
       "      <th>2</th>\n",
       "      <td>NaN</td>\n",
       "      <td>NaN</td>\n",
       "      <td>NaN</td>\n",
       "      <td>NaN</td>\n",
       "      <td>NaN</td>\n",
       "      <td>NaN</td>\n",
       "      <td>NaN</td>\n",
       "      <td>NaN</td>\n",
       "      <td>NaN</td>\n",
       "      <td>NaN</td>\n",
       "      <td>...</td>\n",
       "      <td>NaN</td>\n",
       "      <td>NaN</td>\n",
       "      <td>NaN</td>\n",
       "      <td>NaN</td>\n",
       "      <td>NaN</td>\n",
       "      <td>NaN</td>\n",
       "      <td>NaN</td>\n",
       "      <td>NaN</td>\n",
       "      <td>NaN</td>\n",
       "      <td>NaN</td>\n",
       "    </tr>\n",
       "    <tr>\n",
       "      <th>3</th>\n",
       "      <td>NaN</td>\n",
       "      <td>1.0</td>\n",
       "      <td>1.0</td>\n",
       "      <td>1.0</td>\n",
       "      <td>1.0</td>\n",
       "      <td>NaN</td>\n",
       "      <td>1.0</td>\n",
       "      <td>1.0</td>\n",
       "      <td>NaN</td>\n",
       "      <td>NaN</td>\n",
       "      <td>...</td>\n",
       "      <td>1.0</td>\n",
       "      <td>1.0</td>\n",
       "      <td>1.0</td>\n",
       "      <td>1.0</td>\n",
       "      <td>NaN</td>\n",
       "      <td>1.0</td>\n",
       "      <td>1.0</td>\n",
       "      <td>1.0</td>\n",
       "      <td>1.0</td>\n",
       "      <td>1.0</td>\n",
       "    </tr>\n",
       "    <tr>\n",
       "      <th>4</th>\n",
       "      <td>NaN</td>\n",
       "      <td>NaN</td>\n",
       "      <td>NaN</td>\n",
       "      <td>NaN</td>\n",
       "      <td>NaN</td>\n",
       "      <td>NaN</td>\n",
       "      <td>NaN</td>\n",
       "      <td>NaN</td>\n",
       "      <td>NaN</td>\n",
       "      <td>NaN</td>\n",
       "      <td>...</td>\n",
       "      <td>NaN</td>\n",
       "      <td>NaN</td>\n",
       "      <td>NaN</td>\n",
       "      <td>NaN</td>\n",
       "      <td>NaN</td>\n",
       "      <td>NaN</td>\n",
       "      <td>NaN</td>\n",
       "      <td>NaN</td>\n",
       "      <td>NaN</td>\n",
       "      <td>NaN</td>\n",
       "    </tr>\n",
       "    <tr>\n",
       "      <th>5</th>\n",
       "      <td>NaN</td>\n",
       "      <td>NaN</td>\n",
       "      <td>NaN</td>\n",
       "      <td>NaN</td>\n",
       "      <td>NaN</td>\n",
       "      <td>NaN</td>\n",
       "      <td>NaN</td>\n",
       "      <td>NaN</td>\n",
       "      <td>NaN</td>\n",
       "      <td>NaN</td>\n",
       "      <td>...</td>\n",
       "      <td>NaN</td>\n",
       "      <td>NaN</td>\n",
       "      <td>NaN</td>\n",
       "      <td>NaN</td>\n",
       "      <td>NaN</td>\n",
       "      <td>NaN</td>\n",
       "      <td>NaN</td>\n",
       "      <td>NaN</td>\n",
       "      <td>NaN</td>\n",
       "      <td>NaN</td>\n",
       "    </tr>\n",
       "    <tr>\n",
       "      <th>6</th>\n",
       "      <td>NaN</td>\n",
       "      <td>NaN</td>\n",
       "      <td>NaN</td>\n",
       "      <td>NaN</td>\n",
       "      <td>NaN</td>\n",
       "      <td>1.0</td>\n",
       "      <td>NaN</td>\n",
       "      <td>NaN</td>\n",
       "      <td>NaN</td>\n",
       "      <td>NaN</td>\n",
       "      <td>...</td>\n",
       "      <td>NaN</td>\n",
       "      <td>NaN</td>\n",
       "      <td>NaN</td>\n",
       "      <td>NaN</td>\n",
       "      <td>NaN</td>\n",
       "      <td>NaN</td>\n",
       "      <td>NaN</td>\n",
       "      <td>NaN</td>\n",
       "      <td>NaN</td>\n",
       "      <td>NaN</td>\n",
       "    </tr>\n",
       "  </tbody>\n",
       "</table>\n",
       "<p>5 rows × 5383 columns</p>\n",
       "</div>"
      ],
      "text/plain": [
       "itemId  43      58      59      63      67      71      157     163     \\\n",
       "userId                                                                   \n",
       "2          NaN     NaN     NaN     NaN     NaN     NaN     NaN     NaN   \n",
       "3          NaN     1.0     1.0     1.0     1.0     NaN     1.0     1.0   \n",
       "4          NaN     NaN     NaN     NaN     NaN     NaN     NaN     NaN   \n",
       "5          NaN     NaN     NaN     NaN     NaN     NaN     NaN     NaN   \n",
       "6          NaN     NaN     NaN     NaN     NaN     1.0     NaN     NaN   \n",
       "\n",
       "itemId  176     218     ...  597181  608474  611064  611115  613078  619574  \\\n",
       "userId                  ...                                                   \n",
       "2          NaN     NaN  ...     NaN     NaN     NaN     NaN     NaN     NaN   \n",
       "3          NaN     NaN  ...     1.0     1.0     1.0     1.0     NaN     1.0   \n",
       "4          NaN     NaN  ...     NaN     NaN     NaN     NaN     NaN     NaN   \n",
       "5          NaN     NaN  ...     NaN     NaN     NaN     NaN     NaN     NaN   \n",
       "6          NaN     NaN  ...     NaN     NaN     NaN     NaN     NaN     NaN   \n",
       "\n",
       "itemId  625661  672648  678608  685992  \n",
       "userId                                  \n",
       "2          NaN     NaN     NaN     NaN  \n",
       "3          1.0     1.0     1.0     1.0  \n",
       "4          NaN     NaN     NaN     NaN  \n",
       "5          NaN     NaN     NaN     NaN  \n",
       "6          NaN     NaN     NaN     NaN  \n",
       "\n",
       "[5 rows x 5383 columns]"
      ]
     },
     "execution_count": 19,
     "metadata": {},
     "output_type": "execute_result"
    }
   ],
   "source": [
    "import pandas as pd\n",
    "df_matrix = pd.pivot_table(data[:6000], values='purchase_count', index='userId', columns='itemId')\n",
    "df_matrix.head()\n"
   ]
  },
  {
   "cell_type": "code",
   "execution_count": 20,
   "metadata": {
    "colab": {
     "base_uri": "https://localhost:8080/"
    },
    "id": "3ZM8AzaxfN2W",
    "outputId": "e33970f4-53b1-4fe5-bca9-5f7fe446fe85"
   },
   "outputs": [
    {
     "data": {
      "text/plain": [
       "(56, 5383)"
      ]
     },
     "execution_count": 20,
     "metadata": {},
     "output_type": "execute_result"
    }
   ],
   "source": [
    "df_matrix.shape"
   ]
  },
  {
   "cell_type": "code",
   "execution_count": 21,
   "metadata": {
    "colab": {
     "base_uri": "https://localhost:8080/",
     "height": 348
    },
    "id": "gKASILwWQ9G6",
    "outputId": "d2abf7e1-1fdc-4bf1-c1ab-110eae535b1a"
   },
   "outputs": [
    {
     "name": "stdout",
     "output_type": "stream",
     "text": [
      "(56, 5383)\n"
     ]
    },
    {
     "data": {
      "text/html": [
       "<div>\n",
       "<style scoped>\n",
       "    .dataframe tbody tr th:only-of-type {\n",
       "        vertical-align: middle;\n",
       "    }\n",
       "\n",
       "    .dataframe tbody tr th {\n",
       "        vertical-align: top;\n",
       "    }\n",
       "\n",
       "    .dataframe thead th {\n",
       "        text-align: right;\n",
       "    }\n",
       "</style>\n",
       "<table border=\"1\" class=\"dataframe\">\n",
       "  <thead>\n",
       "    <tr style=\"text-align: right;\">\n",
       "      <th>itemId</th>\n",
       "      <th>43</th>\n",
       "      <th>58</th>\n",
       "      <th>59</th>\n",
       "      <th>63</th>\n",
       "      <th>67</th>\n",
       "      <th>71</th>\n",
       "      <th>157</th>\n",
       "      <th>163</th>\n",
       "      <th>176</th>\n",
       "      <th>218</th>\n",
       "      <th>...</th>\n",
       "      <th>597181</th>\n",
       "      <th>608474</th>\n",
       "      <th>611064</th>\n",
       "      <th>611115</th>\n",
       "      <th>613078</th>\n",
       "      <th>619574</th>\n",
       "      <th>625661</th>\n",
       "      <th>672648</th>\n",
       "      <th>678608</th>\n",
       "      <th>685992</th>\n",
       "    </tr>\n",
       "    <tr>\n",
       "      <th>userId</th>\n",
       "      <th></th>\n",
       "      <th></th>\n",
       "      <th></th>\n",
       "      <th></th>\n",
       "      <th></th>\n",
       "      <th></th>\n",
       "      <th></th>\n",
       "      <th></th>\n",
       "      <th></th>\n",
       "      <th></th>\n",
       "      <th></th>\n",
       "      <th></th>\n",
       "      <th></th>\n",
       "      <th></th>\n",
       "      <th></th>\n",
       "      <th></th>\n",
       "      <th></th>\n",
       "      <th></th>\n",
       "      <th></th>\n",
       "      <th></th>\n",
       "      <th></th>\n",
       "    </tr>\n",
       "  </thead>\n",
       "  <tbody>\n",
       "    <tr>\n",
       "      <th>2</th>\n",
       "      <td>NaN</td>\n",
       "      <td>NaN</td>\n",
       "      <td>NaN</td>\n",
       "      <td>NaN</td>\n",
       "      <td>NaN</td>\n",
       "      <td>NaN</td>\n",
       "      <td>NaN</td>\n",
       "      <td>NaN</td>\n",
       "      <td>NaN</td>\n",
       "      <td>NaN</td>\n",
       "      <td>...</td>\n",
       "      <td>NaN</td>\n",
       "      <td>NaN</td>\n",
       "      <td>NaN</td>\n",
       "      <td>NaN</td>\n",
       "      <td>NaN</td>\n",
       "      <td>NaN</td>\n",
       "      <td>NaN</td>\n",
       "      <td>NaN</td>\n",
       "      <td>NaN</td>\n",
       "      <td>NaN</td>\n",
       "    </tr>\n",
       "    <tr>\n",
       "      <th>3</th>\n",
       "      <td>NaN</td>\n",
       "      <td>NaN</td>\n",
       "      <td>NaN</td>\n",
       "      <td>NaN</td>\n",
       "      <td>NaN</td>\n",
       "      <td>NaN</td>\n",
       "      <td>NaN</td>\n",
       "      <td>NaN</td>\n",
       "      <td>NaN</td>\n",
       "      <td>NaN</td>\n",
       "      <td>...</td>\n",
       "      <td>NaN</td>\n",
       "      <td>NaN</td>\n",
       "      <td>NaN</td>\n",
       "      <td>NaN</td>\n",
       "      <td>NaN</td>\n",
       "      <td>NaN</td>\n",
       "      <td>NaN</td>\n",
       "      <td>NaN</td>\n",
       "      <td>NaN</td>\n",
       "      <td>NaN</td>\n",
       "    </tr>\n",
       "    <tr>\n",
       "      <th>4</th>\n",
       "      <td>NaN</td>\n",
       "      <td>NaN</td>\n",
       "      <td>NaN</td>\n",
       "      <td>NaN</td>\n",
       "      <td>NaN</td>\n",
       "      <td>NaN</td>\n",
       "      <td>NaN</td>\n",
       "      <td>NaN</td>\n",
       "      <td>NaN</td>\n",
       "      <td>NaN</td>\n",
       "      <td>...</td>\n",
       "      <td>NaN</td>\n",
       "      <td>NaN</td>\n",
       "      <td>NaN</td>\n",
       "      <td>NaN</td>\n",
       "      <td>NaN</td>\n",
       "      <td>NaN</td>\n",
       "      <td>NaN</td>\n",
       "      <td>NaN</td>\n",
       "      <td>NaN</td>\n",
       "      <td>NaN</td>\n",
       "    </tr>\n",
       "    <tr>\n",
       "      <th>5</th>\n",
       "      <td>NaN</td>\n",
       "      <td>NaN</td>\n",
       "      <td>NaN</td>\n",
       "      <td>NaN</td>\n",
       "      <td>NaN</td>\n",
       "      <td>NaN</td>\n",
       "      <td>NaN</td>\n",
       "      <td>NaN</td>\n",
       "      <td>NaN</td>\n",
       "      <td>NaN</td>\n",
       "      <td>...</td>\n",
       "      <td>NaN</td>\n",
       "      <td>NaN</td>\n",
       "      <td>NaN</td>\n",
       "      <td>NaN</td>\n",
       "      <td>NaN</td>\n",
       "      <td>NaN</td>\n",
       "      <td>NaN</td>\n",
       "      <td>NaN</td>\n",
       "      <td>NaN</td>\n",
       "      <td>NaN</td>\n",
       "    </tr>\n",
       "    <tr>\n",
       "      <th>6</th>\n",
       "      <td>NaN</td>\n",
       "      <td>NaN</td>\n",
       "      <td>NaN</td>\n",
       "      <td>NaN</td>\n",
       "      <td>NaN</td>\n",
       "      <td>0.0</td>\n",
       "      <td>NaN</td>\n",
       "      <td>NaN</td>\n",
       "      <td>NaN</td>\n",
       "      <td>NaN</td>\n",
       "      <td>...</td>\n",
       "      <td>NaN</td>\n",
       "      <td>NaN</td>\n",
       "      <td>NaN</td>\n",
       "      <td>NaN</td>\n",
       "      <td>NaN</td>\n",
       "      <td>NaN</td>\n",
       "      <td>NaN</td>\n",
       "      <td>NaN</td>\n",
       "      <td>NaN</td>\n",
       "      <td>NaN</td>\n",
       "    </tr>\n",
       "  </tbody>\n",
       "</table>\n",
       "<p>5 rows × 5383 columns</p>\n",
       "</div>"
      ],
      "text/plain": [
       "itemId  43      58      59      63      67      71      157     163     \\\n",
       "userId                                                                   \n",
       "2          NaN     NaN     NaN     NaN     NaN     NaN     NaN     NaN   \n",
       "3          NaN     NaN     NaN     NaN     NaN     NaN     NaN     NaN   \n",
       "4          NaN     NaN     NaN     NaN     NaN     NaN     NaN     NaN   \n",
       "5          NaN     NaN     NaN     NaN     NaN     NaN     NaN     NaN   \n",
       "6          NaN     NaN     NaN     NaN     NaN     0.0     NaN     NaN   \n",
       "\n",
       "itemId  176     218     ...  597181  608474  611064  611115  613078  619574  \\\n",
       "userId                  ...                                                   \n",
       "2          NaN     NaN  ...     NaN     NaN     NaN     NaN     NaN     NaN   \n",
       "3          NaN     NaN  ...     NaN     NaN     NaN     NaN     NaN     NaN   \n",
       "4          NaN     NaN  ...     NaN     NaN     NaN     NaN     NaN     NaN   \n",
       "5          NaN     NaN  ...     NaN     NaN     NaN     NaN     NaN     NaN   \n",
       "6          NaN     NaN  ...     NaN     NaN     NaN     NaN     NaN     NaN   \n",
       "\n",
       "itemId  625661  672648  678608  685992  \n",
       "userId                                  \n",
       "2          NaN     NaN     NaN     NaN  \n",
       "3          NaN     NaN     NaN     NaN  \n",
       "4          NaN     NaN     NaN     NaN  \n",
       "5          NaN     NaN     NaN     NaN  \n",
       "6          NaN     NaN     NaN     NaN  \n",
       "\n",
       "[5 rows x 5383 columns]"
      ]
     },
     "execution_count": 21,
     "metadata": {},
     "output_type": "execute_result"
    }
   ],
   "source": [
    "df_matrix_norm = (df_matrix-df_matrix.min())/(df_matrix.max()-df_matrix.min())\n",
    "print(df_matrix_norm.shape)\n",
    "df_matrix_norm.head()"
   ]
  },
  {
   "cell_type": "code",
   "execution_count": 22,
   "metadata": {
    "colab": {
     "base_uri": "https://localhost:8080/",
     "height": 223
    },
    "id": "Hf8QNa4SSj3z",
    "outputId": "0d740a84-fe1a-4fac-b533-f532a9d99600"
   },
   "outputs": [
    {
     "name": "stdout",
     "output_type": "stream",
     "text": [
      "(638, 3)\n"
     ]
    },
    {
     "data": {
      "text/html": [
       "<div>\n",
       "<style scoped>\n",
       "    .dataframe tbody tr th:only-of-type {\n",
       "        vertical-align: middle;\n",
       "    }\n",
       "\n",
       "    .dataframe tbody tr th {\n",
       "        vertical-align: top;\n",
       "    }\n",
       "\n",
       "    .dataframe thead th {\n",
       "        text-align: right;\n",
       "    }\n",
       "</style>\n",
       "<table border=\"1\" class=\"dataframe\">\n",
       "  <thead>\n",
       "    <tr style=\"text-align: right;\">\n",
       "      <th></th>\n",
       "      <th>userId</th>\n",
       "      <th>itemId</th>\n",
       "      <th>scaled_purchase_freq</th>\n",
       "    </tr>\n",
       "  </thead>\n",
       "  <tbody>\n",
       "    <tr>\n",
       "      <th>284</th>\n",
       "      <td>6</td>\n",
       "      <td>71</td>\n",
       "      <td>0.0</td>\n",
       "    </tr>\n",
       "    <tr>\n",
       "      <th>288</th>\n",
       "      <td>10</td>\n",
       "      <td>71</td>\n",
       "      <td>1.0</td>\n",
       "    </tr>\n",
       "    <tr>\n",
       "      <th>292</th>\n",
       "      <td>14</td>\n",
       "      <td>71</td>\n",
       "      <td>0.0</td>\n",
       "    </tr>\n",
       "    <tr>\n",
       "      <th>1180</th>\n",
       "      <td>6</td>\n",
       "      <td>513</td>\n",
       "      <td>1.0</td>\n",
       "    </tr>\n",
       "    <tr>\n",
       "      <th>1217</th>\n",
       "      <td>43</td>\n",
       "      <td>513</td>\n",
       "      <td>0.0</td>\n",
       "    </tr>\n",
       "  </tbody>\n",
       "</table>\n",
       "</div>"
      ],
      "text/plain": [
       "      userId itemId  scaled_purchase_freq\n",
       "284        6     71                   0.0\n",
       "288       10     71                   1.0\n",
       "292       14     71                   0.0\n",
       "1180       6    513                   1.0\n",
       "1217      43    513                   0.0"
      ]
     },
     "execution_count": 22,
     "metadata": {},
     "output_type": "execute_result"
    }
   ],
   "source": [
    "d = df_matrix_norm.reset_index() \n",
    "d.index.names = ['scaled_purchase_freq'] \n",
    "data_norm = pd.melt(d, id_vars=['userId'], value_name='scaled_purchase_freq').dropna()\n",
    "print(data_norm.shape)\n",
    "data_norm.head()"
   ]
  },
  {
   "cell_type": "code",
   "execution_count": 23,
   "metadata": {},
   "outputs": [
    {
     "name": "stdout",
     "output_type": "stream",
     "text": [
      "<class 'pandas.core.frame.DataFrame'>\n",
      "RangeIndex: 38013048 entries, 0 to 38013047\n",
      "Data columns (total 3 columns):\n",
      " #   Column          Dtype\n",
      "---  ------          -----\n",
      " 0   userId          int64\n",
      " 1   itemId          int64\n",
      " 2   purchase_count  int64\n",
      "dtypes: int64(3)\n",
      "memory usage: 870.0 MB\n"
     ]
    }
   ],
   "source": [
    "data.info()"
   ]
  },
  {
   "cell_type": "code",
   "execution_count": 24,
   "metadata": {
    "colab": {
     "base_uri": "https://localhost:8080/"
    },
    "id": "g4TcL2UqX2Zg",
    "outputId": "728f3199-31a6-4f24-fbfa-8f8584b15dd8"
   },
   "outputs": [],
   "source": [
    "def split_data(data):\n",
    "    train, test = train_test_split(data, test_size = .2)\n",
    "    train = tc.SFrame(train)\n",
    "    test = tc.SFrame(test)\n",
    "    return train, test\n",
    "# train_data = tc.SFrame(train)\n",
    "# test_data = tc.SFrame(test)\n",
    "# return train_data, test_data\n",
    "# train_data, test_data = split_data(data)\n",
    "# train_data_dummy, test_data_dummy = split_data(data_dummy)\n",
    "# train_data_norm, test_data_norm = split_data(data)\n",
    "# train_data_norm, test_data_norm = split_data(data_norm)"
   ]
  },
  {
   "cell_type": "code",
   "execution_count": 25,
   "metadata": {},
   "outputs": [],
   "source": [
    "train_data, test_data = split_data(data)\n",
    "train_data_dummy, test_data_dummy = split_data(data_dummy)\n",
    "train_data_norm, test_data_norm = split_data(data_norm)"
   ]
  },
  {
   "cell_type": "code",
   "execution_count": 26,
   "metadata": {},
   "outputs": [],
   "source": [
    "# variables to define field names\n",
    "user_id = 'userId'\n",
    "item_id = 'itemId'\n",
    "target = 'purchase_count'\n",
    "users_to_recommend = list(cust[user_id].dropna())\n",
    "n_rec = 10 # number of items to recommend\n",
    "n_display = 30"
   ]
  },
  {
   "cell_type": "code",
   "execution_count": 27,
   "metadata": {},
   "outputs": [
    {
     "data": {
      "text/html": [
       "<pre>Preparing data set.</pre>"
      ],
      "text/plain": [
       "Preparing data set."
      ]
     },
     "metadata": {},
     "output_type": "display_data"
    },
    {
     "data": {
      "text/html": [
       "<pre>    Data has 30410438 observations with 232643 users and 124602 items.</pre>"
      ],
      "text/plain": [
       "    Data has 30410438 observations with 232643 users and 124602 items."
      ]
     },
     "metadata": {},
     "output_type": "display_data"
    },
    {
     "data": {
      "text/html": [
       "<pre>    Data prepared in: 10.2343s</pre>"
      ],
      "text/plain": [
       "    Data prepared in: 10.2343s"
      ]
     },
     "metadata": {},
     "output_type": "display_data"
    },
    {
     "data": {
      "text/html": [
       "<pre>30410438 observations to process; with 124602 unique items.</pre>"
      ],
      "text/plain": [
       "30410438 observations to process; with 124602 unique items."
      ]
     },
     "metadata": {},
     "output_type": "display_data"
    }
   ],
   "source": [
    "if(tc.load_model('popularity_model')):\n",
    "    popularity_model = tc.load_model('popularity_model')\n",
    "else:\n",
    "    popularity_model = tc.popularity_recommender.create(train_data, \n",
    "                                                    user_id=user_id, \n",
    "                                                    item_id=item_id, \n",
    "                                                    target=target)\n",
    "    popularity_model.save('popularity_model')"
   ]
  },
  {
   "cell_type": "code",
   "execution_count": 41,
   "metadata": {
    "scrolled": true
   },
   "outputs": [
    {
     "data": {
      "text/html": [
       "<pre>recommendations finished on 1000/372991 queries. users per second: 6297.74</pre>"
      ],
      "text/plain": [
       "recommendations finished on 1000/372991 queries. users per second: 6297.74"
      ]
     },
     "metadata": {},
     "output_type": "display_data"
    },
    {
     "data": {
      "text/html": [
       "<pre>recommendations finished on 2000/372991 queries. users per second: 6027.31</pre>"
      ],
      "text/plain": [
       "recommendations finished on 2000/372991 queries. users per second: 6027.31"
      ]
     },
     "metadata": {},
     "output_type": "display_data"
    },
    {
     "data": {
      "text/html": [
       "<pre>recommendations finished on 3000/372991 queries. users per second: 5838.43</pre>"
      ],
      "text/plain": [
       "recommendations finished on 3000/372991 queries. users per second: 5838.43"
      ]
     },
     "metadata": {},
     "output_type": "display_data"
    },
    {
     "data": {
      "text/html": [
       "<pre>recommendations finished on 4000/372991 queries. users per second: 5887.25</pre>"
      ],
      "text/plain": [
       "recommendations finished on 4000/372991 queries. users per second: 5887.25"
      ]
     },
     "metadata": {},
     "output_type": "display_data"
    },
    {
     "data": {
      "text/html": [
       "<pre>recommendations finished on 5000/372991 queries. users per second: 5876.13</pre>"
      ],
      "text/plain": [
       "recommendations finished on 5000/372991 queries. users per second: 5876.13"
      ]
     },
     "metadata": {},
     "output_type": "display_data"
    },
    {
     "data": {
      "text/html": [
       "<pre>recommendations finished on 6000/372991 queries. users per second: 5878.39</pre>"
      ],
      "text/plain": [
       "recommendations finished on 6000/372991 queries. users per second: 5878.39"
      ]
     },
     "metadata": {},
     "output_type": "display_data"
    },
    {
     "data": {
      "text/html": [
       "<pre>recommendations finished on 7000/372991 queries. users per second: 5922.62</pre>"
      ],
      "text/plain": [
       "recommendations finished on 7000/372991 queries. users per second: 5922.62"
      ]
     },
     "metadata": {},
     "output_type": "display_data"
    },
    {
     "data": {
      "text/html": [
       "<pre>recommendations finished on 8000/372991 queries. users per second: 5893.39</pre>"
      ],
      "text/plain": [
       "recommendations finished on 8000/372991 queries. users per second: 5893.39"
      ]
     },
     "metadata": {},
     "output_type": "display_data"
    },
    {
     "data": {
      "text/html": [
       "<pre>recommendations finished on 9000/372991 queries. users per second: 5921.76</pre>"
      ],
      "text/plain": [
       "recommendations finished on 9000/372991 queries. users per second: 5921.76"
      ]
     },
     "metadata": {},
     "output_type": "display_data"
    },
    {
     "data": {
      "text/html": [
       "<pre>recommendations finished on 10000/372991 queries. users per second: 5946.41</pre>"
      ],
      "text/plain": [
       "recommendations finished on 10000/372991 queries. users per second: 5946.41"
      ]
     },
     "metadata": {},
     "output_type": "display_data"
    },
    {
     "data": {
      "text/html": [
       "<pre>recommendations finished on 11000/372991 queries. users per second: 5961.91</pre>"
      ],
      "text/plain": [
       "recommendations finished on 11000/372991 queries. users per second: 5961.91"
      ]
     },
     "metadata": {},
     "output_type": "display_data"
    },
    {
     "data": {
      "text/html": [
       "<pre>recommendations finished on 12000/372991 queries. users per second: 5966.68</pre>"
      ],
      "text/plain": [
       "recommendations finished on 12000/372991 queries. users per second: 5966.68"
      ]
     },
     "metadata": {},
     "output_type": "display_data"
    },
    {
     "data": {
      "text/html": [
       "<pre>recommendations finished on 13000/372991 queries. users per second: 5945.31</pre>"
      ],
      "text/plain": [
       "recommendations finished on 13000/372991 queries. users per second: 5945.31"
      ]
     },
     "metadata": {},
     "output_type": "display_data"
    },
    {
     "data": {
      "text/html": [
       "<pre>recommendations finished on 14000/372991 queries. users per second: 5955.84</pre>"
      ],
      "text/plain": [
       "recommendations finished on 14000/372991 queries. users per second: 5955.84"
      ]
     },
     "metadata": {},
     "output_type": "display_data"
    },
    {
     "data": {
      "text/html": [
       "<pre>recommendations finished on 15000/372991 queries. users per second: 5957.92</pre>"
      ],
      "text/plain": [
       "recommendations finished on 15000/372991 queries. users per second: 5957.92"
      ]
     },
     "metadata": {},
     "output_type": "display_data"
    },
    {
     "data": {
      "text/html": [
       "<pre>recommendations finished on 16000/372991 queries. users per second: 5939.99</pre>"
      ],
      "text/plain": [
       "recommendations finished on 16000/372991 queries. users per second: 5939.99"
      ]
     },
     "metadata": {},
     "output_type": "display_data"
    },
    {
     "data": {
      "text/html": [
       "<pre>recommendations finished on 17000/372991 queries. users per second: 5930.41</pre>"
      ],
      "text/plain": [
       "recommendations finished on 17000/372991 queries. users per second: 5930.41"
      ]
     },
     "metadata": {},
     "output_type": "display_data"
    },
    {
     "data": {
      "text/html": [
       "<pre>recommendations finished on 18000/372991 queries. users per second: 5937.7</pre>"
      ],
      "text/plain": [
       "recommendations finished on 18000/372991 queries. users per second: 5937.7"
      ]
     },
     "metadata": {},
     "output_type": "display_data"
    },
    {
     "data": {
      "text/html": [
       "<pre>recommendations finished on 19000/372991 queries. users per second: 5939.4</pre>"
      ],
      "text/plain": [
       "recommendations finished on 19000/372991 queries. users per second: 5939.4"
      ]
     },
     "metadata": {},
     "output_type": "display_data"
    },
    {
     "data": {
      "text/html": [
       "<pre>recommendations finished on 20000/372991 queries. users per second: 5929.66</pre>"
      ],
      "text/plain": [
       "recommendations finished on 20000/372991 queries. users per second: 5929.66"
      ]
     },
     "metadata": {},
     "output_type": "display_data"
    },
    {
     "data": {
      "text/html": [
       "<pre>recommendations finished on 21000/372991 queries. users per second: 5899.19</pre>"
      ],
      "text/plain": [
       "recommendations finished on 21000/372991 queries. users per second: 5899.19"
      ]
     },
     "metadata": {},
     "output_type": "display_data"
    },
    {
     "data": {
      "text/html": [
       "<pre>recommendations finished on 22000/372991 queries. users per second: 5862.5</pre>"
      ],
      "text/plain": [
       "recommendations finished on 22000/372991 queries. users per second: 5862.5"
      ]
     },
     "metadata": {},
     "output_type": "display_data"
    },
    {
     "data": {
      "text/html": [
       "<pre>recommendations finished on 23000/372991 queries. users per second: 5828.14</pre>"
      ],
      "text/plain": [
       "recommendations finished on 23000/372991 queries. users per second: 5828.14"
      ]
     },
     "metadata": {},
     "output_type": "display_data"
    },
    {
     "data": {
      "text/html": [
       "<pre>recommendations finished on 24000/372991 queries. users per second: 5797.77</pre>"
      ],
      "text/plain": [
       "recommendations finished on 24000/372991 queries. users per second: 5797.77"
      ]
     },
     "metadata": {},
     "output_type": "display_data"
    },
    {
     "data": {
      "text/html": [
       "<pre>recommendations finished on 25000/372991 queries. users per second: 5780.08</pre>"
      ],
      "text/plain": [
       "recommendations finished on 25000/372991 queries. users per second: 5780.08"
      ]
     },
     "metadata": {},
     "output_type": "display_data"
    },
    {
     "data": {
      "text/html": [
       "<pre>recommendations finished on 26000/372991 queries. users per second: 5781.92</pre>"
      ],
      "text/plain": [
       "recommendations finished on 26000/372991 queries. users per second: 5781.92"
      ]
     },
     "metadata": {},
     "output_type": "display_data"
    },
    {
     "data": {
      "text/html": [
       "<pre>recommendations finished on 27000/372991 queries. users per second: 5786.43</pre>"
      ],
      "text/plain": [
       "recommendations finished on 27000/372991 queries. users per second: 5786.43"
      ]
     },
     "metadata": {},
     "output_type": "display_data"
    },
    {
     "data": {
      "text/html": [
       "<pre>recommendations finished on 28000/372991 queries. users per second: 5785.76</pre>"
      ],
      "text/plain": [
       "recommendations finished on 28000/372991 queries. users per second: 5785.76"
      ]
     },
     "metadata": {},
     "output_type": "display_data"
    },
    {
     "data": {
      "text/html": [
       "<pre>recommendations finished on 29000/372991 queries. users per second: 5783.54</pre>"
      ],
      "text/plain": [
       "recommendations finished on 29000/372991 queries. users per second: 5783.54"
      ]
     },
     "metadata": {},
     "output_type": "display_data"
    },
    {
     "data": {
      "text/html": [
       "<pre>recommendations finished on 30000/372991 queries. users per second: 5792</pre>"
      ],
      "text/plain": [
       "recommendations finished on 30000/372991 queries. users per second: 5792"
      ]
     },
     "metadata": {},
     "output_type": "display_data"
    },
    {
     "data": {
      "text/html": [
       "<pre>recommendations finished on 31000/372991 queries. users per second: 5787.35</pre>"
      ],
      "text/plain": [
       "recommendations finished on 31000/372991 queries. users per second: 5787.35"
      ]
     },
     "metadata": {},
     "output_type": "display_data"
    },
    {
     "data": {
      "text/html": [
       "<pre>recommendations finished on 32000/372991 queries. users per second: 5756.79</pre>"
      ],
      "text/plain": [
       "recommendations finished on 32000/372991 queries. users per second: 5756.79"
      ]
     },
     "metadata": {},
     "output_type": "display_data"
    },
    {
     "data": {
      "text/html": [
       "<pre>recommendations finished on 33000/372991 queries. users per second: 5743.21</pre>"
      ],
      "text/plain": [
       "recommendations finished on 33000/372991 queries. users per second: 5743.21"
      ]
     },
     "metadata": {},
     "output_type": "display_data"
    },
    {
     "data": {
      "text/html": [
       "<pre>recommendations finished on 34000/372991 queries. users per second: 5750.74</pre>"
      ],
      "text/plain": [
       "recommendations finished on 34000/372991 queries. users per second: 5750.74"
      ]
     },
     "metadata": {},
     "output_type": "display_data"
    },
    {
     "data": {
      "text/html": [
       "<pre>recommendations finished on 35000/372991 queries. users per second: 5758.32</pre>"
      ],
      "text/plain": [
       "recommendations finished on 35000/372991 queries. users per second: 5758.32"
      ]
     },
     "metadata": {},
     "output_type": "display_data"
    },
    {
     "data": {
      "text/html": [
       "<pre>recommendations finished on 36000/372991 queries. users per second: 5761.82</pre>"
      ],
      "text/plain": [
       "recommendations finished on 36000/372991 queries. users per second: 5761.82"
      ]
     },
     "metadata": {},
     "output_type": "display_data"
    },
    {
     "data": {
      "text/html": [
       "<pre>recommendations finished on 37000/372991 queries. users per second: 5766.02</pre>"
      ],
      "text/plain": [
       "recommendations finished on 37000/372991 queries. users per second: 5766.02"
      ]
     },
     "metadata": {},
     "output_type": "display_data"
    },
    {
     "data": {
      "text/html": [
       "<pre>recommendations finished on 38000/372991 queries. users per second: 5775.79</pre>"
      ],
      "text/plain": [
       "recommendations finished on 38000/372991 queries. users per second: 5775.79"
      ]
     },
     "metadata": {},
     "output_type": "display_data"
    },
    {
     "data": {
      "text/html": [
       "<pre>recommendations finished on 39000/372991 queries. users per second: 5785.21</pre>"
      ],
      "text/plain": [
       "recommendations finished on 39000/372991 queries. users per second: 5785.21"
      ]
     },
     "metadata": {},
     "output_type": "display_data"
    },
    {
     "data": {
      "text/html": [
       "<pre>recommendations finished on 40000/372991 queries. users per second: 5792.07</pre>"
      ],
      "text/plain": [
       "recommendations finished on 40000/372991 queries. users per second: 5792.07"
      ]
     },
     "metadata": {},
     "output_type": "display_data"
    },
    {
     "data": {
      "text/html": [
       "<pre>recommendations finished on 41000/372991 queries. users per second: 5799.41</pre>"
      ],
      "text/plain": [
       "recommendations finished on 41000/372991 queries. users per second: 5799.41"
      ]
     },
     "metadata": {},
     "output_type": "display_data"
    },
    {
     "data": {
      "text/html": [
       "<pre>recommendations finished on 42000/372991 queries. users per second: 5794.95</pre>"
      ],
      "text/plain": [
       "recommendations finished on 42000/372991 queries. users per second: 5794.95"
      ]
     },
     "metadata": {},
     "output_type": "display_data"
    },
    {
     "data": {
      "text/html": [
       "<pre>recommendations finished on 43000/372991 queries. users per second: 5792.06</pre>"
      ],
      "text/plain": [
       "recommendations finished on 43000/372991 queries. users per second: 5792.06"
      ]
     },
     "metadata": {},
     "output_type": "display_data"
    },
    {
     "data": {
      "text/html": [
       "<pre>recommendations finished on 44000/372991 queries. users per second: 5795.55</pre>"
      ],
      "text/plain": [
       "recommendations finished on 44000/372991 queries. users per second: 5795.55"
      ]
     },
     "metadata": {},
     "output_type": "display_data"
    },
    {
     "data": {
      "text/html": [
       "<pre>recommendations finished on 45000/372991 queries. users per second: 5800.39</pre>"
      ],
      "text/plain": [
       "recommendations finished on 45000/372991 queries. users per second: 5800.39"
      ]
     },
     "metadata": {},
     "output_type": "display_data"
    },
    {
     "data": {
      "text/html": [
       "<pre>recommendations finished on 46000/372991 queries. users per second: 5804.6</pre>"
      ],
      "text/plain": [
       "recommendations finished on 46000/372991 queries. users per second: 5804.6"
      ]
     },
     "metadata": {},
     "output_type": "display_data"
    },
    {
     "data": {
      "text/html": [
       "<pre>recommendations finished on 47000/372991 queries. users per second: 5810.49</pre>"
      ],
      "text/plain": [
       "recommendations finished on 47000/372991 queries. users per second: 5810.49"
      ]
     },
     "metadata": {},
     "output_type": "display_data"
    },
    {
     "data": {
      "text/html": [
       "<pre>recommendations finished on 48000/372991 queries. users per second: 5814.82</pre>"
      ],
      "text/plain": [
       "recommendations finished on 48000/372991 queries. users per second: 5814.82"
      ]
     },
     "metadata": {},
     "output_type": "display_data"
    },
    {
     "data": {
      "text/html": [
       "<pre>recommendations finished on 49000/372991 queries. users per second: 5804.88</pre>"
      ],
      "text/plain": [
       "recommendations finished on 49000/372991 queries. users per second: 5804.88"
      ]
     },
     "metadata": {},
     "output_type": "display_data"
    },
    {
     "data": {
      "text/html": [
       "<pre>recommendations finished on 50000/372991 queries. users per second: 5807.46</pre>"
      ],
      "text/plain": [
       "recommendations finished on 50000/372991 queries. users per second: 5807.46"
      ]
     },
     "metadata": {},
     "output_type": "display_data"
    },
    {
     "data": {
      "text/html": [
       "<pre>recommendations finished on 51000/372991 queries. users per second: 5810.62</pre>"
      ],
      "text/plain": [
       "recommendations finished on 51000/372991 queries. users per second: 5810.62"
      ]
     },
     "metadata": {},
     "output_type": "display_data"
    },
    {
     "data": {
      "text/html": [
       "<pre>recommendations finished on 52000/372991 queries. users per second: 5815.6</pre>"
      ],
      "text/plain": [
       "recommendations finished on 52000/372991 queries. users per second: 5815.6"
      ]
     },
     "metadata": {},
     "output_type": "display_data"
    },
    {
     "data": {
      "text/html": [
       "<pre>recommendations finished on 53000/372991 queries. users per second: 5820.1</pre>"
      ],
      "text/plain": [
       "recommendations finished on 53000/372991 queries. users per second: 5820.1"
      ]
     },
     "metadata": {},
     "output_type": "display_data"
    },
    {
     "data": {
      "text/html": [
       "<pre>recommendations finished on 54000/372991 queries. users per second: 5822.5</pre>"
      ],
      "text/plain": [
       "recommendations finished on 54000/372991 queries. users per second: 5822.5"
      ]
     },
     "metadata": {},
     "output_type": "display_data"
    },
    {
     "data": {
      "text/html": [
       "<pre>recommendations finished on 55000/372991 queries. users per second: 5824.73</pre>"
      ],
      "text/plain": [
       "recommendations finished on 55000/372991 queries. users per second: 5824.73"
      ]
     },
     "metadata": {},
     "output_type": "display_data"
    },
    {
     "data": {
      "text/html": [
       "<pre>recommendations finished on 56000/372991 queries. users per second: 5826.45</pre>"
      ],
      "text/plain": [
       "recommendations finished on 56000/372991 queries. users per second: 5826.45"
      ]
     },
     "metadata": {},
     "output_type": "display_data"
    },
    {
     "data": {
      "text/html": [
       "<pre>recommendations finished on 57000/372991 queries. users per second: 5824.33</pre>"
      ],
      "text/plain": [
       "recommendations finished on 57000/372991 queries. users per second: 5824.33"
      ]
     },
     "metadata": {},
     "output_type": "display_data"
    },
    {
     "data": {
      "text/html": [
       "<pre>recommendations finished on 58000/372991 queries. users per second: 5826.24</pre>"
      ],
      "text/plain": [
       "recommendations finished on 58000/372991 queries. users per second: 5826.24"
      ]
     },
     "metadata": {},
     "output_type": "display_data"
    },
    {
     "data": {
      "text/html": [
       "<pre>recommendations finished on 59000/372991 queries. users per second: 5830.36</pre>"
      ],
      "text/plain": [
       "recommendations finished on 59000/372991 queries. users per second: 5830.36"
      ]
     },
     "metadata": {},
     "output_type": "display_data"
    },
    {
     "data": {
      "text/html": [
       "<pre>recommendations finished on 60000/372991 queries. users per second: 5833.06</pre>"
      ],
      "text/plain": [
       "recommendations finished on 60000/372991 queries. users per second: 5833.06"
      ]
     },
     "metadata": {},
     "output_type": "display_data"
    },
    {
     "data": {
      "text/html": [
       "<pre>recommendations finished on 61000/372991 queries. users per second: 5836.13</pre>"
      ],
      "text/plain": [
       "recommendations finished on 61000/372991 queries. users per second: 5836.13"
      ]
     },
     "metadata": {},
     "output_type": "display_data"
    },
    {
     "data": {
      "text/html": [
       "<pre>recommendations finished on 62000/372991 queries. users per second: 5833.47</pre>"
      ],
      "text/plain": [
       "recommendations finished on 62000/372991 queries. users per second: 5833.47"
      ]
     },
     "metadata": {},
     "output_type": "display_data"
    },
    {
     "data": {
      "text/html": [
       "<pre>recommendations finished on 63000/372991 queries. users per second: 5835.59</pre>"
      ],
      "text/plain": [
       "recommendations finished on 63000/372991 queries. users per second: 5835.59"
      ]
     },
     "metadata": {},
     "output_type": "display_data"
    },
    {
     "data": {
      "text/html": [
       "<pre>recommendations finished on 64000/372991 queries. users per second: 5837.99</pre>"
      ],
      "text/plain": [
       "recommendations finished on 64000/372991 queries. users per second: 5837.99"
      ]
     },
     "metadata": {},
     "output_type": "display_data"
    },
    {
     "data": {
      "text/html": [
       "<pre>recommendations finished on 65000/372991 queries. users per second: 5838.46</pre>"
      ],
      "text/plain": [
       "recommendations finished on 65000/372991 queries. users per second: 5838.46"
      ]
     },
     "metadata": {},
     "output_type": "display_data"
    },
    {
     "data": {
      "text/html": [
       "<pre>recommendations finished on 66000/372991 queries. users per second: 5838.99</pre>"
      ],
      "text/plain": [
       "recommendations finished on 66000/372991 queries. users per second: 5838.99"
      ]
     },
     "metadata": {},
     "output_type": "display_data"
    },
    {
     "data": {
      "text/html": [
       "<pre>recommendations finished on 67000/372991 queries. users per second: 5834.75</pre>"
      ],
      "text/plain": [
       "recommendations finished on 67000/372991 queries. users per second: 5834.75"
      ]
     },
     "metadata": {},
     "output_type": "display_data"
    },
    {
     "data": {
      "text/html": [
       "<pre>recommendations finished on 68000/372991 queries. users per second: 5822.98</pre>"
      ],
      "text/plain": [
       "recommendations finished on 68000/372991 queries. users per second: 5822.98"
      ]
     },
     "metadata": {},
     "output_type": "display_data"
    },
    {
     "data": {
      "text/html": [
       "<pre>recommendations finished on 69000/372991 queries. users per second: 5814.98</pre>"
      ],
      "text/plain": [
       "recommendations finished on 69000/372991 queries. users per second: 5814.98"
      ]
     },
     "metadata": {},
     "output_type": "display_data"
    },
    {
     "data": {
      "text/html": [
       "<pre>recommendations finished on 70000/372991 queries. users per second: 5808.5</pre>"
      ],
      "text/plain": [
       "recommendations finished on 70000/372991 queries. users per second: 5808.5"
      ]
     },
     "metadata": {},
     "output_type": "display_data"
    },
    {
     "data": {
      "text/html": [
       "<pre>recommendations finished on 71000/372991 queries. users per second: 5798.82</pre>"
      ],
      "text/plain": [
       "recommendations finished on 71000/372991 queries. users per second: 5798.82"
      ]
     },
     "metadata": {},
     "output_type": "display_data"
    },
    {
     "data": {
      "text/html": [
       "<pre>recommendations finished on 72000/372991 queries. users per second: 5785.68</pre>"
      ],
      "text/plain": [
       "recommendations finished on 72000/372991 queries. users per second: 5785.68"
      ]
     },
     "metadata": {},
     "output_type": "display_data"
    },
    {
     "data": {
      "text/html": [
       "<pre>recommendations finished on 73000/372991 queries. users per second: 5771.69</pre>"
      ],
      "text/plain": [
       "recommendations finished on 73000/372991 queries. users per second: 5771.69"
      ]
     },
     "metadata": {},
     "output_type": "display_data"
    },
    {
     "data": {
      "text/html": [
       "<pre>recommendations finished on 74000/372991 queries. users per second: 5763.62</pre>"
      ],
      "text/plain": [
       "recommendations finished on 74000/372991 queries. users per second: 5763.62"
      ]
     },
     "metadata": {},
     "output_type": "display_data"
    },
    {
     "data": {
      "text/html": [
       "<pre>recommendations finished on 75000/372991 queries. users per second: 5753.89</pre>"
      ],
      "text/plain": [
       "recommendations finished on 75000/372991 queries. users per second: 5753.89"
      ]
     },
     "metadata": {},
     "output_type": "display_data"
    },
    {
     "data": {
      "text/html": [
       "<pre>recommendations finished on 76000/372991 queries. users per second: 5744.3</pre>"
      ],
      "text/plain": [
       "recommendations finished on 76000/372991 queries. users per second: 5744.3"
      ]
     },
     "metadata": {},
     "output_type": "display_data"
    },
    {
     "data": {
      "text/html": [
       "<pre>recommendations finished on 77000/372991 queries. users per second: 5741.76</pre>"
      ],
      "text/plain": [
       "recommendations finished on 77000/372991 queries. users per second: 5741.76"
      ]
     },
     "metadata": {},
     "output_type": "display_data"
    },
    {
     "data": {
      "text/html": [
       "<pre>recommendations finished on 78000/372991 queries. users per second: 5745.56</pre>"
      ],
      "text/plain": [
       "recommendations finished on 78000/372991 queries. users per second: 5745.56"
      ]
     },
     "metadata": {},
     "output_type": "display_data"
    },
    {
     "data": {
      "text/html": [
       "<pre>recommendations finished on 79000/372991 queries. users per second: 5742.69</pre>"
      ],
      "text/plain": [
       "recommendations finished on 79000/372991 queries. users per second: 5742.69"
      ]
     },
     "metadata": {},
     "output_type": "display_data"
    },
    {
     "data": {
      "text/html": [
       "<pre>recommendations finished on 80000/372991 queries. users per second: 5741.6</pre>"
      ],
      "text/plain": [
       "recommendations finished on 80000/372991 queries. users per second: 5741.6"
      ]
     },
     "metadata": {},
     "output_type": "display_data"
    },
    {
     "data": {
      "text/html": [
       "<pre>recommendations finished on 81000/372991 queries. users per second: 5740.42</pre>"
      ],
      "text/plain": [
       "recommendations finished on 81000/372991 queries. users per second: 5740.42"
      ]
     },
     "metadata": {},
     "output_type": "display_data"
    },
    {
     "data": {
      "text/html": [
       "<pre>recommendations finished on 82000/372991 queries. users per second: 5738.05</pre>"
      ],
      "text/plain": [
       "recommendations finished on 82000/372991 queries. users per second: 5738.05"
      ]
     },
     "metadata": {},
     "output_type": "display_data"
    },
    {
     "data": {
      "text/html": [
       "<pre>recommendations finished on 83000/372991 queries. users per second: 5741.21</pre>"
      ],
      "text/plain": [
       "recommendations finished on 83000/372991 queries. users per second: 5741.21"
      ]
     },
     "metadata": {},
     "output_type": "display_data"
    },
    {
     "data": {
      "text/html": [
       "<pre>recommendations finished on 84000/372991 queries. users per second: 5741.49</pre>"
      ],
      "text/plain": [
       "recommendations finished on 84000/372991 queries. users per second: 5741.49"
      ]
     },
     "metadata": {},
     "output_type": "display_data"
    },
    {
     "data": {
      "text/html": [
       "<pre>recommendations finished on 85000/372991 queries. users per second: 5735.54</pre>"
      ],
      "text/plain": [
       "recommendations finished on 85000/372991 queries. users per second: 5735.54"
      ]
     },
     "metadata": {},
     "output_type": "display_data"
    },
    {
     "data": {
      "text/html": [
       "<pre>recommendations finished on 86000/372991 queries. users per second: 5727.75</pre>"
      ],
      "text/plain": [
       "recommendations finished on 86000/372991 queries. users per second: 5727.75"
      ]
     },
     "metadata": {},
     "output_type": "display_data"
    },
    {
     "data": {
      "text/html": [
       "<pre>recommendations finished on 87000/372991 queries. users per second: 5726.39</pre>"
      ],
      "text/plain": [
       "recommendations finished on 87000/372991 queries. users per second: 5726.39"
      ]
     },
     "metadata": {},
     "output_type": "display_data"
    },
    {
     "data": {
      "text/html": [
       "<pre>recommendations finished on 88000/372991 queries. users per second: 5725.48</pre>"
      ],
      "text/plain": [
       "recommendations finished on 88000/372991 queries. users per second: 5725.48"
      ]
     },
     "metadata": {},
     "output_type": "display_data"
    },
    {
     "data": {
      "text/html": [
       "<pre>recommendations finished on 89000/372991 queries. users per second: 5724.64</pre>"
      ],
      "text/plain": [
       "recommendations finished on 89000/372991 queries. users per second: 5724.64"
      ]
     },
     "metadata": {},
     "output_type": "display_data"
    },
    {
     "data": {
      "text/html": [
       "<pre>recommendations finished on 90000/372991 queries. users per second: 5726.85</pre>"
      ],
      "text/plain": [
       "recommendations finished on 90000/372991 queries. users per second: 5726.85"
      ]
     },
     "metadata": {},
     "output_type": "display_data"
    },
    {
     "data": {
      "text/html": [
       "<pre>recommendations finished on 91000/372991 queries. users per second: 5729.92</pre>"
      ],
      "text/plain": [
       "recommendations finished on 91000/372991 queries. users per second: 5729.92"
      ]
     },
     "metadata": {},
     "output_type": "display_data"
    },
    {
     "data": {
      "text/html": [
       "<pre>recommendations finished on 92000/372991 queries. users per second: 5727.86</pre>"
      ],
      "text/plain": [
       "recommendations finished on 92000/372991 queries. users per second: 5727.86"
      ]
     },
     "metadata": {},
     "output_type": "display_data"
    },
    {
     "data": {
      "text/html": [
       "<pre>recommendations finished on 93000/372991 queries. users per second: 5725.23</pre>"
      ],
      "text/plain": [
       "recommendations finished on 93000/372991 queries. users per second: 5725.23"
      ]
     },
     "metadata": {},
     "output_type": "display_data"
    },
    {
     "data": {
      "text/html": [
       "<pre>recommendations finished on 94000/372991 queries. users per second: 5727.38</pre>"
      ],
      "text/plain": [
       "recommendations finished on 94000/372991 queries. users per second: 5727.38"
      ]
     },
     "metadata": {},
     "output_type": "display_data"
    },
    {
     "data": {
      "text/html": [
       "<pre>recommendations finished on 95000/372991 queries. users per second: 5723.86</pre>"
      ],
      "text/plain": [
       "recommendations finished on 95000/372991 queries. users per second: 5723.86"
      ]
     },
     "metadata": {},
     "output_type": "display_data"
    },
    {
     "data": {
      "text/html": [
       "<pre>recommendations finished on 96000/372991 queries. users per second: 5721.68</pre>"
      ],
      "text/plain": [
       "recommendations finished on 96000/372991 queries. users per second: 5721.68"
      ]
     },
     "metadata": {},
     "output_type": "display_data"
    },
    {
     "data": {
      "text/html": [
       "<pre>recommendations finished on 97000/372991 queries. users per second: 5724.69</pre>"
      ],
      "text/plain": [
       "recommendations finished on 97000/372991 queries. users per second: 5724.69"
      ]
     },
     "metadata": {},
     "output_type": "display_data"
    },
    {
     "data": {
      "text/html": [
       "<pre>recommendations finished on 98000/372991 queries. users per second: 5723.85</pre>"
      ],
      "text/plain": [
       "recommendations finished on 98000/372991 queries. users per second: 5723.85"
      ]
     },
     "metadata": {},
     "output_type": "display_data"
    },
    {
     "data": {
      "text/html": [
       "<pre>recommendations finished on 99000/372991 queries. users per second: 5722.16</pre>"
      ],
      "text/plain": [
       "recommendations finished on 99000/372991 queries. users per second: 5722.16"
      ]
     },
     "metadata": {},
     "output_type": "display_data"
    },
    {
     "data": {
      "text/html": [
       "<pre>recommendations finished on 100000/372991 queries. users per second: 5723.95</pre>"
      ],
      "text/plain": [
       "recommendations finished on 100000/372991 queries. users per second: 5723.95"
      ]
     },
     "metadata": {},
     "output_type": "display_data"
    },
    {
     "data": {
      "text/html": [
       "<pre>recommendations finished on 101000/372991 queries. users per second: 5727.05</pre>"
      ],
      "text/plain": [
       "recommendations finished on 101000/372991 queries. users per second: 5727.05"
      ]
     },
     "metadata": {},
     "output_type": "display_data"
    },
    {
     "data": {
      "text/html": [
       "<pre>recommendations finished on 102000/372991 queries. users per second: 5727.7</pre>"
      ],
      "text/plain": [
       "recommendations finished on 102000/372991 queries. users per second: 5727.7"
      ]
     },
     "metadata": {},
     "output_type": "display_data"
    },
    {
     "data": {
      "text/html": [
       "<pre>recommendations finished on 103000/372991 queries. users per second: 5728.03</pre>"
      ],
      "text/plain": [
       "recommendations finished on 103000/372991 queries. users per second: 5728.03"
      ]
     },
     "metadata": {},
     "output_type": "display_data"
    },
    {
     "data": {
      "text/html": [
       "<pre>recommendations finished on 104000/372991 queries. users per second: 5720.77</pre>"
      ],
      "text/plain": [
       "recommendations finished on 104000/372991 queries. users per second: 5720.77"
      ]
     },
     "metadata": {},
     "output_type": "display_data"
    },
    {
     "data": {
      "text/html": [
       "<pre>recommendations finished on 105000/372991 queries. users per second: 5714.93</pre>"
      ],
      "text/plain": [
       "recommendations finished on 105000/372991 queries. users per second: 5714.93"
      ]
     },
     "metadata": {},
     "output_type": "display_data"
    },
    {
     "data": {
      "text/html": [
       "<pre>recommendations finished on 106000/372991 queries. users per second: 5709.64</pre>"
      ],
      "text/plain": [
       "recommendations finished on 106000/372991 queries. users per second: 5709.64"
      ]
     },
     "metadata": {},
     "output_type": "display_data"
    },
    {
     "data": {
      "text/html": [
       "<pre>recommendations finished on 107000/372991 queries. users per second: 5701.86</pre>"
      ],
      "text/plain": [
       "recommendations finished on 107000/372991 queries. users per second: 5701.86"
      ]
     },
     "metadata": {},
     "output_type": "display_data"
    },
    {
     "data": {
      "text/html": [
       "<pre>recommendations finished on 108000/372991 queries. users per second: 5693.35</pre>"
      ],
      "text/plain": [
       "recommendations finished on 108000/372991 queries. users per second: 5693.35"
      ]
     },
     "metadata": {},
     "output_type": "display_data"
    },
    {
     "data": {
      "text/html": [
       "<pre>recommendations finished on 109000/372991 queries. users per second: 5692.11</pre>"
      ],
      "text/plain": [
       "recommendations finished on 109000/372991 queries. users per second: 5692.11"
      ]
     },
     "metadata": {},
     "output_type": "display_data"
    },
    {
     "data": {
      "text/html": [
       "<pre>recommendations finished on 110000/372991 queries. users per second: 5689.65</pre>"
      ],
      "text/plain": [
       "recommendations finished on 110000/372991 queries. users per second: 5689.65"
      ]
     },
     "metadata": {},
     "output_type": "display_data"
    },
    {
     "data": {
      "text/html": [
       "<pre>recommendations finished on 111000/372991 queries. users per second: 5692.18</pre>"
      ],
      "text/plain": [
       "recommendations finished on 111000/372991 queries. users per second: 5692.18"
      ]
     },
     "metadata": {},
     "output_type": "display_data"
    },
    {
     "data": {
      "text/html": [
       "<pre>recommendations finished on 112000/372991 queries. users per second: 5694.16</pre>"
      ],
      "text/plain": [
       "recommendations finished on 112000/372991 queries. users per second: 5694.16"
      ]
     },
     "metadata": {},
     "output_type": "display_data"
    },
    {
     "data": {
      "text/html": [
       "<pre>recommendations finished on 113000/372991 queries. users per second: 5698.14</pre>"
      ],
      "text/plain": [
       "recommendations finished on 113000/372991 queries. users per second: 5698.14"
      ]
     },
     "metadata": {},
     "output_type": "display_data"
    },
    {
     "data": {
      "text/html": [
       "<pre>recommendations finished on 114000/372991 queries. users per second: 5700.61</pre>"
      ],
      "text/plain": [
       "recommendations finished on 114000/372991 queries. users per second: 5700.61"
      ]
     },
     "metadata": {},
     "output_type": "display_data"
    },
    {
     "data": {
      "text/html": [
       "<pre>recommendations finished on 115000/372991 queries. users per second: 5699.73</pre>"
      ],
      "text/plain": [
       "recommendations finished on 115000/372991 queries. users per second: 5699.73"
      ]
     },
     "metadata": {},
     "output_type": "display_data"
    },
    {
     "data": {
      "text/html": [
       "<pre>recommendations finished on 116000/372991 queries. users per second: 5698.63</pre>"
      ],
      "text/plain": [
       "recommendations finished on 116000/372991 queries. users per second: 5698.63"
      ]
     },
     "metadata": {},
     "output_type": "display_data"
    },
    {
     "data": {
      "text/html": [
       "<pre>recommendations finished on 117000/372991 queries. users per second: 5695.82</pre>"
      ],
      "text/plain": [
       "recommendations finished on 117000/372991 queries. users per second: 5695.82"
      ]
     },
     "metadata": {},
     "output_type": "display_data"
    },
    {
     "data": {
      "text/html": [
       "<pre>recommendations finished on 118000/372991 queries. users per second: 5688.67</pre>"
      ],
      "text/plain": [
       "recommendations finished on 118000/372991 queries. users per second: 5688.67"
      ]
     },
     "metadata": {},
     "output_type": "display_data"
    },
    {
     "data": {
      "text/html": [
       "<pre>recommendations finished on 119000/372991 queries. users per second: 5684.28</pre>"
      ],
      "text/plain": [
       "recommendations finished on 119000/372991 queries. users per second: 5684.28"
      ]
     },
     "metadata": {},
     "output_type": "display_data"
    },
    {
     "data": {
      "text/html": [
       "<pre>recommendations finished on 120000/372991 queries. users per second: 5679.73</pre>"
      ],
      "text/plain": [
       "recommendations finished on 120000/372991 queries. users per second: 5679.73"
      ]
     },
     "metadata": {},
     "output_type": "display_data"
    },
    {
     "data": {
      "text/html": [
       "<pre>recommendations finished on 121000/372991 queries. users per second: 5676.77</pre>"
      ],
      "text/plain": [
       "recommendations finished on 121000/372991 queries. users per second: 5676.77"
      ]
     },
     "metadata": {},
     "output_type": "display_data"
    },
    {
     "data": {
      "text/html": [
       "<pre>recommendations finished on 122000/372991 queries. users per second: 5676.91</pre>"
      ],
      "text/plain": [
       "recommendations finished on 122000/372991 queries. users per second: 5676.91"
      ]
     },
     "metadata": {},
     "output_type": "display_data"
    },
    {
     "data": {
      "text/html": [
       "<pre>recommendations finished on 123000/372991 queries. users per second: 5680.13</pre>"
      ],
      "text/plain": [
       "recommendations finished on 123000/372991 queries. users per second: 5680.13"
      ]
     },
     "metadata": {},
     "output_type": "display_data"
    },
    {
     "data": {
      "text/html": [
       "<pre>recommendations finished on 124000/372991 queries. users per second: 5683.15</pre>"
      ],
      "text/plain": [
       "recommendations finished on 124000/372991 queries. users per second: 5683.15"
      ]
     },
     "metadata": {},
     "output_type": "display_data"
    },
    {
     "data": {
      "text/html": [
       "<pre>recommendations finished on 125000/372991 queries. users per second: 5686.07</pre>"
      ],
      "text/plain": [
       "recommendations finished on 125000/372991 queries. users per second: 5686.07"
      ]
     },
     "metadata": {},
     "output_type": "display_data"
    },
    {
     "data": {
      "text/html": [
       "<pre>recommendations finished on 126000/372991 queries. users per second: 5685.85</pre>"
      ],
      "text/plain": [
       "recommendations finished on 126000/372991 queries. users per second: 5685.85"
      ]
     },
     "metadata": {},
     "output_type": "display_data"
    },
    {
     "data": {
      "text/html": [
       "<pre>recommendations finished on 127000/372991 queries. users per second: 5688.8</pre>"
      ],
      "text/plain": [
       "recommendations finished on 127000/372991 queries. users per second: 5688.8"
      ]
     },
     "metadata": {},
     "output_type": "display_data"
    },
    {
     "data": {
      "text/html": [
       "<pre>recommendations finished on 128000/372991 queries. users per second: 5692.26</pre>"
      ],
      "text/plain": [
       "recommendations finished on 128000/372991 queries. users per second: 5692.26"
      ]
     },
     "metadata": {},
     "output_type": "display_data"
    },
    {
     "data": {
      "text/html": [
       "<pre>recommendations finished on 129000/372991 queries. users per second: 5690.45</pre>"
      ],
      "text/plain": [
       "recommendations finished on 129000/372991 queries. users per second: 5690.45"
      ]
     },
     "metadata": {},
     "output_type": "display_data"
    },
    {
     "data": {
      "text/html": [
       "<pre>recommendations finished on 130000/372991 queries. users per second: 5685.62</pre>"
      ],
      "text/plain": [
       "recommendations finished on 130000/372991 queries. users per second: 5685.62"
      ]
     },
     "metadata": {},
     "output_type": "display_data"
    },
    {
     "data": {
      "text/html": [
       "<pre>recommendations finished on 131000/372991 queries. users per second: 5682.23</pre>"
      ],
      "text/plain": [
       "recommendations finished on 131000/372991 queries. users per second: 5682.23"
      ]
     },
     "metadata": {},
     "output_type": "display_data"
    },
    {
     "data": {
      "text/html": [
       "<pre>recommendations finished on 132000/372991 queries. users per second: 5678.33</pre>"
      ],
      "text/plain": [
       "recommendations finished on 132000/372991 queries. users per second: 5678.33"
      ]
     },
     "metadata": {},
     "output_type": "display_data"
    },
    {
     "data": {
      "text/html": [
       "<pre>recommendations finished on 133000/372991 queries. users per second: 5673.22</pre>"
      ],
      "text/plain": [
       "recommendations finished on 133000/372991 queries. users per second: 5673.22"
      ]
     },
     "metadata": {},
     "output_type": "display_data"
    },
    {
     "data": {
      "text/html": [
       "<pre>recommendations finished on 134000/372991 queries. users per second: 5669.9</pre>"
      ],
      "text/plain": [
       "recommendations finished on 134000/372991 queries. users per second: 5669.9"
      ]
     },
     "metadata": {},
     "output_type": "display_data"
    },
    {
     "data": {
      "text/html": [
       "<pre>recommendations finished on 135000/372991 queries. users per second: 5666.44</pre>"
      ],
      "text/plain": [
       "recommendations finished on 135000/372991 queries. users per second: 5666.44"
      ]
     },
     "metadata": {},
     "output_type": "display_data"
    },
    {
     "data": {
      "text/html": [
       "<pre>recommendations finished on 136000/372991 queries. users per second: 5664.98</pre>"
      ],
      "text/plain": [
       "recommendations finished on 136000/372991 queries. users per second: 5664.98"
      ]
     },
     "metadata": {},
     "output_type": "display_data"
    },
    {
     "data": {
      "text/html": [
       "<pre>recommendations finished on 137000/372991 queries. users per second: 5664.43</pre>"
      ],
      "text/plain": [
       "recommendations finished on 137000/372991 queries. users per second: 5664.43"
      ]
     },
     "metadata": {},
     "output_type": "display_data"
    },
    {
     "data": {
      "text/html": [
       "<pre>recommendations finished on 138000/372991 queries. users per second: 5659.07</pre>"
      ],
      "text/plain": [
       "recommendations finished on 138000/372991 queries. users per second: 5659.07"
      ]
     },
     "metadata": {},
     "output_type": "display_data"
    },
    {
     "data": {
      "text/html": [
       "<pre>recommendations finished on 139000/372991 queries. users per second: 5657.42</pre>"
      ],
      "text/plain": [
       "recommendations finished on 139000/372991 queries. users per second: 5657.42"
      ]
     },
     "metadata": {},
     "output_type": "display_data"
    },
    {
     "data": {
      "text/html": [
       "<pre>recommendations finished on 140000/372991 queries. users per second: 5652.36</pre>"
      ],
      "text/plain": [
       "recommendations finished on 140000/372991 queries. users per second: 5652.36"
      ]
     },
     "metadata": {},
     "output_type": "display_data"
    },
    {
     "data": {
      "text/html": [
       "<pre>recommendations finished on 141000/372991 queries. users per second: 5653.34</pre>"
      ],
      "text/plain": [
       "recommendations finished on 141000/372991 queries. users per second: 5653.34"
      ]
     },
     "metadata": {},
     "output_type": "display_data"
    },
    {
     "data": {
      "text/html": [
       "<pre>recommendations finished on 142000/372991 queries. users per second: 5655.53</pre>"
      ],
      "text/plain": [
       "recommendations finished on 142000/372991 queries. users per second: 5655.53"
      ]
     },
     "metadata": {},
     "output_type": "display_data"
    },
    {
     "data": {
      "text/html": [
       "<pre>recommendations finished on 143000/372991 queries. users per second: 5654.53</pre>"
      ],
      "text/plain": [
       "recommendations finished on 143000/372991 queries. users per second: 5654.53"
      ]
     },
     "metadata": {},
     "output_type": "display_data"
    },
    {
     "data": {
      "text/html": [
       "<pre>recommendations finished on 144000/372991 queries. users per second: 5655.73</pre>"
      ],
      "text/plain": [
       "recommendations finished on 144000/372991 queries. users per second: 5655.73"
      ]
     },
     "metadata": {},
     "output_type": "display_data"
    },
    {
     "data": {
      "text/html": [
       "<pre>recommendations finished on 145000/372991 queries. users per second: 5657.43</pre>"
      ],
      "text/plain": [
       "recommendations finished on 145000/372991 queries. users per second: 5657.43"
      ]
     },
     "metadata": {},
     "output_type": "display_data"
    },
    {
     "data": {
      "text/html": [
       "<pre>recommendations finished on 146000/372991 queries. users per second: 5660.29</pre>"
      ],
      "text/plain": [
       "recommendations finished on 146000/372991 queries. users per second: 5660.29"
      ]
     },
     "metadata": {},
     "output_type": "display_data"
    },
    {
     "data": {
      "text/html": [
       "<pre>recommendations finished on 147000/372991 queries. users per second: 5658.95</pre>"
      ],
      "text/plain": [
       "recommendations finished on 147000/372991 queries. users per second: 5658.95"
      ]
     },
     "metadata": {},
     "output_type": "display_data"
    },
    {
     "data": {
      "text/html": [
       "<pre>recommendations finished on 148000/372991 queries. users per second: 5654.64</pre>"
      ],
      "text/plain": [
       "recommendations finished on 148000/372991 queries. users per second: 5654.64"
      ]
     },
     "metadata": {},
     "output_type": "display_data"
    },
    {
     "data": {
      "text/html": [
       "<pre>recommendations finished on 149000/372991 queries. users per second: 5653.54</pre>"
      ],
      "text/plain": [
       "recommendations finished on 149000/372991 queries. users per second: 5653.54"
      ]
     },
     "metadata": {},
     "output_type": "display_data"
    },
    {
     "data": {
      "text/html": [
       "<pre>recommendations finished on 150000/372991 queries. users per second: 5653.5</pre>"
      ],
      "text/plain": [
       "recommendations finished on 150000/372991 queries. users per second: 5653.5"
      ]
     },
     "metadata": {},
     "output_type": "display_data"
    },
    {
     "data": {
      "text/html": [
       "<pre>recommendations finished on 151000/372991 queries. users per second: 5652.83</pre>"
      ],
      "text/plain": [
       "recommendations finished on 151000/372991 queries. users per second: 5652.83"
      ]
     },
     "metadata": {},
     "output_type": "display_data"
    },
    {
     "data": {
      "text/html": [
       "<pre>recommendations finished on 152000/372991 queries. users per second: 5654.45</pre>"
      ],
      "text/plain": [
       "recommendations finished on 152000/372991 queries. users per second: 5654.45"
      ]
     },
     "metadata": {},
     "output_type": "display_data"
    },
    {
     "data": {
      "text/html": [
       "<pre>recommendations finished on 153000/372991 queries. users per second: 5657.12</pre>"
      ],
      "text/plain": [
       "recommendations finished on 153000/372991 queries. users per second: 5657.12"
      ]
     },
     "metadata": {},
     "output_type": "display_data"
    },
    {
     "data": {
      "text/html": [
       "<pre>recommendations finished on 154000/372991 queries. users per second: 5658.74</pre>"
      ],
      "text/plain": [
       "recommendations finished on 154000/372991 queries. users per second: 5658.74"
      ]
     },
     "metadata": {},
     "output_type": "display_data"
    },
    {
     "data": {
      "text/html": [
       "<pre>recommendations finished on 155000/372991 queries. users per second: 5659.99</pre>"
      ],
      "text/plain": [
       "recommendations finished on 155000/372991 queries. users per second: 5659.99"
      ]
     },
     "metadata": {},
     "output_type": "display_data"
    },
    {
     "data": {
      "text/html": [
       "<pre>recommendations finished on 156000/372991 queries. users per second: 5662.97</pre>"
      ],
      "text/plain": [
       "recommendations finished on 156000/372991 queries. users per second: 5662.97"
      ]
     },
     "metadata": {},
     "output_type": "display_data"
    },
    {
     "data": {
      "text/html": [
       "<pre>recommendations finished on 157000/372991 queries. users per second: 5665.51</pre>"
      ],
      "text/plain": [
       "recommendations finished on 157000/372991 queries. users per second: 5665.51"
      ]
     },
     "metadata": {},
     "output_type": "display_data"
    },
    {
     "data": {
      "text/html": [
       "<pre>recommendations finished on 158000/372991 queries. users per second: 5667.43</pre>"
      ],
      "text/plain": [
       "recommendations finished on 158000/372991 queries. users per second: 5667.43"
      ]
     },
     "metadata": {},
     "output_type": "display_data"
    },
    {
     "data": {
      "text/html": [
       "<pre>recommendations finished on 159000/372991 queries. users per second: 5669.48</pre>"
      ],
      "text/plain": [
       "recommendations finished on 159000/372991 queries. users per second: 5669.48"
      ]
     },
     "metadata": {},
     "output_type": "display_data"
    },
    {
     "data": {
      "text/html": [
       "<pre>recommendations finished on 160000/372991 queries. users per second: 5671.85</pre>"
      ],
      "text/plain": [
       "recommendations finished on 160000/372991 queries. users per second: 5671.85"
      ]
     },
     "metadata": {},
     "output_type": "display_data"
    },
    {
     "data": {
      "text/html": [
       "<pre>recommendations finished on 161000/372991 queries. users per second: 5672.99</pre>"
      ],
      "text/plain": [
       "recommendations finished on 161000/372991 queries. users per second: 5672.99"
      ]
     },
     "metadata": {},
     "output_type": "display_data"
    },
    {
     "data": {
      "text/html": [
       "<pre>recommendations finished on 162000/372991 queries. users per second: 5673.71</pre>"
      ],
      "text/plain": [
       "recommendations finished on 162000/372991 queries. users per second: 5673.71"
      ]
     },
     "metadata": {},
     "output_type": "display_data"
    },
    {
     "data": {
      "text/html": [
       "<pre>recommendations finished on 163000/372991 queries. users per second: 5675.07</pre>"
      ],
      "text/plain": [
       "recommendations finished on 163000/372991 queries. users per second: 5675.07"
      ]
     },
     "metadata": {},
     "output_type": "display_data"
    },
    {
     "data": {
      "text/html": [
       "<pre>recommendations finished on 164000/372991 queries. users per second: 5676.5</pre>"
      ],
      "text/plain": [
       "recommendations finished on 164000/372991 queries. users per second: 5676.5"
      ]
     },
     "metadata": {},
     "output_type": "display_data"
    },
    {
     "data": {
      "text/html": [
       "<pre>recommendations finished on 165000/372991 queries. users per second: 5677.96</pre>"
      ],
      "text/plain": [
       "recommendations finished on 165000/372991 queries. users per second: 5677.96"
      ]
     },
     "metadata": {},
     "output_type": "display_data"
    },
    {
     "data": {
      "text/html": [
       "<pre>recommendations finished on 166000/372991 queries. users per second: 5678.64</pre>"
      ],
      "text/plain": [
       "recommendations finished on 166000/372991 queries. users per second: 5678.64"
      ]
     },
     "metadata": {},
     "output_type": "display_data"
    },
    {
     "data": {
      "text/html": [
       "<pre>recommendations finished on 167000/372991 queries. users per second: 5679.43</pre>"
      ],
      "text/plain": [
       "recommendations finished on 167000/372991 queries. users per second: 5679.43"
      ]
     },
     "metadata": {},
     "output_type": "display_data"
    },
    {
     "data": {
      "text/html": [
       "<pre>recommendations finished on 168000/372991 queries. users per second: 5680.42</pre>"
      ],
      "text/plain": [
       "recommendations finished on 168000/372991 queries. users per second: 5680.42"
      ]
     },
     "metadata": {},
     "output_type": "display_data"
    },
    {
     "data": {
      "text/html": [
       "<pre>recommendations finished on 169000/372991 queries. users per second: 5681.75</pre>"
      ],
      "text/plain": [
       "recommendations finished on 169000/372991 queries. users per second: 5681.75"
      ]
     },
     "metadata": {},
     "output_type": "display_data"
    },
    {
     "data": {
      "text/html": [
       "<pre>recommendations finished on 170000/372991 queries. users per second: 5682.62</pre>"
      ],
      "text/plain": [
       "recommendations finished on 170000/372991 queries. users per second: 5682.62"
      ]
     },
     "metadata": {},
     "output_type": "display_data"
    },
    {
     "data": {
      "text/html": [
       "<pre>recommendations finished on 171000/372991 queries. users per second: 5683.81</pre>"
      ],
      "text/plain": [
       "recommendations finished on 171000/372991 queries. users per second: 5683.81"
      ]
     },
     "metadata": {},
     "output_type": "display_data"
    },
    {
     "data": {
      "text/html": [
       "<pre>recommendations finished on 172000/372991 queries. users per second: 5685.32</pre>"
      ],
      "text/plain": [
       "recommendations finished on 172000/372991 queries. users per second: 5685.32"
      ]
     },
     "metadata": {},
     "output_type": "display_data"
    },
    {
     "data": {
      "text/html": [
       "<pre>recommendations finished on 173000/372991 queries. users per second: 5687.05</pre>"
      ],
      "text/plain": [
       "recommendations finished on 173000/372991 queries. users per second: 5687.05"
      ]
     },
     "metadata": {},
     "output_type": "display_data"
    },
    {
     "data": {
      "text/html": [
       "<pre>recommendations finished on 174000/372991 queries. users per second: 5688.5</pre>"
      ],
      "text/plain": [
       "recommendations finished on 174000/372991 queries. users per second: 5688.5"
      ]
     },
     "metadata": {},
     "output_type": "display_data"
    },
    {
     "data": {
      "text/html": [
       "<pre>recommendations finished on 175000/372991 queries. users per second: 5690.78</pre>"
      ],
      "text/plain": [
       "recommendations finished on 175000/372991 queries. users per second: 5690.78"
      ]
     },
     "metadata": {},
     "output_type": "display_data"
    },
    {
     "data": {
      "text/html": [
       "<pre>recommendations finished on 176000/372991 queries. users per second: 5691.31</pre>"
      ],
      "text/plain": [
       "recommendations finished on 176000/372991 queries. users per second: 5691.31"
      ]
     },
     "metadata": {},
     "output_type": "display_data"
    },
    {
     "data": {
      "text/html": [
       "<pre>recommendations finished on 177000/372991 queries. users per second: 5692.75</pre>"
      ],
      "text/plain": [
       "recommendations finished on 177000/372991 queries. users per second: 5692.75"
      ]
     },
     "metadata": {},
     "output_type": "display_data"
    },
    {
     "data": {
      "text/html": [
       "<pre>recommendations finished on 178000/372991 queries. users per second: 5692.92</pre>"
      ],
      "text/plain": [
       "recommendations finished on 178000/372991 queries. users per second: 5692.92"
      ]
     },
     "metadata": {},
     "output_type": "display_data"
    },
    {
     "data": {
      "text/html": [
       "<pre>recommendations finished on 179000/372991 queries. users per second: 5693.2</pre>"
      ],
      "text/plain": [
       "recommendations finished on 179000/372991 queries. users per second: 5693.2"
      ]
     },
     "metadata": {},
     "output_type": "display_data"
    },
    {
     "data": {
      "text/html": [
       "<pre>recommendations finished on 180000/372991 queries. users per second: 5692.99</pre>"
      ],
      "text/plain": [
       "recommendations finished on 180000/372991 queries. users per second: 5692.99"
      ]
     },
     "metadata": {},
     "output_type": "display_data"
    },
    {
     "data": {
      "text/html": [
       "<pre>recommendations finished on 181000/372991 queries. users per second: 5694.72</pre>"
      ],
      "text/plain": [
       "recommendations finished on 181000/372991 queries. users per second: 5694.72"
      ]
     },
     "metadata": {},
     "output_type": "display_data"
    },
    {
     "data": {
      "text/html": [
       "<pre>recommendations finished on 182000/372991 queries. users per second: 5696.43</pre>"
      ],
      "text/plain": [
       "recommendations finished on 182000/372991 queries. users per second: 5696.43"
      ]
     },
     "metadata": {},
     "output_type": "display_data"
    },
    {
     "data": {
      "text/html": [
       "<pre>recommendations finished on 183000/372991 queries. users per second: 5694.28</pre>"
      ],
      "text/plain": [
       "recommendations finished on 183000/372991 queries. users per second: 5694.28"
      ]
     },
     "metadata": {},
     "output_type": "display_data"
    },
    {
     "data": {
      "text/html": [
       "<pre>recommendations finished on 184000/372991 queries. users per second: 5694.57</pre>"
      ],
      "text/plain": [
       "recommendations finished on 184000/372991 queries. users per second: 5694.57"
      ]
     },
     "metadata": {},
     "output_type": "display_data"
    },
    {
     "data": {
      "text/html": [
       "<pre>recommendations finished on 185000/372991 queries. users per second: 5696.7</pre>"
      ],
      "text/plain": [
       "recommendations finished on 185000/372991 queries. users per second: 5696.7"
      ]
     },
     "metadata": {},
     "output_type": "display_data"
    },
    {
     "data": {
      "text/html": [
       "<pre>recommendations finished on 186000/372991 queries. users per second: 5698.48</pre>"
      ],
      "text/plain": [
       "recommendations finished on 186000/372991 queries. users per second: 5698.48"
      ]
     },
     "metadata": {},
     "output_type": "display_data"
    },
    {
     "data": {
      "text/html": [
       "<pre>recommendations finished on 187000/372991 queries. users per second: 5699.8</pre>"
      ],
      "text/plain": [
       "recommendations finished on 187000/372991 queries. users per second: 5699.8"
      ]
     },
     "metadata": {},
     "output_type": "display_data"
    },
    {
     "data": {
      "text/html": [
       "<pre>recommendations finished on 188000/372991 queries. users per second: 5701.81</pre>"
      ],
      "text/plain": [
       "recommendations finished on 188000/372991 queries. users per second: 5701.81"
      ]
     },
     "metadata": {},
     "output_type": "display_data"
    },
    {
     "data": {
      "text/html": [
       "<pre>recommendations finished on 189000/372991 queries. users per second: 5704.4</pre>"
      ],
      "text/plain": [
       "recommendations finished on 189000/372991 queries. users per second: 5704.4"
      ]
     },
     "metadata": {},
     "output_type": "display_data"
    },
    {
     "data": {
      "text/html": [
       "<pre>recommendations finished on 190000/372991 queries. users per second: 5704.88</pre>"
      ],
      "text/plain": [
       "recommendations finished on 190000/372991 queries. users per second: 5704.88"
      ]
     },
     "metadata": {},
     "output_type": "display_data"
    },
    {
     "data": {
      "text/html": [
       "<pre>recommendations finished on 191000/372991 queries. users per second: 5705.52</pre>"
      ],
      "text/plain": [
       "recommendations finished on 191000/372991 queries. users per second: 5705.52"
      ]
     },
     "metadata": {},
     "output_type": "display_data"
    },
    {
     "data": {
      "text/html": [
       "<pre>recommendations finished on 192000/372991 queries. users per second: 5707.13</pre>"
      ],
      "text/plain": [
       "recommendations finished on 192000/372991 queries. users per second: 5707.13"
      ]
     },
     "metadata": {},
     "output_type": "display_data"
    },
    {
     "data": {
      "text/html": [
       "<pre>recommendations finished on 193000/372991 queries. users per second: 5709</pre>"
      ],
      "text/plain": [
       "recommendations finished on 193000/372991 queries. users per second: 5709"
      ]
     },
     "metadata": {},
     "output_type": "display_data"
    },
    {
     "data": {
      "text/html": [
       "<pre>recommendations finished on 194000/372991 queries. users per second: 5708.57</pre>"
      ],
      "text/plain": [
       "recommendations finished on 194000/372991 queries. users per second: 5708.57"
      ]
     },
     "metadata": {},
     "output_type": "display_data"
    },
    {
     "data": {
      "text/html": [
       "<pre>recommendations finished on 195000/372991 queries. users per second: 5710.45</pre>"
      ],
      "text/plain": [
       "recommendations finished on 195000/372991 queries. users per second: 5710.45"
      ]
     },
     "metadata": {},
     "output_type": "display_data"
    },
    {
     "data": {
      "text/html": [
       "<pre>recommendations finished on 196000/372991 queries. users per second: 5712.36</pre>"
      ],
      "text/plain": [
       "recommendations finished on 196000/372991 queries. users per second: 5712.36"
      ]
     },
     "metadata": {},
     "output_type": "display_data"
    },
    {
     "data": {
      "text/html": [
       "<pre>recommendations finished on 197000/372991 queries. users per second: 5714.49</pre>"
      ],
      "text/plain": [
       "recommendations finished on 197000/372991 queries. users per second: 5714.49"
      ]
     },
     "metadata": {},
     "output_type": "display_data"
    },
    {
     "data": {
      "text/html": [
       "<pre>recommendations finished on 198000/372991 queries. users per second: 5715.74</pre>"
      ],
      "text/plain": [
       "recommendations finished on 198000/372991 queries. users per second: 5715.74"
      ]
     },
     "metadata": {},
     "output_type": "display_data"
    },
    {
     "data": {
      "text/html": [
       "<pre>recommendations finished on 199000/372991 queries. users per second: 5717.06</pre>"
      ],
      "text/plain": [
       "recommendations finished on 199000/372991 queries. users per second: 5717.06"
      ]
     },
     "metadata": {},
     "output_type": "display_data"
    },
    {
     "data": {
      "text/html": [
       "<pre>recommendations finished on 200000/372991 queries. users per second: 5717.75</pre>"
      ],
      "text/plain": [
       "recommendations finished on 200000/372991 queries. users per second: 5717.75"
      ]
     },
     "metadata": {},
     "output_type": "display_data"
    },
    {
     "data": {
      "text/html": [
       "<pre>recommendations finished on 201000/372991 queries. users per second: 5718.12</pre>"
      ],
      "text/plain": [
       "recommendations finished on 201000/372991 queries. users per second: 5718.12"
      ]
     },
     "metadata": {},
     "output_type": "display_data"
    },
    {
     "data": {
      "text/html": [
       "<pre>recommendations finished on 202000/372991 queries. users per second: 5720.3</pre>"
      ],
      "text/plain": [
       "recommendations finished on 202000/372991 queries. users per second: 5720.3"
      ]
     },
     "metadata": {},
     "output_type": "display_data"
    },
    {
     "data": {
      "text/html": [
       "<pre>recommendations finished on 203000/372991 queries. users per second: 5718.31</pre>"
      ],
      "text/plain": [
       "recommendations finished on 203000/372991 queries. users per second: 5718.31"
      ]
     },
     "metadata": {},
     "output_type": "display_data"
    },
    {
     "data": {
      "text/html": [
       "<pre>recommendations finished on 204000/372991 queries. users per second: 5715.18</pre>"
      ],
      "text/plain": [
       "recommendations finished on 204000/372991 queries. users per second: 5715.18"
      ]
     },
     "metadata": {},
     "output_type": "display_data"
    },
    {
     "data": {
      "text/html": [
       "<pre>recommendations finished on 205000/372991 queries. users per second: 5716.67</pre>"
      ],
      "text/plain": [
       "recommendations finished on 205000/372991 queries. users per second: 5716.67"
      ]
     },
     "metadata": {},
     "output_type": "display_data"
    },
    {
     "data": {
      "text/html": [
       "<pre>recommendations finished on 206000/372991 queries. users per second: 5716.84</pre>"
      ],
      "text/plain": [
       "recommendations finished on 206000/372991 queries. users per second: 5716.84"
      ]
     },
     "metadata": {},
     "output_type": "display_data"
    },
    {
     "data": {
      "text/html": [
       "<pre>recommendations finished on 207000/372991 queries. users per second: 5717.55</pre>"
      ],
      "text/plain": [
       "recommendations finished on 207000/372991 queries. users per second: 5717.55"
      ]
     },
     "metadata": {},
     "output_type": "display_data"
    },
    {
     "data": {
      "text/html": [
       "<pre>recommendations finished on 208000/372991 queries. users per second: 5719.43</pre>"
      ],
      "text/plain": [
       "recommendations finished on 208000/372991 queries. users per second: 5719.43"
      ]
     },
     "metadata": {},
     "output_type": "display_data"
    },
    {
     "data": {
      "text/html": [
       "<pre>recommendations finished on 209000/372991 queries. users per second: 5721.39</pre>"
      ],
      "text/plain": [
       "recommendations finished on 209000/372991 queries. users per second: 5721.39"
      ]
     },
     "metadata": {},
     "output_type": "display_data"
    },
    {
     "data": {
      "text/html": [
       "<pre>recommendations finished on 210000/372991 queries. users per second: 5720.93</pre>"
      ],
      "text/plain": [
       "recommendations finished on 210000/372991 queries. users per second: 5720.93"
      ]
     },
     "metadata": {},
     "output_type": "display_data"
    },
    {
     "data": {
      "text/html": [
       "<pre>recommendations finished on 211000/372991 queries. users per second: 5722.24</pre>"
      ],
      "text/plain": [
       "recommendations finished on 211000/372991 queries. users per second: 5722.24"
      ]
     },
     "metadata": {},
     "output_type": "display_data"
    },
    {
     "data": {
      "text/html": [
       "<pre>recommendations finished on 212000/372991 queries. users per second: 5722.27</pre>"
      ],
      "text/plain": [
       "recommendations finished on 212000/372991 queries. users per second: 5722.27"
      ]
     },
     "metadata": {},
     "output_type": "display_data"
    },
    {
     "data": {
      "text/html": [
       "<pre>recommendations finished on 213000/372991 queries. users per second: 5720.81</pre>"
      ],
      "text/plain": [
       "recommendations finished on 213000/372991 queries. users per second: 5720.81"
      ]
     },
     "metadata": {},
     "output_type": "display_data"
    },
    {
     "data": {
      "text/html": [
       "<pre>recommendations finished on 214000/372991 queries. users per second: 5721.36</pre>"
      ],
      "text/plain": [
       "recommendations finished on 214000/372991 queries. users per second: 5721.36"
      ]
     },
     "metadata": {},
     "output_type": "display_data"
    },
    {
     "data": {
      "text/html": [
       "<pre>recommendations finished on 215000/372991 queries. users per second: 5722.63</pre>"
      ],
      "text/plain": [
       "recommendations finished on 215000/372991 queries. users per second: 5722.63"
      ]
     },
     "metadata": {},
     "output_type": "display_data"
    },
    {
     "data": {
      "text/html": [
       "<pre>recommendations finished on 216000/372991 queries. users per second: 5721.8</pre>"
      ],
      "text/plain": [
       "recommendations finished on 216000/372991 queries. users per second: 5721.8"
      ]
     },
     "metadata": {},
     "output_type": "display_data"
    },
    {
     "data": {
      "text/html": [
       "<pre>recommendations finished on 217000/372991 queries. users per second: 5723.05</pre>"
      ],
      "text/plain": [
       "recommendations finished on 217000/372991 queries. users per second: 5723.05"
      ]
     },
     "metadata": {},
     "output_type": "display_data"
    },
    {
     "data": {
      "text/html": [
       "<pre>recommendations finished on 218000/372991 queries. users per second: 5720.45</pre>"
      ],
      "text/plain": [
       "recommendations finished on 218000/372991 queries. users per second: 5720.45"
      ]
     },
     "metadata": {},
     "output_type": "display_data"
    },
    {
     "data": {
      "text/html": [
       "<pre>recommendations finished on 219000/372991 queries. users per second: 5715.69</pre>"
      ],
      "text/plain": [
       "recommendations finished on 219000/372991 queries. users per second: 5715.69"
      ]
     },
     "metadata": {},
     "output_type": "display_data"
    },
    {
     "data": {
      "text/html": [
       "<pre>recommendations finished on 220000/372991 queries. users per second: 5712.22</pre>"
      ],
      "text/plain": [
       "recommendations finished on 220000/372991 queries. users per second: 5712.22"
      ]
     },
     "metadata": {},
     "output_type": "display_data"
    },
    {
     "data": {
      "text/html": [
       "<pre>recommendations finished on 221000/372991 queries. users per second: 5708.51</pre>"
      ],
      "text/plain": [
       "recommendations finished on 221000/372991 queries. users per second: 5708.51"
      ]
     },
     "metadata": {},
     "output_type": "display_data"
    },
    {
     "data": {
      "text/html": [
       "<pre>recommendations finished on 222000/372991 queries. users per second: 5704.18</pre>"
      ],
      "text/plain": [
       "recommendations finished on 222000/372991 queries. users per second: 5704.18"
      ]
     },
     "metadata": {},
     "output_type": "display_data"
    },
    {
     "data": {
      "text/html": [
       "<pre>recommendations finished on 223000/372991 queries. users per second: 5701.51</pre>"
      ],
      "text/plain": [
       "recommendations finished on 223000/372991 queries. users per second: 5701.51"
      ]
     },
     "metadata": {},
     "output_type": "display_data"
    },
    {
     "data": {
      "text/html": [
       "<pre>recommendations finished on 224000/372991 queries. users per second: 5701.81</pre>"
      ],
      "text/plain": [
       "recommendations finished on 224000/372991 queries. users per second: 5701.81"
      ]
     },
     "metadata": {},
     "output_type": "display_data"
    },
    {
     "data": {
      "text/html": [
       "<pre>recommendations finished on 225000/372991 queries. users per second: 5703.47</pre>"
      ],
      "text/plain": [
       "recommendations finished on 225000/372991 queries. users per second: 5703.47"
      ]
     },
     "metadata": {},
     "output_type": "display_data"
    },
    {
     "data": {
      "text/html": [
       "<pre>recommendations finished on 226000/372991 queries. users per second: 5705.56</pre>"
      ],
      "text/plain": [
       "recommendations finished on 226000/372991 queries. users per second: 5705.56"
      ]
     },
     "metadata": {},
     "output_type": "display_data"
    },
    {
     "data": {
      "text/html": [
       "<pre>recommendations finished on 227000/372991 queries. users per second: 5706</pre>"
      ],
      "text/plain": [
       "recommendations finished on 227000/372991 queries. users per second: 5706"
      ]
     },
     "metadata": {},
     "output_type": "display_data"
    },
    {
     "data": {
      "text/html": [
       "<pre>recommendations finished on 228000/372991 queries. users per second: 5707.76</pre>"
      ],
      "text/plain": [
       "recommendations finished on 228000/372991 queries. users per second: 5707.76"
      ]
     },
     "metadata": {},
     "output_type": "display_data"
    },
    {
     "data": {
      "text/html": [
       "<pre>recommendations finished on 229000/372991 queries. users per second: 5709.49</pre>"
      ],
      "text/plain": [
       "recommendations finished on 229000/372991 queries. users per second: 5709.49"
      ]
     },
     "metadata": {},
     "output_type": "display_data"
    },
    {
     "data": {
      "text/html": [
       "<pre>recommendations finished on 230000/372991 queries. users per second: 5707.92</pre>"
      ],
      "text/plain": [
       "recommendations finished on 230000/372991 queries. users per second: 5707.92"
      ]
     },
     "metadata": {},
     "output_type": "display_data"
    },
    {
     "data": {
      "text/html": [
       "<pre>recommendations finished on 231000/372991 queries. users per second: 5707.96</pre>"
      ],
      "text/plain": [
       "recommendations finished on 231000/372991 queries. users per second: 5707.96"
      ]
     },
     "metadata": {},
     "output_type": "display_data"
    },
    {
     "data": {
      "text/html": [
       "<pre>recommendations finished on 232000/372991 queries. users per second: 5708.92</pre>"
      ],
      "text/plain": [
       "recommendations finished on 232000/372991 queries. users per second: 5708.92"
      ]
     },
     "metadata": {},
     "output_type": "display_data"
    },
    {
     "data": {
      "text/html": [
       "<pre>recommendations finished on 233000/372991 queries. users per second: 5709.9</pre>"
      ],
      "text/plain": [
       "recommendations finished on 233000/372991 queries. users per second: 5709.9"
      ]
     },
     "metadata": {},
     "output_type": "display_data"
    },
    {
     "data": {
      "text/html": [
       "<pre>recommendations finished on 234000/372991 queries. users per second: 5707.26</pre>"
      ],
      "text/plain": [
       "recommendations finished on 234000/372991 queries. users per second: 5707.26"
      ]
     },
     "metadata": {},
     "output_type": "display_data"
    },
    {
     "data": {
      "text/html": [
       "<pre>recommendations finished on 235000/372991 queries. users per second: 5706.33</pre>"
      ],
      "text/plain": [
       "recommendations finished on 235000/372991 queries. users per second: 5706.33"
      ]
     },
     "metadata": {},
     "output_type": "display_data"
    },
    {
     "data": {
      "text/html": [
       "<pre>recommendations finished on 236000/372991 queries. users per second: 5706.63</pre>"
      ],
      "text/plain": [
       "recommendations finished on 236000/372991 queries. users per second: 5706.63"
      ]
     },
     "metadata": {},
     "output_type": "display_data"
    },
    {
     "data": {
      "text/html": [
       "<pre>recommendations finished on 237000/372991 queries. users per second: 5708.49</pre>"
      ],
      "text/plain": [
       "recommendations finished on 237000/372991 queries. users per second: 5708.49"
      ]
     },
     "metadata": {},
     "output_type": "display_data"
    },
    {
     "data": {
      "text/html": [
       "<pre>recommendations finished on 238000/372991 queries. users per second: 5709.41</pre>"
      ],
      "text/plain": [
       "recommendations finished on 238000/372991 queries. users per second: 5709.41"
      ]
     },
     "metadata": {},
     "output_type": "display_data"
    },
    {
     "data": {
      "text/html": [
       "<pre>recommendations finished on 239000/372991 queries. users per second: 5709.99</pre>"
      ],
      "text/plain": [
       "recommendations finished on 239000/372991 queries. users per second: 5709.99"
      ]
     },
     "metadata": {},
     "output_type": "display_data"
    },
    {
     "data": {
      "text/html": [
       "<pre>recommendations finished on 240000/372991 queries. users per second: 5711.7</pre>"
      ],
      "text/plain": [
       "recommendations finished on 240000/372991 queries. users per second: 5711.7"
      ]
     },
     "metadata": {},
     "output_type": "display_data"
    },
    {
     "data": {
      "text/html": [
       "<pre>recommendations finished on 241000/372991 queries. users per second: 5713.92</pre>"
      ],
      "text/plain": [
       "recommendations finished on 241000/372991 queries. users per second: 5713.92"
      ]
     },
     "metadata": {},
     "output_type": "display_data"
    },
    {
     "data": {
      "text/html": [
       "<pre>recommendations finished on 242000/372991 queries. users per second: 5713.94</pre>"
      ],
      "text/plain": [
       "recommendations finished on 242000/372991 queries. users per second: 5713.94"
      ]
     },
     "metadata": {},
     "output_type": "display_data"
    },
    {
     "data": {
      "text/html": [
       "<pre>recommendations finished on 243000/372991 queries. users per second: 5714.44</pre>"
      ],
      "text/plain": [
       "recommendations finished on 243000/372991 queries. users per second: 5714.44"
      ]
     },
     "metadata": {},
     "output_type": "display_data"
    },
    {
     "data": {
      "text/html": [
       "<pre>recommendations finished on 244000/372991 queries. users per second: 5715.33</pre>"
      ],
      "text/plain": [
       "recommendations finished on 244000/372991 queries. users per second: 5715.33"
      ]
     },
     "metadata": {},
     "output_type": "display_data"
    },
    {
     "data": {
      "text/html": [
       "<pre>recommendations finished on 245000/372991 queries. users per second: 5715</pre>"
      ],
      "text/plain": [
       "recommendations finished on 245000/372991 queries. users per second: 5715"
      ]
     },
     "metadata": {},
     "output_type": "display_data"
    },
    {
     "data": {
      "text/html": [
       "<pre>recommendations finished on 246000/372991 queries. users per second: 5714.9</pre>"
      ],
      "text/plain": [
       "recommendations finished on 246000/372991 queries. users per second: 5714.9"
      ]
     },
     "metadata": {},
     "output_type": "display_data"
    },
    {
     "data": {
      "text/html": [
       "<pre>recommendations finished on 247000/372991 queries. users per second: 5716.41</pre>"
      ],
      "text/plain": [
       "recommendations finished on 247000/372991 queries. users per second: 5716.41"
      ]
     },
     "metadata": {},
     "output_type": "display_data"
    },
    {
     "data": {
      "text/html": [
       "<pre>recommendations finished on 248000/372991 queries. users per second: 5717.63</pre>"
      ],
      "text/plain": [
       "recommendations finished on 248000/372991 queries. users per second: 5717.63"
      ]
     },
     "metadata": {},
     "output_type": "display_data"
    },
    {
     "data": {
      "text/html": [
       "<pre>recommendations finished on 249000/372991 queries. users per second: 5717.52</pre>"
      ],
      "text/plain": [
       "recommendations finished on 249000/372991 queries. users per second: 5717.52"
      ]
     },
     "metadata": {},
     "output_type": "display_data"
    },
    {
     "data": {
      "text/html": [
       "<pre>recommendations finished on 250000/372991 queries. users per second: 5718.69</pre>"
      ],
      "text/plain": [
       "recommendations finished on 250000/372991 queries. users per second: 5718.69"
      ]
     },
     "metadata": {},
     "output_type": "display_data"
    },
    {
     "data": {
      "text/html": [
       "<pre>recommendations finished on 251000/372991 queries. users per second: 5720.06</pre>"
      ],
      "text/plain": [
       "recommendations finished on 251000/372991 queries. users per second: 5720.06"
      ]
     },
     "metadata": {},
     "output_type": "display_data"
    },
    {
     "data": {
      "text/html": [
       "<pre>recommendations finished on 252000/372991 queries. users per second: 5721.6</pre>"
      ],
      "text/plain": [
       "recommendations finished on 252000/372991 queries. users per second: 5721.6"
      ]
     },
     "metadata": {},
     "output_type": "display_data"
    },
    {
     "data": {
      "text/html": [
       "<pre>recommendations finished on 253000/372991 queries. users per second: 5723.4</pre>"
      ],
      "text/plain": [
       "recommendations finished on 253000/372991 queries. users per second: 5723.4"
      ]
     },
     "metadata": {},
     "output_type": "display_data"
    },
    {
     "data": {
      "text/html": [
       "<pre>recommendations finished on 254000/372991 queries. users per second: 5723.44</pre>"
      ],
      "text/plain": [
       "recommendations finished on 254000/372991 queries. users per second: 5723.44"
      ]
     },
     "metadata": {},
     "output_type": "display_data"
    },
    {
     "data": {
      "text/html": [
       "<pre>recommendations finished on 255000/372991 queries. users per second: 5725.38</pre>"
      ],
      "text/plain": [
       "recommendations finished on 255000/372991 queries. users per second: 5725.38"
      ]
     },
     "metadata": {},
     "output_type": "display_data"
    },
    {
     "data": {
      "text/html": [
       "<pre>recommendations finished on 256000/372991 queries. users per second: 5725.82</pre>"
      ],
      "text/plain": [
       "recommendations finished on 256000/372991 queries. users per second: 5725.82"
      ]
     },
     "metadata": {},
     "output_type": "display_data"
    },
    {
     "data": {
      "text/html": [
       "<pre>recommendations finished on 257000/372991 queries. users per second: 5725.94</pre>"
      ],
      "text/plain": [
       "recommendations finished on 257000/372991 queries. users per second: 5725.94"
      ]
     },
     "metadata": {},
     "output_type": "display_data"
    },
    {
     "data": {
      "text/html": [
       "<pre>recommendations finished on 258000/372991 queries. users per second: 5727.58</pre>"
      ],
      "text/plain": [
       "recommendations finished on 258000/372991 queries. users per second: 5727.58"
      ]
     },
     "metadata": {},
     "output_type": "display_data"
    },
    {
     "data": {
      "text/html": [
       "<pre>recommendations finished on 259000/372991 queries. users per second: 5727.82</pre>"
      ],
      "text/plain": [
       "recommendations finished on 259000/372991 queries. users per second: 5727.82"
      ]
     },
     "metadata": {},
     "output_type": "display_data"
    },
    {
     "data": {
      "text/html": [
       "<pre>recommendations finished on 260000/372991 queries. users per second: 5728.64</pre>"
      ],
      "text/plain": [
       "recommendations finished on 260000/372991 queries. users per second: 5728.64"
      ]
     },
     "metadata": {},
     "output_type": "display_data"
    },
    {
     "data": {
      "text/html": [
       "<pre>recommendations finished on 261000/372991 queries. users per second: 5729.94</pre>"
      ],
      "text/plain": [
       "recommendations finished on 261000/372991 queries. users per second: 5729.94"
      ]
     },
     "metadata": {},
     "output_type": "display_data"
    },
    {
     "data": {
      "text/html": [
       "<pre>recommendations finished on 262000/372991 queries. users per second: 5728.56</pre>"
      ],
      "text/plain": [
       "recommendations finished on 262000/372991 queries. users per second: 5728.56"
      ]
     },
     "metadata": {},
     "output_type": "display_data"
    },
    {
     "data": {
      "text/html": [
       "<pre>recommendations finished on 263000/372991 queries. users per second: 5726.3</pre>"
      ],
      "text/plain": [
       "recommendations finished on 263000/372991 queries. users per second: 5726.3"
      ]
     },
     "metadata": {},
     "output_type": "display_data"
    },
    {
     "data": {
      "text/html": [
       "<pre>recommendations finished on 264000/372991 queries. users per second: 5723.79</pre>"
      ],
      "text/plain": [
       "recommendations finished on 264000/372991 queries. users per second: 5723.79"
      ]
     },
     "metadata": {},
     "output_type": "display_data"
    },
    {
     "data": {
      "text/html": [
       "<pre>recommendations finished on 265000/372991 queries. users per second: 5723.95</pre>"
      ],
      "text/plain": [
       "recommendations finished on 265000/372991 queries. users per second: 5723.95"
      ]
     },
     "metadata": {},
     "output_type": "display_data"
    },
    {
     "data": {
      "text/html": [
       "<pre>recommendations finished on 266000/372991 queries. users per second: 5724.55</pre>"
      ],
      "text/plain": [
       "recommendations finished on 266000/372991 queries. users per second: 5724.55"
      ]
     },
     "metadata": {},
     "output_type": "display_data"
    },
    {
     "data": {
      "text/html": [
       "<pre>recommendations finished on 267000/372991 queries. users per second: 5725.6</pre>"
      ],
      "text/plain": [
       "recommendations finished on 267000/372991 queries. users per second: 5725.6"
      ]
     },
     "metadata": {},
     "output_type": "display_data"
    },
    {
     "data": {
      "text/html": [
       "<pre>recommendations finished on 268000/372991 queries. users per second: 5726.09</pre>"
      ],
      "text/plain": [
       "recommendations finished on 268000/372991 queries. users per second: 5726.09"
      ]
     },
     "metadata": {},
     "output_type": "display_data"
    },
    {
     "data": {
      "text/html": [
       "<pre>recommendations finished on 269000/372991 queries. users per second: 5726.58</pre>"
      ],
      "text/plain": [
       "recommendations finished on 269000/372991 queries. users per second: 5726.58"
      ]
     },
     "metadata": {},
     "output_type": "display_data"
    },
    {
     "data": {
      "text/html": [
       "<pre>recommendations finished on 270000/372991 queries. users per second: 5726.78</pre>"
      ],
      "text/plain": [
       "recommendations finished on 270000/372991 queries. users per second: 5726.78"
      ]
     },
     "metadata": {},
     "output_type": "display_data"
    },
    {
     "data": {
      "text/html": [
       "<pre>recommendations finished on 271000/372991 queries. users per second: 5727.04</pre>"
      ],
      "text/plain": [
       "recommendations finished on 271000/372991 queries. users per second: 5727.04"
      ]
     },
     "metadata": {},
     "output_type": "display_data"
    },
    {
     "data": {
      "text/html": [
       "<pre>recommendations finished on 272000/372991 queries. users per second: 5727.7</pre>"
      ],
      "text/plain": [
       "recommendations finished on 272000/372991 queries. users per second: 5727.7"
      ]
     },
     "metadata": {},
     "output_type": "display_data"
    },
    {
     "data": {
      "text/html": [
       "<pre>recommendations finished on 273000/372991 queries. users per second: 5728.82</pre>"
      ],
      "text/plain": [
       "recommendations finished on 273000/372991 queries. users per second: 5728.82"
      ]
     },
     "metadata": {},
     "output_type": "display_data"
    },
    {
     "data": {
      "text/html": [
       "<pre>recommendations finished on 274000/372991 queries. users per second: 5730.29</pre>"
      ],
      "text/plain": [
       "recommendations finished on 274000/372991 queries. users per second: 5730.29"
      ]
     },
     "metadata": {},
     "output_type": "display_data"
    },
    {
     "data": {
      "text/html": [
       "<pre>recommendations finished on 275000/372991 queries. users per second: 5729.24</pre>"
      ],
      "text/plain": [
       "recommendations finished on 275000/372991 queries. users per second: 5729.24"
      ]
     },
     "metadata": {},
     "output_type": "display_data"
    },
    {
     "data": {
      "text/html": [
       "<pre>recommendations finished on 276000/372991 queries. users per second: 5730.28</pre>"
      ],
      "text/plain": [
       "recommendations finished on 276000/372991 queries. users per second: 5730.28"
      ]
     },
     "metadata": {},
     "output_type": "display_data"
    },
    {
     "data": {
      "text/html": [
       "<pre>recommendations finished on 277000/372991 queries. users per second: 5731.73</pre>"
      ],
      "text/plain": [
       "recommendations finished on 277000/372991 queries. users per second: 5731.73"
      ]
     },
     "metadata": {},
     "output_type": "display_data"
    },
    {
     "data": {
      "text/html": [
       "<pre>recommendations finished on 278000/372991 queries. users per second: 5733.38</pre>"
      ],
      "text/plain": [
       "recommendations finished on 278000/372991 queries. users per second: 5733.38"
      ]
     },
     "metadata": {},
     "output_type": "display_data"
    },
    {
     "data": {
      "text/html": [
       "<pre>recommendations finished on 279000/372991 queries. users per second: 5734.52</pre>"
      ],
      "text/plain": [
       "recommendations finished on 279000/372991 queries. users per second: 5734.52"
      ]
     },
     "metadata": {},
     "output_type": "display_data"
    },
    {
     "data": {
      "text/html": [
       "<pre>recommendations finished on 280000/372991 queries. users per second: 5734.98</pre>"
      ],
      "text/plain": [
       "recommendations finished on 280000/372991 queries. users per second: 5734.98"
      ]
     },
     "metadata": {},
     "output_type": "display_data"
    },
    {
     "data": {
      "text/html": [
       "<pre>recommendations finished on 281000/372991 queries. users per second: 5736.2</pre>"
      ],
      "text/plain": [
       "recommendations finished on 281000/372991 queries. users per second: 5736.2"
      ]
     },
     "metadata": {},
     "output_type": "display_data"
    },
    {
     "data": {
      "text/html": [
       "<pre>recommendations finished on 282000/372991 queries. users per second: 5737.45</pre>"
      ],
      "text/plain": [
       "recommendations finished on 282000/372991 queries. users per second: 5737.45"
      ]
     },
     "metadata": {},
     "output_type": "display_data"
    },
    {
     "data": {
      "text/html": [
       "<pre>recommendations finished on 283000/372991 queries. users per second: 5738.83</pre>"
      ],
      "text/plain": [
       "recommendations finished on 283000/372991 queries. users per second: 5738.83"
      ]
     },
     "metadata": {},
     "output_type": "display_data"
    },
    {
     "data": {
      "text/html": [
       "<pre>recommendations finished on 284000/372991 queries. users per second: 5739.97</pre>"
      ],
      "text/plain": [
       "recommendations finished on 284000/372991 queries. users per second: 5739.97"
      ]
     },
     "metadata": {},
     "output_type": "display_data"
    },
    {
     "data": {
      "text/html": [
       "<pre>recommendations finished on 285000/372991 queries. users per second: 5741.93</pre>"
      ],
      "text/plain": [
       "recommendations finished on 285000/372991 queries. users per second: 5741.93"
      ]
     },
     "metadata": {},
     "output_type": "display_data"
    },
    {
     "data": {
      "text/html": [
       "<pre>recommendations finished on 286000/372991 queries. users per second: 5742.93</pre>"
      ],
      "text/plain": [
       "recommendations finished on 286000/372991 queries. users per second: 5742.93"
      ]
     },
     "metadata": {},
     "output_type": "display_data"
    },
    {
     "data": {
      "text/html": [
       "<pre>recommendations finished on 287000/372991 queries. users per second: 5742.85</pre>"
      ],
      "text/plain": [
       "recommendations finished on 287000/372991 queries. users per second: 5742.85"
      ]
     },
     "metadata": {},
     "output_type": "display_data"
    },
    {
     "data": {
      "text/html": [
       "<pre>recommendations finished on 288000/372991 queries. users per second: 5742.43</pre>"
      ],
      "text/plain": [
       "recommendations finished on 288000/372991 queries. users per second: 5742.43"
      ]
     },
     "metadata": {},
     "output_type": "display_data"
    },
    {
     "data": {
      "text/html": [
       "<pre>recommendations finished on 289000/372991 queries. users per second: 5742.49</pre>"
      ],
      "text/plain": [
       "recommendations finished on 289000/372991 queries. users per second: 5742.49"
      ]
     },
     "metadata": {},
     "output_type": "display_data"
    },
    {
     "data": {
      "text/html": [
       "<pre>recommendations finished on 290000/372991 queries. users per second: 5743.84</pre>"
      ],
      "text/plain": [
       "recommendations finished on 290000/372991 queries. users per second: 5743.84"
      ]
     },
     "metadata": {},
     "output_type": "display_data"
    },
    {
     "data": {
      "text/html": [
       "<pre>recommendations finished on 291000/372991 queries. users per second: 5744.33</pre>"
      ],
      "text/plain": [
       "recommendations finished on 291000/372991 queries. users per second: 5744.33"
      ]
     },
     "metadata": {},
     "output_type": "display_data"
    },
    {
     "data": {
      "text/html": [
       "<pre>recommendations finished on 292000/372991 queries. users per second: 5745.4</pre>"
      ],
      "text/plain": [
       "recommendations finished on 292000/372991 queries. users per second: 5745.4"
      ]
     },
     "metadata": {},
     "output_type": "display_data"
    },
    {
     "data": {
      "text/html": [
       "<pre>recommendations finished on 293000/372991 queries. users per second: 5744.24</pre>"
      ],
      "text/plain": [
       "recommendations finished on 293000/372991 queries. users per second: 5744.24"
      ]
     },
     "metadata": {},
     "output_type": "display_data"
    },
    {
     "data": {
      "text/html": [
       "<pre>recommendations finished on 294000/372991 queries. users per second: 5742.15</pre>"
      ],
      "text/plain": [
       "recommendations finished on 294000/372991 queries. users per second: 5742.15"
      ]
     },
     "metadata": {},
     "output_type": "display_data"
    },
    {
     "data": {
      "text/html": [
       "<pre>recommendations finished on 295000/372991 queries. users per second: 5740.42</pre>"
      ],
      "text/plain": [
       "recommendations finished on 295000/372991 queries. users per second: 5740.42"
      ]
     },
     "metadata": {},
     "output_type": "display_data"
    },
    {
     "data": {
      "text/html": [
       "<pre>recommendations finished on 296000/372991 queries. users per second: 5738.47</pre>"
      ],
      "text/plain": [
       "recommendations finished on 296000/372991 queries. users per second: 5738.47"
      ]
     },
     "metadata": {},
     "output_type": "display_data"
    },
    {
     "data": {
      "text/html": [
       "<pre>recommendations finished on 297000/372991 queries. users per second: 5735.69</pre>"
      ],
      "text/plain": [
       "recommendations finished on 297000/372991 queries. users per second: 5735.69"
      ]
     },
     "metadata": {},
     "output_type": "display_data"
    },
    {
     "data": {
      "text/html": [
       "<pre>recommendations finished on 298000/372991 queries. users per second: 5733.77</pre>"
      ],
      "text/plain": [
       "recommendations finished on 298000/372991 queries. users per second: 5733.77"
      ]
     },
     "metadata": {},
     "output_type": "display_data"
    },
    {
     "data": {
      "text/html": [
       "<pre>recommendations finished on 299000/372991 queries. users per second: 5732.08</pre>"
      ],
      "text/plain": [
       "recommendations finished on 299000/372991 queries. users per second: 5732.08"
      ]
     },
     "metadata": {},
     "output_type": "display_data"
    },
    {
     "data": {
      "text/html": [
       "<pre>recommendations finished on 300000/372991 queries. users per second: 5729.3</pre>"
      ],
      "text/plain": [
       "recommendations finished on 300000/372991 queries. users per second: 5729.3"
      ]
     },
     "metadata": {},
     "output_type": "display_data"
    },
    {
     "data": {
      "text/html": [
       "<pre>recommendations finished on 301000/372991 queries. users per second: 5730.11</pre>"
      ],
      "text/plain": [
       "recommendations finished on 301000/372991 queries. users per second: 5730.11"
      ]
     },
     "metadata": {},
     "output_type": "display_data"
    },
    {
     "data": {
      "text/html": [
       "<pre>recommendations finished on 302000/372991 queries. users per second: 5730</pre>"
      ],
      "text/plain": [
       "recommendations finished on 302000/372991 queries. users per second: 5730"
      ]
     },
     "metadata": {},
     "output_type": "display_data"
    },
    {
     "data": {
      "text/html": [
       "<pre>recommendations finished on 303000/372991 queries. users per second: 5727.91</pre>"
      ],
      "text/plain": [
       "recommendations finished on 303000/372991 queries. users per second: 5727.91"
      ]
     },
     "metadata": {},
     "output_type": "display_data"
    },
    {
     "data": {
      "text/html": [
       "<pre>recommendations finished on 304000/372991 queries. users per second: 5727.31</pre>"
      ],
      "text/plain": [
       "recommendations finished on 304000/372991 queries. users per second: 5727.31"
      ]
     },
     "metadata": {},
     "output_type": "display_data"
    },
    {
     "data": {
      "text/html": [
       "<pre>recommendations finished on 305000/372991 queries. users per second: 5728.21</pre>"
      ],
      "text/plain": [
       "recommendations finished on 305000/372991 queries. users per second: 5728.21"
      ]
     },
     "metadata": {},
     "output_type": "display_data"
    },
    {
     "data": {
      "text/html": [
       "<pre>recommendations finished on 306000/372991 queries. users per second: 5726.88</pre>"
      ],
      "text/plain": [
       "recommendations finished on 306000/372991 queries. users per second: 5726.88"
      ]
     },
     "metadata": {},
     "output_type": "display_data"
    },
    {
     "data": {
      "text/html": [
       "<pre>recommendations finished on 307000/372991 queries. users per second: 5727.32</pre>"
      ],
      "text/plain": [
       "recommendations finished on 307000/372991 queries. users per second: 5727.32"
      ]
     },
     "metadata": {},
     "output_type": "display_data"
    },
    {
     "data": {
      "text/html": [
       "<pre>recommendations finished on 308000/372991 queries. users per second: 5728.12</pre>"
      ],
      "text/plain": [
       "recommendations finished on 308000/372991 queries. users per second: 5728.12"
      ]
     },
     "metadata": {},
     "output_type": "display_data"
    },
    {
     "data": {
      "text/html": [
       "<pre>recommendations finished on 309000/372991 queries. users per second: 5725.59</pre>"
      ],
      "text/plain": [
       "recommendations finished on 309000/372991 queries. users per second: 5725.59"
      ]
     },
     "metadata": {},
     "output_type": "display_data"
    },
    {
     "data": {
      "text/html": [
       "<pre>recommendations finished on 310000/372991 queries. users per second: 5723.39</pre>"
      ],
      "text/plain": [
       "recommendations finished on 310000/372991 queries. users per second: 5723.39"
      ]
     },
     "metadata": {},
     "output_type": "display_data"
    },
    {
     "data": {
      "text/html": [
       "<pre>recommendations finished on 311000/372991 queries. users per second: 5721.57</pre>"
      ],
      "text/plain": [
       "recommendations finished on 311000/372991 queries. users per second: 5721.57"
      ]
     },
     "metadata": {},
     "output_type": "display_data"
    },
    {
     "data": {
      "text/html": [
       "<pre>recommendations finished on 312000/372991 queries. users per second: 5719.32</pre>"
      ],
      "text/plain": [
       "recommendations finished on 312000/372991 queries. users per second: 5719.32"
      ]
     },
     "metadata": {},
     "output_type": "display_data"
    },
    {
     "data": {
      "text/html": [
       "<pre>recommendations finished on 313000/372991 queries. users per second: 5719.26</pre>"
      ],
      "text/plain": [
       "recommendations finished on 313000/372991 queries. users per second: 5719.26"
      ]
     },
     "metadata": {},
     "output_type": "display_data"
    },
    {
     "data": {
      "text/html": [
       "<pre>recommendations finished on 314000/372991 queries. users per second: 5719.72</pre>"
      ],
      "text/plain": [
       "recommendations finished on 314000/372991 queries. users per second: 5719.72"
      ]
     },
     "metadata": {},
     "output_type": "display_data"
    },
    {
     "data": {
      "text/html": [
       "<pre>recommendations finished on 315000/372991 queries. users per second: 5719.7</pre>"
      ],
      "text/plain": [
       "recommendations finished on 315000/372991 queries. users per second: 5719.7"
      ]
     },
     "metadata": {},
     "output_type": "display_data"
    },
    {
     "data": {
      "text/html": [
       "<pre>recommendations finished on 316000/372991 queries. users per second: 5719.44</pre>"
      ],
      "text/plain": [
       "recommendations finished on 316000/372991 queries. users per second: 5719.44"
      ]
     },
     "metadata": {},
     "output_type": "display_data"
    },
    {
     "data": {
      "text/html": [
       "<pre>recommendations finished on 317000/372991 queries. users per second: 5720.11</pre>"
      ],
      "text/plain": [
       "recommendations finished on 317000/372991 queries. users per second: 5720.11"
      ]
     },
     "metadata": {},
     "output_type": "display_data"
    },
    {
     "data": {
      "text/html": [
       "<pre>recommendations finished on 318000/372991 queries. users per second: 5721.49</pre>"
      ],
      "text/plain": [
       "recommendations finished on 318000/372991 queries. users per second: 5721.49"
      ]
     },
     "metadata": {},
     "output_type": "display_data"
    },
    {
     "data": {
      "text/html": [
       "<pre>recommendations finished on 319000/372991 queries. users per second: 5722.88</pre>"
      ],
      "text/plain": [
       "recommendations finished on 319000/372991 queries. users per second: 5722.88"
      ]
     },
     "metadata": {},
     "output_type": "display_data"
    },
    {
     "data": {
      "text/html": [
       "<pre>recommendations finished on 320000/372991 queries. users per second: 5722.03</pre>"
      ],
      "text/plain": [
       "recommendations finished on 320000/372991 queries. users per second: 5722.03"
      ]
     },
     "metadata": {},
     "output_type": "display_data"
    },
    {
     "data": {
      "text/html": [
       "<pre>recommendations finished on 321000/372991 queries. users per second: 5721.95</pre>"
      ],
      "text/plain": [
       "recommendations finished on 321000/372991 queries. users per second: 5721.95"
      ]
     },
     "metadata": {},
     "output_type": "display_data"
    },
    {
     "data": {
      "text/html": [
       "<pre>recommendations finished on 322000/372991 queries. users per second: 5722.72</pre>"
      ],
      "text/plain": [
       "recommendations finished on 322000/372991 queries. users per second: 5722.72"
      ]
     },
     "metadata": {},
     "output_type": "display_data"
    },
    {
     "data": {
      "text/html": [
       "<pre>recommendations finished on 323000/372991 queries. users per second: 5724.28</pre>"
      ],
      "text/plain": [
       "recommendations finished on 323000/372991 queries. users per second: 5724.28"
      ]
     },
     "metadata": {},
     "output_type": "display_data"
    },
    {
     "data": {
      "text/html": [
       "<pre>recommendations finished on 324000/372991 queries. users per second: 5725.03</pre>"
      ],
      "text/plain": [
       "recommendations finished on 324000/372991 queries. users per second: 5725.03"
      ]
     },
     "metadata": {},
     "output_type": "display_data"
    },
    {
     "data": {
      "text/html": [
       "<pre>recommendations finished on 325000/372991 queries. users per second: 5723.87</pre>"
      ],
      "text/plain": [
       "recommendations finished on 325000/372991 queries. users per second: 5723.87"
      ]
     },
     "metadata": {},
     "output_type": "display_data"
    },
    {
     "data": {
      "text/html": [
       "<pre>recommendations finished on 326000/372991 queries. users per second: 5723.81</pre>"
      ],
      "text/plain": [
       "recommendations finished on 326000/372991 queries. users per second: 5723.81"
      ]
     },
     "metadata": {},
     "output_type": "display_data"
    },
    {
     "data": {
      "text/html": [
       "<pre>recommendations finished on 327000/372991 queries. users per second: 5724.99</pre>"
      ],
      "text/plain": [
       "recommendations finished on 327000/372991 queries. users per second: 5724.99"
      ]
     },
     "metadata": {},
     "output_type": "display_data"
    },
    {
     "data": {
      "text/html": [
       "<pre>recommendations finished on 328000/372991 queries. users per second: 5726.04</pre>"
      ],
      "text/plain": [
       "recommendations finished on 328000/372991 queries. users per second: 5726.04"
      ]
     },
     "metadata": {},
     "output_type": "display_data"
    },
    {
     "data": {
      "text/html": [
       "<pre>recommendations finished on 329000/372991 queries. users per second: 5727.43</pre>"
      ],
      "text/plain": [
       "recommendations finished on 329000/372991 queries. users per second: 5727.43"
      ]
     },
     "metadata": {},
     "output_type": "display_data"
    },
    {
     "data": {
      "text/html": [
       "<pre>recommendations finished on 330000/372991 queries. users per second: 5728.19</pre>"
      ],
      "text/plain": [
       "recommendations finished on 330000/372991 queries. users per second: 5728.19"
      ]
     },
     "metadata": {},
     "output_type": "display_data"
    },
    {
     "data": {
      "text/html": [
       "<pre>recommendations finished on 331000/372991 queries. users per second: 5728.28</pre>"
      ],
      "text/plain": [
       "recommendations finished on 331000/372991 queries. users per second: 5728.28"
      ]
     },
     "metadata": {},
     "output_type": "display_data"
    },
    {
     "data": {
      "text/html": [
       "<pre>recommendations finished on 332000/372991 queries. users per second: 5729.27</pre>"
      ],
      "text/plain": [
       "recommendations finished on 332000/372991 queries. users per second: 5729.27"
      ]
     },
     "metadata": {},
     "output_type": "display_data"
    },
    {
     "data": {
      "text/html": [
       "<pre>recommendations finished on 333000/372991 queries. users per second: 5729.35</pre>"
      ],
      "text/plain": [
       "recommendations finished on 333000/372991 queries. users per second: 5729.35"
      ]
     },
     "metadata": {},
     "output_type": "display_data"
    },
    {
     "data": {
      "text/html": [
       "<pre>recommendations finished on 334000/372991 queries. users per second: 5730.6</pre>"
      ],
      "text/plain": [
       "recommendations finished on 334000/372991 queries. users per second: 5730.6"
      ]
     },
     "metadata": {},
     "output_type": "display_data"
    },
    {
     "data": {
      "text/html": [
       "<pre>recommendations finished on 335000/372991 queries. users per second: 5731.25</pre>"
      ],
      "text/plain": [
       "recommendations finished on 335000/372991 queries. users per second: 5731.25"
      ]
     },
     "metadata": {},
     "output_type": "display_data"
    },
    {
     "data": {
      "text/html": [
       "<pre>recommendations finished on 336000/372991 queries. users per second: 5730.89</pre>"
      ],
      "text/plain": [
       "recommendations finished on 336000/372991 queries. users per second: 5730.89"
      ]
     },
     "metadata": {},
     "output_type": "display_data"
    },
    {
     "data": {
      "text/html": [
       "<pre>recommendations finished on 337000/372991 queries. users per second: 5731.58</pre>"
      ],
      "text/plain": [
       "recommendations finished on 337000/372991 queries. users per second: 5731.58"
      ]
     },
     "metadata": {},
     "output_type": "display_data"
    },
    {
     "data": {
      "text/html": [
       "<pre>recommendations finished on 338000/372991 queries. users per second: 5731.19</pre>"
      ],
      "text/plain": [
       "recommendations finished on 338000/372991 queries. users per second: 5731.19"
      ]
     },
     "metadata": {},
     "output_type": "display_data"
    },
    {
     "data": {
      "text/html": [
       "<pre>recommendations finished on 339000/372991 queries. users per second: 5731.8</pre>"
      ],
      "text/plain": [
       "recommendations finished on 339000/372991 queries. users per second: 5731.8"
      ]
     },
     "metadata": {},
     "output_type": "display_data"
    },
    {
     "data": {
      "text/html": [
       "<pre>recommendations finished on 340000/372991 queries. users per second: 5731.78</pre>"
      ],
      "text/plain": [
       "recommendations finished on 340000/372991 queries. users per second: 5731.78"
      ]
     },
     "metadata": {},
     "output_type": "display_data"
    },
    {
     "data": {
      "text/html": [
       "<pre>recommendations finished on 341000/372991 queries. users per second: 5731.74</pre>"
      ],
      "text/plain": [
       "recommendations finished on 341000/372991 queries. users per second: 5731.74"
      ]
     },
     "metadata": {},
     "output_type": "display_data"
    },
    {
     "data": {
      "text/html": [
       "<pre>recommendations finished on 342000/372991 queries. users per second: 5732.01</pre>"
      ],
      "text/plain": [
       "recommendations finished on 342000/372991 queries. users per second: 5732.01"
      ]
     },
     "metadata": {},
     "output_type": "display_data"
    },
    {
     "data": {
      "text/html": [
       "<pre>recommendations finished on 343000/372991 queries. users per second: 5732.88</pre>"
      ],
      "text/plain": [
       "recommendations finished on 343000/372991 queries. users per second: 5732.88"
      ]
     },
     "metadata": {},
     "output_type": "display_data"
    },
    {
     "data": {
      "text/html": [
       "<pre>recommendations finished on 344000/372991 queries. users per second: 5733.91</pre>"
      ],
      "text/plain": [
       "recommendations finished on 344000/372991 queries. users per second: 5733.91"
      ]
     },
     "metadata": {},
     "output_type": "display_data"
    },
    {
     "data": {
      "text/html": [
       "<pre>recommendations finished on 345000/372991 queries. users per second: 5734.94</pre>"
      ],
      "text/plain": [
       "recommendations finished on 345000/372991 queries. users per second: 5734.94"
      ]
     },
     "metadata": {},
     "output_type": "display_data"
    },
    {
     "data": {
      "text/html": [
       "<pre>recommendations finished on 346000/372991 queries. users per second: 5733.51</pre>"
      ],
      "text/plain": [
       "recommendations finished on 346000/372991 queries. users per second: 5733.51"
      ]
     },
     "metadata": {},
     "output_type": "display_data"
    },
    {
     "data": {
      "text/html": [
       "<pre>recommendations finished on 347000/372991 queries. users per second: 5734.34</pre>"
      ],
      "text/plain": [
       "recommendations finished on 347000/372991 queries. users per second: 5734.34"
      ]
     },
     "metadata": {},
     "output_type": "display_data"
    },
    {
     "data": {
      "text/html": [
       "<pre>recommendations finished on 348000/372991 queries. users per second: 5735.29</pre>"
      ],
      "text/plain": [
       "recommendations finished on 348000/372991 queries. users per second: 5735.29"
      ]
     },
     "metadata": {},
     "output_type": "display_data"
    },
    {
     "data": {
      "text/html": [
       "<pre>recommendations finished on 349000/372991 queries. users per second: 5736.48</pre>"
      ],
      "text/plain": [
       "recommendations finished on 349000/372991 queries. users per second: 5736.48"
      ]
     },
     "metadata": {},
     "output_type": "display_data"
    },
    {
     "data": {
      "text/html": [
       "<pre>recommendations finished on 350000/372991 queries. users per second: 5736.65</pre>"
      ],
      "text/plain": [
       "recommendations finished on 350000/372991 queries. users per second: 5736.65"
      ]
     },
     "metadata": {},
     "output_type": "display_data"
    },
    {
     "data": {
      "text/html": [
       "<pre>recommendations finished on 351000/372991 queries. users per second: 5737.46</pre>"
      ],
      "text/plain": [
       "recommendations finished on 351000/372991 queries. users per second: 5737.46"
      ]
     },
     "metadata": {},
     "output_type": "display_data"
    },
    {
     "data": {
      "text/html": [
       "<pre>recommendations finished on 352000/372991 queries. users per second: 5738.06</pre>"
      ],
      "text/plain": [
       "recommendations finished on 352000/372991 queries. users per second: 5738.06"
      ]
     },
     "metadata": {},
     "output_type": "display_data"
    },
    {
     "data": {
      "text/html": [
       "<pre>recommendations finished on 353000/372991 queries. users per second: 5738.98</pre>"
      ],
      "text/plain": [
       "recommendations finished on 353000/372991 queries. users per second: 5738.98"
      ]
     },
     "metadata": {},
     "output_type": "display_data"
    },
    {
     "data": {
      "text/html": [
       "<pre>recommendations finished on 354000/372991 queries. users per second: 5739.78</pre>"
      ],
      "text/plain": [
       "recommendations finished on 354000/372991 queries. users per second: 5739.78"
      ]
     },
     "metadata": {},
     "output_type": "display_data"
    },
    {
     "data": {
      "text/html": [
       "<pre>recommendations finished on 355000/372991 queries. users per second: 5740.52</pre>"
      ],
      "text/plain": [
       "recommendations finished on 355000/372991 queries. users per second: 5740.52"
      ]
     },
     "metadata": {},
     "output_type": "display_data"
    },
    {
     "data": {
      "text/html": [
       "<pre>recommendations finished on 356000/372991 queries. users per second: 5740.66</pre>"
      ],
      "text/plain": [
       "recommendations finished on 356000/372991 queries. users per second: 5740.66"
      ]
     },
     "metadata": {},
     "output_type": "display_data"
    },
    {
     "data": {
      "text/html": [
       "<pre>recommendations finished on 357000/372991 queries. users per second: 5740.52</pre>"
      ],
      "text/plain": [
       "recommendations finished on 357000/372991 queries. users per second: 5740.52"
      ]
     },
     "metadata": {},
     "output_type": "display_data"
    },
    {
     "data": {
      "text/html": [
       "<pre>recommendations finished on 358000/372991 queries. users per second: 5739.98</pre>"
      ],
      "text/plain": [
       "recommendations finished on 358000/372991 queries. users per second: 5739.98"
      ]
     },
     "metadata": {},
     "output_type": "display_data"
    },
    {
     "data": {
      "text/html": [
       "<pre>recommendations finished on 359000/372991 queries. users per second: 5740.31</pre>"
      ],
      "text/plain": [
       "recommendations finished on 359000/372991 queries. users per second: 5740.31"
      ]
     },
     "metadata": {},
     "output_type": "display_data"
    },
    {
     "data": {
      "text/html": [
       "<pre>recommendations finished on 360000/372991 queries. users per second: 5741.43</pre>"
      ],
      "text/plain": [
       "recommendations finished on 360000/372991 queries. users per second: 5741.43"
      ]
     },
     "metadata": {},
     "output_type": "display_data"
    },
    {
     "data": {
      "text/html": [
       "<pre>recommendations finished on 361000/372991 queries. users per second: 5740.55</pre>"
      ],
      "text/plain": [
       "recommendations finished on 361000/372991 queries. users per second: 5740.55"
      ]
     },
     "metadata": {},
     "output_type": "display_data"
    },
    {
     "data": {
      "text/html": [
       "<pre>recommendations finished on 362000/372991 queries. users per second: 5739.58</pre>"
      ],
      "text/plain": [
       "recommendations finished on 362000/372991 queries. users per second: 5739.58"
      ]
     },
     "metadata": {},
     "output_type": "display_data"
    },
    {
     "data": {
      "text/html": [
       "<pre>recommendations finished on 363000/372991 queries. users per second: 5738.79</pre>"
      ],
      "text/plain": [
       "recommendations finished on 363000/372991 queries. users per second: 5738.79"
      ]
     },
     "metadata": {},
     "output_type": "display_data"
    },
    {
     "data": {
      "text/html": [
       "<pre>recommendations finished on 364000/372991 queries. users per second: 5736.98</pre>"
      ],
      "text/plain": [
       "recommendations finished on 364000/372991 queries. users per second: 5736.98"
      ]
     },
     "metadata": {},
     "output_type": "display_data"
    },
    {
     "data": {
      "text/html": [
       "<pre>recommendations finished on 365000/372991 queries. users per second: 5733.82</pre>"
      ],
      "text/plain": [
       "recommendations finished on 365000/372991 queries. users per second: 5733.82"
      ]
     },
     "metadata": {},
     "output_type": "display_data"
    },
    {
     "data": {
      "text/html": [
       "<pre>recommendations finished on 366000/372991 queries. users per second: 5727.75</pre>"
      ],
      "text/plain": [
       "recommendations finished on 366000/372991 queries. users per second: 5727.75"
      ]
     },
     "metadata": {},
     "output_type": "display_data"
    },
    {
     "data": {
      "text/html": [
       "<pre>recommendations finished on 367000/372991 queries. users per second: 5721.44</pre>"
      ],
      "text/plain": [
       "recommendations finished on 367000/372991 queries. users per second: 5721.44"
      ]
     },
     "metadata": {},
     "output_type": "display_data"
    },
    {
     "data": {
      "text/html": [
       "<pre>recommendations finished on 368000/372991 queries. users per second: 5711.2</pre>"
      ],
      "text/plain": [
       "recommendations finished on 368000/372991 queries. users per second: 5711.2"
      ]
     },
     "metadata": {},
     "output_type": "display_data"
    },
    {
     "data": {
      "text/html": [
       "<pre>recommendations finished on 369000/372991 queries. users per second: 5699.24</pre>"
      ],
      "text/plain": [
       "recommendations finished on 369000/372991 queries. users per second: 5699.24"
      ]
     },
     "metadata": {},
     "output_type": "display_data"
    },
    {
     "data": {
      "text/html": [
       "<pre>recommendations finished on 370000/372991 queries. users per second: 5687.98</pre>"
      ],
      "text/plain": [
       "recommendations finished on 370000/372991 queries. users per second: 5687.98"
      ]
     },
     "metadata": {},
     "output_type": "display_data"
    },
    {
     "data": {
      "text/html": [
       "<pre>recommendations finished on 371000/372991 queries. users per second: 5670.92</pre>"
      ],
      "text/plain": [
       "recommendations finished on 371000/372991 queries. users per second: 5670.92"
      ]
     },
     "metadata": {},
     "output_type": "display_data"
    },
    {
     "data": {
      "text/html": [
       "<pre>recommendations finished on 372000/372991 queries. users per second: 5625.14</pre>"
      ],
      "text/plain": [
       "recommendations finished on 372000/372991 queries. users per second: 5625.14"
      ]
     },
     "metadata": {},
     "output_type": "display_data"
    }
   ],
   "source": [
    "popularity_recomm = popularity_model.recommend(users=users_to_recommend, k=n_rec)"
   ]
  },
  {
   "cell_type": "code",
   "execution_count": 30,
   "metadata": {},
   "outputs": [
    {
     "name": "stdout",
     "output_type": "stream",
     "text": [
      "+--------+--------+-------------------+------+\n",
      "| userId | itemId |       score       | rank |\n",
      "+--------+--------+-------------------+------+\n",
      "|   2    | 246644 |        14.0       |  1   |\n",
      "|   2    | 477342 |        12.0       |  2   |\n",
      "|   2    | 87111  |        12.0       |  3   |\n",
      "|   2    | 352198 |        12.0       |  4   |\n",
      "|   2    | 171183 |        9.0        |  5   |\n",
      "|   2    | 414749 |        8.0        |  6   |\n",
      "|   2    | 50863  | 6.833333333333333 |  7   |\n",
      "|   2    | 257054 |        6.5        |  8   |\n",
      "|   2    | 47504  |        6.0        |  9   |\n",
      "|   2    | 14970  |        6.0        |  10  |\n",
      "|   2    | 246644 |        14.0       |  1   |\n",
      "|   2    | 477342 |        12.0       |  2   |\n",
      "|   2    | 87111  |        12.0       |  3   |\n",
      "|   2    | 352198 |        12.0       |  4   |\n",
      "|   2    | 171183 |        9.0        |  5   |\n",
      "|   2    | 414749 |        8.0        |  6   |\n",
      "|   2    | 50863  | 6.833333333333333 |  7   |\n",
      "|   2    | 257054 |        6.5        |  8   |\n",
      "|   2    | 47504  |        6.0        |  9   |\n",
      "|   2    | 14970  |        6.0        |  10  |\n",
      "|   2    | 246644 |        14.0       |  1   |\n",
      "|   2    | 477342 |        12.0       |  2   |\n",
      "|   2    | 87111  |        12.0       |  3   |\n",
      "|   2    | 352198 |        12.0       |  4   |\n",
      "|   2    | 171183 |        9.0        |  5   |\n",
      "|   2    | 414749 |        8.0        |  6   |\n",
      "|   2    | 50863  | 6.833333333333333 |  7   |\n",
      "|   2    | 257054 |        6.5        |  8   |\n",
      "|   2    | 47504  |        6.0        |  9   |\n",
      "|   2    | 14970  |        6.0        |  10  |\n",
      "+--------+--------+-------------------+------+\n",
      "[3729910 rows x 4 columns]\n",
      "\n"
     ]
    }
   ],
   "source": [
    "popularity_recomm.print_rows(n_display)"
   ]
  },
  {
   "cell_type": "code",
   "execution_count": 31,
   "metadata": {},
   "outputs": [],
   "source": [
    "def model(train_data,user_id, item_id, target, users_to_recommend, n_rec, n_display):\n",
    "    model = tc.item_similarity_recommender.create(train_data, \n",
    "                                                    user_id=user_id, \n",
    "                                                    item_id=item_id, \n",
    "                                                    target=target, \n",
    "                                                    similarity_type='cosine')\n",
    "        \n",
    "    recom = model.recommend(users=users_to_recommend, k=n_rec)\n",
    "    recom.print_rows(n_display)\n",
    "    return model"
   ]
  },
  {
   "cell_type": "code",
   "execution_count": 32,
   "metadata": {},
   "outputs": [
    {
     "data": {
      "text/html": [
       "<pre>Preparing data set.</pre>"
      ],
      "text/plain": [
       "Preparing data set."
      ]
     },
     "metadata": {},
     "output_type": "display_data"
    },
    {
     "data": {
      "text/html": [
       "<pre>    Data has 30410438 observations with 232643 users and 124602 items.</pre>"
      ],
      "text/plain": [
       "    Data has 30410438 observations with 232643 users and 124602 items."
      ]
     },
     "metadata": {},
     "output_type": "display_data"
    },
    {
     "data": {
      "text/html": [
       "<pre>    Data prepared in: 10.9678s</pre>"
      ],
      "text/plain": [
       "    Data prepared in: 10.9678s"
      ]
     },
     "metadata": {},
     "output_type": "display_data"
    },
    {
     "data": {
      "text/html": [
       "<pre>Training model from provided data.</pre>"
      ],
      "text/plain": [
       "Training model from provided data."
      ]
     },
     "metadata": {},
     "output_type": "display_data"
    },
    {
     "data": {
      "text/html": [
       "<pre>Gathering per-item and per-user statistics.</pre>"
      ],
      "text/plain": [
       "Gathering per-item and per-user statistics."
      ]
     },
     "metadata": {},
     "output_type": "display_data"
    },
    {
     "data": {
      "text/html": [
       "<pre>+--------------------------------+------------+</pre>"
      ],
      "text/plain": [
       "+--------------------------------+------------+"
      ]
     },
     "metadata": {},
     "output_type": "display_data"
    },
    {
     "data": {
      "text/html": [
       "<pre>| Elapsed Time (Item Statistics) | % Complete |</pre>"
      ],
      "text/plain": [
       "| Elapsed Time (Item Statistics) | % Complete |"
      ]
     },
     "metadata": {},
     "output_type": "display_data"
    },
    {
     "data": {
      "text/html": [
       "<pre>+--------------------------------+------------+</pre>"
      ],
      "text/plain": [
       "+--------------------------------+------------+"
      ]
     },
     "metadata": {},
     "output_type": "display_data"
    },
    {
     "data": {
      "text/html": [
       "<pre>| 11.343ms                       | 0.25       |</pre>"
      ],
      "text/plain": [
       "| 11.343ms                       | 0.25       |"
      ]
     },
     "metadata": {},
     "output_type": "display_data"
    },
    {
     "data": {
      "text/html": [
       "<pre>| 453.103ms                      | 100        |</pre>"
      ],
      "text/plain": [
       "| 453.103ms                      | 100        |"
      ]
     },
     "metadata": {},
     "output_type": "display_data"
    },
    {
     "data": {
      "text/html": [
       "<pre>+--------------------------------+------------+</pre>"
      ],
      "text/plain": [
       "+--------------------------------+------------+"
      ]
     },
     "metadata": {},
     "output_type": "display_data"
    },
    {
     "data": {
      "text/html": [
       "<pre>Setting up lookup tables.</pre>"
      ],
      "text/plain": [
       "Setting up lookup tables."
      ]
     },
     "metadata": {},
     "output_type": "display_data"
    },
    {
     "data": {
      "text/html": [
       "<pre>Processing the 100 most common items by brute force search.</pre>"
      ],
      "text/plain": [
       "Processing the 100 most common items by brute force search."
      ]
     },
     "metadata": {},
     "output_type": "display_data"
    },
    {
     "data": {
      "text/html": [
       "<pre>Transposing user-item lists for use in nearest neighbor search.</pre>"
      ],
      "text/plain": [
       "Transposing user-item lists for use in nearest neighbor search."
      ]
     },
     "metadata": {},
     "output_type": "display_data"
    },
    {
     "data": {
      "text/html": [
       "<pre>+------------------------------------+------------+</pre>"
      ],
      "text/plain": [
       "+------------------------------------+------------+"
      ]
     },
     "metadata": {},
     "output_type": "display_data"
    },
    {
     "data": {
      "text/html": [
       "<pre>| Elapsed Time (Data Transposition)) | % Complete |</pre>"
      ],
      "text/plain": [
       "| Elapsed Time (Data Transposition)) | % Complete |"
      ]
     },
     "metadata": {},
     "output_type": "display_data"
    },
    {
     "data": {
      "text/html": [
       "<pre>+------------------------------------+------------+</pre>"
      ],
      "text/plain": [
       "+------------------------------------+------------+"
      ]
     },
     "metadata": {},
     "output_type": "display_data"
    },
    {
     "data": {
      "text/html": [
       "<pre>| 148.106ms                          | 0          |</pre>"
      ],
      "text/plain": [
       "| 148.106ms                          | 0          |"
      ]
     },
     "metadata": {},
     "output_type": "display_data"
    },
    {
     "data": {
      "text/html": [
       "<pre>| 3.43s                              | 100        |</pre>"
      ],
      "text/plain": [
       "| 3.43s                              | 100        |"
      ]
     },
     "metadata": {},
     "output_type": "display_data"
    },
    {
     "data": {
      "text/html": [
       "<pre>+------------------------------------+------------+</pre>"
      ],
      "text/plain": [
       "+------------------------------------+------------+"
      ]
     },
     "metadata": {},
     "output_type": "display_data"
    },
    {
     "data": {
      "text/html": [
       "<pre>+-------------------------------------+------------------+-----------------+</pre>"
      ],
      "text/plain": [
       "+-------------------------------------+------------------+-----------------+"
      ]
     },
     "metadata": {},
     "output_type": "display_data"
    },
    {
     "data": {
      "text/html": [
       "<pre>| Elapsed Time (Constructing Lookups) | Total % Complete | Items Processed |</pre>"
      ],
      "text/plain": [
       "| Elapsed Time (Constructing Lookups) | Total % Complete | Items Processed |"
      ]
     },
     "metadata": {},
     "output_type": "display_data"
    },
    {
     "data": {
      "text/html": [
       "<pre>+-------------------------------------+------------------+-----------------+</pre>"
      ],
      "text/plain": [
       "+-------------------------------------+------------------+-----------------+"
      ]
     },
     "metadata": {},
     "output_type": "display_data"
    },
    {
     "data": {
      "text/html": [
       "<pre>| 4.11s                               | 0                | 0               |</pre>"
      ],
      "text/plain": [
       "| 4.11s                               | 0                | 0               |"
      ]
     },
     "metadata": {},
     "output_type": "display_data"
    },
    {
     "data": {
      "text/html": [
       "<pre>| 7.12s                               | 0                | 90              |</pre>"
      ],
      "text/plain": [
       "| 7.12s                               | 0                | 90              |"
      ]
     },
     "metadata": {},
     "output_type": "display_data"
    },
    {
     "data": {
      "text/html": [
       "<pre>| 10.14s                              | 0                | 96              |</pre>"
      ],
      "text/plain": [
       "| 10.14s                              | 0                | 96              |"
      ]
     },
     "metadata": {},
     "output_type": "display_data"
    },
    {
     "data": {
      "text/html": [
       "<pre>+-------------------------------------+------------------+-----------------+</pre>"
      ],
      "text/plain": [
       "+-------------------------------------+------------------+-----------------+"
      ]
     },
     "metadata": {},
     "output_type": "display_data"
    },
    {
     "data": {
      "text/html": [
       "<pre>Processing data in 8 passes using dense lookup tables.</pre>"
      ],
      "text/plain": [
       "Processing data in 8 passes using dense lookup tables."
      ]
     },
     "metadata": {},
     "output_type": "display_data"
    },
    {
     "data": {
      "text/html": [
       "<pre>+-------------------------------------+------------------+-----------------+</pre>"
      ],
      "text/plain": [
       "+-------------------------------------+------------------+-----------------+"
      ]
     },
     "metadata": {},
     "output_type": "display_data"
    },
    {
     "data": {
      "text/html": [
       "<pre>| Elapsed Time (Constructing Lookups) | Total % Complete | Items Processed |</pre>"
      ],
      "text/plain": [
       "| Elapsed Time (Constructing Lookups) | Total % Complete | Items Processed |"
      ]
     },
     "metadata": {},
     "output_type": "display_data"
    },
    {
     "data": {
      "text/html": [
       "<pre>+-------------------------------------+------------------+-----------------+</pre>"
      ],
      "text/plain": [
       "+-------------------------------------+------------------+-----------------+"
      ]
     },
     "metadata": {},
     "output_type": "display_data"
    },
    {
     "data": {
      "text/html": [
       "<pre>| 13.88s                              | 0                | 100             |</pre>"
      ],
      "text/plain": [
       "| 13.88s                              | 0                | 100             |"
      ]
     },
     "metadata": {},
     "output_type": "display_data"
    },
    {
     "data": {
      "text/html": [
       "<pre>| 16.17s                              | 0                | 294             |</pre>"
      ],
      "text/plain": [
       "| 16.17s                              | 0                | 294             |"
      ]
     },
     "metadata": {},
     "output_type": "display_data"
    },
    {
     "data": {
      "text/html": [
       "<pre>| 19.19s                              | 0.5              | 627             |</pre>"
      ],
      "text/plain": [
       "| 19.19s                              | 0.5              | 627             |"
      ]
     },
     "metadata": {},
     "output_type": "display_data"
    },
    {
     "data": {
      "text/html": [
       "<pre>| 22.20s                              | 0.75             | 955             |</pre>"
      ],
      "text/plain": [
       "| 22.20s                              | 0.75             | 955             |"
      ]
     },
     "metadata": {},
     "output_type": "display_data"
    },
    {
     "data": {
      "text/html": [
       "<pre>| 25.21s                              | 1                | 1249            |</pre>"
      ],
      "text/plain": [
       "| 25.21s                              | 1                | 1249            |"
      ]
     },
     "metadata": {},
     "output_type": "display_data"
    },
    {
     "data": {
      "text/html": [
       "<pre>| 28.24s                              | 1                | 1528            |</pre>"
      ],
      "text/plain": [
       "| 28.24s                              | 1                | 1528            |"
      ]
     },
     "metadata": {},
     "output_type": "display_data"
    },
    {
     "data": {
      "text/html": [
       "<pre>| 31.24s                              | 1.25             | 1833            |</pre>"
      ],
      "text/plain": [
       "| 31.24s                              | 1.25             | 1833            |"
      ]
     },
     "metadata": {},
     "output_type": "display_data"
    },
    {
     "data": {
      "text/html": [
       "<pre>| 34.26s                              | 1.5              | 2136            |</pre>"
      ],
      "text/plain": [
       "| 34.26s                              | 1.5              | 2136            |"
      ]
     },
     "metadata": {},
     "output_type": "display_data"
    },
    {
     "data": {
      "text/html": [
       "<pre>| 37.28s                              | 1.75             | 2385            |</pre>"
      ],
      "text/plain": [
       "| 37.28s                              | 1.75             | 2385            |"
      ]
     },
     "metadata": {},
     "output_type": "display_data"
    },
    {
     "data": {
      "text/html": [
       "<pre>| 40.29s                              | 2                | 2562            |</pre>"
      ],
      "text/plain": [
       "| 40.29s                              | 2                | 2562            |"
      ]
     },
     "metadata": {},
     "output_type": "display_data"
    },
    {
     "data": {
      "text/html": [
       "<pre>| 43.30s                              | 2.25             | 2832            |</pre>"
      ],
      "text/plain": [
       "| 43.30s                              | 2.25             | 2832            |"
      ]
     },
     "metadata": {},
     "output_type": "display_data"
    },
    {
     "data": {
      "text/html": [
       "<pre>| 46.33s                              | 2.25             | 3061            |</pre>"
      ],
      "text/plain": [
       "| 46.33s                              | 2.25             | 3061            |"
      ]
     },
     "metadata": {},
     "output_type": "display_data"
    },
    {
     "data": {
      "text/html": [
       "<pre>| 49.34s                              | 2.5              | 3275            |</pre>"
      ],
      "text/plain": [
       "| 49.34s                              | 2.5              | 3275            |"
      ]
     },
     "metadata": {},
     "output_type": "display_data"
    },
    {
     "data": {
      "text/html": [
       "<pre>| 52.36s                              | 2.75             | 3541            |</pre>"
      ],
      "text/plain": [
       "| 52.36s                              | 2.75             | 3541            |"
      ]
     },
     "metadata": {},
     "output_type": "display_data"
    },
    {
     "data": {
      "text/html": [
       "<pre>| 55.37s                              | 3                | 3831            |</pre>"
      ],
      "text/plain": [
       "| 55.37s                              | 3                | 3831            |"
      ]
     },
     "metadata": {},
     "output_type": "display_data"
    },
    {
     "data": {
      "text/html": [
       "<pre>| 58.38s                              | 3.25             | 4065            |</pre>"
      ],
      "text/plain": [
       "| 58.38s                              | 3.25             | 4065            |"
      ]
     },
     "metadata": {},
     "output_type": "display_data"
    },
    {
     "data": {
      "text/html": [
       "<pre>| 1m 1s                               | 3.25             | 4310            |</pre>"
      ],
      "text/plain": [
       "| 1m 1s                               | 3.25             | 4310            |"
      ]
     },
     "metadata": {},
     "output_type": "display_data"
    },
    {
     "data": {
      "text/html": [
       "<pre>| 1m 4s                               | 3.5              | 4533            |</pre>"
      ],
      "text/plain": [
       "| 1m 4s                               | 3.5              | 4533            |"
      ]
     },
     "metadata": {},
     "output_type": "display_data"
    },
    {
     "data": {
      "text/html": [
       "<pre>| 1m 7s                               | 3.75             | 4741            |</pre>"
      ],
      "text/plain": [
       "| 1m 7s                               | 3.75             | 4741            |"
      ]
     },
     "metadata": {},
     "output_type": "display_data"
    },
    {
     "data": {
      "text/html": [
       "<pre>| 1m 10s                              | 3.75             | 4906            |</pre>"
      ],
      "text/plain": [
       "| 1m 10s                              | 3.75             | 4906            |"
      ]
     },
     "metadata": {},
     "output_type": "display_data"
    },
    {
     "data": {
      "text/html": [
       "<pre>| 1m 13s                              | 4                | 5089            |</pre>"
      ],
      "text/plain": [
       "| 1m 13s                              | 4                | 5089            |"
      ]
     },
     "metadata": {},
     "output_type": "display_data"
    },
    {
     "data": {
      "text/html": [
       "<pre>| 1m 16s                              | 4                | 5267            |</pre>"
      ],
      "text/plain": [
       "| 1m 16s                              | 4                | 5267            |"
      ]
     },
     "metadata": {},
     "output_type": "display_data"
    },
    {
     "data": {
      "text/html": [
       "<pre>| 1m 19s                              | 4.25             | 5486            |</pre>"
      ],
      "text/plain": [
       "| 1m 19s                              | 4.25             | 5486            |"
      ]
     },
     "metadata": {},
     "output_type": "display_data"
    },
    {
     "data": {
      "text/html": [
       "<pre>| 1m 22s                              | 4.5              | 5658            |</pre>"
      ],
      "text/plain": [
       "| 1m 22s                              | 4.5              | 5658            |"
      ]
     },
     "metadata": {},
     "output_type": "display_data"
    },
    {
     "data": {
      "text/html": [
       "<pre>| 1m 25s                              | 4.5              | 5874            |</pre>"
      ],
      "text/plain": [
       "| 1m 25s                              | 4.5              | 5874            |"
      ]
     },
     "metadata": {},
     "output_type": "display_data"
    },
    {
     "data": {
      "text/html": [
       "<pre>| 1m 28s                              | 4.75             | 6089            |</pre>"
      ],
      "text/plain": [
       "| 1m 28s                              | 4.75             | 6089            |"
      ]
     },
     "metadata": {},
     "output_type": "display_data"
    },
    {
     "data": {
      "text/html": [
       "<pre>| 1m 31s                              | 5                | 6312            |</pre>"
      ],
      "text/plain": [
       "| 1m 31s                              | 5                | 6312            |"
      ]
     },
     "metadata": {},
     "output_type": "display_data"
    },
    {
     "data": {
      "text/html": [
       "<pre>| 1m 34s                              | 5.25             | 6547            |</pre>"
      ],
      "text/plain": [
       "| 1m 34s                              | 5.25             | 6547            |"
      ]
     },
     "metadata": {},
     "output_type": "display_data"
    },
    {
     "data": {
      "text/html": [
       "<pre>| 1m 37s                              | 5.25             | 6761            |</pre>"
      ],
      "text/plain": [
       "| 1m 37s                              | 5.25             | 6761            |"
      ]
     },
     "metadata": {},
     "output_type": "display_data"
    },
    {
     "data": {
      "text/html": [
       "<pre>| 1m 40s                              | 5.5              | 6972            |</pre>"
      ],
      "text/plain": [
       "| 1m 40s                              | 5.5              | 6972            |"
      ]
     },
     "metadata": {},
     "output_type": "display_data"
    },
    {
     "data": {
      "text/html": [
       "<pre>| 1m 43s                              | 5.75             | 7199            |</pre>"
      ],
      "text/plain": [
       "| 1m 43s                              | 5.75             | 7199            |"
      ]
     },
     "metadata": {},
     "output_type": "display_data"
    },
    {
     "data": {
      "text/html": [
       "<pre>| 1m 46s                              | 5.75             | 7428            |</pre>"
      ],
      "text/plain": [
       "| 1m 46s                              | 5.75             | 7428            |"
      ]
     },
     "metadata": {},
     "output_type": "display_data"
    },
    {
     "data": {
      "text/html": [
       "<pre>| 1m 49s                              | 6                | 7641            |</pre>"
      ],
      "text/plain": [
       "| 1m 49s                              | 6                | 7641            |"
      ]
     },
     "metadata": {},
     "output_type": "display_data"
    },
    {
     "data": {
      "text/html": [
       "<pre>| 1m 52s                              | 6.25             | 7872            |</pre>"
      ],
      "text/plain": [
       "| 1m 52s                              | 6.25             | 7872            |"
      ]
     },
     "metadata": {},
     "output_type": "display_data"
    },
    {
     "data": {
      "text/html": [
       "<pre>| 1m 55s                              | 6.25             | 8091            |</pre>"
      ],
      "text/plain": [
       "| 1m 55s                              | 6.25             | 8091            |"
      ]
     },
     "metadata": {},
     "output_type": "display_data"
    },
    {
     "data": {
      "text/html": [
       "<pre>| 1m 58s                              | 6.5              | 8269            |</pre>"
      ],
      "text/plain": [
       "| 1m 58s                              | 6.5              | 8269            |"
      ]
     },
     "metadata": {},
     "output_type": "display_data"
    },
    {
     "data": {
      "text/html": [
       "<pre>| 2m 1s                               | 6.75             | 8449            |</pre>"
      ],
      "text/plain": [
       "| 2m 1s                               | 6.75             | 8449            |"
      ]
     },
     "metadata": {},
     "output_type": "display_data"
    },
    {
     "data": {
      "text/html": [
       "<pre>| 2m 4s                               | 6.75             | 8614            |</pre>"
      ],
      "text/plain": [
       "| 2m 4s                               | 6.75             | 8614            |"
      ]
     },
     "metadata": {},
     "output_type": "display_data"
    },
    {
     "data": {
      "text/html": [
       "<pre>| 2m 7s                               | 7                | 8776            |</pre>"
      ],
      "text/plain": [
       "| 2m 7s                               | 7                | 8776            |"
      ]
     },
     "metadata": {},
     "output_type": "display_data"
    },
    {
     "data": {
      "text/html": [
       "<pre>| 2m 10s                              | 7                | 8998            |</pre>"
      ],
      "text/plain": [
       "| 2m 10s                              | 7                | 8998            |"
      ]
     },
     "metadata": {},
     "output_type": "display_data"
    },
    {
     "data": {
      "text/html": [
       "<pre>| 2m 13s                              | 7.25             | 9239            |</pre>"
      ],
      "text/plain": [
       "| 2m 13s                              | 7.25             | 9239            |"
      ]
     },
     "metadata": {},
     "output_type": "display_data"
    },
    {
     "data": {
      "text/html": [
       "<pre>| 2m 16s                              | 7.5              | 9484            |</pre>"
      ],
      "text/plain": [
       "| 2m 16s                              | 7.5              | 9484            |"
      ]
     },
     "metadata": {},
     "output_type": "display_data"
    },
    {
     "data": {
      "text/html": [
       "<pre>| 2m 19s                              | 7.75             | 9738            |</pre>"
      ],
      "text/plain": [
       "| 2m 19s                              | 7.75             | 9738            |"
      ]
     },
     "metadata": {},
     "output_type": "display_data"
    },
    {
     "data": {
      "text/html": [
       "<pre>| 2m 22s                              | 8                | 9970            |</pre>"
      ],
      "text/plain": [
       "| 2m 22s                              | 8                | 9970            |"
      ]
     },
     "metadata": {},
     "output_type": "display_data"
    },
    {
     "data": {
      "text/html": [
       "<pre>| 2m 25s                              | 8                | 10155           |</pre>"
      ],
      "text/plain": [
       "| 2m 25s                              | 8                | 10155           |"
      ]
     },
     "metadata": {},
     "output_type": "display_data"
    },
    {
     "data": {
      "text/html": [
       "<pre>| 2m 28s                              | 8.25             | 10346           |</pre>"
      ],
      "text/plain": [
       "| 2m 28s                              | 8.25             | 10346           |"
      ]
     },
     "metadata": {},
     "output_type": "display_data"
    },
    {
     "data": {
      "text/html": [
       "<pre>| 2m 31s                              | 8.25             | 10550           |</pre>"
      ],
      "text/plain": [
       "| 2m 31s                              | 8.25             | 10550           |"
      ]
     },
     "metadata": {},
     "output_type": "display_data"
    },
    {
     "data": {
      "text/html": [
       "<pre>| 2m 34s                              | 8.5              | 10753           |</pre>"
      ],
      "text/plain": [
       "| 2m 34s                              | 8.5              | 10753           |"
      ]
     },
     "metadata": {},
     "output_type": "display_data"
    },
    {
     "data": {
      "text/html": [
       "<pre>| 2m 37s                              | 8.75             | 10946           |</pre>"
      ],
      "text/plain": [
       "| 2m 37s                              | 8.75             | 10946           |"
      ]
     },
     "metadata": {},
     "output_type": "display_data"
    },
    {
     "data": {
      "text/html": [
       "<pre>| 2m 40s                              | 8.75             | 11103           |</pre>"
      ],
      "text/plain": [
       "| 2m 40s                              | 8.75             | 11103           |"
      ]
     },
     "metadata": {},
     "output_type": "display_data"
    },
    {
     "data": {
      "text/html": [
       "<pre>| 2m 43s                              | 9                | 11241           |</pre>"
      ],
      "text/plain": [
       "| 2m 43s                              | 9                | 11241           |"
      ]
     },
     "metadata": {},
     "output_type": "display_data"
    },
    {
     "data": {
      "text/html": [
       "<pre>| 2m 46s                              | 9                | 11405           |</pre>"
      ],
      "text/plain": [
       "| 2m 46s                              | 9                | 11405           |"
      ]
     },
     "metadata": {},
     "output_type": "display_data"
    },
    {
     "data": {
      "text/html": [
       "<pre>| 2m 49s                              | 9.25             | 11596           |</pre>"
      ],
      "text/plain": [
       "| 2m 49s                              | 9.25             | 11596           |"
      ]
     },
     "metadata": {},
     "output_type": "display_data"
    },
    {
     "data": {
      "text/html": [
       "<pre>| 2m 52s                              | 9.25             | 11775           |</pre>"
      ],
      "text/plain": [
       "| 2m 52s                              | 9.25             | 11775           |"
      ]
     },
     "metadata": {},
     "output_type": "display_data"
    },
    {
     "data": {
      "text/html": [
       "<pre>| 2m 55s                              | 9.5              | 11964           |</pre>"
      ],
      "text/plain": [
       "| 2m 55s                              | 9.5              | 11964           |"
      ]
     },
     "metadata": {},
     "output_type": "display_data"
    },
    {
     "data": {
      "text/html": [
       "<pre>| 2m 58s                              | 9.5              | 12126           |</pre>"
      ],
      "text/plain": [
       "| 2m 58s                              | 9.5              | 12126           |"
      ]
     },
     "metadata": {},
     "output_type": "display_data"
    },
    {
     "data": {
      "text/html": [
       "<pre>| 3m 2s                               | 9.75             | 12328           |</pre>"
      ],
      "text/plain": [
       "| 3m 2s                               | 9.75             | 12328           |"
      ]
     },
     "metadata": {},
     "output_type": "display_data"
    },
    {
     "data": {
      "text/html": [
       "<pre>| 3m 5s                               | 10               | 12568           |</pre>"
      ],
      "text/plain": [
       "| 3m 5s                               | 10               | 12568           |"
      ]
     },
     "metadata": {},
     "output_type": "display_data"
    },
    {
     "data": {
      "text/html": [
       "<pre>| 3m 8s                               | 10.25            | 12803           |</pre>"
      ],
      "text/plain": [
       "| 3m 8s                               | 10.25            | 12803           |"
      ]
     },
     "metadata": {},
     "output_type": "display_data"
    },
    {
     "data": {
      "text/html": [
       "<pre>| 3m 11s                              | 10.25            | 13054           |</pre>"
      ],
      "text/plain": [
       "| 3m 11s                              | 10.25            | 13054           |"
      ]
     },
     "metadata": {},
     "output_type": "display_data"
    },
    {
     "data": {
      "text/html": [
       "<pre>| 3m 14s                              | 10.5             | 13321           |</pre>"
      ],
      "text/plain": [
       "| 3m 14s                              | 10.5             | 13321           |"
      ]
     },
     "metadata": {},
     "output_type": "display_data"
    },
    {
     "data": {
      "text/html": [
       "<pre>| 3m 17s                              | 10.75            | 13575           |</pre>"
      ],
      "text/plain": [
       "| 3m 17s                              | 10.75            | 13575           |"
      ]
     },
     "metadata": {},
     "output_type": "display_data"
    },
    {
     "data": {
      "text/html": [
       "<pre>| 3m 20s                              | 11               | 13831           |</pre>"
      ],
      "text/plain": [
       "| 3m 20s                              | 11               | 13831           |"
      ]
     },
     "metadata": {},
     "output_type": "display_data"
    },
    {
     "data": {
      "text/html": [
       "<pre>| 3m 23s                              | 11.25            | 14083           |</pre>"
      ],
      "text/plain": [
       "| 3m 23s                              | 11.25            | 14083           |"
      ]
     },
     "metadata": {},
     "output_type": "display_data"
    },
    {
     "data": {
      "text/html": [
       "<pre>| 3m 26s                              | 11.5             | 14335           |</pre>"
      ],
      "text/plain": [
       "| 3m 26s                              | 11.5             | 14335           |"
      ]
     },
     "metadata": {},
     "output_type": "display_data"
    },
    {
     "data": {
      "text/html": [
       "<pre>| 3m 29s                              | 11.5             | 14591           |</pre>"
      ],
      "text/plain": [
       "| 3m 29s                              | 11.5             | 14591           |"
      ]
     },
     "metadata": {},
     "output_type": "display_data"
    },
    {
     "data": {
      "text/html": [
       "<pre>| 3m 32s                              | 11.75            | 14853           |</pre>"
      ],
      "text/plain": [
       "| 3m 32s                              | 11.75            | 14853           |"
      ]
     },
     "metadata": {},
     "output_type": "display_data"
    },
    {
     "data": {
      "text/html": [
       "<pre>| 3m 35s                              | 12               | 15119           |</pre>"
      ],
      "text/plain": [
       "| 3m 35s                              | 12               | 15119           |"
      ]
     },
     "metadata": {},
     "output_type": "display_data"
    },
    {
     "data": {
      "text/html": [
       "<pre>| 3m 38s                              | 12.25            | 15375           |</pre>"
      ],
      "text/plain": [
       "| 3m 38s                              | 12.25            | 15375           |"
      ]
     },
     "metadata": {},
     "output_type": "display_data"
    },
    {
     "data": {
      "text/html": [
       "<pre>| 3m 41s                              | 12.5             | 15635           |</pre>"
      ],
      "text/plain": [
       "| 3m 41s                              | 12.5             | 15635           |"
      ]
     },
     "metadata": {},
     "output_type": "display_data"
    },
    {
     "data": {
      "text/html": [
       "<pre>| 3m 55s                              | 12.5             | 15649           |</pre>"
      ],
      "text/plain": [
       "| 3m 55s                              | 12.5             | 15649           |"
      ]
     },
     "metadata": {},
     "output_type": "display_data"
    },
    {
     "data": {
      "text/html": [
       "<pre>| 3m 58s                              | 12.75            | 16194           |</pre>"
      ],
      "text/plain": [
       "| 3m 58s                              | 12.75            | 16194           |"
      ]
     },
     "metadata": {},
     "output_type": "display_data"
    },
    {
     "data": {
      "text/html": [
       "<pre>| 4m 1s                               | 13.25            | 16758           |</pre>"
      ],
      "text/plain": [
       "| 4m 1s                               | 13.25            | 16758           |"
      ]
     },
     "metadata": {},
     "output_type": "display_data"
    },
    {
     "data": {
      "text/html": [
       "<pre>| 4m 4s                               | 13.75            | 17221           |</pre>"
      ],
      "text/plain": [
       "| 4m 4s                               | 13.75            | 17221           |"
      ]
     },
     "metadata": {},
     "output_type": "display_data"
    },
    {
     "data": {
      "text/html": [
       "<pre>| 4m 7s                               | 14               | 17703           |</pre>"
      ],
      "text/plain": [
       "| 4m 7s                               | 14               | 17703           |"
      ]
     },
     "metadata": {},
     "output_type": "display_data"
    },
    {
     "data": {
      "text/html": [
       "<pre>| 4m 10s                              | 14.5             | 18115           |</pre>"
      ],
      "text/plain": [
       "| 4m 10s                              | 14.5             | 18115           |"
      ]
     },
     "metadata": {},
     "output_type": "display_data"
    },
    {
     "data": {
      "text/html": [
       "<pre>| 4m 13s                              | 14.75            | 18478           |</pre>"
      ],
      "text/plain": [
       "| 4m 13s                              | 14.75            | 18478           |"
      ]
     },
     "metadata": {},
     "output_type": "display_data"
    },
    {
     "data": {
      "text/html": [
       "<pre>| 4m 16s                              | 15               | 18833           |</pre>"
      ],
      "text/plain": [
       "| 4m 16s                              | 15               | 18833           |"
      ]
     },
     "metadata": {},
     "output_type": "display_data"
    },
    {
     "data": {
      "text/html": [
       "<pre>| 4m 19s                              | 15.25            | 19252           |</pre>"
      ],
      "text/plain": [
       "| 4m 19s                              | 15.25            | 19252           |"
      ]
     },
     "metadata": {},
     "output_type": "display_data"
    },
    {
     "data": {
      "text/html": [
       "<pre>| 4m 22s                              | 15.5             | 19614           |</pre>"
      ],
      "text/plain": [
       "| 4m 22s                              | 15.5             | 19614           |"
      ]
     },
     "metadata": {},
     "output_type": "display_data"
    },
    {
     "data": {
      "text/html": [
       "<pre>| 4m 25s                              | 16               | 19991           |</pre>"
      ],
      "text/plain": [
       "| 4m 25s                              | 16               | 19991           |"
      ]
     },
     "metadata": {},
     "output_type": "display_data"
    },
    {
     "data": {
      "text/html": [
       "<pre>| 4m 28s                              | 16.25            | 20389           |</pre>"
      ],
      "text/plain": [
       "| 4m 28s                              | 16.25            | 20389           |"
      ]
     },
     "metadata": {},
     "output_type": "display_data"
    },
    {
     "data": {
      "text/html": [
       "<pre>| 4m 31s                              | 16.5             | 20766           |</pre>"
      ],
      "text/plain": [
       "| 4m 31s                              | 16.5             | 20766           |"
      ]
     },
     "metadata": {},
     "output_type": "display_data"
    },
    {
     "data": {
      "text/html": [
       "<pre>| 4m 34s                              | 16.75            | 21137           |</pre>"
      ],
      "text/plain": [
       "| 4m 34s                              | 16.75            | 21137           |"
      ]
     },
     "metadata": {},
     "output_type": "display_data"
    },
    {
     "data": {
      "text/html": [
       "<pre>| 4m 37s                              | 17.25            | 21538           |</pre>"
      ],
      "text/plain": [
       "| 4m 37s                              | 17.25            | 21538           |"
      ]
     },
     "metadata": {},
     "output_type": "display_data"
    },
    {
     "data": {
      "text/html": [
       "<pre>| 4m 40s                              | 17.5             | 21923           |</pre>"
      ],
      "text/plain": [
       "| 4m 40s                              | 17.5             | 21923           |"
      ]
     },
     "metadata": {},
     "output_type": "display_data"
    },
    {
     "data": {
      "text/html": [
       "<pre>| 4m 43s                              | 17.75            | 22280           |</pre>"
      ],
      "text/plain": [
       "| 4m 43s                              | 17.75            | 22280           |"
      ]
     },
     "metadata": {},
     "output_type": "display_data"
    },
    {
     "data": {
      "text/html": [
       "<pre>| 4m 46s                              | 18               | 22649           |</pre>"
      ],
      "text/plain": [
       "| 4m 46s                              | 18               | 22649           |"
      ]
     },
     "metadata": {},
     "output_type": "display_data"
    },
    {
     "data": {
      "text/html": [
       "<pre>| 4m 49s                              | 18.25            | 22991           |</pre>"
      ],
      "text/plain": [
       "| 4m 49s                              | 18.25            | 22991           |"
      ]
     },
     "metadata": {},
     "output_type": "display_data"
    },
    {
     "data": {
      "text/html": [
       "<pre>| 4m 52s                              | 18.5             | 23345           |</pre>"
      ],
      "text/plain": [
       "| 4m 52s                              | 18.5             | 23345           |"
      ]
     },
     "metadata": {},
     "output_type": "display_data"
    },
    {
     "data": {
      "text/html": [
       "<pre>| 4m 55s                              | 19               | 23696           |</pre>"
      ],
      "text/plain": [
       "| 4m 55s                              | 19               | 23696           |"
      ]
     },
     "metadata": {},
     "output_type": "display_data"
    },
    {
     "data": {
      "text/html": [
       "<pre>| 4m 58s                              | 19.25            | 24064           |</pre>"
      ],
      "text/plain": [
       "| 4m 58s                              | 19.25            | 24064           |"
      ]
     },
     "metadata": {},
     "output_type": "display_data"
    },
    {
     "data": {
      "text/html": [
       "<pre>| 5m 1s                               | 19.5             | 24449           |</pre>"
      ],
      "text/plain": [
       "| 5m 1s                               | 19.5             | 24449           |"
      ]
     },
     "metadata": {},
     "output_type": "display_data"
    },
    {
     "data": {
      "text/html": [
       "<pre>| 5m 4s                               | 19.75            | 24834           |</pre>"
      ],
      "text/plain": [
       "| 5m 4s                               | 19.75            | 24834           |"
      ]
     },
     "metadata": {},
     "output_type": "display_data"
    },
    {
     "data": {
      "text/html": [
       "<pre>| 5m 7s                               | 20               | 25214           |</pre>"
      ],
      "text/plain": [
       "| 5m 7s                               | 20               | 25214           |"
      ]
     },
     "metadata": {},
     "output_type": "display_data"
    },
    {
     "data": {
      "text/html": [
       "<pre>| 5m 10s                              | 20.5             | 25573           |</pre>"
      ],
      "text/plain": [
       "| 5m 10s                              | 20.5             | 25573           |"
      ]
     },
     "metadata": {},
     "output_type": "display_data"
    },
    {
     "data": {
      "text/html": [
       "<pre>| 5m 13s                              | 20.75            | 25957           |</pre>"
      ],
      "text/plain": [
       "| 5m 13s                              | 20.75            | 25957           |"
      ]
     },
     "metadata": {},
     "output_type": "display_data"
    },
    {
     "data": {
      "text/html": [
       "<pre>| 5m 16s                              | 21               | 26344           |</pre>"
      ],
      "text/plain": [
       "| 5m 16s                              | 21               | 26344           |"
      ]
     },
     "metadata": {},
     "output_type": "display_data"
    },
    {
     "data": {
      "text/html": [
       "<pre>| 5m 19s                              | 21.25            | 26715           |</pre>"
      ],
      "text/plain": [
       "| 5m 19s                              | 21.25            | 26715           |"
      ]
     },
     "metadata": {},
     "output_type": "display_data"
    },
    {
     "data": {
      "text/html": [
       "<pre>| 5m 22s                              | 21.75            | 27117           |</pre>"
      ],
      "text/plain": [
       "| 5m 22s                              | 21.75            | 27117           |"
      ]
     },
     "metadata": {},
     "output_type": "display_data"
    },
    {
     "data": {
      "text/html": [
       "<pre>| 5m 25s                              | 22               | 27512           |</pre>"
      ],
      "text/plain": [
       "| 5m 25s                              | 22               | 27512           |"
      ]
     },
     "metadata": {},
     "output_type": "display_data"
    },
    {
     "data": {
      "text/html": [
       "<pre>| 5m 28s                              | 22.25            | 27905           |</pre>"
      ],
      "text/plain": [
       "| 5m 28s                              | 22.25            | 27905           |"
      ]
     },
     "metadata": {},
     "output_type": "display_data"
    },
    {
     "data": {
      "text/html": [
       "<pre>| 5m 31s                              | 22.5             | 28322           |</pre>"
      ],
      "text/plain": [
       "| 5m 31s                              | 22.5             | 28322           |"
      ]
     },
     "metadata": {},
     "output_type": "display_data"
    },
    {
     "data": {
      "text/html": [
       "<pre>| 5m 34s                              | 23               | 28714           |</pre>"
      ],
      "text/plain": [
       "| 5m 34s                              | 23               | 28714           |"
      ]
     },
     "metadata": {},
     "output_type": "display_data"
    },
    {
     "data": {
      "text/html": [
       "<pre>| 5m 37s                              | 23.25            | 29114           |</pre>"
      ],
      "text/plain": [
       "| 5m 37s                              | 23.25            | 29114           |"
      ]
     },
     "metadata": {},
     "output_type": "display_data"
    },
    {
     "data": {
      "text/html": [
       "<pre>| 5m 40s                              | 23.5             | 29509           |</pre>"
      ],
      "text/plain": [
       "| 5m 40s                              | 23.5             | 29509           |"
      ]
     },
     "metadata": {},
     "output_type": "display_data"
    },
    {
     "data": {
      "text/html": [
       "<pre>| 5m 44s                              | 23.75            | 29868           |</pre>"
      ],
      "text/plain": [
       "| 5m 44s                              | 23.75            | 29868           |"
      ]
     },
     "metadata": {},
     "output_type": "display_data"
    },
    {
     "data": {
      "text/html": [
       "<pre>| 5m 47s                              | 24.25            | 30232           |</pre>"
      ],
      "text/plain": [
       "| 5m 47s                              | 24.25            | 30232           |"
      ]
     },
     "metadata": {},
     "output_type": "display_data"
    },
    {
     "data": {
      "text/html": [
       "<pre>| 5m 50s                              | 24.5             | 30603           |</pre>"
      ],
      "text/plain": [
       "| 5m 50s                              | 24.5             | 30603           |"
      ]
     },
     "metadata": {},
     "output_type": "display_data"
    },
    {
     "data": {
      "text/html": [
       "<pre>| 5m 53s                              | 24.75            | 30949           |</pre>"
      ],
      "text/plain": [
       "| 5m 53s                              | 24.75            | 30949           |"
      ]
     },
     "metadata": {},
     "output_type": "display_data"
    },
    {
     "data": {
      "text/html": [
       "<pre>| 6m 7s                               | 25               | 31198           |</pre>"
      ],
      "text/plain": [
       "| 6m 7s                               | 25               | 31198           |"
      ]
     },
     "metadata": {},
     "output_type": "display_data"
    },
    {
     "data": {
      "text/html": [
       "<pre>| 6m 10s                              | 25.5             | 31936           |</pre>"
      ],
      "text/plain": [
       "| 6m 10s                              | 25.5             | 31936           |"
      ]
     },
     "metadata": {},
     "output_type": "display_data"
    },
    {
     "data": {
      "text/html": [
       "<pre>| 6m 13s                              | 26               | 32608           |</pre>"
      ],
      "text/plain": [
       "| 6m 13s                              | 26               | 32608           |"
      ]
     },
     "metadata": {},
     "output_type": "display_data"
    },
    {
     "data": {
      "text/html": [
       "<pre>| 6m 16s                              | 26.5             | 33225           |</pre>"
      ],
      "text/plain": [
       "| 6m 16s                              | 26.5             | 33225           |"
      ]
     },
     "metadata": {},
     "output_type": "display_data"
    },
    {
     "data": {
      "text/html": [
       "<pre>| 6m 19s                              | 27               | 33704           |</pre>"
      ],
      "text/plain": [
       "| 6m 19s                              | 27               | 33704           |"
      ]
     },
     "metadata": {},
     "output_type": "display_data"
    },
    {
     "data": {
      "text/html": [
       "<pre>| 6m 22s                              | 27.25            | 34216           |</pre>"
      ],
      "text/plain": [
       "| 6m 22s                              | 27.25            | 34216           |"
      ]
     },
     "metadata": {},
     "output_type": "display_data"
    },
    {
     "data": {
      "text/html": [
       "<pre>| 6m 25s                              | 27.75            | 34687           |</pre>"
      ],
      "text/plain": [
       "| 6m 25s                              | 27.75            | 34687           |"
      ]
     },
     "metadata": {},
     "output_type": "display_data"
    },
    {
     "data": {
      "text/html": [
       "<pre>| 6m 28s                              | 28               | 35192           |</pre>"
      ],
      "text/plain": [
       "| 6m 28s                              | 28               | 35192           |"
      ]
     },
     "metadata": {},
     "output_type": "display_data"
    },
    {
     "data": {
      "text/html": [
       "<pre>| 6m 31s                              | 28.5             | 35767           |</pre>"
      ],
      "text/plain": [
       "| 6m 31s                              | 28.5             | 35767           |"
      ]
     },
     "metadata": {},
     "output_type": "display_data"
    },
    {
     "data": {
      "text/html": [
       "<pre>| 6m 34s                              | 29               | 36333           |</pre>"
      ],
      "text/plain": [
       "| 6m 34s                              | 29               | 36333           |"
      ]
     },
     "metadata": {},
     "output_type": "display_data"
    },
    {
     "data": {
      "text/html": [
       "<pre>| 6m 37s                              | 29.5             | 36880           |</pre>"
      ],
      "text/plain": [
       "| 6m 37s                              | 29.5             | 36880           |"
      ]
     },
     "metadata": {},
     "output_type": "display_data"
    },
    {
     "data": {
      "text/html": [
       "<pre>| 6m 40s                              | 30               | 37453           |</pre>"
      ],
      "text/plain": [
       "| 6m 40s                              | 30               | 37453           |"
      ]
     },
     "metadata": {},
     "output_type": "display_data"
    },
    {
     "data": {
      "text/html": [
       "<pre>| 6m 43s                              | 30.25            | 37983           |</pre>"
      ],
      "text/plain": [
       "| 6m 43s                              | 30.25            | 37983           |"
      ]
     },
     "metadata": {},
     "output_type": "display_data"
    },
    {
     "data": {
      "text/html": [
       "<pre>| 6m 46s                              | 30.75            | 38506           |</pre>"
      ],
      "text/plain": [
       "| 6m 46s                              | 30.75            | 38506           |"
      ]
     },
     "metadata": {},
     "output_type": "display_data"
    },
    {
     "data": {
      "text/html": [
       "<pre>| 6m 49s                              | 31.25            | 39031           |</pre>"
      ],
      "text/plain": [
       "| 6m 49s                              | 31.25            | 39031           |"
      ]
     },
     "metadata": {},
     "output_type": "display_data"
    },
    {
     "data": {
      "text/html": [
       "<pre>| 6m 52s                              | 31.75            | 39584           |</pre>"
      ],
      "text/plain": [
       "| 6m 52s                              | 31.75            | 39584           |"
      ]
     },
     "metadata": {},
     "output_type": "display_data"
    },
    {
     "data": {
      "text/html": [
       "<pre>| 6m 55s                              | 32               | 40149           |</pre>"
      ],
      "text/plain": [
       "| 6m 55s                              | 32               | 40149           |"
      ]
     },
     "metadata": {},
     "output_type": "display_data"
    },
    {
     "data": {
      "text/html": [
       "<pre>| 6m 58s                              | 32.5             | 40726           |</pre>"
      ],
      "text/plain": [
       "| 6m 58s                              | 32.5             | 40726           |"
      ]
     },
     "metadata": {},
     "output_type": "display_data"
    },
    {
     "data": {
      "text/html": [
       "<pre>| 7m 1s                               | 33               | 41295           |</pre>"
      ],
      "text/plain": [
       "| 7m 1s                               | 33               | 41295           |"
      ]
     },
     "metadata": {},
     "output_type": "display_data"
    },
    {
     "data": {
      "text/html": [
       "<pre>| 7m 4s                               | 33.5             | 41852           |</pre>"
      ],
      "text/plain": [
       "| 7m 4s                               | 33.5             | 41852           |"
      ]
     },
     "metadata": {},
     "output_type": "display_data"
    },
    {
     "data": {
      "text/html": [
       "<pre>| 7m 7s                               | 34               | 42409           |</pre>"
      ],
      "text/plain": [
       "| 7m 7s                               | 34               | 42409           |"
      ]
     },
     "metadata": {},
     "output_type": "display_data"
    },
    {
     "data": {
      "text/html": [
       "<pre>| 7m 10s                              | 34.5             | 43013           |</pre>"
      ],
      "text/plain": [
       "| 7m 10s                              | 34.5             | 43013           |"
      ]
     },
     "metadata": {},
     "output_type": "display_data"
    },
    {
     "data": {
      "text/html": [
       "<pre>| 7m 13s                              | 34.75            | 43600           |</pre>"
      ],
      "text/plain": [
       "| 7m 13s                              | 34.75            | 43600           |"
      ]
     },
     "metadata": {},
     "output_type": "display_data"
    },
    {
     "data": {
      "text/html": [
       "<pre>| 7m 16s                              | 35.25            | 44202           |</pre>"
      ],
      "text/plain": [
       "| 7m 16s                              | 35.25            | 44202           |"
      ]
     },
     "metadata": {},
     "output_type": "display_data"
    },
    {
     "data": {
      "text/html": [
       "<pre>| 7m 19s                              | 35.75            | 44804           |</pre>"
      ],
      "text/plain": [
       "| 7m 19s                              | 35.75            | 44804           |"
      ]
     },
     "metadata": {},
     "output_type": "display_data"
    },
    {
     "data": {
      "text/html": [
       "<pre>| 7m 22s                              | 36.25            | 45409           |</pre>"
      ],
      "text/plain": [
       "| 7m 22s                              | 36.25            | 45409           |"
      ]
     },
     "metadata": {},
     "output_type": "display_data"
    },
    {
     "data": {
      "text/html": [
       "<pre>| 7m 25s                              | 36.75            | 45981           |</pre>"
      ],
      "text/plain": [
       "| 7m 25s                              | 36.75            | 45981           |"
      ]
     },
     "metadata": {},
     "output_type": "display_data"
    },
    {
     "data": {
      "text/html": [
       "<pre>| 7m 28s                              | 37.25            | 46531           |</pre>"
      ],
      "text/plain": [
       "| 7m 28s                              | 37.25            | 46531           |"
      ]
     },
     "metadata": {},
     "output_type": "display_data"
    },
    {
     "data": {
      "text/html": [
       "<pre>| 7m 40s                              | 37.5             | 46748           |</pre>"
      ],
      "text/plain": [
       "| 7m 40s                              | 37.5             | 46748           |"
      ]
     },
     "metadata": {},
     "output_type": "display_data"
    },
    {
     "data": {
      "text/html": [
       "<pre>| 7m 43s                              | 38.25            | 47851           |</pre>"
      ],
      "text/plain": [
       "| 7m 43s                              | 38.25            | 47851           |"
      ]
     },
     "metadata": {},
     "output_type": "display_data"
    },
    {
     "data": {
      "text/html": [
       "<pre>| 7m 46s                              | 39               | 48798           |</pre>"
      ],
      "text/plain": [
       "| 7m 46s                              | 39               | 48798           |"
      ]
     },
     "metadata": {},
     "output_type": "display_data"
    },
    {
     "data": {
      "text/html": [
       "<pre>| 7m 49s                              | 39.75            | 49733           |</pre>"
      ],
      "text/plain": [
       "| 7m 49s                              | 39.75            | 49733           |"
      ]
     },
     "metadata": {},
     "output_type": "display_data"
    },
    {
     "data": {
      "text/html": [
       "<pre>| 7m 52s                              | 40.5             | 50593           |</pre>"
      ],
      "text/plain": [
       "| 7m 52s                              | 40.5             | 50593           |"
      ]
     },
     "metadata": {},
     "output_type": "display_data"
    },
    {
     "data": {
      "text/html": [
       "<pre>| 7m 55s                              | 41.25            | 51458           |</pre>"
      ],
      "text/plain": [
       "| 7m 55s                              | 41.25            | 51458           |"
      ]
     },
     "metadata": {},
     "output_type": "display_data"
    },
    {
     "data": {
      "text/html": [
       "<pre>| 7m 58s                              | 41.75            | 52282           |</pre>"
      ],
      "text/plain": [
       "| 7m 58s                              | 41.75            | 52282           |"
      ]
     },
     "metadata": {},
     "output_type": "display_data"
    },
    {
     "data": {
      "text/html": [
       "<pre>| 8m 1s                               | 42.5             | 53106           |</pre>"
      ],
      "text/plain": [
       "| 8m 1s                               | 42.5             | 53106           |"
      ]
     },
     "metadata": {},
     "output_type": "display_data"
    },
    {
     "data": {
      "text/html": [
       "<pre>| 8m 4s                               | 43               | 53708           |</pre>"
      ],
      "text/plain": [
       "| 8m 4s                               | 43               | 53708           |"
      ]
     },
     "metadata": {},
     "output_type": "display_data"
    },
    {
     "data": {
      "text/html": [
       "<pre>| 8m 7s                               | 43.5             | 54304           |</pre>"
      ],
      "text/plain": [
       "| 8m 7s                               | 43.5             | 54304           |"
      ]
     },
     "metadata": {},
     "output_type": "display_data"
    },
    {
     "data": {
      "text/html": [
       "<pre>| 8m 10s                              | 44               | 54976           |</pre>"
      ],
      "text/plain": [
       "| 8m 10s                              | 44               | 54976           |"
      ]
     },
     "metadata": {},
     "output_type": "display_data"
    },
    {
     "data": {
      "text/html": [
       "<pre>| 8m 14s                              | 44.5             | 55724           |</pre>"
      ],
      "text/plain": [
       "| 8m 14s                              | 44.5             | 55724           |"
      ]
     },
     "metadata": {},
     "output_type": "display_data"
    },
    {
     "data": {
      "text/html": [
       "<pre>| 8m 17s                              | 45.25            | 56438           |</pre>"
      ],
      "text/plain": [
       "| 8m 17s                              | 45.25            | 56438           |"
      ]
     },
     "metadata": {},
     "output_type": "display_data"
    },
    {
     "data": {
      "text/html": [
       "<pre>| 8m 20s                              | 45.75            | 57100           |</pre>"
      ],
      "text/plain": [
       "| 8m 20s                              | 45.75            | 57100           |"
      ]
     },
     "metadata": {},
     "output_type": "display_data"
    },
    {
     "data": {
      "text/html": [
       "<pre>| 8m 23s                              | 46.25            | 57915           |</pre>"
      ],
      "text/plain": [
       "| 8m 23s                              | 46.25            | 57915           |"
      ]
     },
     "metadata": {},
     "output_type": "display_data"
    },
    {
     "data": {
      "text/html": [
       "<pre>| 8m 26s                              | 47               | 58757           |</pre>"
      ],
      "text/plain": [
       "| 8m 26s                              | 47               | 58757           |"
      ]
     },
     "metadata": {},
     "output_type": "display_data"
    },
    {
     "data": {
      "text/html": [
       "<pre>| 8m 29s                              | 47.75            | 59630           |</pre>"
      ],
      "text/plain": [
       "| 8m 29s                              | 47.75            | 59630           |"
      ]
     },
     "metadata": {},
     "output_type": "display_data"
    },
    {
     "data": {
      "text/html": [
       "<pre>| 8m 32s                              | 48.5             | 60475           |</pre>"
      ],
      "text/plain": [
       "| 8m 32s                              | 48.5             | 60475           |"
      ]
     },
     "metadata": {},
     "output_type": "display_data"
    },
    {
     "data": {
      "text/html": [
       "<pre>| 8m 35s                              | 49               | 61294           |</pre>"
      ],
      "text/plain": [
       "| 8m 35s                              | 49               | 61294           |"
      ]
     },
     "metadata": {},
     "output_type": "display_data"
    },
    {
     "data": {
      "text/html": [
       "<pre>| 8m 38s                              | 49.75            | 62070           |</pre>"
      ],
      "text/plain": [
       "| 8m 38s                              | 49.75            | 62070           |"
      ]
     },
     "metadata": {},
     "output_type": "display_data"
    },
    {
     "data": {
      "text/html": [
       "<pre>| 8m 49s                              | 49.75            | 62297           |</pre>"
      ],
      "text/plain": [
       "| 8m 49s                              | 49.75            | 62297           |"
      ]
     },
     "metadata": {},
     "output_type": "display_data"
    },
    {
     "data": {
      "text/html": [
       "<pre>| 8m 52s                              | 51               | 63856           |</pre>"
      ],
      "text/plain": [
       "| 8m 52s                              | 51               | 63856           |"
      ]
     },
     "metadata": {},
     "output_type": "display_data"
    },
    {
     "data": {
      "text/html": [
       "<pre>| 8m 55s                              | 52.25            | 65201           |</pre>"
      ],
      "text/plain": [
       "| 8m 55s                              | 52.25            | 65201           |"
      ]
     },
     "metadata": {},
     "output_type": "display_data"
    },
    {
     "data": {
      "text/html": [
       "<pre>| 8m 58s                              | 53               | 66328           |</pre>"
      ],
      "text/plain": [
       "| 8m 58s                              | 53               | 66328           |"
      ]
     },
     "metadata": {},
     "output_type": "display_data"
    },
    {
     "data": {
      "text/html": [
       "<pre>| 9m 1s                               | 54               | 67476           |</pre>"
      ],
      "text/plain": [
       "| 9m 1s                               | 54               | 67476           |"
      ]
     },
     "metadata": {},
     "output_type": "display_data"
    },
    {
     "data": {
      "text/html": [
       "<pre>| 9m 4s                               | 55               | 68667           |</pre>"
      ],
      "text/plain": [
       "| 9m 4s                               | 55               | 68667           |"
      ]
     },
     "metadata": {},
     "output_type": "display_data"
    },
    {
     "data": {
      "text/html": [
       "<pre>| 9m 7s                               | 56               | 69880           |</pre>"
      ],
      "text/plain": [
       "| 9m 7s                               | 56               | 69880           |"
      ]
     },
     "metadata": {},
     "output_type": "display_data"
    },
    {
     "data": {
      "text/html": [
       "<pre>| 9m 10s                              | 56.75            | 70991           |</pre>"
      ],
      "text/plain": [
       "| 9m 10s                              | 56.75            | 70991           |"
      ]
     },
     "metadata": {},
     "output_type": "display_data"
    },
    {
     "data": {
      "text/html": [
       "<pre>| 9m 13s                              | 57.75            | 72079           |</pre>"
      ],
      "text/plain": [
       "| 9m 13s                              | 57.75            | 72079           |"
      ]
     },
     "metadata": {},
     "output_type": "display_data"
    },
    {
     "data": {
      "text/html": [
       "<pre>| 9m 16s                              | 58.75            | 73345           |</pre>"
      ],
      "text/plain": [
       "| 9m 16s                              | 58.75            | 73345           |"
      ]
     },
     "metadata": {},
     "output_type": "display_data"
    },
    {
     "data": {
      "text/html": [
       "<pre>| 9m 19s                              | 59.75            | 74656           |</pre>"
      ],
      "text/plain": [
       "| 9m 19s                              | 59.75            | 74656           |"
      ]
     },
     "metadata": {},
     "output_type": "display_data"
    },
    {
     "data": {
      "text/html": [
       "<pre>| 9m 22s                              | 61               | 76046           |</pre>"
      ],
      "text/plain": [
       "| 9m 22s                              | 61               | 76046           |"
      ]
     },
     "metadata": {},
     "output_type": "display_data"
    },
    {
     "data": {
      "text/html": [
       "<pre>| 9m 25s                              | 62               | 77307           |</pre>"
      ],
      "text/plain": [
       "| 9m 25s                              | 62               | 77307           |"
      ]
     },
     "metadata": {},
     "output_type": "display_data"
    },
    {
     "data": {
      "text/html": [
       "<pre>| 9m 37s                              | 62.25            | 77846           |</pre>"
      ],
      "text/plain": [
       "| 9m 37s                              | 62.25            | 77846           |"
      ]
     },
     "metadata": {},
     "output_type": "display_data"
    },
    {
     "data": {
      "text/html": [
       "<pre>| 9m 40s                              | 64.25            | 80223           |</pre>"
      ],
      "text/plain": [
       "| 9m 40s                              | 64.25            | 80223           |"
      ]
     },
     "metadata": {},
     "output_type": "display_data"
    },
    {
     "data": {
      "text/html": [
       "<pre>| 9m 43s                              | 66               | 82310           |</pre>"
      ],
      "text/plain": [
       "| 9m 43s                              | 66               | 82310           |"
      ]
     },
     "metadata": {},
     "output_type": "display_data"
    },
    {
     "data": {
      "text/html": [
       "<pre>| 9m 46s                              | 67.75            | 84450           |</pre>"
      ],
      "text/plain": [
       "| 9m 46s                              | 67.75            | 84450           |"
      ]
     },
     "metadata": {},
     "output_type": "display_data"
    },
    {
     "data": {
      "text/html": [
       "<pre>| 9m 49s                              | 69.25            | 86519           |</pre>"
      ],
      "text/plain": [
       "| 9m 49s                              | 69.25            | 86519           |"
      ]
     },
     "metadata": {},
     "output_type": "display_data"
    },
    {
     "data": {
      "text/html": [
       "<pre>| 9m 52s                              | 71               | 88738           |</pre>"
      ],
      "text/plain": [
       "| 9m 52s                              | 71               | 88738           |"
      ]
     },
     "metadata": {},
     "output_type": "display_data"
    },
    {
     "data": {
      "text/html": [
       "<pre>| 9m 55s                              | 73               | 91117           |</pre>"
      ],
      "text/plain": [
       "| 9m 55s                              | 73               | 91117           |"
      ]
     },
     "metadata": {},
     "output_type": "display_data"
    },
    {
     "data": {
      "text/html": [
       "<pre>| 9m 58s                              | 74.75            | 93199           |</pre>"
      ],
      "text/plain": [
       "| 9m 58s                              | 74.75            | 93199           |"
      ]
     },
     "metadata": {},
     "output_type": "display_data"
    },
    {
     "data": {
      "text/html": [
       "<pre>| 10m 8s                              | 74.75            | 93395           |</pre>"
      ],
      "text/plain": [
       "| 10m 8s                              | 74.75            | 93395           |"
      ]
     },
     "metadata": {},
     "output_type": "display_data"
    },
    {
     "data": {
      "text/html": [
       "<pre>| 10m 11s                             | 79               | 98456           |</pre>"
      ],
      "text/plain": [
       "| 10m 11s                             | 79               | 98456           |"
      ]
     },
     "metadata": {},
     "output_type": "display_data"
    },
    {
     "data": {
      "text/html": [
       "<pre>| 10m 14s                             | 83               | 103608          |</pre>"
      ],
      "text/plain": [
       "| 10m 14s                             | 83               | 103608          |"
      ]
     },
     "metadata": {},
     "output_type": "display_data"
    },
    {
     "data": {
      "text/html": [
       "<pre>| 10m 17s                             | 87.25            | 108926          |</pre>"
      ],
      "text/plain": [
       "| 10m 17s                             | 87.25            | 108926          |"
      ]
     },
     "metadata": {},
     "output_type": "display_data"
    },
    {
     "data": {
      "text/html": [
       "<pre>| 10m 23s                             | 87.25            | 108945          |</pre>"
      ],
      "text/plain": [
       "| 10m 23s                             | 87.25            | 108945          |"
      ]
     },
     "metadata": {},
     "output_type": "display_data"
    },
    {
     "data": {
      "text/html": [
       "<pre>| 10m 24s                             | 100              | 124602          |</pre>"
      ],
      "text/plain": [
       "| 10m 24s                             | 100              | 124602          |"
      ]
     },
     "metadata": {},
     "output_type": "display_data"
    },
    {
     "data": {
      "text/html": [
       "<pre>+-------------------------------------+------------------+-----------------+</pre>"
      ],
      "text/plain": [
       "+-------------------------------------+------------------+-----------------+"
      ]
     },
     "metadata": {},
     "output_type": "display_data"
    },
    {
     "data": {
      "text/html": [
       "<pre>Finalizing lookup tables.</pre>"
      ],
      "text/plain": [
       "Finalizing lookup tables."
      ]
     },
     "metadata": {},
     "output_type": "display_data"
    },
    {
     "data": {
      "text/html": [
       "<pre>Generating candidate set for working with new users.</pre>"
      ],
      "text/plain": [
       "Generating candidate set for working with new users."
      ]
     },
     "metadata": {},
     "output_type": "display_data"
    },
    {
     "data": {
      "text/html": [
       "<pre>Finished training in 626.405s</pre>"
      ],
      "text/plain": [
       "Finished training in 626.405s"
      ]
     },
     "metadata": {},
     "output_type": "display_data"
    },
    {
     "data": {
      "text/html": [
       "<pre>recommendations finished on 1000/372991 queries. users per second: 4632.01</pre>"
      ],
      "text/plain": [
       "recommendations finished on 1000/372991 queries. users per second: 4632.01"
      ]
     },
     "metadata": {},
     "output_type": "display_data"
    },
    {
     "data": {
      "text/html": [
       "<pre>recommendations finished on 2000/372991 queries. users per second: 4676.19</pre>"
      ],
      "text/plain": [
       "recommendations finished on 2000/372991 queries. users per second: 4676.19"
      ]
     },
     "metadata": {},
     "output_type": "display_data"
    },
    {
     "data": {
      "text/html": [
       "<pre>recommendations finished on 3000/372991 queries. users per second: 4588.05</pre>"
      ],
      "text/plain": [
       "recommendations finished on 3000/372991 queries. users per second: 4588.05"
      ]
     },
     "metadata": {},
     "output_type": "display_data"
    },
    {
     "data": {
      "text/html": [
       "<pre>recommendations finished on 4000/372991 queries. users per second: 4594.32</pre>"
      ],
      "text/plain": [
       "recommendations finished on 4000/372991 queries. users per second: 4594.32"
      ]
     },
     "metadata": {},
     "output_type": "display_data"
    },
    {
     "data": {
      "text/html": [
       "<pre>recommendations finished on 5000/372991 queries. users per second: 4622.89</pre>"
      ],
      "text/plain": [
       "recommendations finished on 5000/372991 queries. users per second: 4622.89"
      ]
     },
     "metadata": {},
     "output_type": "display_data"
    },
    {
     "data": {
      "text/html": [
       "<pre>recommendations finished on 6000/372991 queries. users per second: 4639.19</pre>"
      ],
      "text/plain": [
       "recommendations finished on 6000/372991 queries. users per second: 4639.19"
      ]
     },
     "metadata": {},
     "output_type": "display_data"
    },
    {
     "data": {
      "text/html": [
       "<pre>recommendations finished on 7000/372991 queries. users per second: 4618.32</pre>"
      ],
      "text/plain": [
       "recommendations finished on 7000/372991 queries. users per second: 4618.32"
      ]
     },
     "metadata": {},
     "output_type": "display_data"
    },
    {
     "data": {
      "text/html": [
       "<pre>recommendations finished on 8000/372991 queries. users per second: 4627.36</pre>"
      ],
      "text/plain": [
       "recommendations finished on 8000/372991 queries. users per second: 4627.36"
      ]
     },
     "metadata": {},
     "output_type": "display_data"
    },
    {
     "data": {
      "text/html": [
       "<pre>recommendations finished on 9000/372991 queries. users per second: 4612.33</pre>"
      ],
      "text/plain": [
       "recommendations finished on 9000/372991 queries. users per second: 4612.33"
      ]
     },
     "metadata": {},
     "output_type": "display_data"
    },
    {
     "data": {
      "text/html": [
       "<pre>recommendations finished on 10000/372991 queries. users per second: 4627.02</pre>"
      ],
      "text/plain": [
       "recommendations finished on 10000/372991 queries. users per second: 4627.02"
      ]
     },
     "metadata": {},
     "output_type": "display_data"
    },
    {
     "data": {
      "text/html": [
       "<pre>recommendations finished on 11000/372991 queries. users per second: 4616.35</pre>"
      ],
      "text/plain": [
       "recommendations finished on 11000/372991 queries. users per second: 4616.35"
      ]
     },
     "metadata": {},
     "output_type": "display_data"
    },
    {
     "data": {
      "text/html": [
       "<pre>recommendations finished on 12000/372991 queries. users per second: 4618.55</pre>"
      ],
      "text/plain": [
       "recommendations finished on 12000/372991 queries. users per second: 4618.55"
      ]
     },
     "metadata": {},
     "output_type": "display_data"
    },
    {
     "data": {
      "text/html": [
       "<pre>recommendations finished on 13000/372991 queries. users per second: 4626.42</pre>"
      ],
      "text/plain": [
       "recommendations finished on 13000/372991 queries. users per second: 4626.42"
      ]
     },
     "metadata": {},
     "output_type": "display_data"
    },
    {
     "data": {
      "text/html": [
       "<pre>recommendations finished on 14000/372991 queries. users per second: 4639</pre>"
      ],
      "text/plain": [
       "recommendations finished on 14000/372991 queries. users per second: 4639"
      ]
     },
     "metadata": {},
     "output_type": "display_data"
    },
    {
     "data": {
      "text/html": [
       "<pre>recommendations finished on 15000/372991 queries. users per second: 4651.04</pre>"
      ],
      "text/plain": [
       "recommendations finished on 15000/372991 queries. users per second: 4651.04"
      ]
     },
     "metadata": {},
     "output_type": "display_data"
    },
    {
     "data": {
      "text/html": [
       "<pre>recommendations finished on 16000/372991 queries. users per second: 4650.85</pre>"
      ],
      "text/plain": [
       "recommendations finished on 16000/372991 queries. users per second: 4650.85"
      ]
     },
     "metadata": {},
     "output_type": "display_data"
    },
    {
     "data": {
      "text/html": [
       "<pre>recommendations finished on 17000/372991 queries. users per second: 4654.74</pre>"
      ],
      "text/plain": [
       "recommendations finished on 17000/372991 queries. users per second: 4654.74"
      ]
     },
     "metadata": {},
     "output_type": "display_data"
    },
    {
     "data": {
      "text/html": [
       "<pre>recommendations finished on 18000/372991 queries. users per second: 4659.26</pre>"
      ],
      "text/plain": [
       "recommendations finished on 18000/372991 queries. users per second: 4659.26"
      ]
     },
     "metadata": {},
     "output_type": "display_data"
    },
    {
     "data": {
      "text/html": [
       "<pre>recommendations finished on 19000/372991 queries. users per second: 4669.08</pre>"
      ],
      "text/plain": [
       "recommendations finished on 19000/372991 queries. users per second: 4669.08"
      ]
     },
     "metadata": {},
     "output_type": "display_data"
    },
    {
     "data": {
      "text/html": [
       "<pre>recommendations finished on 20000/372991 queries. users per second: 4665.88</pre>"
      ],
      "text/plain": [
       "recommendations finished on 20000/372991 queries. users per second: 4665.88"
      ]
     },
     "metadata": {},
     "output_type": "display_data"
    },
    {
     "data": {
      "text/html": [
       "<pre>recommendations finished on 21000/372991 queries. users per second: 4664.32</pre>"
      ],
      "text/plain": [
       "recommendations finished on 21000/372991 queries. users per second: 4664.32"
      ]
     },
     "metadata": {},
     "output_type": "display_data"
    },
    {
     "data": {
      "text/html": [
       "<pre>recommendations finished on 22000/372991 queries. users per second: 4601.44</pre>"
      ],
      "text/plain": [
       "recommendations finished on 22000/372991 queries. users per second: 4601.44"
      ]
     },
     "metadata": {},
     "output_type": "display_data"
    },
    {
     "data": {
      "text/html": [
       "<pre>recommendations finished on 23000/372991 queries. users per second: 4543.8</pre>"
      ],
      "text/plain": [
       "recommendations finished on 23000/372991 queries. users per second: 4543.8"
      ]
     },
     "metadata": {},
     "output_type": "display_data"
    },
    {
     "data": {
      "text/html": [
       "<pre>recommendations finished on 24000/372991 queries. users per second: 4534.7</pre>"
      ],
      "text/plain": [
       "recommendations finished on 24000/372991 queries. users per second: 4534.7"
      ]
     },
     "metadata": {},
     "output_type": "display_data"
    },
    {
     "data": {
      "text/html": [
       "<pre>recommendations finished on 25000/372991 queries. users per second: 4522.15</pre>"
      ],
      "text/plain": [
       "recommendations finished on 25000/372991 queries. users per second: 4522.15"
      ]
     },
     "metadata": {},
     "output_type": "display_data"
    },
    {
     "data": {
      "text/html": [
       "<pre>recommendations finished on 26000/372991 queries. users per second: 4484.22</pre>"
      ],
      "text/plain": [
       "recommendations finished on 26000/372991 queries. users per second: 4484.22"
      ]
     },
     "metadata": {},
     "output_type": "display_data"
    },
    {
     "data": {
      "text/html": [
       "<pre>recommendations finished on 27000/372991 queries. users per second: 4464.71</pre>"
      ],
      "text/plain": [
       "recommendations finished on 27000/372991 queries. users per second: 4464.71"
      ]
     },
     "metadata": {},
     "output_type": "display_data"
    },
    {
     "data": {
      "text/html": [
       "<pre>recommendations finished on 28000/372991 queries. users per second: 4427.15</pre>"
      ],
      "text/plain": [
       "recommendations finished on 28000/372991 queries. users per second: 4427.15"
      ]
     },
     "metadata": {},
     "output_type": "display_data"
    },
    {
     "data": {
      "text/html": [
       "<pre>recommendations finished on 29000/372991 queries. users per second: 4400.96</pre>"
      ],
      "text/plain": [
       "recommendations finished on 29000/372991 queries. users per second: 4400.96"
      ]
     },
     "metadata": {},
     "output_type": "display_data"
    },
    {
     "data": {
      "text/html": [
       "<pre>recommendations finished on 30000/372991 queries. users per second: 4392.14</pre>"
      ],
      "text/plain": [
       "recommendations finished on 30000/372991 queries. users per second: 4392.14"
      ]
     },
     "metadata": {},
     "output_type": "display_data"
    },
    {
     "data": {
      "text/html": [
       "<pre>recommendations finished on 31000/372991 queries. users per second: 4388.75</pre>"
      ],
      "text/plain": [
       "recommendations finished on 31000/372991 queries. users per second: 4388.75"
      ]
     },
     "metadata": {},
     "output_type": "display_data"
    },
    {
     "data": {
      "text/html": [
       "<pre>recommendations finished on 32000/372991 queries. users per second: 4371.78</pre>"
      ],
      "text/plain": [
       "recommendations finished on 32000/372991 queries. users per second: 4371.78"
      ]
     },
     "metadata": {},
     "output_type": "display_data"
    },
    {
     "data": {
      "text/html": [
       "<pre>recommendations finished on 33000/372991 queries. users per second: 4370.93</pre>"
      ],
      "text/plain": [
       "recommendations finished on 33000/372991 queries. users per second: 4370.93"
      ]
     },
     "metadata": {},
     "output_type": "display_data"
    },
    {
     "data": {
      "text/html": [
       "<pre>recommendations finished on 34000/372991 queries. users per second: 4360.64</pre>"
      ],
      "text/plain": [
       "recommendations finished on 34000/372991 queries. users per second: 4360.64"
      ]
     },
     "metadata": {},
     "output_type": "display_data"
    },
    {
     "data": {
      "text/html": [
       "<pre>recommendations finished on 35000/372991 queries. users per second: 4373.15</pre>"
      ],
      "text/plain": [
       "recommendations finished on 35000/372991 queries. users per second: 4373.15"
      ]
     },
     "metadata": {},
     "output_type": "display_data"
    },
    {
     "data": {
      "text/html": [
       "<pre>recommendations finished on 36000/372991 queries. users per second: 4373.72</pre>"
      ],
      "text/plain": [
       "recommendations finished on 36000/372991 queries. users per second: 4373.72"
      ]
     },
     "metadata": {},
     "output_type": "display_data"
    },
    {
     "data": {
      "text/html": [
       "<pre>recommendations finished on 37000/372991 queries. users per second: 4373.48</pre>"
      ],
      "text/plain": [
       "recommendations finished on 37000/372991 queries. users per second: 4373.48"
      ]
     },
     "metadata": {},
     "output_type": "display_data"
    },
    {
     "data": {
      "text/html": [
       "<pre>recommendations finished on 38000/372991 queries. users per second: 4375.08</pre>"
      ],
      "text/plain": [
       "recommendations finished on 38000/372991 queries. users per second: 4375.08"
      ]
     },
     "metadata": {},
     "output_type": "display_data"
    },
    {
     "data": {
      "text/html": [
       "<pre>recommendations finished on 39000/372991 queries. users per second: 4376.85</pre>"
      ],
      "text/plain": [
       "recommendations finished on 39000/372991 queries. users per second: 4376.85"
      ]
     },
     "metadata": {},
     "output_type": "display_data"
    },
    {
     "data": {
      "text/html": [
       "<pre>recommendations finished on 40000/372991 queries. users per second: 4383.87</pre>"
      ],
      "text/plain": [
       "recommendations finished on 40000/372991 queries. users per second: 4383.87"
      ]
     },
     "metadata": {},
     "output_type": "display_data"
    },
    {
     "data": {
      "text/html": [
       "<pre>recommendations finished on 41000/372991 queries. users per second: 4390.68</pre>"
      ],
      "text/plain": [
       "recommendations finished on 41000/372991 queries. users per second: 4390.68"
      ]
     },
     "metadata": {},
     "output_type": "display_data"
    },
    {
     "data": {
      "text/html": [
       "<pre>recommendations finished on 42000/372991 queries. users per second: 4388.15</pre>"
      ],
      "text/plain": [
       "recommendations finished on 42000/372991 queries. users per second: 4388.15"
      ]
     },
     "metadata": {},
     "output_type": "display_data"
    },
    {
     "data": {
      "text/html": [
       "<pre>recommendations finished on 43000/372991 queries. users per second: 4395.14</pre>"
      ],
      "text/plain": [
       "recommendations finished on 43000/372991 queries. users per second: 4395.14"
      ]
     },
     "metadata": {},
     "output_type": "display_data"
    },
    {
     "data": {
      "text/html": [
       "<pre>recommendations finished on 44000/372991 queries. users per second: 4401.94</pre>"
      ],
      "text/plain": [
       "recommendations finished on 44000/372991 queries. users per second: 4401.94"
      ]
     },
     "metadata": {},
     "output_type": "display_data"
    },
    {
     "data": {
      "text/html": [
       "<pre>recommendations finished on 45000/372991 queries. users per second: 4395.24</pre>"
      ],
      "text/plain": [
       "recommendations finished on 45000/372991 queries. users per second: 4395.24"
      ]
     },
     "metadata": {},
     "output_type": "display_data"
    },
    {
     "data": {
      "text/html": [
       "<pre>recommendations finished on 46000/372991 queries. users per second: 4402.22</pre>"
      ],
      "text/plain": [
       "recommendations finished on 46000/372991 queries. users per second: 4402.22"
      ]
     },
     "metadata": {},
     "output_type": "display_data"
    },
    {
     "data": {
      "text/html": [
       "<pre>recommendations finished on 47000/372991 queries. users per second: 4397.45</pre>"
      ],
      "text/plain": [
       "recommendations finished on 47000/372991 queries. users per second: 4397.45"
      ]
     },
     "metadata": {},
     "output_type": "display_data"
    },
    {
     "data": {
      "text/html": [
       "<pre>recommendations finished on 48000/372991 queries. users per second: 4394.79</pre>"
      ],
      "text/plain": [
       "recommendations finished on 48000/372991 queries. users per second: 4394.79"
      ]
     },
     "metadata": {},
     "output_type": "display_data"
    },
    {
     "data": {
      "text/html": [
       "<pre>recommendations finished on 49000/372991 queries. users per second: 4395.61</pre>"
      ],
      "text/plain": [
       "recommendations finished on 49000/372991 queries. users per second: 4395.61"
      ]
     },
     "metadata": {},
     "output_type": "display_data"
    },
    {
     "data": {
      "text/html": [
       "<pre>recommendations finished on 50000/372991 queries. users per second: 4395.47</pre>"
      ],
      "text/plain": [
       "recommendations finished on 50000/372991 queries. users per second: 4395.47"
      ]
     },
     "metadata": {},
     "output_type": "display_data"
    },
    {
     "data": {
      "text/html": [
       "<pre>recommendations finished on 51000/372991 queries. users per second: 4397.38</pre>"
      ],
      "text/plain": [
       "recommendations finished on 51000/372991 queries. users per second: 4397.38"
      ]
     },
     "metadata": {},
     "output_type": "display_data"
    },
    {
     "data": {
      "text/html": [
       "<pre>recommendations finished on 52000/372991 queries. users per second: 4396.77</pre>"
      ],
      "text/plain": [
       "recommendations finished on 52000/372991 queries. users per second: 4396.77"
      ]
     },
     "metadata": {},
     "output_type": "display_data"
    },
    {
     "data": {
      "text/html": [
       "<pre>recommendations finished on 53000/372991 queries. users per second: 4404.7</pre>"
      ],
      "text/plain": [
       "recommendations finished on 53000/372991 queries. users per second: 4404.7"
      ]
     },
     "metadata": {},
     "output_type": "display_data"
    },
    {
     "data": {
      "text/html": [
       "<pre>recommendations finished on 54000/372991 queries. users per second: 4411.89</pre>"
      ],
      "text/plain": [
       "recommendations finished on 54000/372991 queries. users per second: 4411.89"
      ]
     },
     "metadata": {},
     "output_type": "display_data"
    },
    {
     "data": {
      "text/html": [
       "<pre>recommendations finished on 55000/372991 queries. users per second: 4419.25</pre>"
      ],
      "text/plain": [
       "recommendations finished on 55000/372991 queries. users per second: 4419.25"
      ]
     },
     "metadata": {},
     "output_type": "display_data"
    },
    {
     "data": {
      "text/html": [
       "<pre>recommendations finished on 56000/372991 queries. users per second: 4426.32</pre>"
      ],
      "text/plain": [
       "recommendations finished on 56000/372991 queries. users per second: 4426.32"
      ]
     },
     "metadata": {},
     "output_type": "display_data"
    },
    {
     "data": {
      "text/html": [
       "<pre>recommendations finished on 57000/372991 queries. users per second: 4428.49</pre>"
      ],
      "text/plain": [
       "recommendations finished on 57000/372991 queries. users per second: 4428.49"
      ]
     },
     "metadata": {},
     "output_type": "display_data"
    },
    {
     "data": {
      "text/html": [
       "<pre>recommendations finished on 58000/372991 queries. users per second: 4423.71</pre>"
      ],
      "text/plain": [
       "recommendations finished on 58000/372991 queries. users per second: 4423.71"
      ]
     },
     "metadata": {},
     "output_type": "display_data"
    },
    {
     "data": {
      "text/html": [
       "<pre>recommendations finished on 59000/372991 queries. users per second: 4428.05</pre>"
      ],
      "text/plain": [
       "recommendations finished on 59000/372991 queries. users per second: 4428.05"
      ]
     },
     "metadata": {},
     "output_type": "display_data"
    },
    {
     "data": {
      "text/html": [
       "<pre>recommendations finished on 60000/372991 queries. users per second: 4429.84</pre>"
      ],
      "text/plain": [
       "recommendations finished on 60000/372991 queries. users per second: 4429.84"
      ]
     },
     "metadata": {},
     "output_type": "display_data"
    },
    {
     "data": {
      "text/html": [
       "<pre>recommendations finished on 61000/372991 queries. users per second: 4432.66</pre>"
      ],
      "text/plain": [
       "recommendations finished on 61000/372991 queries. users per second: 4432.66"
      ]
     },
     "metadata": {},
     "output_type": "display_data"
    },
    {
     "data": {
      "text/html": [
       "<pre>recommendations finished on 62000/372991 queries. users per second: 4434.76</pre>"
      ],
      "text/plain": [
       "recommendations finished on 62000/372991 queries. users per second: 4434.76"
      ]
     },
     "metadata": {},
     "output_type": "display_data"
    },
    {
     "data": {
      "text/html": [
       "<pre>recommendations finished on 63000/372991 queries. users per second: 4440.39</pre>"
      ],
      "text/plain": [
       "recommendations finished on 63000/372991 queries. users per second: 4440.39"
      ]
     },
     "metadata": {},
     "output_type": "display_data"
    },
    {
     "data": {
      "text/html": [
       "<pre>recommendations finished on 64000/372991 queries. users per second: 4444.26</pre>"
      ],
      "text/plain": [
       "recommendations finished on 64000/372991 queries. users per second: 4444.26"
      ]
     },
     "metadata": {},
     "output_type": "display_data"
    },
    {
     "data": {
      "text/html": [
       "<pre>recommendations finished on 65000/372991 queries. users per second: 4446.18</pre>"
      ],
      "text/plain": [
       "recommendations finished on 65000/372991 queries. users per second: 4446.18"
      ]
     },
     "metadata": {},
     "output_type": "display_data"
    },
    {
     "data": {
      "text/html": [
       "<pre>recommendations finished on 66000/372991 queries. users per second: 4451.21</pre>"
      ],
      "text/plain": [
       "recommendations finished on 66000/372991 queries. users per second: 4451.21"
      ]
     },
     "metadata": {},
     "output_type": "display_data"
    },
    {
     "data": {
      "text/html": [
       "<pre>recommendations finished on 67000/372991 queries. users per second: 4444.84</pre>"
      ],
      "text/plain": [
       "recommendations finished on 67000/372991 queries. users per second: 4444.84"
      ]
     },
     "metadata": {},
     "output_type": "display_data"
    },
    {
     "data": {
      "text/html": [
       "<pre>recommendations finished on 68000/372991 queries. users per second: 4443.79</pre>"
      ],
      "text/plain": [
       "recommendations finished on 68000/372991 queries. users per second: 4443.79"
      ]
     },
     "metadata": {},
     "output_type": "display_data"
    },
    {
     "data": {
      "text/html": [
       "<pre>recommendations finished on 69000/372991 queries. users per second: 4449.79</pre>"
      ],
      "text/plain": [
       "recommendations finished on 69000/372991 queries. users per second: 4449.79"
      ]
     },
     "metadata": {},
     "output_type": "display_data"
    },
    {
     "data": {
      "text/html": [
       "<pre>recommendations finished on 70000/372991 queries. users per second: 4450.86</pre>"
      ],
      "text/plain": [
       "recommendations finished on 70000/372991 queries. users per second: 4450.86"
      ]
     },
     "metadata": {},
     "output_type": "display_data"
    },
    {
     "data": {
      "text/html": [
       "<pre>recommendations finished on 71000/372991 queries. users per second: 4452.72</pre>"
      ],
      "text/plain": [
       "recommendations finished on 71000/372991 queries. users per second: 4452.72"
      ]
     },
     "metadata": {},
     "output_type": "display_data"
    },
    {
     "data": {
      "text/html": [
       "<pre>recommendations finished on 72000/372991 queries. users per second: 4455.25</pre>"
      ],
      "text/plain": [
       "recommendations finished on 72000/372991 queries. users per second: 4455.25"
      ]
     },
     "metadata": {},
     "output_type": "display_data"
    },
    {
     "data": {
      "text/html": [
       "<pre>recommendations finished on 73000/372991 queries. users per second: 4460.48</pre>"
      ],
      "text/plain": [
       "recommendations finished on 73000/372991 queries. users per second: 4460.48"
      ]
     },
     "metadata": {},
     "output_type": "display_data"
    },
    {
     "data": {
      "text/html": [
       "<pre>recommendations finished on 74000/372991 queries. users per second: 4466.01</pre>"
      ],
      "text/plain": [
       "recommendations finished on 74000/372991 queries. users per second: 4466.01"
      ]
     },
     "metadata": {},
     "output_type": "display_data"
    },
    {
     "data": {
      "text/html": [
       "<pre>recommendations finished on 75000/372991 queries. users per second: 4469.48</pre>"
      ],
      "text/plain": [
       "recommendations finished on 75000/372991 queries. users per second: 4469.48"
      ]
     },
     "metadata": {},
     "output_type": "display_data"
    },
    {
     "data": {
      "text/html": [
       "<pre>recommendations finished on 76000/372991 queries. users per second: 4466.64</pre>"
      ],
      "text/plain": [
       "recommendations finished on 76000/372991 queries. users per second: 4466.64"
      ]
     },
     "metadata": {},
     "output_type": "display_data"
    },
    {
     "data": {
      "text/html": [
       "<pre>recommendations finished on 77000/372991 queries. users per second: 4470.25</pre>"
      ],
      "text/plain": [
       "recommendations finished on 77000/372991 queries. users per second: 4470.25"
      ]
     },
     "metadata": {},
     "output_type": "display_data"
    },
    {
     "data": {
      "text/html": [
       "<pre>recommendations finished on 78000/372991 queries. users per second: 4472.32</pre>"
      ],
      "text/plain": [
       "recommendations finished on 78000/372991 queries. users per second: 4472.32"
      ]
     },
     "metadata": {},
     "output_type": "display_data"
    },
    {
     "data": {
      "text/html": [
       "<pre>recommendations finished on 79000/372991 queries. users per second: 4477.01</pre>"
      ],
      "text/plain": [
       "recommendations finished on 79000/372991 queries. users per second: 4477.01"
      ]
     },
     "metadata": {},
     "output_type": "display_data"
    },
    {
     "data": {
      "text/html": [
       "<pre>recommendations finished on 80000/372991 queries. users per second: 4482.17</pre>"
      ],
      "text/plain": [
       "recommendations finished on 80000/372991 queries. users per second: 4482.17"
      ]
     },
     "metadata": {},
     "output_type": "display_data"
    },
    {
     "data": {
      "text/html": [
       "<pre>recommendations finished on 81000/372991 queries. users per second: 4485</pre>"
      ],
      "text/plain": [
       "recommendations finished on 81000/372991 queries. users per second: 4485"
      ]
     },
     "metadata": {},
     "output_type": "display_data"
    },
    {
     "data": {
      "text/html": [
       "<pre>recommendations finished on 82000/372991 queries. users per second: 4481.26</pre>"
      ],
      "text/plain": [
       "recommendations finished on 82000/372991 queries. users per second: 4481.26"
      ]
     },
     "metadata": {},
     "output_type": "display_data"
    },
    {
     "data": {
      "text/html": [
       "<pre>recommendations finished on 83000/372991 queries. users per second: 4478.15</pre>"
      ],
      "text/plain": [
       "recommendations finished on 83000/372991 queries. users per second: 4478.15"
      ]
     },
     "metadata": {},
     "output_type": "display_data"
    },
    {
     "data": {
      "text/html": [
       "<pre>recommendations finished on 84000/372991 queries. users per second: 4475.63</pre>"
      ],
      "text/plain": [
       "recommendations finished on 84000/372991 queries. users per second: 4475.63"
      ]
     },
     "metadata": {},
     "output_type": "display_data"
    },
    {
     "data": {
      "text/html": [
       "<pre>recommendations finished on 85000/372991 queries. users per second: 4480.98</pre>"
      ],
      "text/plain": [
       "recommendations finished on 85000/372991 queries. users per second: 4480.98"
      ]
     },
     "metadata": {},
     "output_type": "display_data"
    },
    {
     "data": {
      "text/html": [
       "<pre>recommendations finished on 86000/372991 queries. users per second: 4480.46</pre>"
      ],
      "text/plain": [
       "recommendations finished on 86000/372991 queries. users per second: 4480.46"
      ]
     },
     "metadata": {},
     "output_type": "display_data"
    },
    {
     "data": {
      "text/html": [
       "<pre>recommendations finished on 87000/372991 queries. users per second: 4482.25</pre>"
      ],
      "text/plain": [
       "recommendations finished on 87000/372991 queries. users per second: 4482.25"
      ]
     },
     "metadata": {},
     "output_type": "display_data"
    },
    {
     "data": {
      "text/html": [
       "<pre>recommendations finished on 88000/372991 queries. users per second: 4482.42</pre>"
      ],
      "text/plain": [
       "recommendations finished on 88000/372991 queries. users per second: 4482.42"
      ]
     },
     "metadata": {},
     "output_type": "display_data"
    },
    {
     "data": {
      "text/html": [
       "<pre>recommendations finished on 89000/372991 queries. users per second: 4485.61</pre>"
      ],
      "text/plain": [
       "recommendations finished on 89000/372991 queries. users per second: 4485.61"
      ]
     },
     "metadata": {},
     "output_type": "display_data"
    },
    {
     "data": {
      "text/html": [
       "<pre>recommendations finished on 90000/372991 queries. users per second: 4488.85</pre>"
      ],
      "text/plain": [
       "recommendations finished on 90000/372991 queries. users per second: 4488.85"
      ]
     },
     "metadata": {},
     "output_type": "display_data"
    },
    {
     "data": {
      "text/html": [
       "<pre>recommendations finished on 91000/372991 queries. users per second: 4492.23</pre>"
      ],
      "text/plain": [
       "recommendations finished on 91000/372991 queries. users per second: 4492.23"
      ]
     },
     "metadata": {},
     "output_type": "display_data"
    },
    {
     "data": {
      "text/html": [
       "<pre>recommendations finished on 92000/372991 queries. users per second: 4494.89</pre>"
      ],
      "text/plain": [
       "recommendations finished on 92000/372991 queries. users per second: 4494.89"
      ]
     },
     "metadata": {},
     "output_type": "display_data"
    },
    {
     "data": {
      "text/html": [
       "<pre>recommendations finished on 93000/372991 queries. users per second: 4497.47</pre>"
      ],
      "text/plain": [
       "recommendations finished on 93000/372991 queries. users per second: 4497.47"
      ]
     },
     "metadata": {},
     "output_type": "display_data"
    },
    {
     "data": {
      "text/html": [
       "<pre>recommendations finished on 94000/372991 queries. users per second: 4501.06</pre>"
      ],
      "text/plain": [
       "recommendations finished on 94000/372991 queries. users per second: 4501.06"
      ]
     },
     "metadata": {},
     "output_type": "display_data"
    },
    {
     "data": {
      "text/html": [
       "<pre>recommendations finished on 95000/372991 queries. users per second: 4504.44</pre>"
      ],
      "text/plain": [
       "recommendations finished on 95000/372991 queries. users per second: 4504.44"
      ]
     },
     "metadata": {},
     "output_type": "display_data"
    },
    {
     "data": {
      "text/html": [
       "<pre>recommendations finished on 96000/372991 queries. users per second: 4508.35</pre>"
      ],
      "text/plain": [
       "recommendations finished on 96000/372991 queries. users per second: 4508.35"
      ]
     },
     "metadata": {},
     "output_type": "display_data"
    },
    {
     "data": {
      "text/html": [
       "<pre>recommendations finished on 97000/372991 queries. users per second: 4512.39</pre>"
      ],
      "text/plain": [
       "recommendations finished on 97000/372991 queries. users per second: 4512.39"
      ]
     },
     "metadata": {},
     "output_type": "display_data"
    },
    {
     "data": {
      "text/html": [
       "<pre>recommendations finished on 98000/372991 queries. users per second: 4515.77</pre>"
      ],
      "text/plain": [
       "recommendations finished on 98000/372991 queries. users per second: 4515.77"
      ]
     },
     "metadata": {},
     "output_type": "display_data"
    },
    {
     "data": {
      "text/html": [
       "<pre>recommendations finished on 99000/372991 queries. users per second: 4519.83</pre>"
      ],
      "text/plain": [
       "recommendations finished on 99000/372991 queries. users per second: 4519.83"
      ]
     },
     "metadata": {},
     "output_type": "display_data"
    },
    {
     "data": {
      "text/html": [
       "<pre>recommendations finished on 100000/372991 queries. users per second: 4521.97</pre>"
      ],
      "text/plain": [
       "recommendations finished on 100000/372991 queries. users per second: 4521.97"
      ]
     },
     "metadata": {},
     "output_type": "display_data"
    },
    {
     "data": {
      "text/html": [
       "<pre>recommendations finished on 101000/372991 queries. users per second: 4525.51</pre>"
      ],
      "text/plain": [
       "recommendations finished on 101000/372991 queries. users per second: 4525.51"
      ]
     },
     "metadata": {},
     "output_type": "display_data"
    },
    {
     "data": {
      "text/html": [
       "<pre>recommendations finished on 102000/372991 queries. users per second: 4529.36</pre>"
      ],
      "text/plain": [
       "recommendations finished on 102000/372991 queries. users per second: 4529.36"
      ]
     },
     "metadata": {},
     "output_type": "display_data"
    },
    {
     "data": {
      "text/html": [
       "<pre>recommendations finished on 103000/372991 queries. users per second: 4532.22</pre>"
      ],
      "text/plain": [
       "recommendations finished on 103000/372991 queries. users per second: 4532.22"
      ]
     },
     "metadata": {},
     "output_type": "display_data"
    },
    {
     "data": {
      "text/html": [
       "<pre>recommendations finished on 104000/372991 queries. users per second: 4535.64</pre>"
      ],
      "text/plain": [
       "recommendations finished on 104000/372991 queries. users per second: 4535.64"
      ]
     },
     "metadata": {},
     "output_type": "display_data"
    },
    {
     "data": {
      "text/html": [
       "<pre>recommendations finished on 105000/372991 queries. users per second: 4537.8</pre>"
      ],
      "text/plain": [
       "recommendations finished on 105000/372991 queries. users per second: 4537.8"
      ]
     },
     "metadata": {},
     "output_type": "display_data"
    },
    {
     "data": {
      "text/html": [
       "<pre>recommendations finished on 106000/372991 queries. users per second: 4540.18</pre>"
      ],
      "text/plain": [
       "recommendations finished on 106000/372991 queries. users per second: 4540.18"
      ]
     },
     "metadata": {},
     "output_type": "display_data"
    },
    {
     "data": {
      "text/html": [
       "<pre>recommendations finished on 107000/372991 queries. users per second: 4541.45</pre>"
      ],
      "text/plain": [
       "recommendations finished on 107000/372991 queries. users per second: 4541.45"
      ]
     },
     "metadata": {},
     "output_type": "display_data"
    },
    {
     "data": {
      "text/html": [
       "<pre>recommendations finished on 108000/372991 queries. users per second: 4545.21</pre>"
      ],
      "text/plain": [
       "recommendations finished on 108000/372991 queries. users per second: 4545.21"
      ]
     },
     "metadata": {},
     "output_type": "display_data"
    },
    {
     "data": {
      "text/html": [
       "<pre>recommendations finished on 109000/372991 queries. users per second: 4549.17</pre>"
      ],
      "text/plain": [
       "recommendations finished on 109000/372991 queries. users per second: 4549.17"
      ]
     },
     "metadata": {},
     "output_type": "display_data"
    },
    {
     "data": {
      "text/html": [
       "<pre>recommendations finished on 110000/372991 queries. users per second: 4552.89</pre>"
      ],
      "text/plain": [
       "recommendations finished on 110000/372991 queries. users per second: 4552.89"
      ]
     },
     "metadata": {},
     "output_type": "display_data"
    },
    {
     "data": {
      "text/html": [
       "<pre>recommendations finished on 111000/372991 queries. users per second: 4556.67</pre>"
      ],
      "text/plain": [
       "recommendations finished on 111000/372991 queries. users per second: 4556.67"
      ]
     },
     "metadata": {},
     "output_type": "display_data"
    },
    {
     "data": {
      "text/html": [
       "<pre>recommendations finished on 112000/372991 queries. users per second: 4559.09</pre>"
      ],
      "text/plain": [
       "recommendations finished on 112000/372991 queries. users per second: 4559.09"
      ]
     },
     "metadata": {},
     "output_type": "display_data"
    },
    {
     "data": {
      "text/html": [
       "<pre>recommendations finished on 113000/372991 queries. users per second: 4561.8</pre>"
      ],
      "text/plain": [
       "recommendations finished on 113000/372991 queries. users per second: 4561.8"
      ]
     },
     "metadata": {},
     "output_type": "display_data"
    },
    {
     "data": {
      "text/html": [
       "<pre>recommendations finished on 114000/372991 queries. users per second: 4565.07</pre>"
      ],
      "text/plain": [
       "recommendations finished on 114000/372991 queries. users per second: 4565.07"
      ]
     },
     "metadata": {},
     "output_type": "display_data"
    },
    {
     "data": {
      "text/html": [
       "<pre>recommendations finished on 115000/372991 queries. users per second: 4568.35</pre>"
      ],
      "text/plain": [
       "recommendations finished on 115000/372991 queries. users per second: 4568.35"
      ]
     },
     "metadata": {},
     "output_type": "display_data"
    },
    {
     "data": {
      "text/html": [
       "<pre>recommendations finished on 116000/372991 queries. users per second: 4569.27</pre>"
      ],
      "text/plain": [
       "recommendations finished on 116000/372991 queries. users per second: 4569.27"
      ]
     },
     "metadata": {},
     "output_type": "display_data"
    },
    {
     "data": {
      "text/html": [
       "<pre>recommendations finished on 117000/372991 queries. users per second: 4571.66</pre>"
      ],
      "text/plain": [
       "recommendations finished on 117000/372991 queries. users per second: 4571.66"
      ]
     },
     "metadata": {},
     "output_type": "display_data"
    },
    {
     "data": {
      "text/html": [
       "<pre>recommendations finished on 118000/372991 queries. users per second: 4573.66</pre>"
      ],
      "text/plain": [
       "recommendations finished on 118000/372991 queries. users per second: 4573.66"
      ]
     },
     "metadata": {},
     "output_type": "display_data"
    },
    {
     "data": {
      "text/html": [
       "<pre>recommendations finished on 119000/372991 queries. users per second: 4575.85</pre>"
      ],
      "text/plain": [
       "recommendations finished on 119000/372991 queries. users per second: 4575.85"
      ]
     },
     "metadata": {},
     "output_type": "display_data"
    },
    {
     "data": {
      "text/html": [
       "<pre>recommendations finished on 120000/372991 queries. users per second: 4578.76</pre>"
      ],
      "text/plain": [
       "recommendations finished on 120000/372991 queries. users per second: 4578.76"
      ]
     },
     "metadata": {},
     "output_type": "display_data"
    },
    {
     "data": {
      "text/html": [
       "<pre>recommendations finished on 121000/372991 queries. users per second: 4581.18</pre>"
      ],
      "text/plain": [
       "recommendations finished on 121000/372991 queries. users per second: 4581.18"
      ]
     },
     "metadata": {},
     "output_type": "display_data"
    },
    {
     "data": {
      "text/html": [
       "<pre>recommendations finished on 122000/372991 queries. users per second: 4582.06</pre>"
      ],
      "text/plain": [
       "recommendations finished on 122000/372991 queries. users per second: 4582.06"
      ]
     },
     "metadata": {},
     "output_type": "display_data"
    },
    {
     "data": {
      "text/html": [
       "<pre>recommendations finished on 123000/372991 queries. users per second: 4584.44</pre>"
      ],
      "text/plain": [
       "recommendations finished on 123000/372991 queries. users per second: 4584.44"
      ]
     },
     "metadata": {},
     "output_type": "display_data"
    },
    {
     "data": {
      "text/html": [
       "<pre>recommendations finished on 124000/372991 queries. users per second: 4587.51</pre>"
      ],
      "text/plain": [
       "recommendations finished on 124000/372991 queries. users per second: 4587.51"
      ]
     },
     "metadata": {},
     "output_type": "display_data"
    },
    {
     "data": {
      "text/html": [
       "<pre>recommendations finished on 125000/372991 queries. users per second: 4588.82</pre>"
      ],
      "text/plain": [
       "recommendations finished on 125000/372991 queries. users per second: 4588.82"
      ]
     },
     "metadata": {},
     "output_type": "display_data"
    },
    {
     "data": {
      "text/html": [
       "<pre>recommendations finished on 126000/372991 queries. users per second: 4590.49</pre>"
      ],
      "text/plain": [
       "recommendations finished on 126000/372991 queries. users per second: 4590.49"
      ]
     },
     "metadata": {},
     "output_type": "display_data"
    },
    {
     "data": {
      "text/html": [
       "<pre>recommendations finished on 127000/372991 queries. users per second: 4592.87</pre>"
      ],
      "text/plain": [
       "recommendations finished on 127000/372991 queries. users per second: 4592.87"
      ]
     },
     "metadata": {},
     "output_type": "display_data"
    },
    {
     "data": {
      "text/html": [
       "<pre>recommendations finished on 128000/372991 queries. users per second: 4595.21</pre>"
      ],
      "text/plain": [
       "recommendations finished on 128000/372991 queries. users per second: 4595.21"
      ]
     },
     "metadata": {},
     "output_type": "display_data"
    },
    {
     "data": {
      "text/html": [
       "<pre>recommendations finished on 129000/372991 queries. users per second: 4596.58</pre>"
      ],
      "text/plain": [
       "recommendations finished on 129000/372991 queries. users per second: 4596.58"
      ]
     },
     "metadata": {},
     "output_type": "display_data"
    },
    {
     "data": {
      "text/html": [
       "<pre>recommendations finished on 130000/372991 queries. users per second: 4598.59</pre>"
      ],
      "text/plain": [
       "recommendations finished on 130000/372991 queries. users per second: 4598.59"
      ]
     },
     "metadata": {},
     "output_type": "display_data"
    },
    {
     "data": {
      "text/html": [
       "<pre>recommendations finished on 131000/372991 queries. users per second: 4600.23</pre>"
      ],
      "text/plain": [
       "recommendations finished on 131000/372991 queries. users per second: 4600.23"
      ]
     },
     "metadata": {},
     "output_type": "display_data"
    },
    {
     "data": {
      "text/html": [
       "<pre>recommendations finished on 132000/372991 queries. users per second: 4601.52</pre>"
      ],
      "text/plain": [
       "recommendations finished on 132000/372991 queries. users per second: 4601.52"
      ]
     },
     "metadata": {},
     "output_type": "display_data"
    },
    {
     "data": {
      "text/html": [
       "<pre>recommendations finished on 133000/372991 queries. users per second: 4604.25</pre>"
      ],
      "text/plain": [
       "recommendations finished on 133000/372991 queries. users per second: 4604.25"
      ]
     },
     "metadata": {},
     "output_type": "display_data"
    },
    {
     "data": {
      "text/html": [
       "<pre>recommendations finished on 134000/372991 queries. users per second: 4604.77</pre>"
      ],
      "text/plain": [
       "recommendations finished on 134000/372991 queries. users per second: 4604.77"
      ]
     },
     "metadata": {},
     "output_type": "display_data"
    },
    {
     "data": {
      "text/html": [
       "<pre>recommendations finished on 135000/372991 queries. users per second: 4605.14</pre>"
      ],
      "text/plain": [
       "recommendations finished on 135000/372991 queries. users per second: 4605.14"
      ]
     },
     "metadata": {},
     "output_type": "display_data"
    },
    {
     "data": {
      "text/html": [
       "<pre>recommendations finished on 136000/372991 queries. users per second: 4607.49</pre>"
      ],
      "text/plain": [
       "recommendations finished on 136000/372991 queries. users per second: 4607.49"
      ]
     },
     "metadata": {},
     "output_type": "display_data"
    },
    {
     "data": {
      "text/html": [
       "<pre>recommendations finished on 137000/372991 queries. users per second: 4610.06</pre>"
      ],
      "text/plain": [
       "recommendations finished on 137000/372991 queries. users per second: 4610.06"
      ]
     },
     "metadata": {},
     "output_type": "display_data"
    },
    {
     "data": {
      "text/html": [
       "<pre>recommendations finished on 138000/372991 queries. users per second: 4612.4</pre>"
      ],
      "text/plain": [
       "recommendations finished on 138000/372991 queries. users per second: 4612.4"
      ]
     },
     "metadata": {},
     "output_type": "display_data"
    },
    {
     "data": {
      "text/html": [
       "<pre>recommendations finished on 139000/372991 queries. users per second: 4614.4</pre>"
      ],
      "text/plain": [
       "recommendations finished on 139000/372991 queries. users per second: 4614.4"
      ]
     },
     "metadata": {},
     "output_type": "display_data"
    },
    {
     "data": {
      "text/html": [
       "<pre>recommendations finished on 140000/372991 queries. users per second: 4615.79</pre>"
      ],
      "text/plain": [
       "recommendations finished on 140000/372991 queries. users per second: 4615.79"
      ]
     },
     "metadata": {},
     "output_type": "display_data"
    },
    {
     "data": {
      "text/html": [
       "<pre>recommendations finished on 141000/372991 queries. users per second: 4618.04</pre>"
      ],
      "text/plain": [
       "recommendations finished on 141000/372991 queries. users per second: 4618.04"
      ]
     },
     "metadata": {},
     "output_type": "display_data"
    },
    {
     "data": {
      "text/html": [
       "<pre>recommendations finished on 142000/372991 queries. users per second: 4618.75</pre>"
      ],
      "text/plain": [
       "recommendations finished on 142000/372991 queries. users per second: 4618.75"
      ]
     },
     "metadata": {},
     "output_type": "display_data"
    },
    {
     "data": {
      "text/html": [
       "<pre>recommendations finished on 143000/372991 queries. users per second: 4620.17</pre>"
      ],
      "text/plain": [
       "recommendations finished on 143000/372991 queries. users per second: 4620.17"
      ]
     },
     "metadata": {},
     "output_type": "display_data"
    },
    {
     "data": {
      "text/html": [
       "<pre>recommendations finished on 144000/372991 queries. users per second: 4622.41</pre>"
      ],
      "text/plain": [
       "recommendations finished on 144000/372991 queries. users per second: 4622.41"
      ]
     },
     "metadata": {},
     "output_type": "display_data"
    },
    {
     "data": {
      "text/html": [
       "<pre>recommendations finished on 145000/372991 queries. users per second: 4624.29</pre>"
      ],
      "text/plain": [
       "recommendations finished on 145000/372991 queries. users per second: 4624.29"
      ]
     },
     "metadata": {},
     "output_type": "display_data"
    },
    {
     "data": {
      "text/html": [
       "<pre>recommendations finished on 146000/372991 queries. users per second: 4625.78</pre>"
      ],
      "text/plain": [
       "recommendations finished on 146000/372991 queries. users per second: 4625.78"
      ]
     },
     "metadata": {},
     "output_type": "display_data"
    },
    {
     "data": {
      "text/html": [
       "<pre>recommendations finished on 147000/372991 queries. users per second: 4627.3</pre>"
      ],
      "text/plain": [
       "recommendations finished on 147000/372991 queries. users per second: 4627.3"
      ]
     },
     "metadata": {},
     "output_type": "display_data"
    },
    {
     "data": {
      "text/html": [
       "<pre>recommendations finished on 148000/372991 queries. users per second: 4628.39</pre>"
      ],
      "text/plain": [
       "recommendations finished on 148000/372991 queries. users per second: 4628.39"
      ]
     },
     "metadata": {},
     "output_type": "display_data"
    },
    {
     "data": {
      "text/html": [
       "<pre>recommendations finished on 149000/372991 queries. users per second: 4629.81</pre>"
      ],
      "text/plain": [
       "recommendations finished on 149000/372991 queries. users per second: 4629.81"
      ]
     },
     "metadata": {},
     "output_type": "display_data"
    },
    {
     "data": {
      "text/html": [
       "<pre>recommendations finished on 150000/372991 queries. users per second: 4630.97</pre>"
      ],
      "text/plain": [
       "recommendations finished on 150000/372991 queries. users per second: 4630.97"
      ]
     },
     "metadata": {},
     "output_type": "display_data"
    },
    {
     "data": {
      "text/html": [
       "<pre>recommendations finished on 151000/372991 queries. users per second: 4632.11</pre>"
      ],
      "text/plain": [
       "recommendations finished on 151000/372991 queries. users per second: 4632.11"
      ]
     },
     "metadata": {},
     "output_type": "display_data"
    },
    {
     "data": {
      "text/html": [
       "<pre>recommendations finished on 152000/372991 queries. users per second: 4632.75</pre>"
      ],
      "text/plain": [
       "recommendations finished on 152000/372991 queries. users per second: 4632.75"
      ]
     },
     "metadata": {},
     "output_type": "display_data"
    },
    {
     "data": {
      "text/html": [
       "<pre>recommendations finished on 153000/372991 queries. users per second: 4634.04</pre>"
      ],
      "text/plain": [
       "recommendations finished on 153000/372991 queries. users per second: 4634.04"
      ]
     },
     "metadata": {},
     "output_type": "display_data"
    },
    {
     "data": {
      "text/html": [
       "<pre>recommendations finished on 154000/372991 queries. users per second: 4635.18</pre>"
      ],
      "text/plain": [
       "recommendations finished on 154000/372991 queries. users per second: 4635.18"
      ]
     },
     "metadata": {},
     "output_type": "display_data"
    },
    {
     "data": {
      "text/html": [
       "<pre>recommendations finished on 155000/372991 queries. users per second: 4636.63</pre>"
      ],
      "text/plain": [
       "recommendations finished on 155000/372991 queries. users per second: 4636.63"
      ]
     },
     "metadata": {},
     "output_type": "display_data"
    },
    {
     "data": {
      "text/html": [
       "<pre>recommendations finished on 156000/372991 queries. users per second: 4637.9</pre>"
      ],
      "text/plain": [
       "recommendations finished on 156000/372991 queries. users per second: 4637.9"
      ]
     },
     "metadata": {},
     "output_type": "display_data"
    },
    {
     "data": {
      "text/html": [
       "<pre>recommendations finished on 157000/372991 queries. users per second: 4639.52</pre>"
      ],
      "text/plain": [
       "recommendations finished on 157000/372991 queries. users per second: 4639.52"
      ]
     },
     "metadata": {},
     "output_type": "display_data"
    },
    {
     "data": {
      "text/html": [
       "<pre>recommendations finished on 158000/372991 queries. users per second: 4640.68</pre>"
      ],
      "text/plain": [
       "recommendations finished on 158000/372991 queries. users per second: 4640.68"
      ]
     },
     "metadata": {},
     "output_type": "display_data"
    },
    {
     "data": {
      "text/html": [
       "<pre>recommendations finished on 159000/372991 queries. users per second: 4640.87</pre>"
      ],
      "text/plain": [
       "recommendations finished on 159000/372991 queries. users per second: 4640.87"
      ]
     },
     "metadata": {},
     "output_type": "display_data"
    },
    {
     "data": {
      "text/html": [
       "<pre>recommendations finished on 160000/372991 queries. users per second: 4641.63</pre>"
      ],
      "text/plain": [
       "recommendations finished on 160000/372991 queries. users per second: 4641.63"
      ]
     },
     "metadata": {},
     "output_type": "display_data"
    },
    {
     "data": {
      "text/html": [
       "<pre>recommendations finished on 161000/372991 queries. users per second: 4642.91</pre>"
      ],
      "text/plain": [
       "recommendations finished on 161000/372991 queries. users per second: 4642.91"
      ]
     },
     "metadata": {},
     "output_type": "display_data"
    },
    {
     "data": {
      "text/html": [
       "<pre>recommendations finished on 162000/372991 queries. users per second: 4643.97</pre>"
      ],
      "text/plain": [
       "recommendations finished on 162000/372991 queries. users per second: 4643.97"
      ]
     },
     "metadata": {},
     "output_type": "display_data"
    },
    {
     "data": {
      "text/html": [
       "<pre>recommendations finished on 163000/372991 queries. users per second: 4645.03</pre>"
      ],
      "text/plain": [
       "recommendations finished on 163000/372991 queries. users per second: 4645.03"
      ]
     },
     "metadata": {},
     "output_type": "display_data"
    },
    {
     "data": {
      "text/html": [
       "<pre>recommendations finished on 164000/372991 queries. users per second: 4646.14</pre>"
      ],
      "text/plain": [
       "recommendations finished on 164000/372991 queries. users per second: 4646.14"
      ]
     },
     "metadata": {},
     "output_type": "display_data"
    },
    {
     "data": {
      "text/html": [
       "<pre>recommendations finished on 165000/372991 queries. users per second: 4647.83</pre>"
      ],
      "text/plain": [
       "recommendations finished on 165000/372991 queries. users per second: 4647.83"
      ]
     },
     "metadata": {},
     "output_type": "display_data"
    },
    {
     "data": {
      "text/html": [
       "<pre>recommendations finished on 166000/372991 queries. users per second: 4649.04</pre>"
      ],
      "text/plain": [
       "recommendations finished on 166000/372991 queries. users per second: 4649.04"
      ]
     },
     "metadata": {},
     "output_type": "display_data"
    },
    {
     "data": {
      "text/html": [
       "<pre>recommendations finished on 167000/372991 queries. users per second: 4649.8</pre>"
      ],
      "text/plain": [
       "recommendations finished on 167000/372991 queries. users per second: 4649.8"
      ]
     },
     "metadata": {},
     "output_type": "display_data"
    },
    {
     "data": {
      "text/html": [
       "<pre>recommendations finished on 168000/372991 queries. users per second: 4650.36</pre>"
      ],
      "text/plain": [
       "recommendations finished on 168000/372991 queries. users per second: 4650.36"
      ]
     },
     "metadata": {},
     "output_type": "display_data"
    },
    {
     "data": {
      "text/html": [
       "<pre>recommendations finished on 169000/372991 queries. users per second: 4651.54</pre>"
      ],
      "text/plain": [
       "recommendations finished on 169000/372991 queries. users per second: 4651.54"
      ]
     },
     "metadata": {},
     "output_type": "display_data"
    },
    {
     "data": {
      "text/html": [
       "<pre>recommendations finished on 170000/372991 queries. users per second: 4652.79</pre>"
      ],
      "text/plain": [
       "recommendations finished on 170000/372991 queries. users per second: 4652.79"
      ]
     },
     "metadata": {},
     "output_type": "display_data"
    },
    {
     "data": {
      "text/html": [
       "<pre>recommendations finished on 171000/372991 queries. users per second: 4654.21</pre>"
      ],
      "text/plain": [
       "recommendations finished on 171000/372991 queries. users per second: 4654.21"
      ]
     },
     "metadata": {},
     "output_type": "display_data"
    },
    {
     "data": {
      "text/html": [
       "<pre>recommendations finished on 172000/372991 queries. users per second: 4655.29</pre>"
      ],
      "text/plain": [
       "recommendations finished on 172000/372991 queries. users per second: 4655.29"
      ]
     },
     "metadata": {},
     "output_type": "display_data"
    },
    {
     "data": {
      "text/html": [
       "<pre>recommendations finished on 173000/372991 queries. users per second: 4655.76</pre>"
      ],
      "text/plain": [
       "recommendations finished on 173000/372991 queries. users per second: 4655.76"
      ]
     },
     "metadata": {},
     "output_type": "display_data"
    },
    {
     "data": {
      "text/html": [
       "<pre>recommendations finished on 174000/372991 queries. users per second: 4656.47</pre>"
      ],
      "text/plain": [
       "recommendations finished on 174000/372991 queries. users per second: 4656.47"
      ]
     },
     "metadata": {},
     "output_type": "display_data"
    },
    {
     "data": {
      "text/html": [
       "<pre>recommendations finished on 175000/372991 queries. users per second: 4657.45</pre>"
      ],
      "text/plain": [
       "recommendations finished on 175000/372991 queries. users per second: 4657.45"
      ]
     },
     "metadata": {},
     "output_type": "display_data"
    },
    {
     "data": {
      "text/html": [
       "<pre>recommendations finished on 176000/372991 queries. users per second: 4658.71</pre>"
      ],
      "text/plain": [
       "recommendations finished on 176000/372991 queries. users per second: 4658.71"
      ]
     },
     "metadata": {},
     "output_type": "display_data"
    },
    {
     "data": {
      "text/html": [
       "<pre>recommendations finished on 177000/372991 queries. users per second: 4660.01</pre>"
      ],
      "text/plain": [
       "recommendations finished on 177000/372991 queries. users per second: 4660.01"
      ]
     },
     "metadata": {},
     "output_type": "display_data"
    },
    {
     "data": {
      "text/html": [
       "<pre>recommendations finished on 178000/372991 queries. users per second: 4659.14</pre>"
      ],
      "text/plain": [
       "recommendations finished on 178000/372991 queries. users per second: 4659.14"
      ]
     },
     "metadata": {},
     "output_type": "display_data"
    },
    {
     "data": {
      "text/html": [
       "<pre>recommendations finished on 179000/372991 queries. users per second: 4660.21</pre>"
      ],
      "text/plain": [
       "recommendations finished on 179000/372991 queries. users per second: 4660.21"
      ]
     },
     "metadata": {},
     "output_type": "display_data"
    },
    {
     "data": {
      "text/html": [
       "<pre>recommendations finished on 180000/372991 queries. users per second: 4660.95</pre>"
      ],
      "text/plain": [
       "recommendations finished on 180000/372991 queries. users per second: 4660.95"
      ]
     },
     "metadata": {},
     "output_type": "display_data"
    },
    {
     "data": {
      "text/html": [
       "<pre>recommendations finished on 181000/372991 queries. users per second: 4661.98</pre>"
      ],
      "text/plain": [
       "recommendations finished on 181000/372991 queries. users per second: 4661.98"
      ]
     },
     "metadata": {},
     "output_type": "display_data"
    },
    {
     "data": {
      "text/html": [
       "<pre>recommendations finished on 182000/372991 queries. users per second: 4662.56</pre>"
      ],
      "text/plain": [
       "recommendations finished on 182000/372991 queries. users per second: 4662.56"
      ]
     },
     "metadata": {},
     "output_type": "display_data"
    },
    {
     "data": {
      "text/html": [
       "<pre>recommendations finished on 183000/372991 queries. users per second: 4663.14</pre>"
      ],
      "text/plain": [
       "recommendations finished on 183000/372991 queries. users per second: 4663.14"
      ]
     },
     "metadata": {},
     "output_type": "display_data"
    },
    {
     "data": {
      "text/html": [
       "<pre>recommendations finished on 184000/372991 queries. users per second: 4662.89</pre>"
      ],
      "text/plain": [
       "recommendations finished on 184000/372991 queries. users per second: 4662.89"
      ]
     },
     "metadata": {},
     "output_type": "display_data"
    },
    {
     "data": {
      "text/html": [
       "<pre>recommendations finished on 185000/372991 queries. users per second: 4663.45</pre>"
      ],
      "text/plain": [
       "recommendations finished on 185000/372991 queries. users per second: 4663.45"
      ]
     },
     "metadata": {},
     "output_type": "display_data"
    },
    {
     "data": {
      "text/html": [
       "<pre>recommendations finished on 186000/372991 queries. users per second: 4663.86</pre>"
      ],
      "text/plain": [
       "recommendations finished on 186000/372991 queries. users per second: 4663.86"
      ]
     },
     "metadata": {},
     "output_type": "display_data"
    },
    {
     "data": {
      "text/html": [
       "<pre>recommendations finished on 187000/372991 queries. users per second: 4664.51</pre>"
      ],
      "text/plain": [
       "recommendations finished on 187000/372991 queries. users per second: 4664.51"
      ]
     },
     "metadata": {},
     "output_type": "display_data"
    },
    {
     "data": {
      "text/html": [
       "<pre>recommendations finished on 188000/372991 queries. users per second: 4665.75</pre>"
      ],
      "text/plain": [
       "recommendations finished on 188000/372991 queries. users per second: 4665.75"
      ]
     },
     "metadata": {},
     "output_type": "display_data"
    },
    {
     "data": {
      "text/html": [
       "<pre>recommendations finished on 189000/372991 queries. users per second: 4666.79</pre>"
      ],
      "text/plain": [
       "recommendations finished on 189000/372991 queries. users per second: 4666.79"
      ]
     },
     "metadata": {},
     "output_type": "display_data"
    },
    {
     "data": {
      "text/html": [
       "<pre>recommendations finished on 190000/372991 queries. users per second: 4667.89</pre>"
      ],
      "text/plain": [
       "recommendations finished on 190000/372991 queries. users per second: 4667.89"
      ]
     },
     "metadata": {},
     "output_type": "display_data"
    },
    {
     "data": {
      "text/html": [
       "<pre>recommendations finished on 191000/372991 queries. users per second: 4668.69</pre>"
      ],
      "text/plain": [
       "recommendations finished on 191000/372991 queries. users per second: 4668.69"
      ]
     },
     "metadata": {},
     "output_type": "display_data"
    },
    {
     "data": {
      "text/html": [
       "<pre>recommendations finished on 192000/372991 queries. users per second: 4669.35</pre>"
      ],
      "text/plain": [
       "recommendations finished on 192000/372991 queries. users per second: 4669.35"
      ]
     },
     "metadata": {},
     "output_type": "display_data"
    },
    {
     "data": {
      "text/html": [
       "<pre>recommendations finished on 193000/372991 queries. users per second: 4670.15</pre>"
      ],
      "text/plain": [
       "recommendations finished on 193000/372991 queries. users per second: 4670.15"
      ]
     },
     "metadata": {},
     "output_type": "display_data"
    },
    {
     "data": {
      "text/html": [
       "<pre>recommendations finished on 194000/372991 queries. users per second: 4670.7</pre>"
      ],
      "text/plain": [
       "recommendations finished on 194000/372991 queries. users per second: 4670.7"
      ]
     },
     "metadata": {},
     "output_type": "display_data"
    },
    {
     "data": {
      "text/html": [
       "<pre>recommendations finished on 195000/372991 queries. users per second: 4672.02</pre>"
      ],
      "text/plain": [
       "recommendations finished on 195000/372991 queries. users per second: 4672.02"
      ]
     },
     "metadata": {},
     "output_type": "display_data"
    },
    {
     "data": {
      "text/html": [
       "<pre>recommendations finished on 196000/372991 queries. users per second: 4672.79</pre>"
      ],
      "text/plain": [
       "recommendations finished on 196000/372991 queries. users per second: 4672.79"
      ]
     },
     "metadata": {},
     "output_type": "display_data"
    },
    {
     "data": {
      "text/html": [
       "<pre>recommendations finished on 197000/372991 queries. users per second: 4672.97</pre>"
      ],
      "text/plain": [
       "recommendations finished on 197000/372991 queries. users per second: 4672.97"
      ]
     },
     "metadata": {},
     "output_type": "display_data"
    },
    {
     "data": {
      "text/html": [
       "<pre>recommendations finished on 198000/372991 queries. users per second: 4672.49</pre>"
      ],
      "text/plain": [
       "recommendations finished on 198000/372991 queries. users per second: 4672.49"
      ]
     },
     "metadata": {},
     "output_type": "display_data"
    },
    {
     "data": {
      "text/html": [
       "<pre>recommendations finished on 199000/372991 queries. users per second: 4673.24</pre>"
      ],
      "text/plain": [
       "recommendations finished on 199000/372991 queries. users per second: 4673.24"
      ]
     },
     "metadata": {},
     "output_type": "display_data"
    },
    {
     "data": {
      "text/html": [
       "<pre>recommendations finished on 200000/372991 queries. users per second: 4673.01</pre>"
      ],
      "text/plain": [
       "recommendations finished on 200000/372991 queries. users per second: 4673.01"
      ]
     },
     "metadata": {},
     "output_type": "display_data"
    },
    {
     "data": {
      "text/html": [
       "<pre>recommendations finished on 201000/372991 queries. users per second: 4673.59</pre>"
      ],
      "text/plain": [
       "recommendations finished on 201000/372991 queries. users per second: 4673.59"
      ]
     },
     "metadata": {},
     "output_type": "display_data"
    },
    {
     "data": {
      "text/html": [
       "<pre>recommendations finished on 202000/372991 queries. users per second: 4674.42</pre>"
      ],
      "text/plain": [
       "recommendations finished on 202000/372991 queries. users per second: 4674.42"
      ]
     },
     "metadata": {},
     "output_type": "display_data"
    },
    {
     "data": {
      "text/html": [
       "<pre>recommendations finished on 203000/372991 queries. users per second: 4674.68</pre>"
      ],
      "text/plain": [
       "recommendations finished on 203000/372991 queries. users per second: 4674.68"
      ]
     },
     "metadata": {},
     "output_type": "display_data"
    },
    {
     "data": {
      "text/html": [
       "<pre>recommendations finished on 204000/372991 queries. users per second: 4675.3</pre>"
      ],
      "text/plain": [
       "recommendations finished on 204000/372991 queries. users per second: 4675.3"
      ]
     },
     "metadata": {},
     "output_type": "display_data"
    },
    {
     "data": {
      "text/html": [
       "<pre>recommendations finished on 205000/372991 queries. users per second: 4675.87</pre>"
      ],
      "text/plain": [
       "recommendations finished on 205000/372991 queries. users per second: 4675.87"
      ]
     },
     "metadata": {},
     "output_type": "display_data"
    },
    {
     "data": {
      "text/html": [
       "<pre>recommendations finished on 206000/372991 queries. users per second: 4675.65</pre>"
      ],
      "text/plain": [
       "recommendations finished on 206000/372991 queries. users per second: 4675.65"
      ]
     },
     "metadata": {},
     "output_type": "display_data"
    },
    {
     "data": {
      "text/html": [
       "<pre>recommendations finished on 207000/372991 queries. users per second: 4676.03</pre>"
      ],
      "text/plain": [
       "recommendations finished on 207000/372991 queries. users per second: 4676.03"
      ]
     },
     "metadata": {},
     "output_type": "display_data"
    },
    {
     "data": {
      "text/html": [
       "<pre>recommendations finished on 208000/372991 queries. users per second: 4676.22</pre>"
      ],
      "text/plain": [
       "recommendations finished on 208000/372991 queries. users per second: 4676.22"
      ]
     },
     "metadata": {},
     "output_type": "display_data"
    },
    {
     "data": {
      "text/html": [
       "<pre>recommendations finished on 209000/372991 queries. users per second: 4676.84</pre>"
      ],
      "text/plain": [
       "recommendations finished on 209000/372991 queries. users per second: 4676.84"
      ]
     },
     "metadata": {},
     "output_type": "display_data"
    },
    {
     "data": {
      "text/html": [
       "<pre>recommendations finished on 210000/372991 queries. users per second: 4677.04</pre>"
      ],
      "text/plain": [
       "recommendations finished on 210000/372991 queries. users per second: 4677.04"
      ]
     },
     "metadata": {},
     "output_type": "display_data"
    },
    {
     "data": {
      "text/html": [
       "<pre>recommendations finished on 211000/372991 queries. users per second: 4677.12</pre>"
      ],
      "text/plain": [
       "recommendations finished on 211000/372991 queries. users per second: 4677.12"
      ]
     },
     "metadata": {},
     "output_type": "display_data"
    },
    {
     "data": {
      "text/html": [
       "<pre>recommendations finished on 212000/372991 queries. users per second: 4677.21</pre>"
      ],
      "text/plain": [
       "recommendations finished on 212000/372991 queries. users per second: 4677.21"
      ]
     },
     "metadata": {},
     "output_type": "display_data"
    },
    {
     "data": {
      "text/html": [
       "<pre>recommendations finished on 213000/372991 queries. users per second: 4677.51</pre>"
      ],
      "text/plain": [
       "recommendations finished on 213000/372991 queries. users per second: 4677.51"
      ]
     },
     "metadata": {},
     "output_type": "display_data"
    },
    {
     "data": {
      "text/html": [
       "<pre>recommendations finished on 214000/372991 queries. users per second: 4677.16</pre>"
      ],
      "text/plain": [
       "recommendations finished on 214000/372991 queries. users per second: 4677.16"
      ]
     },
     "metadata": {},
     "output_type": "display_data"
    },
    {
     "data": {
      "text/html": [
       "<pre>recommendations finished on 215000/372991 queries. users per second: 4676.38</pre>"
      ],
      "text/plain": [
       "recommendations finished on 215000/372991 queries. users per second: 4676.38"
      ]
     },
     "metadata": {},
     "output_type": "display_data"
    },
    {
     "data": {
      "text/html": [
       "<pre>recommendations finished on 216000/372991 queries. users per second: 4675.83</pre>"
      ],
      "text/plain": [
       "recommendations finished on 216000/372991 queries. users per second: 4675.83"
      ]
     },
     "metadata": {},
     "output_type": "display_data"
    },
    {
     "data": {
      "text/html": [
       "<pre>recommendations finished on 217000/372991 queries. users per second: 4675.46</pre>"
      ],
      "text/plain": [
       "recommendations finished on 217000/372991 queries. users per second: 4675.46"
      ]
     },
     "metadata": {},
     "output_type": "display_data"
    },
    {
     "data": {
      "text/html": [
       "<pre>recommendations finished on 218000/372991 queries. users per second: 4676.33</pre>"
      ],
      "text/plain": [
       "recommendations finished on 218000/372991 queries. users per second: 4676.33"
      ]
     },
     "metadata": {},
     "output_type": "display_data"
    },
    {
     "data": {
      "text/html": [
       "<pre>recommendations finished on 219000/372991 queries. users per second: 4676.46</pre>"
      ],
      "text/plain": [
       "recommendations finished on 219000/372991 queries. users per second: 4676.46"
      ]
     },
     "metadata": {},
     "output_type": "display_data"
    },
    {
     "data": {
      "text/html": [
       "<pre>recommendations finished on 220000/372991 queries. users per second: 4676.17</pre>"
      ],
      "text/plain": [
       "recommendations finished on 220000/372991 queries. users per second: 4676.17"
      ]
     },
     "metadata": {},
     "output_type": "display_data"
    },
    {
     "data": {
      "text/html": [
       "<pre>recommendations finished on 221000/372991 queries. users per second: 4676.66</pre>"
      ],
      "text/plain": [
       "recommendations finished on 221000/372991 queries. users per second: 4676.66"
      ]
     },
     "metadata": {},
     "output_type": "display_data"
    },
    {
     "data": {
      "text/html": [
       "<pre>recommendations finished on 222000/372991 queries. users per second: 4677.49</pre>"
      ],
      "text/plain": [
       "recommendations finished on 222000/372991 queries. users per second: 4677.49"
      ]
     },
     "metadata": {},
     "output_type": "display_data"
    },
    {
     "data": {
      "text/html": [
       "<pre>recommendations finished on 223000/372991 queries. users per second: 4677.69</pre>"
      ],
      "text/plain": [
       "recommendations finished on 223000/372991 queries. users per second: 4677.69"
      ]
     },
     "metadata": {},
     "output_type": "display_data"
    },
    {
     "data": {
      "text/html": [
       "<pre>recommendations finished on 224000/372991 queries. users per second: 4677.82</pre>"
      ],
      "text/plain": [
       "recommendations finished on 224000/372991 queries. users per second: 4677.82"
      ]
     },
     "metadata": {},
     "output_type": "display_data"
    },
    {
     "data": {
      "text/html": [
       "<pre>recommendations finished on 225000/372991 queries. users per second: 4677.79</pre>"
      ],
      "text/plain": [
       "recommendations finished on 225000/372991 queries. users per second: 4677.79"
      ]
     },
     "metadata": {},
     "output_type": "display_data"
    },
    {
     "data": {
      "text/html": [
       "<pre>recommendations finished on 226000/372991 queries. users per second: 4678.86</pre>"
      ],
      "text/plain": [
       "recommendations finished on 226000/372991 queries. users per second: 4678.86"
      ]
     },
     "metadata": {},
     "output_type": "display_data"
    },
    {
     "data": {
      "text/html": [
       "<pre>recommendations finished on 227000/372991 queries. users per second: 4679.18</pre>"
      ],
      "text/plain": [
       "recommendations finished on 227000/372991 queries. users per second: 4679.18"
      ]
     },
     "metadata": {},
     "output_type": "display_data"
    },
    {
     "data": {
      "text/html": [
       "<pre>recommendations finished on 228000/372991 queries. users per second: 4680.28</pre>"
      ],
      "text/plain": [
       "recommendations finished on 228000/372991 queries. users per second: 4680.28"
      ]
     },
     "metadata": {},
     "output_type": "display_data"
    },
    {
     "data": {
      "text/html": [
       "<pre>recommendations finished on 229000/372991 queries. users per second: 4680.81</pre>"
      ],
      "text/plain": [
       "recommendations finished on 229000/372991 queries. users per second: 4680.81"
      ]
     },
     "metadata": {},
     "output_type": "display_data"
    },
    {
     "data": {
      "text/html": [
       "<pre>recommendations finished on 230000/372991 queries. users per second: 4681.53</pre>"
      ],
      "text/plain": [
       "recommendations finished on 230000/372991 queries. users per second: 4681.53"
      ]
     },
     "metadata": {},
     "output_type": "display_data"
    },
    {
     "data": {
      "text/html": [
       "<pre>recommendations finished on 231000/372991 queries. users per second: 4682.04</pre>"
      ],
      "text/plain": [
       "recommendations finished on 231000/372991 queries. users per second: 4682.04"
      ]
     },
     "metadata": {},
     "output_type": "display_data"
    },
    {
     "data": {
      "text/html": [
       "<pre>recommendations finished on 232000/372991 queries. users per second: 4683.34</pre>"
      ],
      "text/plain": [
       "recommendations finished on 232000/372991 queries. users per second: 4683.34"
      ]
     },
     "metadata": {},
     "output_type": "display_data"
    },
    {
     "data": {
      "text/html": [
       "<pre>recommendations finished on 233000/372991 queries. users per second: 4684</pre>"
      ],
      "text/plain": [
       "recommendations finished on 233000/372991 queries. users per second: 4684"
      ]
     },
     "metadata": {},
     "output_type": "display_data"
    },
    {
     "data": {
      "text/html": [
       "<pre>recommendations finished on 234000/372991 queries. users per second: 4684.04</pre>"
      ],
      "text/plain": [
       "recommendations finished on 234000/372991 queries. users per second: 4684.04"
      ]
     },
     "metadata": {},
     "output_type": "display_data"
    },
    {
     "data": {
      "text/html": [
       "<pre>recommendations finished on 235000/372991 queries. users per second: 4684.2</pre>"
      ],
      "text/plain": [
       "recommendations finished on 235000/372991 queries. users per second: 4684.2"
      ]
     },
     "metadata": {},
     "output_type": "display_data"
    },
    {
     "data": {
      "text/html": [
       "<pre>recommendations finished on 236000/372991 queries. users per second: 4685.18</pre>"
      ],
      "text/plain": [
       "recommendations finished on 236000/372991 queries. users per second: 4685.18"
      ]
     },
     "metadata": {},
     "output_type": "display_data"
    },
    {
     "data": {
      "text/html": [
       "<pre>recommendations finished on 237000/372991 queries. users per second: 4684.7</pre>"
      ],
      "text/plain": [
       "recommendations finished on 237000/372991 queries. users per second: 4684.7"
      ]
     },
     "metadata": {},
     "output_type": "display_data"
    },
    {
     "data": {
      "text/html": [
       "<pre>recommendations finished on 238000/372991 queries. users per second: 4685.39</pre>"
      ],
      "text/plain": [
       "recommendations finished on 238000/372991 queries. users per second: 4685.39"
      ]
     },
     "metadata": {},
     "output_type": "display_data"
    },
    {
     "data": {
      "text/html": [
       "<pre>recommendations finished on 239000/372991 queries. users per second: 4685.97</pre>"
      ],
      "text/plain": [
       "recommendations finished on 239000/372991 queries. users per second: 4685.97"
      ]
     },
     "metadata": {},
     "output_type": "display_data"
    },
    {
     "data": {
      "text/html": [
       "<pre>recommendations finished on 240000/372991 queries. users per second: 4686.43</pre>"
      ],
      "text/plain": [
       "recommendations finished on 240000/372991 queries. users per second: 4686.43"
      ]
     },
     "metadata": {},
     "output_type": "display_data"
    },
    {
     "data": {
      "text/html": [
       "<pre>recommendations finished on 241000/372991 queries. users per second: 4687.44</pre>"
      ],
      "text/plain": [
       "recommendations finished on 241000/372991 queries. users per second: 4687.44"
      ]
     },
     "metadata": {},
     "output_type": "display_data"
    },
    {
     "data": {
      "text/html": [
       "<pre>recommendations finished on 242000/372991 queries. users per second: 4687.99</pre>"
      ],
      "text/plain": [
       "recommendations finished on 242000/372991 queries. users per second: 4687.99"
      ]
     },
     "metadata": {},
     "output_type": "display_data"
    },
    {
     "data": {
      "text/html": [
       "<pre>recommendations finished on 243000/372991 queries. users per second: 4687.12</pre>"
      ],
      "text/plain": [
       "recommendations finished on 243000/372991 queries. users per second: 4687.12"
      ]
     },
     "metadata": {},
     "output_type": "display_data"
    },
    {
     "data": {
      "text/html": [
       "<pre>recommendations finished on 244000/372991 queries. users per second: 4688.18</pre>"
      ],
      "text/plain": [
       "recommendations finished on 244000/372991 queries. users per second: 4688.18"
      ]
     },
     "metadata": {},
     "output_type": "display_data"
    },
    {
     "data": {
      "text/html": [
       "<pre>recommendations finished on 245000/372991 queries. users per second: 4688.81</pre>"
      ],
      "text/plain": [
       "recommendations finished on 245000/372991 queries. users per second: 4688.81"
      ]
     },
     "metadata": {},
     "output_type": "display_data"
    },
    {
     "data": {
      "text/html": [
       "<pre>recommendations finished on 246000/372991 queries. users per second: 4689.45</pre>"
      ],
      "text/plain": [
       "recommendations finished on 246000/372991 queries. users per second: 4689.45"
      ]
     },
     "metadata": {},
     "output_type": "display_data"
    },
    {
     "data": {
      "text/html": [
       "<pre>recommendations finished on 247000/372991 queries. users per second: 4689.54</pre>"
      ],
      "text/plain": [
       "recommendations finished on 247000/372991 queries. users per second: 4689.54"
      ]
     },
     "metadata": {},
     "output_type": "display_data"
    },
    {
     "data": {
      "text/html": [
       "<pre>recommendations finished on 248000/372991 queries. users per second: 4690.07</pre>"
      ],
      "text/plain": [
       "recommendations finished on 248000/372991 queries. users per second: 4690.07"
      ]
     },
     "metadata": {},
     "output_type": "display_data"
    },
    {
     "data": {
      "text/html": [
       "<pre>recommendations finished on 249000/372991 queries. users per second: 4690.06</pre>"
      ],
      "text/plain": [
       "recommendations finished on 249000/372991 queries. users per second: 4690.06"
      ]
     },
     "metadata": {},
     "output_type": "display_data"
    },
    {
     "data": {
      "text/html": [
       "<pre>recommendations finished on 250000/372991 queries. users per second: 4690.1</pre>"
      ],
      "text/plain": [
       "recommendations finished on 250000/372991 queries. users per second: 4690.1"
      ]
     },
     "metadata": {},
     "output_type": "display_data"
    },
    {
     "data": {
      "text/html": [
       "<pre>recommendations finished on 251000/372991 queries. users per second: 4690.14</pre>"
      ],
      "text/plain": [
       "recommendations finished on 251000/372991 queries. users per second: 4690.14"
      ]
     },
     "metadata": {},
     "output_type": "display_data"
    },
    {
     "data": {
      "text/html": [
       "<pre>recommendations finished on 252000/372991 queries. users per second: 4690.32</pre>"
      ],
      "text/plain": [
       "recommendations finished on 252000/372991 queries. users per second: 4690.32"
      ]
     },
     "metadata": {},
     "output_type": "display_data"
    },
    {
     "data": {
      "text/html": [
       "<pre>recommendations finished on 253000/372991 queries. users per second: 4690.46</pre>"
      ],
      "text/plain": [
       "recommendations finished on 253000/372991 queries. users per second: 4690.46"
      ]
     },
     "metadata": {},
     "output_type": "display_data"
    },
    {
     "data": {
      "text/html": [
       "<pre>recommendations finished on 254000/372991 queries. users per second: 4690.12</pre>"
      ],
      "text/plain": [
       "recommendations finished on 254000/372991 queries. users per second: 4690.12"
      ]
     },
     "metadata": {},
     "output_type": "display_data"
    },
    {
     "data": {
      "text/html": [
       "<pre>recommendations finished on 255000/372991 queries. users per second: 4690.72</pre>"
      ],
      "text/plain": [
       "recommendations finished on 255000/372991 queries. users per second: 4690.72"
      ]
     },
     "metadata": {},
     "output_type": "display_data"
    },
    {
     "data": {
      "text/html": [
       "<pre>recommendations finished on 256000/372991 queries. users per second: 4691.08</pre>"
      ],
      "text/plain": [
       "recommendations finished on 256000/372991 queries. users per second: 4691.08"
      ]
     },
     "metadata": {},
     "output_type": "display_data"
    },
    {
     "data": {
      "text/html": [
       "<pre>recommendations finished on 257000/372991 queries. users per second: 4691.76</pre>"
      ],
      "text/plain": [
       "recommendations finished on 257000/372991 queries. users per second: 4691.76"
      ]
     },
     "metadata": {},
     "output_type": "display_data"
    },
    {
     "data": {
      "text/html": [
       "<pre>recommendations finished on 258000/372991 queries. users per second: 4692.14</pre>"
      ],
      "text/plain": [
       "recommendations finished on 258000/372991 queries. users per second: 4692.14"
      ]
     },
     "metadata": {},
     "output_type": "display_data"
    },
    {
     "data": {
      "text/html": [
       "<pre>recommendations finished on 259000/372991 queries. users per second: 4692.01</pre>"
      ],
      "text/plain": [
       "recommendations finished on 259000/372991 queries. users per second: 4692.01"
      ]
     },
     "metadata": {},
     "output_type": "display_data"
    },
    {
     "data": {
      "text/html": [
       "<pre>recommendations finished on 260000/372991 queries. users per second: 4692.06</pre>"
      ],
      "text/plain": [
       "recommendations finished on 260000/372991 queries. users per second: 4692.06"
      ]
     },
     "metadata": {},
     "output_type": "display_data"
    },
    {
     "data": {
      "text/html": [
       "<pre>recommendations finished on 261000/372991 queries. users per second: 4692.49</pre>"
      ],
      "text/plain": [
       "recommendations finished on 261000/372991 queries. users per second: 4692.49"
      ]
     },
     "metadata": {},
     "output_type": "display_data"
    },
    {
     "data": {
      "text/html": [
       "<pre>recommendations finished on 262000/372991 queries. users per second: 4693.09</pre>"
      ],
      "text/plain": [
       "recommendations finished on 262000/372991 queries. users per second: 4693.09"
      ]
     },
     "metadata": {},
     "output_type": "display_data"
    },
    {
     "data": {
      "text/html": [
       "<pre>recommendations finished on 263000/372991 queries. users per second: 4693.75</pre>"
      ],
      "text/plain": [
       "recommendations finished on 263000/372991 queries. users per second: 4693.75"
      ]
     },
     "metadata": {},
     "output_type": "display_data"
    },
    {
     "data": {
      "text/html": [
       "<pre>recommendations finished on 264000/372991 queries. users per second: 4694.01</pre>"
      ],
      "text/plain": [
       "recommendations finished on 264000/372991 queries. users per second: 4694.01"
      ]
     },
     "metadata": {},
     "output_type": "display_data"
    },
    {
     "data": {
      "text/html": [
       "<pre>recommendations finished on 265000/372991 queries. users per second: 4693.81</pre>"
      ],
      "text/plain": [
       "recommendations finished on 265000/372991 queries. users per second: 4693.81"
      ]
     },
     "metadata": {},
     "output_type": "display_data"
    },
    {
     "data": {
      "text/html": [
       "<pre>recommendations finished on 266000/372991 queries. users per second: 4694.12</pre>"
      ],
      "text/plain": [
       "recommendations finished on 266000/372991 queries. users per second: 4694.12"
      ]
     },
     "metadata": {},
     "output_type": "display_data"
    },
    {
     "data": {
      "text/html": [
       "<pre>recommendations finished on 267000/372991 queries. users per second: 4694.06</pre>"
      ],
      "text/plain": [
       "recommendations finished on 267000/372991 queries. users per second: 4694.06"
      ]
     },
     "metadata": {},
     "output_type": "display_data"
    },
    {
     "data": {
      "text/html": [
       "<pre>recommendations finished on 268000/372991 queries. users per second: 4694.81</pre>"
      ],
      "text/plain": [
       "recommendations finished on 268000/372991 queries. users per second: 4694.81"
      ]
     },
     "metadata": {},
     "output_type": "display_data"
    },
    {
     "data": {
      "text/html": [
       "<pre>recommendations finished on 269000/372991 queries. users per second: 4695.15</pre>"
      ],
      "text/plain": [
       "recommendations finished on 269000/372991 queries. users per second: 4695.15"
      ]
     },
     "metadata": {},
     "output_type": "display_data"
    },
    {
     "data": {
      "text/html": [
       "<pre>recommendations finished on 270000/372991 queries. users per second: 4695.44</pre>"
      ],
      "text/plain": [
       "recommendations finished on 270000/372991 queries. users per second: 4695.44"
      ]
     },
     "metadata": {},
     "output_type": "display_data"
    },
    {
     "data": {
      "text/html": [
       "<pre>recommendations finished on 271000/372991 queries. users per second: 4695.14</pre>"
      ],
      "text/plain": [
       "recommendations finished on 271000/372991 queries. users per second: 4695.14"
      ]
     },
     "metadata": {},
     "output_type": "display_data"
    },
    {
     "data": {
      "text/html": [
       "<pre>recommendations finished on 272000/372991 queries. users per second: 4695.51</pre>"
      ],
      "text/plain": [
       "recommendations finished on 272000/372991 queries. users per second: 4695.51"
      ]
     },
     "metadata": {},
     "output_type": "display_data"
    },
    {
     "data": {
      "text/html": [
       "<pre>recommendations finished on 273000/372991 queries. users per second: 4690.2</pre>"
      ],
      "text/plain": [
       "recommendations finished on 273000/372991 queries. users per second: 4690.2"
      ]
     },
     "metadata": {},
     "output_type": "display_data"
    },
    {
     "data": {
      "text/html": [
       "<pre>recommendations finished on 274000/372991 queries. users per second: 4690.6</pre>"
      ],
      "text/plain": [
       "recommendations finished on 274000/372991 queries. users per second: 4690.6"
      ]
     },
     "metadata": {},
     "output_type": "display_data"
    },
    {
     "data": {
      "text/html": [
       "<pre>recommendations finished on 275000/372991 queries. users per second: 4691.33</pre>"
      ],
      "text/plain": [
       "recommendations finished on 275000/372991 queries. users per second: 4691.33"
      ]
     },
     "metadata": {},
     "output_type": "display_data"
    },
    {
     "data": {
      "text/html": [
       "<pre>recommendations finished on 276000/372991 queries. users per second: 4691.53</pre>"
      ],
      "text/plain": [
       "recommendations finished on 276000/372991 queries. users per second: 4691.53"
      ]
     },
     "metadata": {},
     "output_type": "display_data"
    },
    {
     "data": {
      "text/html": [
       "<pre>recommendations finished on 277000/372991 queries. users per second: 4691.96</pre>"
      ],
      "text/plain": [
       "recommendations finished on 277000/372991 queries. users per second: 4691.96"
      ]
     },
     "metadata": {},
     "output_type": "display_data"
    },
    {
     "data": {
      "text/html": [
       "<pre>recommendations finished on 278000/372991 queries. users per second: 4692.02</pre>"
      ],
      "text/plain": [
       "recommendations finished on 278000/372991 queries. users per second: 4692.02"
      ]
     },
     "metadata": {},
     "output_type": "display_data"
    },
    {
     "data": {
      "text/html": [
       "<pre>recommendations finished on 279000/372991 queries. users per second: 4692.15</pre>"
      ],
      "text/plain": [
       "recommendations finished on 279000/372991 queries. users per second: 4692.15"
      ]
     },
     "metadata": {},
     "output_type": "display_data"
    },
    {
     "data": {
      "text/html": [
       "<pre>recommendations finished on 280000/372991 queries. users per second: 4692.38</pre>"
      ],
      "text/plain": [
       "recommendations finished on 280000/372991 queries. users per second: 4692.38"
      ]
     },
     "metadata": {},
     "output_type": "display_data"
    },
    {
     "data": {
      "text/html": [
       "<pre>recommendations finished on 281000/372991 queries. users per second: 4692.7</pre>"
      ],
      "text/plain": [
       "recommendations finished on 281000/372991 queries. users per second: 4692.7"
      ]
     },
     "metadata": {},
     "output_type": "display_data"
    },
    {
     "data": {
      "text/html": [
       "<pre>recommendations finished on 282000/372991 queries. users per second: 4692.71</pre>"
      ],
      "text/plain": [
       "recommendations finished on 282000/372991 queries. users per second: 4692.71"
      ]
     },
     "metadata": {},
     "output_type": "display_data"
    },
    {
     "data": {
      "text/html": [
       "<pre>recommendations finished on 283000/372991 queries. users per second: 4692.83</pre>"
      ],
      "text/plain": [
       "recommendations finished on 283000/372991 queries. users per second: 4692.83"
      ]
     },
     "metadata": {},
     "output_type": "display_data"
    },
    {
     "data": {
      "text/html": [
       "<pre>recommendations finished on 284000/372991 queries. users per second: 4692.58</pre>"
      ],
      "text/plain": [
       "recommendations finished on 284000/372991 queries. users per second: 4692.58"
      ]
     },
     "metadata": {},
     "output_type": "display_data"
    },
    {
     "data": {
      "text/html": [
       "<pre>recommendations finished on 285000/372991 queries. users per second: 4692.09</pre>"
      ],
      "text/plain": [
       "recommendations finished on 285000/372991 queries. users per second: 4692.09"
      ]
     },
     "metadata": {},
     "output_type": "display_data"
    },
    {
     "data": {
      "text/html": [
       "<pre>recommendations finished on 286000/372991 queries. users per second: 4692.8</pre>"
      ],
      "text/plain": [
       "recommendations finished on 286000/372991 queries. users per second: 4692.8"
      ]
     },
     "metadata": {},
     "output_type": "display_data"
    },
    {
     "data": {
      "text/html": [
       "<pre>recommendations finished on 287000/372991 queries. users per second: 4693.01</pre>"
      ],
      "text/plain": [
       "recommendations finished on 287000/372991 queries. users per second: 4693.01"
      ]
     },
     "metadata": {},
     "output_type": "display_data"
    },
    {
     "data": {
      "text/html": [
       "<pre>recommendations finished on 288000/372991 queries. users per second: 4693.47</pre>"
      ],
      "text/plain": [
       "recommendations finished on 288000/372991 queries. users per second: 4693.47"
      ]
     },
     "metadata": {},
     "output_type": "display_data"
    },
    {
     "data": {
      "text/html": [
       "<pre>recommendations finished on 289000/372991 queries. users per second: 4693.49</pre>"
      ],
      "text/plain": [
       "recommendations finished on 289000/372991 queries. users per second: 4693.49"
      ]
     },
     "metadata": {},
     "output_type": "display_data"
    },
    {
     "data": {
      "text/html": [
       "<pre>recommendations finished on 290000/372991 queries. users per second: 4693.85</pre>"
      ],
      "text/plain": [
       "recommendations finished on 290000/372991 queries. users per second: 4693.85"
      ]
     },
     "metadata": {},
     "output_type": "display_data"
    },
    {
     "data": {
      "text/html": [
       "<pre>recommendations finished on 291000/372991 queries. users per second: 4694.64</pre>"
      ],
      "text/plain": [
       "recommendations finished on 291000/372991 queries. users per second: 4694.64"
      ]
     },
     "metadata": {},
     "output_type": "display_data"
    },
    {
     "data": {
      "text/html": [
       "<pre>recommendations finished on 292000/372991 queries. users per second: 4694.74</pre>"
      ],
      "text/plain": [
       "recommendations finished on 292000/372991 queries. users per second: 4694.74"
      ]
     },
     "metadata": {},
     "output_type": "display_data"
    },
    {
     "data": {
      "text/html": [
       "<pre>recommendations finished on 293000/372991 queries. users per second: 4695.22</pre>"
      ],
      "text/plain": [
       "recommendations finished on 293000/372991 queries. users per second: 4695.22"
      ]
     },
     "metadata": {},
     "output_type": "display_data"
    },
    {
     "data": {
      "text/html": [
       "<pre>recommendations finished on 294000/372991 queries. users per second: 4695.85</pre>"
      ],
      "text/plain": [
       "recommendations finished on 294000/372991 queries. users per second: 4695.85"
      ]
     },
     "metadata": {},
     "output_type": "display_data"
    },
    {
     "data": {
      "text/html": [
       "<pre>recommendations finished on 295000/372991 queries. users per second: 4695.98</pre>"
      ],
      "text/plain": [
       "recommendations finished on 295000/372991 queries. users per second: 4695.98"
      ]
     },
     "metadata": {},
     "output_type": "display_data"
    },
    {
     "data": {
      "text/html": [
       "<pre>recommendations finished on 296000/372991 queries. users per second: 4696.9</pre>"
      ],
      "text/plain": [
       "recommendations finished on 296000/372991 queries. users per second: 4696.9"
      ]
     },
     "metadata": {},
     "output_type": "display_data"
    },
    {
     "data": {
      "text/html": [
       "<pre>recommendations finished on 297000/372991 queries. users per second: 4698.03</pre>"
      ],
      "text/plain": [
       "recommendations finished on 297000/372991 queries. users per second: 4698.03"
      ]
     },
     "metadata": {},
     "output_type": "display_data"
    },
    {
     "data": {
      "text/html": [
       "<pre>recommendations finished on 298000/372991 queries. users per second: 4698.67</pre>"
      ],
      "text/plain": [
       "recommendations finished on 298000/372991 queries. users per second: 4698.67"
      ]
     },
     "metadata": {},
     "output_type": "display_data"
    },
    {
     "data": {
      "text/html": [
       "<pre>recommendations finished on 299000/372991 queries. users per second: 4699.08</pre>"
      ],
      "text/plain": [
       "recommendations finished on 299000/372991 queries. users per second: 4699.08"
      ]
     },
     "metadata": {},
     "output_type": "display_data"
    },
    {
     "data": {
      "text/html": [
       "<pre>recommendations finished on 300000/372991 queries. users per second: 4699.58</pre>"
      ],
      "text/plain": [
       "recommendations finished on 300000/372991 queries. users per second: 4699.58"
      ]
     },
     "metadata": {},
     "output_type": "display_data"
    },
    {
     "data": {
      "text/html": [
       "<pre>recommendations finished on 301000/372991 queries. users per second: 4699.46</pre>"
      ],
      "text/plain": [
       "recommendations finished on 301000/372991 queries. users per second: 4699.46"
      ]
     },
     "metadata": {},
     "output_type": "display_data"
    },
    {
     "data": {
      "text/html": [
       "<pre>recommendations finished on 302000/372991 queries. users per second: 4699.96</pre>"
      ],
      "text/plain": [
       "recommendations finished on 302000/372991 queries. users per second: 4699.96"
      ]
     },
     "metadata": {},
     "output_type": "display_data"
    },
    {
     "data": {
      "text/html": [
       "<pre>recommendations finished on 303000/372991 queries. users per second: 4700.23</pre>"
      ],
      "text/plain": [
       "recommendations finished on 303000/372991 queries. users per second: 4700.23"
      ]
     },
     "metadata": {},
     "output_type": "display_data"
    },
    {
     "data": {
      "text/html": [
       "<pre>recommendations finished on 304000/372991 queries. users per second: 4700.56</pre>"
      ],
      "text/plain": [
       "recommendations finished on 304000/372991 queries. users per second: 4700.56"
      ]
     },
     "metadata": {},
     "output_type": "display_data"
    },
    {
     "data": {
      "text/html": [
       "<pre>recommendations finished on 305000/372991 queries. users per second: 4700.05</pre>"
      ],
      "text/plain": [
       "recommendations finished on 305000/372991 queries. users per second: 4700.05"
      ]
     },
     "metadata": {},
     "output_type": "display_data"
    },
    {
     "data": {
      "text/html": [
       "<pre>recommendations finished on 306000/372991 queries. users per second: 4700.27</pre>"
      ],
      "text/plain": [
       "recommendations finished on 306000/372991 queries. users per second: 4700.27"
      ]
     },
     "metadata": {},
     "output_type": "display_data"
    },
    {
     "data": {
      "text/html": [
       "<pre>recommendations finished on 307000/372991 queries. users per second: 4700.39</pre>"
      ],
      "text/plain": [
       "recommendations finished on 307000/372991 queries. users per second: 4700.39"
      ]
     },
     "metadata": {},
     "output_type": "display_data"
    },
    {
     "data": {
      "text/html": [
       "<pre>recommendations finished on 308000/372991 queries. users per second: 4700.58</pre>"
      ],
      "text/plain": [
       "recommendations finished on 308000/372991 queries. users per second: 4700.58"
      ]
     },
     "metadata": {},
     "output_type": "display_data"
    },
    {
     "data": {
      "text/html": [
       "<pre>recommendations finished on 309000/372991 queries. users per second: 4700.56</pre>"
      ],
      "text/plain": [
       "recommendations finished on 309000/372991 queries. users per second: 4700.56"
      ]
     },
     "metadata": {},
     "output_type": "display_data"
    },
    {
     "data": {
      "text/html": [
       "<pre>recommendations finished on 310000/372991 queries. users per second: 4699.99</pre>"
      ],
      "text/plain": [
       "recommendations finished on 310000/372991 queries. users per second: 4699.99"
      ]
     },
     "metadata": {},
     "output_type": "display_data"
    },
    {
     "data": {
      "text/html": [
       "<pre>recommendations finished on 311000/372991 queries. users per second: 4700.02</pre>"
      ],
      "text/plain": [
       "recommendations finished on 311000/372991 queries. users per second: 4700.02"
      ]
     },
     "metadata": {},
     "output_type": "display_data"
    },
    {
     "data": {
      "text/html": [
       "<pre>recommendations finished on 312000/372991 queries. users per second: 4699.98</pre>"
      ],
      "text/plain": [
       "recommendations finished on 312000/372991 queries. users per second: 4699.98"
      ]
     },
     "metadata": {},
     "output_type": "display_data"
    },
    {
     "data": {
      "text/html": [
       "<pre>recommendations finished on 313000/372991 queries. users per second: 4699.88</pre>"
      ],
      "text/plain": [
       "recommendations finished on 313000/372991 queries. users per second: 4699.88"
      ]
     },
     "metadata": {},
     "output_type": "display_data"
    },
    {
     "data": {
      "text/html": [
       "<pre>recommendations finished on 314000/372991 queries. users per second: 4700.01</pre>"
      ],
      "text/plain": [
       "recommendations finished on 314000/372991 queries. users per second: 4700.01"
      ]
     },
     "metadata": {},
     "output_type": "display_data"
    },
    {
     "data": {
      "text/html": [
       "<pre>recommendations finished on 315000/372991 queries. users per second: 4700.17</pre>"
      ],
      "text/plain": [
       "recommendations finished on 315000/372991 queries. users per second: 4700.17"
      ]
     },
     "metadata": {},
     "output_type": "display_data"
    },
    {
     "data": {
      "text/html": [
       "<pre>recommendations finished on 316000/372991 queries. users per second: 4700.59</pre>"
      ],
      "text/plain": [
       "recommendations finished on 316000/372991 queries. users per second: 4700.59"
      ]
     },
     "metadata": {},
     "output_type": "display_data"
    },
    {
     "data": {
      "text/html": [
       "<pre>recommendations finished on 317000/372991 queries. users per second: 4700.65</pre>"
      ],
      "text/plain": [
       "recommendations finished on 317000/372991 queries. users per second: 4700.65"
      ]
     },
     "metadata": {},
     "output_type": "display_data"
    },
    {
     "data": {
      "text/html": [
       "<pre>recommendations finished on 318000/372991 queries. users per second: 4701.21</pre>"
      ],
      "text/plain": [
       "recommendations finished on 318000/372991 queries. users per second: 4701.21"
      ]
     },
     "metadata": {},
     "output_type": "display_data"
    },
    {
     "data": {
      "text/html": [
       "<pre>recommendations finished on 319000/372991 queries. users per second: 4701.37</pre>"
      ],
      "text/plain": [
       "recommendations finished on 319000/372991 queries. users per second: 4701.37"
      ]
     },
     "metadata": {},
     "output_type": "display_data"
    },
    {
     "data": {
      "text/html": [
       "<pre>recommendations finished on 320000/372991 queries. users per second: 4701.36</pre>"
      ],
      "text/plain": [
       "recommendations finished on 320000/372991 queries. users per second: 4701.36"
      ]
     },
     "metadata": {},
     "output_type": "display_data"
    },
    {
     "data": {
      "text/html": [
       "<pre>recommendations finished on 321000/372991 queries. users per second: 4701.62</pre>"
      ],
      "text/plain": [
       "recommendations finished on 321000/372991 queries. users per second: 4701.62"
      ]
     },
     "metadata": {},
     "output_type": "display_data"
    },
    {
     "data": {
      "text/html": [
       "<pre>recommendations finished on 322000/372991 queries. users per second: 4701.55</pre>"
      ],
      "text/plain": [
       "recommendations finished on 322000/372991 queries. users per second: 4701.55"
      ]
     },
     "metadata": {},
     "output_type": "display_data"
    },
    {
     "data": {
      "text/html": [
       "<pre>recommendations finished on 323000/372991 queries. users per second: 4701.51</pre>"
      ],
      "text/plain": [
       "recommendations finished on 323000/372991 queries. users per second: 4701.51"
      ]
     },
     "metadata": {},
     "output_type": "display_data"
    },
    {
     "data": {
      "text/html": [
       "<pre>recommendations finished on 324000/372991 queries. users per second: 4701.43</pre>"
      ],
      "text/plain": [
       "recommendations finished on 324000/372991 queries. users per second: 4701.43"
      ]
     },
     "metadata": {},
     "output_type": "display_data"
    },
    {
     "data": {
      "text/html": [
       "<pre>recommendations finished on 325000/372991 queries. users per second: 4701.25</pre>"
      ],
      "text/plain": [
       "recommendations finished on 325000/372991 queries. users per second: 4701.25"
      ]
     },
     "metadata": {},
     "output_type": "display_data"
    },
    {
     "data": {
      "text/html": [
       "<pre>recommendations finished on 326000/372991 queries. users per second: 4701.2</pre>"
      ],
      "text/plain": [
       "recommendations finished on 326000/372991 queries. users per second: 4701.2"
      ]
     },
     "metadata": {},
     "output_type": "display_data"
    },
    {
     "data": {
      "text/html": [
       "<pre>recommendations finished on 327000/372991 queries. users per second: 4701.73</pre>"
      ],
      "text/plain": [
       "recommendations finished on 327000/372991 queries. users per second: 4701.73"
      ]
     },
     "metadata": {},
     "output_type": "display_data"
    },
    {
     "data": {
      "text/html": [
       "<pre>recommendations finished on 328000/372991 queries. users per second: 4701.63</pre>"
      ],
      "text/plain": [
       "recommendations finished on 328000/372991 queries. users per second: 4701.63"
      ]
     },
     "metadata": {},
     "output_type": "display_data"
    },
    {
     "data": {
      "text/html": [
       "<pre>recommendations finished on 329000/372991 queries. users per second: 4701.69</pre>"
      ],
      "text/plain": [
       "recommendations finished on 329000/372991 queries. users per second: 4701.69"
      ]
     },
     "metadata": {},
     "output_type": "display_data"
    },
    {
     "data": {
      "text/html": [
       "<pre>recommendations finished on 330000/372991 queries. users per second: 4701.62</pre>"
      ],
      "text/plain": [
       "recommendations finished on 330000/372991 queries. users per second: 4701.62"
      ]
     },
     "metadata": {},
     "output_type": "display_data"
    },
    {
     "data": {
      "text/html": [
       "<pre>recommendations finished on 331000/372991 queries. users per second: 4702.13</pre>"
      ],
      "text/plain": [
       "recommendations finished on 331000/372991 queries. users per second: 4702.13"
      ]
     },
     "metadata": {},
     "output_type": "display_data"
    },
    {
     "data": {
      "text/html": [
       "<pre>recommendations finished on 332000/372991 queries. users per second: 4702.32</pre>"
      ],
      "text/plain": [
       "recommendations finished on 332000/372991 queries. users per second: 4702.32"
      ]
     },
     "metadata": {},
     "output_type": "display_data"
    },
    {
     "data": {
      "text/html": [
       "<pre>recommendations finished on 333000/372991 queries. users per second: 4702.57</pre>"
      ],
      "text/plain": [
       "recommendations finished on 333000/372991 queries. users per second: 4702.57"
      ]
     },
     "metadata": {},
     "output_type": "display_data"
    },
    {
     "data": {
      "text/html": [
       "<pre>recommendations finished on 334000/372991 queries. users per second: 4702.75</pre>"
      ],
      "text/plain": [
       "recommendations finished on 334000/372991 queries. users per second: 4702.75"
      ]
     },
     "metadata": {},
     "output_type": "display_data"
    },
    {
     "data": {
      "text/html": [
       "<pre>recommendations finished on 335000/372991 queries. users per second: 4702.68</pre>"
      ],
      "text/plain": [
       "recommendations finished on 335000/372991 queries. users per second: 4702.68"
      ]
     },
     "metadata": {},
     "output_type": "display_data"
    },
    {
     "data": {
      "text/html": [
       "<pre>recommendations finished on 336000/372991 queries. users per second: 4703.48</pre>"
      ],
      "text/plain": [
       "recommendations finished on 336000/372991 queries. users per second: 4703.48"
      ]
     },
     "metadata": {},
     "output_type": "display_data"
    },
    {
     "data": {
      "text/html": [
       "<pre>recommendations finished on 337000/372991 queries. users per second: 4703.77</pre>"
      ],
      "text/plain": [
       "recommendations finished on 337000/372991 queries. users per second: 4703.77"
      ]
     },
     "metadata": {},
     "output_type": "display_data"
    },
    {
     "data": {
      "text/html": [
       "<pre>recommendations finished on 338000/372991 queries. users per second: 4704.21</pre>"
      ],
      "text/plain": [
       "recommendations finished on 338000/372991 queries. users per second: 4704.21"
      ]
     },
     "metadata": {},
     "output_type": "display_data"
    },
    {
     "data": {
      "text/html": [
       "<pre>recommendations finished on 339000/372991 queries. users per second: 4704.28</pre>"
      ],
      "text/plain": [
       "recommendations finished on 339000/372991 queries. users per second: 4704.28"
      ]
     },
     "metadata": {},
     "output_type": "display_data"
    },
    {
     "data": {
      "text/html": [
       "<pre>recommendations finished on 340000/372991 queries. users per second: 4704.42</pre>"
      ],
      "text/plain": [
       "recommendations finished on 340000/372991 queries. users per second: 4704.42"
      ]
     },
     "metadata": {},
     "output_type": "display_data"
    },
    {
     "data": {
      "text/html": [
       "<pre>recommendations finished on 341000/372991 queries. users per second: 4704.69</pre>"
      ],
      "text/plain": [
       "recommendations finished on 341000/372991 queries. users per second: 4704.69"
      ]
     },
     "metadata": {},
     "output_type": "display_data"
    },
    {
     "data": {
      "text/html": [
       "<pre>recommendations finished on 342000/372991 queries. users per second: 4705.02</pre>"
      ],
      "text/plain": [
       "recommendations finished on 342000/372991 queries. users per second: 4705.02"
      ]
     },
     "metadata": {},
     "output_type": "display_data"
    },
    {
     "data": {
      "text/html": [
       "<pre>recommendations finished on 343000/372991 queries. users per second: 4705.35</pre>"
      ],
      "text/plain": [
       "recommendations finished on 343000/372991 queries. users per second: 4705.35"
      ]
     },
     "metadata": {},
     "output_type": "display_data"
    },
    {
     "data": {
      "text/html": [
       "<pre>recommendations finished on 344000/372991 queries. users per second: 4705.45</pre>"
      ],
      "text/plain": [
       "recommendations finished on 344000/372991 queries. users per second: 4705.45"
      ]
     },
     "metadata": {},
     "output_type": "display_data"
    },
    {
     "data": {
      "text/html": [
       "<pre>recommendations finished on 345000/372991 queries. users per second: 4705.83</pre>"
      ],
      "text/plain": [
       "recommendations finished on 345000/372991 queries. users per second: 4705.83"
      ]
     },
     "metadata": {},
     "output_type": "display_data"
    },
    {
     "data": {
      "text/html": [
       "<pre>recommendations finished on 346000/372991 queries. users per second: 4705.24</pre>"
      ],
      "text/plain": [
       "recommendations finished on 346000/372991 queries. users per second: 4705.24"
      ]
     },
     "metadata": {},
     "output_type": "display_data"
    },
    {
     "data": {
      "text/html": [
       "<pre>recommendations finished on 347000/372991 queries. users per second: 4705.05</pre>"
      ],
      "text/plain": [
       "recommendations finished on 347000/372991 queries. users per second: 4705.05"
      ]
     },
     "metadata": {},
     "output_type": "display_data"
    },
    {
     "data": {
      "text/html": [
       "<pre>recommendations finished on 348000/372991 queries. users per second: 4704.69</pre>"
      ],
      "text/plain": [
       "recommendations finished on 348000/372991 queries. users per second: 4704.69"
      ]
     },
     "metadata": {},
     "output_type": "display_data"
    },
    {
     "data": {
      "text/html": [
       "<pre>recommendations finished on 349000/372991 queries. users per second: 4704.22</pre>"
      ],
      "text/plain": [
       "recommendations finished on 349000/372991 queries. users per second: 4704.22"
      ]
     },
     "metadata": {},
     "output_type": "display_data"
    },
    {
     "data": {
      "text/html": [
       "<pre>recommendations finished on 350000/372991 queries. users per second: 4703.6</pre>"
      ],
      "text/plain": [
       "recommendations finished on 350000/372991 queries. users per second: 4703.6"
      ]
     },
     "metadata": {},
     "output_type": "display_data"
    },
    {
     "data": {
      "text/html": [
       "<pre>recommendations finished on 351000/372991 queries. users per second: 4703.42</pre>"
      ],
      "text/plain": [
       "recommendations finished on 351000/372991 queries. users per second: 4703.42"
      ]
     },
     "metadata": {},
     "output_type": "display_data"
    },
    {
     "data": {
      "text/html": [
       "<pre>recommendations finished on 352000/372991 queries. users per second: 4703.28</pre>"
      ],
      "text/plain": [
       "recommendations finished on 352000/372991 queries. users per second: 4703.28"
      ]
     },
     "metadata": {},
     "output_type": "display_data"
    },
    {
     "data": {
      "text/html": [
       "<pre>recommendations finished on 353000/372991 queries. users per second: 4702.71</pre>"
      ],
      "text/plain": [
       "recommendations finished on 353000/372991 queries. users per second: 4702.71"
      ]
     },
     "metadata": {},
     "output_type": "display_data"
    },
    {
     "data": {
      "text/html": [
       "<pre>recommendations finished on 354000/372991 queries. users per second: 4702.3</pre>"
      ],
      "text/plain": [
       "recommendations finished on 354000/372991 queries. users per second: 4702.3"
      ]
     },
     "metadata": {},
     "output_type": "display_data"
    },
    {
     "data": {
      "text/html": [
       "<pre>recommendations finished on 355000/372991 queries. users per second: 4701.82</pre>"
      ],
      "text/plain": [
       "recommendations finished on 355000/372991 queries. users per second: 4701.82"
      ]
     },
     "metadata": {},
     "output_type": "display_data"
    },
    {
     "data": {
      "text/html": [
       "<pre>recommendations finished on 356000/372991 queries. users per second: 4701.65</pre>"
      ],
      "text/plain": [
       "recommendations finished on 356000/372991 queries. users per second: 4701.65"
      ]
     },
     "metadata": {},
     "output_type": "display_data"
    },
    {
     "data": {
      "text/html": [
       "<pre>recommendations finished on 357000/372991 queries. users per second: 4701.64</pre>"
      ],
      "text/plain": [
       "recommendations finished on 357000/372991 queries. users per second: 4701.64"
      ]
     },
     "metadata": {},
     "output_type": "display_data"
    },
    {
     "data": {
      "text/html": [
       "<pre>recommendations finished on 358000/372991 queries. users per second: 4700.89</pre>"
      ],
      "text/plain": [
       "recommendations finished on 358000/372991 queries. users per second: 4700.89"
      ]
     },
     "metadata": {},
     "output_type": "display_data"
    },
    {
     "data": {
      "text/html": [
       "<pre>recommendations finished on 359000/372991 queries. users per second: 4700.75</pre>"
      ],
      "text/plain": [
       "recommendations finished on 359000/372991 queries. users per second: 4700.75"
      ]
     },
     "metadata": {},
     "output_type": "display_data"
    },
    {
     "data": {
      "text/html": [
       "<pre>recommendations finished on 360000/372991 queries. users per second: 4700.43</pre>"
      ],
      "text/plain": [
       "recommendations finished on 360000/372991 queries. users per second: 4700.43"
      ]
     },
     "metadata": {},
     "output_type": "display_data"
    },
    {
     "data": {
      "text/html": [
       "<pre>recommendations finished on 361000/372991 queries. users per second: 4700.23</pre>"
      ],
      "text/plain": [
       "recommendations finished on 361000/372991 queries. users per second: 4700.23"
      ]
     },
     "metadata": {},
     "output_type": "display_data"
    },
    {
     "data": {
      "text/html": [
       "<pre>recommendations finished on 362000/372991 queries. users per second: 4699.79</pre>"
      ],
      "text/plain": [
       "recommendations finished on 362000/372991 queries. users per second: 4699.79"
      ]
     },
     "metadata": {},
     "output_type": "display_data"
    },
    {
     "data": {
      "text/html": [
       "<pre>recommendations finished on 363000/372991 queries. users per second: 4699.26</pre>"
      ],
      "text/plain": [
       "recommendations finished on 363000/372991 queries. users per second: 4699.26"
      ]
     },
     "metadata": {},
     "output_type": "display_data"
    },
    {
     "data": {
      "text/html": [
       "<pre>recommendations finished on 364000/372991 queries. users per second: 4698.54</pre>"
      ],
      "text/plain": [
       "recommendations finished on 364000/372991 queries. users per second: 4698.54"
      ]
     },
     "metadata": {},
     "output_type": "display_data"
    },
    {
     "data": {
      "text/html": [
       "<pre>recommendations finished on 365000/372991 queries. users per second: 4698.16</pre>"
      ],
      "text/plain": [
       "recommendations finished on 365000/372991 queries. users per second: 4698.16"
      ]
     },
     "metadata": {},
     "output_type": "display_data"
    },
    {
     "data": {
      "text/html": [
       "<pre>recommendations finished on 366000/372991 queries. users per second: 4697.85</pre>"
      ],
      "text/plain": [
       "recommendations finished on 366000/372991 queries. users per second: 4697.85"
      ]
     },
     "metadata": {},
     "output_type": "display_data"
    },
    {
     "data": {
      "text/html": [
       "<pre>recommendations finished on 367000/372991 queries. users per second: 4697.15</pre>"
      ],
      "text/plain": [
       "recommendations finished on 367000/372991 queries. users per second: 4697.15"
      ]
     },
     "metadata": {},
     "output_type": "display_data"
    },
    {
     "data": {
      "text/html": [
       "<pre>recommendations finished on 368000/372991 queries. users per second: 4696.91</pre>"
      ],
      "text/plain": [
       "recommendations finished on 368000/372991 queries. users per second: 4696.91"
      ]
     },
     "metadata": {},
     "output_type": "display_data"
    },
    {
     "data": {
      "text/html": [
       "<pre>recommendations finished on 369000/372991 queries. users per second: 4696.57</pre>"
      ],
      "text/plain": [
       "recommendations finished on 369000/372991 queries. users per second: 4696.57"
      ]
     },
     "metadata": {},
     "output_type": "display_data"
    },
    {
     "data": {
      "text/html": [
       "<pre>recommendations finished on 370000/372991 queries. users per second: 4695.56</pre>"
      ],
      "text/plain": [
       "recommendations finished on 370000/372991 queries. users per second: 4695.56"
      ]
     },
     "metadata": {},
     "output_type": "display_data"
    },
    {
     "data": {
      "text/html": [
       "<pre>recommendations finished on 371000/372991 queries. users per second: 4693.97</pre>"
      ],
      "text/plain": [
       "recommendations finished on 371000/372991 queries. users per second: 4693.97"
      ]
     },
     "metadata": {},
     "output_type": "display_data"
    },
    {
     "data": {
      "text/html": [
       "<pre>recommendations finished on 372000/372991 queries. users per second: 4683.98</pre>"
      ],
      "text/plain": [
       "recommendations finished on 372000/372991 queries. users per second: 4683.98"
      ]
     },
     "metadata": {},
     "output_type": "display_data"
    },
    {
     "name": "stdout",
     "output_type": "stream",
     "text": [
      "+--------+--------+---------------------+------+\n",
      "| userId | itemId |        score        | rank |\n",
      "+--------+--------+---------------------+------+\n",
      "|   2    |  5643  |  0.5245915333429972 |  1   |\n",
      "|   2    | 14228  |  0.5201462507247925 |  2   |\n",
      "|   2    | 14001  |  0.4848324378331502 |  3   |\n",
      "|   2    |  5828  | 0.48367162148157755 |  4   |\n",
      "|   2    | 43616  | 0.48262713352839154 |  5   |\n",
      "|   2    | 79520  | 0.48132483959197997 |  6   |\n",
      "|   2    | 58054  | 0.48124775489171345 |  7   |\n",
      "|   2    | 79341  |  0.4807570815086365 |  8   |\n",
      "|   2    | 35598  | 0.47835321029027306 |  9   |\n",
      "|   2    | 47070  | 0.47774721384048463 |  10  |\n",
      "|   2    |  5643  |  0.5245915333429972 |  1   |\n",
      "|   2    | 14228  |  0.5201462507247925 |  2   |\n",
      "|   2    | 14001  |  0.4848324378331502 |  3   |\n",
      "|   2    |  5828  | 0.48367162148157755 |  4   |\n",
      "|   2    | 43616  | 0.48262713352839154 |  5   |\n",
      "|   2    | 79520  | 0.48132483959197997 |  6   |\n",
      "|   2    | 58054  | 0.48124775489171345 |  7   |\n",
      "|   2    | 79341  |  0.4807570815086365 |  8   |\n",
      "|   2    | 35598  | 0.47835321029027306 |  9   |\n",
      "|   2    | 47070  | 0.47774721384048463 |  10  |\n",
      "|   2    |  5643  |  0.5245915333429972 |  1   |\n",
      "|   2    | 14228  |  0.5201462507247925 |  2   |\n",
      "|   2    | 14001  |  0.4848324378331502 |  3   |\n",
      "|   2    |  5828  | 0.48367162148157755 |  4   |\n",
      "|   2    | 43616  | 0.48262713352839154 |  5   |\n",
      "|   2    | 79520  | 0.48132483959197997 |  6   |\n",
      "|   2    | 58054  | 0.48124775489171345 |  7   |\n",
      "|   2    | 79341  |  0.4807570815086365 |  8   |\n",
      "|   2    | 35598  | 0.47835321029027306 |  9   |\n",
      "|   2    | 47070  | 0.47774721384048463 |  10  |\n",
      "+--------+--------+---------------------+------+\n",
      "[3729910 rows x 4 columns]\n",
      "\n"
     ]
    }
   ],
   "source": [
    "if(tc.load_model('cos')):\n",
    "    cos = tc.load_model('cos')\n",
    "else:\n",
    "    target = 'purchase_count'\n",
    "    cos = model(train_data, user_id, item_id, target, users_to_recommend, n_rec, n_display)\n",
    "    cos.save('cos_model')"
   ]
  },
  {
   "cell_type": "code",
   "execution_count": 34,
   "metadata": {},
   "outputs": [
    {
     "data": {
      "text/html": [
       "<pre>Warning: Ignoring columns purchase_count;</pre>"
      ],
      "text/plain": [
       "Warning: Ignoring columns purchase_count;"
      ]
     },
     "metadata": {},
     "output_type": "display_data"
    },
    {
     "data": {
      "text/html": [
       "<pre>    To use these columns in scoring predictions, use a model that allows the use of additional features.</pre>"
      ],
      "text/plain": [
       "    To use these columns in scoring predictions, use a model that allows the use of additional features."
      ]
     },
     "metadata": {},
     "output_type": "display_data"
    },
    {
     "data": {
      "text/html": [
       "<pre>Preparing data set.</pre>"
      ],
      "text/plain": [
       "Preparing data set."
      ]
     },
     "metadata": {},
     "output_type": "display_data"
    },
    {
     "data": {
      "text/html": [
       "<pre>    Data has 30410438 observations with 232648 users and 124548 items.</pre>"
      ],
      "text/plain": [
       "    Data has 30410438 observations with 232648 users and 124548 items."
      ]
     },
     "metadata": {},
     "output_type": "display_data"
    },
    {
     "data": {
      "text/html": [
       "<pre>    Data prepared in: 10.3508s</pre>"
      ],
      "text/plain": [
       "    Data prepared in: 10.3508s"
      ]
     },
     "metadata": {},
     "output_type": "display_data"
    },
    {
     "data": {
      "text/html": [
       "<pre>Training model from provided data.</pre>"
      ],
      "text/plain": [
       "Training model from provided data."
      ]
     },
     "metadata": {},
     "output_type": "display_data"
    },
    {
     "data": {
      "text/html": [
       "<pre>Gathering per-item and per-user statistics.</pre>"
      ],
      "text/plain": [
       "Gathering per-item and per-user statistics."
      ]
     },
     "metadata": {},
     "output_type": "display_data"
    },
    {
     "data": {
      "text/html": [
       "<pre>+--------------------------------+------------+</pre>"
      ],
      "text/plain": [
       "+--------------------------------+------------+"
      ]
     },
     "metadata": {},
     "output_type": "display_data"
    },
    {
     "data": {
      "text/html": [
       "<pre>| Elapsed Time (Item Statistics) | % Complete |</pre>"
      ],
      "text/plain": [
       "| Elapsed Time (Item Statistics) | % Complete |"
      ]
     },
     "metadata": {},
     "output_type": "display_data"
    },
    {
     "data": {
      "text/html": [
       "<pre>+--------------------------------+------------+</pre>"
      ],
      "text/plain": [
       "+--------------------------------+------------+"
      ]
     },
     "metadata": {},
     "output_type": "display_data"
    },
    {
     "data": {
      "text/html": [
       "<pre>| 3ms                            | 0.25       |</pre>"
      ],
      "text/plain": [
       "| 3ms                            | 0.25       |"
      ]
     },
     "metadata": {},
     "output_type": "display_data"
    },
    {
     "data": {
      "text/html": [
       "<pre>| 409.391ms                      | 100        |</pre>"
      ],
      "text/plain": [
       "| 409.391ms                      | 100        |"
      ]
     },
     "metadata": {},
     "output_type": "display_data"
    },
    {
     "data": {
      "text/html": [
       "<pre>+--------------------------------+------------+</pre>"
      ],
      "text/plain": [
       "+--------------------------------+------------+"
      ]
     },
     "metadata": {},
     "output_type": "display_data"
    },
    {
     "data": {
      "text/html": [
       "<pre>Setting up lookup tables.</pre>"
      ],
      "text/plain": [
       "Setting up lookup tables."
      ]
     },
     "metadata": {},
     "output_type": "display_data"
    },
    {
     "data": {
      "text/html": [
       "<pre>Processing the 101 most common items by brute force search.</pre>"
      ],
      "text/plain": [
       "Processing the 101 most common items by brute force search."
      ]
     },
     "metadata": {},
     "output_type": "display_data"
    },
    {
     "data": {
      "text/html": [
       "<pre>Transposing user-item lists for use in nearest neighbor search.</pre>"
      ],
      "text/plain": [
       "Transposing user-item lists for use in nearest neighbor search."
      ]
     },
     "metadata": {},
     "output_type": "display_data"
    },
    {
     "data": {
      "text/html": [
       "<pre>+------------------------------------+------------+</pre>"
      ],
      "text/plain": [
       "+------------------------------------+------------+"
      ]
     },
     "metadata": {},
     "output_type": "display_data"
    },
    {
     "data": {
      "text/html": [
       "<pre>| Elapsed Time (Data Transposition)) | % Complete |</pre>"
      ],
      "text/plain": [
       "| Elapsed Time (Data Transposition)) | % Complete |"
      ]
     },
     "metadata": {},
     "output_type": "display_data"
    },
    {
     "data": {
      "text/html": [
       "<pre>+------------------------------------+------------+</pre>"
      ],
      "text/plain": [
       "+------------------------------------+------------+"
      ]
     },
     "metadata": {},
     "output_type": "display_data"
    },
    {
     "data": {
      "text/html": [
       "<pre>| 117.799ms                          | 0          |</pre>"
      ],
      "text/plain": [
       "| 117.799ms                          | 0          |"
      ]
     },
     "metadata": {},
     "output_type": "display_data"
    },
    {
     "data": {
      "text/html": [
       "<pre>| 3.32s                              | 100        |</pre>"
      ],
      "text/plain": [
       "| 3.32s                              | 100        |"
      ]
     },
     "metadata": {},
     "output_type": "display_data"
    },
    {
     "data": {
      "text/html": [
       "<pre>+------------------------------------+------------+</pre>"
      ],
      "text/plain": [
       "+------------------------------------+------------+"
      ]
     },
     "metadata": {},
     "output_type": "display_data"
    },
    {
     "data": {
      "text/html": [
       "<pre>+-------------------------------------+------------------+-----------------+</pre>"
      ],
      "text/plain": [
       "+-------------------------------------+------------------+-----------------+"
      ]
     },
     "metadata": {},
     "output_type": "display_data"
    },
    {
     "data": {
      "text/html": [
       "<pre>| Elapsed Time (Constructing Lookups) | Total % Complete | Items Processed |</pre>"
      ],
      "text/plain": [
       "| Elapsed Time (Constructing Lookups) | Total % Complete | Items Processed |"
      ]
     },
     "metadata": {},
     "output_type": "display_data"
    },
    {
     "data": {
      "text/html": [
       "<pre>+-------------------------------------+------------------+-----------------+</pre>"
      ],
      "text/plain": [
       "+-------------------------------------+------------------+-----------------+"
      ]
     },
     "metadata": {},
     "output_type": "display_data"
    },
    {
     "data": {
      "text/html": [
       "<pre>| 3.92s                               | 0                | 0               |</pre>"
      ],
      "text/plain": [
       "| 3.92s                               | 0                | 0               |"
      ]
     },
     "metadata": {},
     "output_type": "display_data"
    },
    {
     "data": {
      "text/html": [
       "<pre>| 6.94s                               | 0                | 88              |</pre>"
      ],
      "text/plain": [
       "| 6.94s                               | 0                | 88              |"
      ]
     },
     "metadata": {},
     "output_type": "display_data"
    },
    {
     "data": {
      "text/html": [
       "<pre>| 9.95s                               | 0                | 96              |</pre>"
      ],
      "text/plain": [
       "| 9.95s                               | 0                | 96              |"
      ]
     },
     "metadata": {},
     "output_type": "display_data"
    },
    {
     "data": {
      "text/html": [
       "<pre>+-------------------------------------+------------------+-----------------+</pre>"
      ],
      "text/plain": [
       "+-------------------------------------+------------------+-----------------+"
      ]
     },
     "metadata": {},
     "output_type": "display_data"
    },
    {
     "data": {
      "text/html": [
       "<pre>Processing data in 8 passes using dense lookup tables.</pre>"
      ],
      "text/plain": [
       "Processing data in 8 passes using dense lookup tables."
      ]
     },
     "metadata": {},
     "output_type": "display_data"
    },
    {
     "data": {
      "text/html": [
       "<pre>+-------------------------------------+------------------+-----------------+</pre>"
      ],
      "text/plain": [
       "+-------------------------------------+------------------+-----------------+"
      ]
     },
     "metadata": {},
     "output_type": "display_data"
    },
    {
     "data": {
      "text/html": [
       "<pre>| Elapsed Time (Constructing Lookups) | Total % Complete | Items Processed |</pre>"
      ],
      "text/plain": [
       "| Elapsed Time (Constructing Lookups) | Total % Complete | Items Processed |"
      ]
     },
     "metadata": {},
     "output_type": "display_data"
    },
    {
     "data": {
      "text/html": [
       "<pre>+-------------------------------------+------------------+-----------------+</pre>"
      ],
      "text/plain": [
       "+-------------------------------------+------------------+-----------------+"
      ]
     },
     "metadata": {},
     "output_type": "display_data"
    },
    {
     "data": {
      "text/html": [
       "<pre>| 14.35s                              | 0                | 101             |</pre>"
      ],
      "text/plain": [
       "| 14.35s                              | 0                | 101             |"
      ]
     },
     "metadata": {},
     "output_type": "display_data"
    },
    {
     "data": {
      "text/html": [
       "<pre>| 15.99s                              | 0                | 232             |</pre>"
      ],
      "text/plain": [
       "| 15.99s                              | 0                | 232             |"
      ]
     },
     "metadata": {},
     "output_type": "display_data"
    },
    {
     "data": {
      "text/html": [
       "<pre>| 19.00s                              | 0.25             | 556             |</pre>"
      ],
      "text/plain": [
       "| 19.00s                              | 0.25             | 556             |"
      ]
     },
     "metadata": {},
     "output_type": "display_data"
    },
    {
     "data": {
      "text/html": [
       "<pre>| 22.02s                              | 0.5              | 866             |</pre>"
      ],
      "text/plain": [
       "| 22.02s                              | 0.5              | 866             |"
      ]
     },
     "metadata": {},
     "output_type": "display_data"
    },
    {
     "data": {
      "text/html": [
       "<pre>| 25.03s                              | 0.75             | 1164            |</pre>"
      ],
      "text/plain": [
       "| 25.03s                              | 0.75             | 1164            |"
      ]
     },
     "metadata": {},
     "output_type": "display_data"
    },
    {
     "data": {
      "text/html": [
       "<pre>| 28.04s                              | 1                | 1416            |</pre>"
      ],
      "text/plain": [
       "| 28.04s                              | 1                | 1416            |"
      ]
     },
     "metadata": {},
     "output_type": "display_data"
    },
    {
     "data": {
      "text/html": [
       "<pre>| 31.06s                              | 1.25             | 1693            |</pre>"
      ],
      "text/plain": [
       "| 31.06s                              | 1.25             | 1693            |"
      ]
     },
     "metadata": {},
     "output_type": "display_data"
    },
    {
     "data": {
      "text/html": [
       "<pre>| 34.08s                              | 1.5              | 1945            |</pre>"
      ],
      "text/plain": [
       "| 34.08s                              | 1.5              | 1945            |"
      ]
     },
     "metadata": {},
     "output_type": "display_data"
    },
    {
     "data": {
      "text/html": [
       "<pre>| 37.09s                              | 1.75             | 2219            |</pre>"
      ],
      "text/plain": [
       "| 37.09s                              | 1.75             | 2219            |"
      ]
     },
     "metadata": {},
     "output_type": "display_data"
    },
    {
     "data": {
      "text/html": [
       "<pre>| 40.11s                              | 1.75             | 2463            |</pre>"
      ],
      "text/plain": [
       "| 40.11s                              | 1.75             | 2463            |"
      ]
     },
     "metadata": {},
     "output_type": "display_data"
    },
    {
     "data": {
      "text/html": [
       "<pre>| 43.12s                              | 2                | 2731            |</pre>"
      ],
      "text/plain": [
       "| 43.12s                              | 2                | 2731            |"
      ]
     },
     "metadata": {},
     "output_type": "display_data"
    },
    {
     "data": {
      "text/html": [
       "<pre>| 46.14s                              | 2.25             | 3002            |</pre>"
      ],
      "text/plain": [
       "| 46.14s                              | 2.25             | 3002            |"
      ]
     },
     "metadata": {},
     "output_type": "display_data"
    },
    {
     "data": {
      "text/html": [
       "<pre>| 49.15s                              | 2.5              | 3254            |</pre>"
      ],
      "text/plain": [
       "| 49.15s                              | 2.5              | 3254            |"
      ]
     },
     "metadata": {},
     "output_type": "display_data"
    },
    {
     "data": {
      "text/html": [
       "<pre>| 52.17s                              | 2.75             | 3542            |</pre>"
      ],
      "text/plain": [
       "| 52.17s                              | 2.75             | 3542            |"
      ]
     },
     "metadata": {},
     "output_type": "display_data"
    },
    {
     "data": {
      "text/html": [
       "<pre>| 55.20s                              | 3                | 3776            |</pre>"
      ],
      "text/plain": [
       "| 55.20s                              | 3                | 3776            |"
      ]
     },
     "metadata": {},
     "output_type": "display_data"
    },
    {
     "data": {
      "text/html": [
       "<pre>| 58.20s                              | 3.25             | 4052            |</pre>"
      ],
      "text/plain": [
       "| 58.20s                              | 3.25             | 4052            |"
      ]
     },
     "metadata": {},
     "output_type": "display_data"
    },
    {
     "data": {
      "text/html": [
       "<pre>| 1m 1s                               | 3.25             | 4290            |</pre>"
      ],
      "text/plain": [
       "| 1m 1s                               | 3.25             | 4290            |"
      ]
     },
     "metadata": {},
     "output_type": "display_data"
    },
    {
     "data": {
      "text/html": [
       "<pre>| 1m 4s                               | 3.5              | 4536            |</pre>"
      ],
      "text/plain": [
       "| 1m 4s                               | 3.5              | 4536            |"
      ]
     },
     "metadata": {},
     "output_type": "display_data"
    },
    {
     "data": {
      "text/html": [
       "<pre>| 1m 7s                               | 3.75             | 4762            |</pre>"
      ],
      "text/plain": [
       "| 1m 7s                               | 3.75             | 4762            |"
      ]
     },
     "metadata": {},
     "output_type": "display_data"
    },
    {
     "data": {
      "text/html": [
       "<pre>| 1m 10s                              | 3.75             | 4979            |</pre>"
      ],
      "text/plain": [
       "| 1m 10s                              | 3.75             | 4979            |"
      ]
     },
     "metadata": {},
     "output_type": "display_data"
    },
    {
     "data": {
      "text/html": [
       "<pre>| 1m 13s                              | 4                | 5198            |</pre>"
      ],
      "text/plain": [
       "| 1m 13s                              | 4                | 5198            |"
      ]
     },
     "metadata": {},
     "output_type": "display_data"
    },
    {
     "data": {
      "text/html": [
       "<pre>| 1m 16s                              | 4.25             | 5417            |</pre>"
      ],
      "text/plain": [
       "| 1m 16s                              | 4.25             | 5417            |"
      ]
     },
     "metadata": {},
     "output_type": "display_data"
    },
    {
     "data": {
      "text/html": [
       "<pre>| 1m 19s                              | 4.5              | 5651            |</pre>"
      ],
      "text/plain": [
       "| 1m 19s                              | 4.5              | 5651            |"
      ]
     },
     "metadata": {},
     "output_type": "display_data"
    },
    {
     "data": {
      "text/html": [
       "<pre>| 1m 22s                              | 4.5              | 5871            |</pre>"
      ],
      "text/plain": [
       "| 1m 22s                              | 4.5              | 5871            |"
      ]
     },
     "metadata": {},
     "output_type": "display_data"
    },
    {
     "data": {
      "text/html": [
       "<pre>| 1m 25s                              | 4.75             | 6087            |</pre>"
      ],
      "text/plain": [
       "| 1m 25s                              | 4.75             | 6087            |"
      ]
     },
     "metadata": {},
     "output_type": "display_data"
    },
    {
     "data": {
      "text/html": [
       "<pre>| 1m 28s                              | 5                | 6314            |</pre>"
      ],
      "text/plain": [
       "| 1m 28s                              | 5                | 6314            |"
      ]
     },
     "metadata": {},
     "output_type": "display_data"
    },
    {
     "data": {
      "text/html": [
       "<pre>| 1m 31s                              | 5.25             | 6555            |</pre>"
      ],
      "text/plain": [
       "| 1m 31s                              | 5.25             | 6555            |"
      ]
     },
     "metadata": {},
     "output_type": "display_data"
    },
    {
     "data": {
      "text/html": [
       "<pre>| 1m 34s                              | 5.25             | 6761            |</pre>"
      ],
      "text/plain": [
       "| 1m 34s                              | 5.25             | 6761            |"
      ]
     },
     "metadata": {},
     "output_type": "display_data"
    },
    {
     "data": {
      "text/html": [
       "<pre>| 1m 37s                              | 5.5              | 6970            |</pre>"
      ],
      "text/plain": [
       "| 1m 37s                              | 5.5              | 6970            |"
      ]
     },
     "metadata": {},
     "output_type": "display_data"
    },
    {
     "data": {
      "text/html": [
       "<pre>| 1m 40s                              | 5.75             | 7187            |</pre>"
      ],
      "text/plain": [
       "| 1m 40s                              | 5.75             | 7187            |"
      ]
     },
     "metadata": {},
     "output_type": "display_data"
    },
    {
     "data": {
      "text/html": [
       "<pre>| 1m 43s                              | 5.75             | 7393            |</pre>"
      ],
      "text/plain": [
       "| 1m 43s                              | 5.75             | 7393            |"
      ]
     },
     "metadata": {},
     "output_type": "display_data"
    },
    {
     "data": {
      "text/html": [
       "<pre>| 1m 46s                              | 6                | 7596            |</pre>"
      ],
      "text/plain": [
       "| 1m 46s                              | 6                | 7596            |"
      ]
     },
     "metadata": {},
     "output_type": "display_data"
    },
    {
     "data": {
      "text/html": [
       "<pre>| 1m 49s                              | 6.25             | 7809            |</pre>"
      ],
      "text/plain": [
       "| 1m 49s                              | 6.25             | 7809            |"
      ]
     },
     "metadata": {},
     "output_type": "display_data"
    },
    {
     "data": {
      "text/html": [
       "<pre>| 1m 52s                              | 6.25             | 8053            |</pre>"
      ],
      "text/plain": [
       "| 1m 52s                              | 6.25             | 8053            |"
      ]
     },
     "metadata": {},
     "output_type": "display_data"
    },
    {
     "data": {
      "text/html": [
       "<pre>| 1m 55s                              | 6.5              | 8275            |</pre>"
      ],
      "text/plain": [
       "| 1m 55s                              | 6.5              | 8275            |"
      ]
     },
     "metadata": {},
     "output_type": "display_data"
    },
    {
     "data": {
      "text/html": [
       "<pre>| 1m 58s                              | 6.75             | 8482            |</pre>"
      ],
      "text/plain": [
       "| 1m 58s                              | 6.75             | 8482            |"
      ]
     },
     "metadata": {},
     "output_type": "display_data"
    },
    {
     "data": {
      "text/html": [
       "<pre>| 2m 1s                               | 6.75             | 8672            |</pre>"
      ],
      "text/plain": [
       "| 2m 1s                               | 6.75             | 8672            |"
      ]
     },
     "metadata": {},
     "output_type": "display_data"
    },
    {
     "data": {
      "text/html": [
       "<pre>| 2m 4s                               | 7                | 8871            |</pre>"
      ],
      "text/plain": [
       "| 2m 4s                               | 7                | 8871            |"
      ]
     },
     "metadata": {},
     "output_type": "display_data"
    },
    {
     "data": {
      "text/html": [
       "<pre>| 2m 7s                               | 7.25             | 9038            |</pre>"
      ],
      "text/plain": [
       "| 2m 7s                               | 7.25             | 9038            |"
      ]
     },
     "metadata": {},
     "output_type": "display_data"
    },
    {
     "data": {
      "text/html": [
       "<pre>| 2m 10s                              | 7.25             | 9230            |</pre>"
      ],
      "text/plain": [
       "| 2m 10s                              | 7.25             | 9230            |"
      ]
     },
     "metadata": {},
     "output_type": "display_data"
    },
    {
     "data": {
      "text/html": [
       "<pre>| 2m 13s                              | 7.5              | 9421            |</pre>"
      ],
      "text/plain": [
       "| 2m 13s                              | 7.5              | 9421            |"
      ]
     },
     "metadata": {},
     "output_type": "display_data"
    },
    {
     "data": {
      "text/html": [
       "<pre>| 2m 16s                              | 7.5              | 9606            |</pre>"
      ],
      "text/plain": [
       "| 2m 16s                              | 7.5              | 9606            |"
      ]
     },
     "metadata": {},
     "output_type": "display_data"
    },
    {
     "data": {
      "text/html": [
       "<pre>| 2m 19s                              | 7.75             | 9757            |</pre>"
      ],
      "text/plain": [
       "| 2m 19s                              | 7.75             | 9757            |"
      ]
     },
     "metadata": {},
     "output_type": "display_data"
    },
    {
     "data": {
      "text/html": [
       "<pre>| 2m 22s                              | 7.75             | 9936            |</pre>"
      ],
      "text/plain": [
       "| 2m 22s                              | 7.75             | 9936            |"
      ]
     },
     "metadata": {},
     "output_type": "display_data"
    },
    {
     "data": {
      "text/html": [
       "<pre>| 2m 25s                              | 8                | 10049           |</pre>"
      ],
      "text/plain": [
       "| 2m 25s                              | 8                | 10049           |"
      ]
     },
     "metadata": {},
     "output_type": "display_data"
    },
    {
     "data": {
      "text/html": [
       "<pre>| 2m 28s                              | 8                | 10133           |</pre>"
      ],
      "text/plain": [
       "| 2m 28s                              | 8                | 10133           |"
      ]
     },
     "metadata": {},
     "output_type": "display_data"
    },
    {
     "data": {
      "text/html": [
       "<pre>| 2m 31s                              | 8                | 10230           |</pre>"
      ],
      "text/plain": [
       "| 2m 31s                              | 8                | 10230           |"
      ]
     },
     "metadata": {},
     "output_type": "display_data"
    },
    {
     "data": {
      "text/html": [
       "<pre>| 2m 34s                              | 8.25             | 10354           |</pre>"
      ],
      "text/plain": [
       "| 2m 34s                              | 8.25             | 10354           |"
      ]
     },
     "metadata": {},
     "output_type": "display_data"
    },
    {
     "data": {
      "text/html": [
       "<pre>| 2m 37s                              | 8.25             | 10516           |</pre>"
      ],
      "text/plain": [
       "| 2m 37s                              | 8.25             | 10516           |"
      ]
     },
     "metadata": {},
     "output_type": "display_data"
    },
    {
     "data": {
      "text/html": [
       "<pre>| 2m 40s                              | 8.5              | 10678           |</pre>"
      ],
      "text/plain": [
       "| 2m 40s                              | 8.5              | 10678           |"
      ]
     },
     "metadata": {},
     "output_type": "display_data"
    },
    {
     "data": {
      "text/html": [
       "<pre>| 2m 43s                              | 8.5              | 10835           |</pre>"
      ],
      "text/plain": [
       "| 2m 43s                              | 8.5              | 10835           |"
      ]
     },
     "metadata": {},
     "output_type": "display_data"
    },
    {
     "data": {
      "text/html": [
       "<pre>| 2m 46s                              | 8.75             | 10984           |</pre>"
      ],
      "text/plain": [
       "| 2m 46s                              | 8.75             | 10984           |"
      ]
     },
     "metadata": {},
     "output_type": "display_data"
    },
    {
     "data": {
      "text/html": [
       "<pre>| 2m 49s                              | 8.75             | 11133           |</pre>"
      ],
      "text/plain": [
       "| 2m 49s                              | 8.75             | 11133           |"
      ]
     },
     "metadata": {},
     "output_type": "display_data"
    },
    {
     "data": {
      "text/html": [
       "<pre>| 2m 52s                              | 9                | 11279           |</pre>"
      ],
      "text/plain": [
       "| 2m 52s                              | 9                | 11279           |"
      ]
     },
     "metadata": {},
     "output_type": "display_data"
    },
    {
     "data": {
      "text/html": [
       "<pre>| 2m 55s                              | 9                | 11471           |</pre>"
      ],
      "text/plain": [
       "| 2m 55s                              | 9                | 11471           |"
      ]
     },
     "metadata": {},
     "output_type": "display_data"
    },
    {
     "data": {
      "text/html": [
       "<pre>| 2m 58s                              | 9.25             | 11670           |</pre>"
      ],
      "text/plain": [
       "| 2m 58s                              | 9.25             | 11670           |"
      ]
     },
     "metadata": {},
     "output_type": "display_data"
    },
    {
     "data": {
      "text/html": [
       "<pre>| 3m 1s                               | 9.5              | 11886           |</pre>"
      ],
      "text/plain": [
       "| 3m 1s                               | 9.5              | 11886           |"
      ]
     },
     "metadata": {},
     "output_type": "display_data"
    },
    {
     "data": {
      "text/html": [
       "<pre>| 3m 4s                               | 9.5              | 12103           |</pre>"
      ],
      "text/plain": [
       "| 3m 4s                               | 9.5              | 12103           |"
      ]
     },
     "metadata": {},
     "output_type": "display_data"
    },
    {
     "data": {
      "text/html": [
       "<pre>| 3m 7s                               | 9.75             | 12354           |</pre>"
      ],
      "text/plain": [
       "| 3m 7s                               | 9.75             | 12354           |"
      ]
     },
     "metadata": {},
     "output_type": "display_data"
    },
    {
     "data": {
      "text/html": [
       "<pre>| 3m 10s                              | 10               | 12596           |</pre>"
      ],
      "text/plain": [
       "| 3m 10s                              | 10               | 12596           |"
      ]
     },
     "metadata": {},
     "output_type": "display_data"
    },
    {
     "data": {
      "text/html": [
       "<pre>| 3m 13s                              | 10.25            | 12841           |</pre>"
      ],
      "text/plain": [
       "| 3m 13s                              | 10.25            | 12841           |"
      ]
     },
     "metadata": {},
     "output_type": "display_data"
    },
    {
     "data": {
      "text/html": [
       "<pre>| 3m 16s                              | 10.5             | 13101           |</pre>"
      ],
      "text/plain": [
       "| 3m 16s                              | 10.5             | 13101           |"
      ]
     },
     "metadata": {},
     "output_type": "display_data"
    },
    {
     "data": {
      "text/html": [
       "<pre>| 3m 19s                              | 10.5             | 13354           |</pre>"
      ],
      "text/plain": [
       "| 3m 19s                              | 10.5             | 13354           |"
      ]
     },
     "metadata": {},
     "output_type": "display_data"
    },
    {
     "data": {
      "text/html": [
       "<pre>| 3m 22s                              | 10.75            | 13636           |</pre>"
      ],
      "text/plain": [
       "| 3m 22s                              | 10.75            | 13636           |"
      ]
     },
     "metadata": {},
     "output_type": "display_data"
    },
    {
     "data": {
      "text/html": [
       "<pre>| 3m 25s                              | 11               | 13907           |</pre>"
      ],
      "text/plain": [
       "| 3m 25s                              | 11               | 13907           |"
      ]
     },
     "metadata": {},
     "output_type": "display_data"
    },
    {
     "data": {
      "text/html": [
       "<pre>| 3m 28s                              | 11.25            | 14206           |</pre>"
      ],
      "text/plain": [
       "| 3m 28s                              | 11.25            | 14206           |"
      ]
     },
     "metadata": {},
     "output_type": "display_data"
    },
    {
     "data": {
      "text/html": [
       "<pre>| 3m 31s                              | 11.5             | 14497           |</pre>"
      ],
      "text/plain": [
       "| 3m 31s                              | 11.5             | 14497           |"
      ]
     },
     "metadata": {},
     "output_type": "display_data"
    },
    {
     "data": {
      "text/html": [
       "<pre>| 3m 34s                              | 11.75            | 14771           |</pre>"
      ],
      "text/plain": [
       "| 3m 34s                              | 11.75            | 14771           |"
      ]
     },
     "metadata": {},
     "output_type": "display_data"
    },
    {
     "data": {
      "text/html": [
       "<pre>| 3m 38s                              | 12               | 15072           |</pre>"
      ],
      "text/plain": [
       "| 3m 38s                              | 12               | 15072           |"
      ]
     },
     "metadata": {},
     "output_type": "display_data"
    },
    {
     "data": {
      "text/html": [
       "<pre>| 3m 41s                              | 12.25            | 15363           |</pre>"
      ],
      "text/plain": [
       "| 3m 41s                              | 12.25            | 15363           |"
      ]
     },
     "metadata": {},
     "output_type": "display_data"
    },
    {
     "data": {
      "text/html": [
       "<pre>| 3m 58s                              | 12.5             | 15643           |</pre>"
      ],
      "text/plain": [
       "| 3m 58s                              | 12.5             | 15643           |"
      ]
     },
     "metadata": {},
     "output_type": "display_data"
    },
    {
     "data": {
      "text/html": [
       "<pre>| 4m 1s                               | 12.75            | 16187           |</pre>"
      ],
      "text/plain": [
       "| 4m 1s                               | 12.75            | 16187           |"
      ]
     },
     "metadata": {},
     "output_type": "display_data"
    },
    {
     "data": {
      "text/html": [
       "<pre>| 4m 4s                               | 13.25            | 16657           |</pre>"
      ],
      "text/plain": [
       "| 4m 4s                               | 13.25            | 16657           |"
      ]
     },
     "metadata": {},
     "output_type": "display_data"
    },
    {
     "data": {
      "text/html": [
       "<pre>| 4m 7s                               | 13.5             | 17107           |</pre>"
      ],
      "text/plain": [
       "| 4m 7s                               | 13.5             | 17107           |"
      ]
     },
     "metadata": {},
     "output_type": "display_data"
    },
    {
     "data": {
      "text/html": [
       "<pre>| 4m 10s                              | 14               | 17497           |</pre>"
      ],
      "text/plain": [
       "| 4m 10s                              | 14               | 17497           |"
      ]
     },
     "metadata": {},
     "output_type": "display_data"
    },
    {
     "data": {
      "text/html": [
       "<pre>| 4m 13s                              | 14.25            | 17973           |</pre>"
      ],
      "text/plain": [
       "| 4m 13s                              | 14.25            | 17973           |"
      ]
     },
     "metadata": {},
     "output_type": "display_data"
    },
    {
     "data": {
      "text/html": [
       "<pre>| 4m 16s                              | 14.75            | 18411           |</pre>"
      ],
      "text/plain": [
       "| 4m 16s                              | 14.75            | 18411           |"
      ]
     },
     "metadata": {},
     "output_type": "display_data"
    },
    {
     "data": {
      "text/html": [
       "<pre>| 4m 19s                              | 15               | 18819           |</pre>"
      ],
      "text/plain": [
       "| 4m 19s                              | 15               | 18819           |"
      ]
     },
     "metadata": {},
     "output_type": "display_data"
    },
    {
     "data": {
      "text/html": [
       "<pre>| 4m 22s                              | 15.25            | 19255           |</pre>"
      ],
      "text/plain": [
       "| 4m 22s                              | 15.25            | 19255           |"
      ]
     },
     "metadata": {},
     "output_type": "display_data"
    },
    {
     "data": {
      "text/html": [
       "<pre>| 4m 25s                              | 15.75            | 19700           |</pre>"
      ],
      "text/plain": [
       "| 4m 25s                              | 15.75            | 19700           |"
      ]
     },
     "metadata": {},
     "output_type": "display_data"
    },
    {
     "data": {
      "text/html": [
       "<pre>| 4m 28s                              | 16               | 20128           |</pre>"
      ],
      "text/plain": [
       "| 4m 28s                              | 16               | 20128           |"
      ]
     },
     "metadata": {},
     "output_type": "display_data"
    },
    {
     "data": {
      "text/html": [
       "<pre>| 4m 31s                              | 16.25            | 20546           |</pre>"
      ],
      "text/plain": [
       "| 4m 31s                              | 16.25            | 20546           |"
      ]
     },
     "metadata": {},
     "output_type": "display_data"
    },
    {
     "data": {
      "text/html": [
       "<pre>| 4m 34s                              | 16.75            | 20973           |</pre>"
      ],
      "text/plain": [
       "| 4m 34s                              | 16.75            | 20973           |"
      ]
     },
     "metadata": {},
     "output_type": "display_data"
    },
    {
     "data": {
      "text/html": [
       "<pre>| 4m 37s                              | 17               | 21406           |</pre>"
      ],
      "text/plain": [
       "| 4m 37s                              | 17               | 21406           |"
      ]
     },
     "metadata": {},
     "output_type": "display_data"
    },
    {
     "data": {
      "text/html": [
       "<pre>| 4m 40s                              | 17.5             | 21802           |</pre>"
      ],
      "text/plain": [
       "| 4m 40s                              | 17.5             | 21802           |"
      ]
     },
     "metadata": {},
     "output_type": "display_data"
    },
    {
     "data": {
      "text/html": [
       "<pre>| 4m 43s                              | 17.75            | 22215           |</pre>"
      ],
      "text/plain": [
       "| 4m 43s                              | 17.75            | 22215           |"
      ]
     },
     "metadata": {},
     "output_type": "display_data"
    },
    {
     "data": {
      "text/html": [
       "<pre>| 4m 47s                              | 18               | 22623           |</pre>"
      ],
      "text/plain": [
       "| 4m 47s                              | 18               | 22623           |"
      ]
     },
     "metadata": {},
     "output_type": "display_data"
    },
    {
     "data": {
      "text/html": [
       "<pre>| 4m 50s                              | 18.25            | 23016           |</pre>"
      ],
      "text/plain": [
       "| 4m 50s                              | 18.25            | 23016           |"
      ]
     },
     "metadata": {},
     "output_type": "display_data"
    },
    {
     "data": {
      "text/html": [
       "<pre>| 4m 53s                              | 18.75            | 23431           |</pre>"
      ],
      "text/plain": [
       "| 4m 53s                              | 18.75            | 23431           |"
      ]
     },
     "metadata": {},
     "output_type": "display_data"
    },
    {
     "data": {
      "text/html": [
       "<pre>| 4m 56s                              | 19               | 23871           |</pre>"
      ],
      "text/plain": [
       "| 4m 56s                              | 19               | 23871           |"
      ]
     },
     "metadata": {},
     "output_type": "display_data"
    },
    {
     "data": {
      "text/html": [
       "<pre>| 4m 59s                              | 19.5             | 24291           |</pre>"
      ],
      "text/plain": [
       "| 4m 59s                              | 19.5             | 24291           |"
      ]
     },
     "metadata": {},
     "output_type": "display_data"
    },
    {
     "data": {
      "text/html": [
       "<pre>| 5m 2s                               | 19.75            | 24689           |</pre>"
      ],
      "text/plain": [
       "| 5m 2s                               | 19.75            | 24689           |"
      ]
     },
     "metadata": {},
     "output_type": "display_data"
    },
    {
     "data": {
      "text/html": [
       "<pre>| 5m 5s                               | 20               | 25102           |</pre>"
      ],
      "text/plain": [
       "| 5m 5s                               | 20               | 25102           |"
      ]
     },
     "metadata": {},
     "output_type": "display_data"
    },
    {
     "data": {
      "text/html": [
       "<pre>| 5m 8s                               | 20.25            | 25527           |</pre>"
      ],
      "text/plain": [
       "| 5m 8s                               | 20.25            | 25527           |"
      ]
     },
     "metadata": {},
     "output_type": "display_data"
    },
    {
     "data": {
      "text/html": [
       "<pre>| 5m 11s                              | 20.75            | 25948           |</pre>"
      ],
      "text/plain": [
       "| 5m 11s                              | 20.75            | 25948           |"
      ]
     },
     "metadata": {},
     "output_type": "display_data"
    },
    {
     "data": {
      "text/html": [
       "<pre>| 5m 14s                              | 21               | 26383           |</pre>"
      ],
      "text/plain": [
       "| 5m 14s                              | 21               | 26383           |"
      ]
     },
     "metadata": {},
     "output_type": "display_data"
    },
    {
     "data": {
      "text/html": [
       "<pre>| 5m 17s                              | 21.5             | 26807           |</pre>"
      ],
      "text/plain": [
       "| 5m 17s                              | 21.5             | 26807           |"
      ]
     },
     "metadata": {},
     "output_type": "display_data"
    },
    {
     "data": {
      "text/html": [
       "<pre>| 5m 20s                              | 21.75            | 27242           |</pre>"
      ],
      "text/plain": [
       "| 5m 20s                              | 21.75            | 27242           |"
      ]
     },
     "metadata": {},
     "output_type": "display_data"
    },
    {
     "data": {
      "text/html": [
       "<pre>| 5m 23s                              | 22               | 27677           |</pre>"
      ],
      "text/plain": [
       "| 5m 23s                              | 22               | 27677           |"
      ]
     },
     "metadata": {},
     "output_type": "display_data"
    },
    {
     "data": {
      "text/html": [
       "<pre>| 5m 26s                              | 22.5             | 28132           |</pre>"
      ],
      "text/plain": [
       "| 5m 26s                              | 22.5             | 28132           |"
      ]
     },
     "metadata": {},
     "output_type": "display_data"
    },
    {
     "data": {
      "text/html": [
       "<pre>| 5m 29s                              | 22.75            | 28592           |</pre>"
      ],
      "text/plain": [
       "| 5m 29s                              | 22.75            | 28592           |"
      ]
     },
     "metadata": {},
     "output_type": "display_data"
    },
    {
     "data": {
      "text/html": [
       "<pre>| 5m 32s                              | 23.25            | 29050           |</pre>"
      ],
      "text/plain": [
       "| 5m 32s                              | 23.25            | 29050           |"
      ]
     },
     "metadata": {},
     "output_type": "display_data"
    },
    {
     "data": {
      "text/html": [
       "<pre>| 5m 35s                              | 23.5             | 29485           |</pre>"
      ],
      "text/plain": [
       "| 5m 35s                              | 23.5             | 29485           |"
      ]
     },
     "metadata": {},
     "output_type": "display_data"
    },
    {
     "data": {
      "text/html": [
       "<pre>| 5m 38s                              | 24               | 29950           |</pre>"
      ],
      "text/plain": [
       "| 5m 38s                              | 24               | 29950           |"
      ]
     },
     "metadata": {},
     "output_type": "display_data"
    },
    {
     "data": {
      "text/html": [
       "<pre>| 5m 41s                              | 24.25            | 30414           |</pre>"
      ],
      "text/plain": [
       "| 5m 41s                              | 24.25            | 30414           |"
      ]
     },
     "metadata": {},
     "output_type": "display_data"
    },
    {
     "data": {
      "text/html": [
       "<pre>| 5m 44s                              | 24.75            | 30883           |</pre>"
      ],
      "text/plain": [
       "| 5m 44s                              | 24.75            | 30883           |"
      ]
     },
     "metadata": {},
     "output_type": "display_data"
    },
    {
     "data": {
      "text/html": [
       "<pre>| 5m 58s                              | 25               | 31185           |</pre>"
      ],
      "text/plain": [
       "| 5m 58s                              | 25               | 31185           |"
      ]
     },
     "metadata": {},
     "output_type": "display_data"
    },
    {
     "data": {
      "text/html": [
       "<pre>| 6m 1s                               | 25.5             | 31972           |</pre>"
      ],
      "text/plain": [
       "| 6m 1s                               | 25.5             | 31972           |"
      ]
     },
     "metadata": {},
     "output_type": "display_data"
    },
    {
     "data": {
      "text/html": [
       "<pre>| 6m 4s                               | 26.25            | 32696           |</pre>"
      ],
      "text/plain": [
       "| 6m 4s                               | 26.25            | 32696           |"
      ]
     },
     "metadata": {},
     "output_type": "display_data"
    },
    {
     "data": {
      "text/html": [
       "<pre>| 6m 7s                               | 26.75            | 33403           |</pre>"
      ],
      "text/plain": [
       "| 6m 7s                               | 26.75            | 33403           |"
      ]
     },
     "metadata": {},
     "output_type": "display_data"
    },
    {
     "data": {
      "text/html": [
       "<pre>| 6m 10s                              | 27.25            | 34047           |</pre>"
      ],
      "text/plain": [
       "| 6m 10s                              | 27.25            | 34047           |"
      ]
     },
     "metadata": {},
     "output_type": "display_data"
    },
    {
     "data": {
      "text/html": [
       "<pre>| 6m 13s                              | 27.75            | 34704           |</pre>"
      ],
      "text/plain": [
       "| 6m 13s                              | 27.75            | 34704           |"
      ]
     },
     "metadata": {},
     "output_type": "display_data"
    },
    {
     "data": {
      "text/html": [
       "<pre>| 6m 16s                              | 28.25            | 35343           |</pre>"
      ],
      "text/plain": [
       "| 6m 16s                              | 28.25            | 35343           |"
      ]
     },
     "metadata": {},
     "output_type": "display_data"
    },
    {
     "data": {
      "text/html": [
       "<pre>| 6m 19s                              | 28.75            | 35978           |</pre>"
      ],
      "text/plain": [
       "| 6m 19s                              | 28.75            | 35978           |"
      ]
     },
     "metadata": {},
     "output_type": "display_data"
    },
    {
     "data": {
      "text/html": [
       "<pre>| 6m 22s                              | 29.25            | 36611           |</pre>"
      ],
      "text/plain": [
       "| 6m 22s                              | 29.25            | 36611           |"
      ]
     },
     "metadata": {},
     "output_type": "display_data"
    },
    {
     "data": {
      "text/html": [
       "<pre>| 6m 25s                              | 29.75            | 37198           |</pre>"
      ],
      "text/plain": [
       "| 6m 25s                              | 29.75            | 37198           |"
      ]
     },
     "metadata": {},
     "output_type": "display_data"
    },
    {
     "data": {
      "text/html": [
       "<pre>| 6m 28s                              | 30.25            | 37790           |</pre>"
      ],
      "text/plain": [
       "| 6m 28s                              | 30.25            | 37790           |"
      ]
     },
     "metadata": {},
     "output_type": "display_data"
    },
    {
     "data": {
      "text/html": [
       "<pre>| 6m 31s                              | 30.75            | 38371           |</pre>"
      ],
      "text/plain": [
       "| 6m 31s                              | 30.75            | 38371           |"
      ]
     },
     "metadata": {},
     "output_type": "display_data"
    },
    {
     "data": {
      "text/html": [
       "<pre>| 6m 34s                              | 31.25            | 38953           |</pre>"
      ],
      "text/plain": [
       "| 6m 34s                              | 31.25            | 38953           |"
      ]
     },
     "metadata": {},
     "output_type": "display_data"
    },
    {
     "data": {
      "text/html": [
       "<pre>| 6m 37s                              | 31.75            | 39569           |</pre>"
      ],
      "text/plain": [
       "| 6m 37s                              | 31.75            | 39569           |"
      ]
     },
     "metadata": {},
     "output_type": "display_data"
    },
    {
     "data": {
      "text/html": [
       "<pre>| 6m 40s                              | 32               | 40154           |</pre>"
      ],
      "text/plain": [
       "| 6m 40s                              | 32               | 40154           |"
      ]
     },
     "metadata": {},
     "output_type": "display_data"
    },
    {
     "data": {
      "text/html": [
       "<pre>| 6m 43s                              | 32.5             | 40767           |</pre>"
      ],
      "text/plain": [
       "| 6m 43s                              | 32.5             | 40767           |"
      ]
     },
     "metadata": {},
     "output_type": "display_data"
    },
    {
     "data": {
      "text/html": [
       "<pre>| 6m 46s                              | 33               | 41380           |</pre>"
      ],
      "text/plain": [
       "| 6m 46s                              | 33               | 41380           |"
      ]
     },
     "metadata": {},
     "output_type": "display_data"
    },
    {
     "data": {
      "text/html": [
       "<pre>| 6m 49s                              | 33.5             | 42009           |</pre>"
      ],
      "text/plain": [
       "| 6m 49s                              | 33.5             | 42009           |"
      ]
     },
     "metadata": {},
     "output_type": "display_data"
    },
    {
     "data": {
      "text/html": [
       "<pre>| 6m 52s                              | 34               | 42647           |</pre>"
      ],
      "text/plain": [
       "| 6m 52s                              | 34               | 42647           |"
      ]
     },
     "metadata": {},
     "output_type": "display_data"
    },
    {
     "data": {
      "text/html": [
       "<pre>| 6m 55s                              | 34.5             | 43277           |</pre>"
      ],
      "text/plain": [
       "| 6m 55s                              | 34.5             | 43277           |"
      ]
     },
     "metadata": {},
     "output_type": "display_data"
    },
    {
     "data": {
      "text/html": [
       "<pre>| 6m 58s                              | 35               | 43882           |</pre>"
      ],
      "text/plain": [
       "| 6m 58s                              | 35               | 43882           |"
      ]
     },
     "metadata": {},
     "output_type": "display_data"
    },
    {
     "data": {
      "text/html": [
       "<pre>| 7m 1s                               | 35.75            | 44527           |</pre>"
      ],
      "text/plain": [
       "| 7m 1s                               | 35.75            | 44527           |"
      ]
     },
     "metadata": {},
     "output_type": "display_data"
    },
    {
     "data": {
      "text/html": [
       "<pre>| 7m 4s                               | 36.25            | 45192           |</pre>"
      ],
      "text/plain": [
       "| 7m 4s                               | 36.25            | 45192           |"
      ]
     },
     "metadata": {},
     "output_type": "display_data"
    },
    {
     "data": {
      "text/html": [
       "<pre>| 7m 7s                               | 36.75            | 45844           |</pre>"
      ],
      "text/plain": [
       "| 7m 7s                               | 36.75            | 45844           |"
      ]
     },
     "metadata": {},
     "output_type": "display_data"
    },
    {
     "data": {
      "text/html": [
       "<pre>| 7m 10s                              | 37.25            | 46471           |</pre>"
      ],
      "text/plain": [
       "| 7m 10s                              | 37.25            | 46471           |"
      ]
     },
     "metadata": {},
     "output_type": "display_data"
    },
    {
     "data": {
      "text/html": [
       "<pre>| 7m 22s                              | 37.5             | 46728           |</pre>"
      ],
      "text/plain": [
       "| 7m 22s                              | 37.5             | 46728           |"
      ]
     },
     "metadata": {},
     "output_type": "display_data"
    },
    {
     "data": {
      "text/html": [
       "<pre>| 7m 25s                              | 38.25            | 47845           |</pre>"
      ],
      "text/plain": [
       "| 7m 25s                              | 38.25            | 47845           |"
      ]
     },
     "metadata": {},
     "output_type": "display_data"
    },
    {
     "data": {
      "text/html": [
       "<pre>| 7m 28s                              | 39               | 48865           |</pre>"
      ],
      "text/plain": [
       "| 7m 28s                              | 39               | 48865           |"
      ]
     },
     "metadata": {},
     "output_type": "display_data"
    },
    {
     "data": {
      "text/html": [
       "<pre>| 7m 31s                              | 40               | 49862           |</pre>"
      ],
      "text/plain": [
       "| 7m 31s                              | 40               | 49862           |"
      ]
     },
     "metadata": {},
     "output_type": "display_data"
    },
    {
     "data": {
      "text/html": [
       "<pre>| 7m 34s                              | 40.75            | 50820           |</pre>"
      ],
      "text/plain": [
       "| 7m 34s                              | 40.75            | 50820           |"
      ]
     },
     "metadata": {},
     "output_type": "display_data"
    },
    {
     "data": {
      "text/html": [
       "<pre>| 7m 37s                              | 41.5             | 51738           |</pre>"
      ],
      "text/plain": [
       "| 7m 37s                              | 41.5             | 51738           |"
      ]
     },
     "metadata": {},
     "output_type": "display_data"
    },
    {
     "data": {
      "text/html": [
       "<pre>| 7m 40s                              | 42.25            | 52663           |</pre>"
      ],
      "text/plain": [
       "| 7m 40s                              | 42.25            | 52663           |"
      ]
     },
     "metadata": {},
     "output_type": "display_data"
    },
    {
     "data": {
      "text/html": [
       "<pre>| 7m 43s                              | 43               | 53581           |</pre>"
      ],
      "text/plain": [
       "| 7m 43s                              | 43               | 53581           |"
      ]
     },
     "metadata": {},
     "output_type": "display_data"
    },
    {
     "data": {
      "text/html": [
       "<pre>| 7m 46s                              | 43.75            | 54509           |</pre>"
      ],
      "text/plain": [
       "| 7m 46s                              | 43.75            | 54509           |"
      ]
     },
     "metadata": {},
     "output_type": "display_data"
    },
    {
     "data": {
      "text/html": [
       "<pre>| 7m 49s                              | 44.5             | 55437           |</pre>"
      ],
      "text/plain": [
       "| 7m 49s                              | 44.5             | 55437           |"
      ]
     },
     "metadata": {},
     "output_type": "display_data"
    },
    {
     "data": {
      "text/html": [
       "<pre>| 7m 52s                              | 45               | 56273           |</pre>"
      ],
      "text/plain": [
       "| 7m 52s                              | 45               | 56273           |"
      ]
     },
     "metadata": {},
     "output_type": "display_data"
    },
    {
     "data": {
      "text/html": [
       "<pre>| 7m 55s                              | 45.75            | 57183           |</pre>"
      ],
      "text/plain": [
       "| 7m 55s                              | 45.75            | 57183           |"
      ]
     },
     "metadata": {},
     "output_type": "display_data"
    },
    {
     "data": {
      "text/html": [
       "<pre>| 7m 58s                              | 46.5             | 58148           |</pre>"
      ],
      "text/plain": [
       "| 7m 58s                              | 46.5             | 58148           |"
      ]
     },
     "metadata": {},
     "output_type": "display_data"
    },
    {
     "data": {
      "text/html": [
       "<pre>| 8m 1s                               | 47.25            | 59126           |</pre>"
      ],
      "text/plain": [
       "| 8m 1s                               | 47.25            | 59126           |"
      ]
     },
     "metadata": {},
     "output_type": "display_data"
    },
    {
     "data": {
      "text/html": [
       "<pre>| 8m 4s                               | 48               | 60056           |</pre>"
      ],
      "text/plain": [
       "| 8m 4s                               | 48               | 60056           |"
      ]
     },
     "metadata": {},
     "output_type": "display_data"
    },
    {
     "data": {
      "text/html": [
       "<pre>| 8m 7s                               | 48.75            | 61007           |</pre>"
      ],
      "text/plain": [
       "| 8m 7s                               | 48.75            | 61007           |"
      ]
     },
     "metadata": {},
     "output_type": "display_data"
    },
    {
     "data": {
      "text/html": [
       "<pre>| 8m 10s                              | 49.5             | 61920           |</pre>"
      ],
      "text/plain": [
       "| 8m 10s                              | 49.5             | 61920           |"
      ]
     },
     "metadata": {},
     "output_type": "display_data"
    },
    {
     "data": {
      "text/html": [
       "<pre>| 8m 22s                              | 49.75            | 62271           |</pre>"
      ],
      "text/plain": [
       "| 8m 22s                              | 49.75            | 62271           |"
      ]
     },
     "metadata": {},
     "output_type": "display_data"
    },
    {
     "data": {
      "text/html": [
       "<pre>| 8m 25s                              | 51               | 63801           |</pre>"
      ],
      "text/plain": [
       "| 8m 25s                              | 51               | 63801           |"
      ]
     },
     "metadata": {},
     "output_type": "display_data"
    },
    {
     "data": {
      "text/html": [
       "<pre>| 8m 28s                              | 52               | 64945           |</pre>"
      ],
      "text/plain": [
       "| 8m 28s                              | 52               | 64945           |"
      ]
     },
     "metadata": {},
     "output_type": "display_data"
    },
    {
     "data": {
      "text/html": [
       "<pre>| 8m 31s                              | 53               | 66215           |</pre>"
      ],
      "text/plain": [
       "| 8m 31s                              | 53               | 66215           |"
      ]
     },
     "metadata": {},
     "output_type": "display_data"
    },
    {
     "data": {
      "text/html": [
       "<pre>| 8m 34s                              | 54               | 67533           |</pre>"
      ],
      "text/plain": [
       "| 8m 34s                              | 54               | 67533           |"
      ]
     },
     "metadata": {},
     "output_type": "display_data"
    },
    {
     "data": {
      "text/html": [
       "<pre>| 8m 37s                              | 55               | 68783           |</pre>"
      ],
      "text/plain": [
       "| 8m 37s                              | 55               | 68783           |"
      ]
     },
     "metadata": {},
     "output_type": "display_data"
    },
    {
     "data": {
      "text/html": [
       "<pre>| 8m 40s                              | 56               | 70020           |</pre>"
      ],
      "text/plain": [
       "| 8m 40s                              | 56               | 70020           |"
      ]
     },
     "metadata": {},
     "output_type": "display_data"
    },
    {
     "data": {
      "text/html": [
       "<pre>| 8m 43s                              | 57.25            | 71378           |</pre>"
      ],
      "text/plain": [
       "| 8m 43s                              | 57.25            | 71378           |"
      ]
     },
     "metadata": {},
     "output_type": "display_data"
    },
    {
     "data": {
      "text/html": [
       "<pre>| 8m 46s                              | 58.25            | 72798           |</pre>"
      ],
      "text/plain": [
       "| 8m 46s                              | 58.25            | 72798           |"
      ]
     },
     "metadata": {},
     "output_type": "display_data"
    },
    {
     "data": {
      "text/html": [
       "<pre>| 8m 49s                              | 59.5             | 74189           |</pre>"
      ],
      "text/plain": [
       "| 8m 49s                              | 59.5             | 74189           |"
      ]
     },
     "metadata": {},
     "output_type": "display_data"
    },
    {
     "data": {
      "text/html": [
       "<pre>| 8m 52s                              | 60.75            | 75693           |</pre>"
      ],
      "text/plain": [
       "| 8m 52s                              | 60.75            | 75693           |"
      ]
     },
     "metadata": {},
     "output_type": "display_data"
    },
    {
     "data": {
      "text/html": [
       "<pre>| 8m 55s                              | 61.75            | 77124           |</pre>"
      ],
      "text/plain": [
       "| 8m 55s                              | 61.75            | 77124           |"
      ]
     },
     "metadata": {},
     "output_type": "display_data"
    },
    {
     "data": {
      "text/html": [
       "<pre>| 9m 8s                               | 62.25            | 77813           |</pre>"
      ],
      "text/plain": [
       "| 9m 8s                               | 62.25            | 77813           |"
      ]
     },
     "metadata": {},
     "output_type": "display_data"
    },
    {
     "data": {
      "text/html": [
       "<pre>| 9m 11s                              | 64.5             | 80350           |</pre>"
      ],
      "text/plain": [
       "| 9m 11s                              | 64.5             | 80350           |"
      ]
     },
     "metadata": {},
     "output_type": "display_data"
    },
    {
     "data": {
      "text/html": [
       "<pre>| 9m 14s                              | 66.25            | 82658           |</pre>"
      ],
      "text/plain": [
       "| 9m 14s                              | 66.25            | 82658           |"
      ]
     },
     "metadata": {},
     "output_type": "display_data"
    },
    {
     "data": {
      "text/html": [
       "<pre>| 9m 17s                              | 68               | 84976           |</pre>"
      ],
      "text/plain": [
       "| 9m 17s                              | 68               | 84976           |"
      ]
     },
     "metadata": {},
     "output_type": "display_data"
    },
    {
     "data": {
      "text/html": [
       "<pre>| 9m 20s                              | 70               | 87426           |</pre>"
      ],
      "text/plain": [
       "| 9m 20s                              | 70               | 87426           |"
      ]
     },
     "metadata": {},
     "output_type": "display_data"
    },
    {
     "data": {
      "text/html": [
       "<pre>| 9m 23s                              | 72.25            | 90099           |</pre>"
      ],
      "text/plain": [
       "| 9m 23s                              | 72.25            | 90099           |"
      ]
     },
     "metadata": {},
     "output_type": "display_data"
    },
    {
     "data": {
      "text/html": [
       "<pre>| 9m 26s                              | 74.25            | 92514           |</pre>"
      ],
      "text/plain": [
       "| 9m 26s                              | 74.25            | 92514           |"
      ]
     },
     "metadata": {},
     "output_type": "display_data"
    },
    {
     "data": {
      "text/html": [
       "<pre>| 9m 37s                              | 74.75            | 93355           |</pre>"
      ],
      "text/plain": [
       "| 9m 37s                              | 74.75            | 93355           |"
      ]
     },
     "metadata": {},
     "output_type": "display_data"
    },
    {
     "data": {
      "text/html": [
       "<pre>| 9m 40s                              | 79.25            | 98785           |</pre>"
      ],
      "text/plain": [
       "| 9m 40s                              | 79.25            | 98785           |"
      ]
     },
     "metadata": {},
     "output_type": "display_data"
    },
    {
     "data": {
      "text/html": [
       "<pre>| 9m 43s                              | 83.75            | 104613          |</pre>"
      ],
      "text/plain": [
       "| 9m 43s                              | 83.75            | 104613          |"
      ]
     },
     "metadata": {},
     "output_type": "display_data"
    },
    {
     "data": {
      "text/html": [
       "<pre>| 9m 51s                              | 87.25            | 108898          |</pre>"
      ],
      "text/plain": [
       "| 9m 51s                              | 87.25            | 108898          |"
      ]
     },
     "metadata": {},
     "output_type": "display_data"
    },
    {
     "data": {
      "text/html": [
       "<pre>| 9m 52s                              | 100              | 124548          |</pre>"
      ],
      "text/plain": [
       "| 9m 52s                              | 100              | 124548          |"
      ]
     },
     "metadata": {},
     "output_type": "display_data"
    },
    {
     "data": {
      "text/html": [
       "<pre>+-------------------------------------+------------------+-----------------+</pre>"
      ],
      "text/plain": [
       "+-------------------------------------+------------------+-----------------+"
      ]
     },
     "metadata": {},
     "output_type": "display_data"
    },
    {
     "data": {
      "text/html": [
       "<pre>Finalizing lookup tables.</pre>"
      ],
      "text/plain": [
       "Finalizing lookup tables."
      ]
     },
     "metadata": {},
     "output_type": "display_data"
    },
    {
     "data": {
      "text/html": [
       "<pre>Generating candidate set for working with new users.</pre>"
      ],
      "text/plain": [
       "Generating candidate set for working with new users."
      ]
     },
     "metadata": {},
     "output_type": "display_data"
    },
    {
     "data": {
      "text/html": [
       "<pre>Finished training in 593.733s</pre>"
      ],
      "text/plain": [
       "Finished training in 593.733s"
      ]
     },
     "metadata": {},
     "output_type": "display_data"
    },
    {
     "data": {
      "text/html": [
       "<pre>recommendations finished on 1000/372991 queries. users per second: 4440.1</pre>"
      ],
      "text/plain": [
       "recommendations finished on 1000/372991 queries. users per second: 4440.1"
      ]
     },
     "metadata": {},
     "output_type": "display_data"
    },
    {
     "data": {
      "text/html": [
       "<pre>recommendations finished on 2000/372991 queries. users per second: 4507.7</pre>"
      ],
      "text/plain": [
       "recommendations finished on 2000/372991 queries. users per second: 4507.7"
      ]
     },
     "metadata": {},
     "output_type": "display_data"
    },
    {
     "data": {
      "text/html": [
       "<pre>recommendations finished on 3000/372991 queries. users per second: 4460.61</pre>"
      ],
      "text/plain": [
       "recommendations finished on 3000/372991 queries. users per second: 4460.61"
      ]
     },
     "metadata": {},
     "output_type": "display_data"
    },
    {
     "data": {
      "text/html": [
       "<pre>recommendations finished on 4000/372991 queries. users per second: 4475.03</pre>"
      ],
      "text/plain": [
       "recommendations finished on 4000/372991 queries. users per second: 4475.03"
      ]
     },
     "metadata": {},
     "output_type": "display_data"
    },
    {
     "data": {
      "text/html": [
       "<pre>recommendations finished on 5000/372991 queries. users per second: 4499.9</pre>"
      ],
      "text/plain": [
       "recommendations finished on 5000/372991 queries. users per second: 4499.9"
      ]
     },
     "metadata": {},
     "output_type": "display_data"
    },
    {
     "data": {
      "text/html": [
       "<pre>recommendations finished on 6000/372991 queries. users per second: 4518.19</pre>"
      ],
      "text/plain": [
       "recommendations finished on 6000/372991 queries. users per second: 4518.19"
      ]
     },
     "metadata": {},
     "output_type": "display_data"
    },
    {
     "data": {
      "text/html": [
       "<pre>recommendations finished on 7000/372991 queries. users per second: 4529.31</pre>"
      ],
      "text/plain": [
       "recommendations finished on 7000/372991 queries. users per second: 4529.31"
      ]
     },
     "metadata": {},
     "output_type": "display_data"
    },
    {
     "data": {
      "text/html": [
       "<pre>recommendations finished on 8000/372991 queries. users per second: 4515.07</pre>"
      ],
      "text/plain": [
       "recommendations finished on 8000/372991 queries. users per second: 4515.07"
      ]
     },
     "metadata": {},
     "output_type": "display_data"
    },
    {
     "data": {
      "text/html": [
       "<pre>recommendations finished on 9000/372991 queries. users per second: 4484.26</pre>"
      ],
      "text/plain": [
       "recommendations finished on 9000/372991 queries. users per second: 4484.26"
      ]
     },
     "metadata": {},
     "output_type": "display_data"
    },
    {
     "data": {
      "text/html": [
       "<pre>recommendations finished on 10000/372991 queries. users per second: 4492.09</pre>"
      ],
      "text/plain": [
       "recommendations finished on 10000/372991 queries. users per second: 4492.09"
      ]
     },
     "metadata": {},
     "output_type": "display_data"
    },
    {
     "data": {
      "text/html": [
       "<pre>recommendations finished on 11000/372991 queries. users per second: 4486.99</pre>"
      ],
      "text/plain": [
       "recommendations finished on 11000/372991 queries. users per second: 4486.99"
      ]
     },
     "metadata": {},
     "output_type": "display_data"
    },
    {
     "data": {
      "text/html": [
       "<pre>recommendations finished on 12000/372991 queries. users per second: 4487.11</pre>"
      ],
      "text/plain": [
       "recommendations finished on 12000/372991 queries. users per second: 4487.11"
      ]
     },
     "metadata": {},
     "output_type": "display_data"
    },
    {
     "data": {
      "text/html": [
       "<pre>recommendations finished on 13000/372991 queries. users per second: 4508.01</pre>"
      ],
      "text/plain": [
       "recommendations finished on 13000/372991 queries. users per second: 4508.01"
      ]
     },
     "metadata": {},
     "output_type": "display_data"
    },
    {
     "data": {
      "text/html": [
       "<pre>recommendations finished on 14000/372991 queries. users per second: 4520.95</pre>"
      ],
      "text/plain": [
       "recommendations finished on 14000/372991 queries. users per second: 4520.95"
      ]
     },
     "metadata": {},
     "output_type": "display_data"
    },
    {
     "data": {
      "text/html": [
       "<pre>recommendations finished on 15000/372991 queries. users per second: 4531.73</pre>"
      ],
      "text/plain": [
       "recommendations finished on 15000/372991 queries. users per second: 4531.73"
      ]
     },
     "metadata": {},
     "output_type": "display_data"
    },
    {
     "data": {
      "text/html": [
       "<pre>recommendations finished on 16000/372991 queries. users per second: 4529.9</pre>"
      ],
      "text/plain": [
       "recommendations finished on 16000/372991 queries. users per second: 4529.9"
      ]
     },
     "metadata": {},
     "output_type": "display_data"
    },
    {
     "data": {
      "text/html": [
       "<pre>recommendations finished on 17000/372991 queries. users per second: 4530.32</pre>"
      ],
      "text/plain": [
       "recommendations finished on 17000/372991 queries. users per second: 4530.32"
      ]
     },
     "metadata": {},
     "output_type": "display_data"
    },
    {
     "data": {
      "text/html": [
       "<pre>recommendations finished on 18000/372991 queries. users per second: 4532.31</pre>"
      ],
      "text/plain": [
       "recommendations finished on 18000/372991 queries. users per second: 4532.31"
      ]
     },
     "metadata": {},
     "output_type": "display_data"
    },
    {
     "data": {
      "text/html": [
       "<pre>recommendations finished on 19000/372991 queries. users per second: 4542.02</pre>"
      ],
      "text/plain": [
       "recommendations finished on 19000/372991 queries. users per second: 4542.02"
      ]
     },
     "metadata": {},
     "output_type": "display_data"
    },
    {
     "data": {
      "text/html": [
       "<pre>recommendations finished on 20000/372991 queries. users per second: 4541.88</pre>"
      ],
      "text/plain": [
       "recommendations finished on 20000/372991 queries. users per second: 4541.88"
      ]
     },
     "metadata": {},
     "output_type": "display_data"
    },
    {
     "data": {
      "text/html": [
       "<pre>recommendations finished on 21000/372991 queries. users per second: 4540.69</pre>"
      ],
      "text/plain": [
       "recommendations finished on 21000/372991 queries. users per second: 4540.69"
      ]
     },
     "metadata": {},
     "output_type": "display_data"
    },
    {
     "data": {
      "text/html": [
       "<pre>recommendations finished on 22000/372991 queries. users per second: 4541.74</pre>"
      ],
      "text/plain": [
       "recommendations finished on 22000/372991 queries. users per second: 4541.74"
      ]
     },
     "metadata": {},
     "output_type": "display_data"
    },
    {
     "data": {
      "text/html": [
       "<pre>recommendations finished on 23000/372991 queries. users per second: 4542.86</pre>"
      ],
      "text/plain": [
       "recommendations finished on 23000/372991 queries. users per second: 4542.86"
      ]
     },
     "metadata": {},
     "output_type": "display_data"
    },
    {
     "data": {
      "text/html": [
       "<pre>recommendations finished on 24000/372991 queries. users per second: 4540.59</pre>"
      ],
      "text/plain": [
       "recommendations finished on 24000/372991 queries. users per second: 4540.59"
      ]
     },
     "metadata": {},
     "output_type": "display_data"
    },
    {
     "data": {
      "text/html": [
       "<pre>recommendations finished on 25000/372991 queries. users per second: 4544.07</pre>"
      ],
      "text/plain": [
       "recommendations finished on 25000/372991 queries. users per second: 4544.07"
      ]
     },
     "metadata": {},
     "output_type": "display_data"
    },
    {
     "data": {
      "text/html": [
       "<pre>recommendations finished on 26000/372991 queries. users per second: 4537.95</pre>"
      ],
      "text/plain": [
       "recommendations finished on 26000/372991 queries. users per second: 4537.95"
      ]
     },
     "metadata": {},
     "output_type": "display_data"
    },
    {
     "data": {
      "text/html": [
       "<pre>recommendations finished on 27000/372991 queries. users per second: 4539.96</pre>"
      ],
      "text/plain": [
       "recommendations finished on 27000/372991 queries. users per second: 4539.96"
      ]
     },
     "metadata": {},
     "output_type": "display_data"
    },
    {
     "data": {
      "text/html": [
       "<pre>recommendations finished on 28000/372991 queries. users per second: 4537.64</pre>"
      ],
      "text/plain": [
       "recommendations finished on 28000/372991 queries. users per second: 4537.64"
      ]
     },
     "metadata": {},
     "output_type": "display_data"
    },
    {
     "data": {
      "text/html": [
       "<pre>recommendations finished on 29000/372991 queries. users per second: 4536</pre>"
      ],
      "text/plain": [
       "recommendations finished on 29000/372991 queries. users per second: 4536"
      ]
     },
     "metadata": {},
     "output_type": "display_data"
    },
    {
     "data": {
      "text/html": [
       "<pre>recommendations finished on 30000/372991 queries. users per second: 4538.83</pre>"
      ],
      "text/plain": [
       "recommendations finished on 30000/372991 queries. users per second: 4538.83"
      ]
     },
     "metadata": {},
     "output_type": "display_data"
    },
    {
     "data": {
      "text/html": [
       "<pre>recommendations finished on 31000/372991 queries. users per second: 4532.16</pre>"
      ],
      "text/plain": [
       "recommendations finished on 31000/372991 queries. users per second: 4532.16"
      ]
     },
     "metadata": {},
     "output_type": "display_data"
    },
    {
     "data": {
      "text/html": [
       "<pre>recommendations finished on 32000/372991 queries. users per second: 4532.11</pre>"
      ],
      "text/plain": [
       "recommendations finished on 32000/372991 queries. users per second: 4532.11"
      ]
     },
     "metadata": {},
     "output_type": "display_data"
    },
    {
     "data": {
      "text/html": [
       "<pre>recommendations finished on 33000/372991 queries. users per second: 4530.11</pre>"
      ],
      "text/plain": [
       "recommendations finished on 33000/372991 queries. users per second: 4530.11"
      ]
     },
     "metadata": {},
     "output_type": "display_data"
    },
    {
     "data": {
      "text/html": [
       "<pre>recommendations finished on 34000/372991 queries. users per second: 4536.15</pre>"
      ],
      "text/plain": [
       "recommendations finished on 34000/372991 queries. users per second: 4536.15"
      ]
     },
     "metadata": {},
     "output_type": "display_data"
    },
    {
     "data": {
      "text/html": [
       "<pre>recommendations finished on 35000/372991 queries. users per second: 4536.34</pre>"
      ],
      "text/plain": [
       "recommendations finished on 35000/372991 queries. users per second: 4536.34"
      ]
     },
     "metadata": {},
     "output_type": "display_data"
    },
    {
     "data": {
      "text/html": [
       "<pre>recommendations finished on 36000/372991 queries. users per second: 4539.84</pre>"
      ],
      "text/plain": [
       "recommendations finished on 36000/372991 queries. users per second: 4539.84"
      ]
     },
     "metadata": {},
     "output_type": "display_data"
    },
    {
     "data": {
      "text/html": [
       "<pre>recommendations finished on 37000/372991 queries. users per second: 4545.84</pre>"
      ],
      "text/plain": [
       "recommendations finished on 37000/372991 queries. users per second: 4545.84"
      ]
     },
     "metadata": {},
     "output_type": "display_data"
    },
    {
     "data": {
      "text/html": [
       "<pre>recommendations finished on 38000/372991 queries. users per second: 4549.87</pre>"
      ],
      "text/plain": [
       "recommendations finished on 38000/372991 queries. users per second: 4549.87"
      ]
     },
     "metadata": {},
     "output_type": "display_data"
    },
    {
     "data": {
      "text/html": [
       "<pre>recommendations finished on 39000/372991 queries. users per second: 4552.2</pre>"
      ],
      "text/plain": [
       "recommendations finished on 39000/372991 queries. users per second: 4552.2"
      ]
     },
     "metadata": {},
     "output_type": "display_data"
    },
    {
     "data": {
      "text/html": [
       "<pre>recommendations finished on 40000/372991 queries. users per second: 4555.55</pre>"
      ],
      "text/plain": [
       "recommendations finished on 40000/372991 queries. users per second: 4555.55"
      ]
     },
     "metadata": {},
     "output_type": "display_data"
    },
    {
     "data": {
      "text/html": [
       "<pre>recommendations finished on 41000/372991 queries. users per second: 4559.04</pre>"
      ],
      "text/plain": [
       "recommendations finished on 41000/372991 queries. users per second: 4559.04"
      ]
     },
     "metadata": {},
     "output_type": "display_data"
    },
    {
     "data": {
      "text/html": [
       "<pre>recommendations finished on 42000/372991 queries. users per second: 4555.83</pre>"
      ],
      "text/plain": [
       "recommendations finished on 42000/372991 queries. users per second: 4555.83"
      ]
     },
     "metadata": {},
     "output_type": "display_data"
    },
    {
     "data": {
      "text/html": [
       "<pre>recommendations finished on 43000/372991 queries. users per second: 4558.43</pre>"
      ],
      "text/plain": [
       "recommendations finished on 43000/372991 queries. users per second: 4558.43"
      ]
     },
     "metadata": {},
     "output_type": "display_data"
    },
    {
     "data": {
      "text/html": [
       "<pre>recommendations finished on 44000/372991 queries. users per second: 4559.33</pre>"
      ],
      "text/plain": [
       "recommendations finished on 44000/372991 queries. users per second: 4559.33"
      ]
     },
     "metadata": {},
     "output_type": "display_data"
    },
    {
     "data": {
      "text/html": [
       "<pre>recommendations finished on 45000/372991 queries. users per second: 4559.74</pre>"
      ],
      "text/plain": [
       "recommendations finished on 45000/372991 queries. users per second: 4559.74"
      ]
     },
     "metadata": {},
     "output_type": "display_data"
    },
    {
     "data": {
      "text/html": [
       "<pre>recommendations finished on 46000/372991 queries. users per second: 4560.96</pre>"
      ],
      "text/plain": [
       "recommendations finished on 46000/372991 queries. users per second: 4560.96"
      ]
     },
     "metadata": {},
     "output_type": "display_data"
    },
    {
     "data": {
      "text/html": [
       "<pre>recommendations finished on 47000/372991 queries. users per second: 4558.06</pre>"
      ],
      "text/plain": [
       "recommendations finished on 47000/372991 queries. users per second: 4558.06"
      ]
     },
     "metadata": {},
     "output_type": "display_data"
    },
    {
     "data": {
      "text/html": [
       "<pre>recommendations finished on 48000/372991 queries. users per second: 4557.45</pre>"
      ],
      "text/plain": [
       "recommendations finished on 48000/372991 queries. users per second: 4557.45"
      ]
     },
     "metadata": {},
     "output_type": "display_data"
    },
    {
     "data": {
      "text/html": [
       "<pre>recommendations finished on 49000/372991 queries. users per second: 4557.84</pre>"
      ],
      "text/plain": [
       "recommendations finished on 49000/372991 queries. users per second: 4557.84"
      ]
     },
     "metadata": {},
     "output_type": "display_data"
    },
    {
     "data": {
      "text/html": [
       "<pre>recommendations finished on 50000/372991 queries. users per second: 4554.7</pre>"
      ],
      "text/plain": [
       "recommendations finished on 50000/372991 queries. users per second: 4554.7"
      ]
     },
     "metadata": {},
     "output_type": "display_data"
    },
    {
     "data": {
      "text/html": [
       "<pre>recommendations finished on 51000/372991 queries. users per second: 4555.45</pre>"
      ],
      "text/plain": [
       "recommendations finished on 51000/372991 queries. users per second: 4555.45"
      ]
     },
     "metadata": {},
     "output_type": "display_data"
    },
    {
     "data": {
      "text/html": [
       "<pre>recommendations finished on 52000/372991 queries. users per second: 4556.14</pre>"
      ],
      "text/plain": [
       "recommendations finished on 52000/372991 queries. users per second: 4556.14"
      ]
     },
     "metadata": {},
     "output_type": "display_data"
    },
    {
     "data": {
      "text/html": [
       "<pre>recommendations finished on 53000/372991 queries. users per second: 4560.07</pre>"
      ],
      "text/plain": [
       "recommendations finished on 53000/372991 queries. users per second: 4560.07"
      ]
     },
     "metadata": {},
     "output_type": "display_data"
    },
    {
     "data": {
      "text/html": [
       "<pre>recommendations finished on 54000/372991 queries. users per second: 4563</pre>"
      ],
      "text/plain": [
       "recommendations finished on 54000/372991 queries. users per second: 4563"
      ]
     },
     "metadata": {},
     "output_type": "display_data"
    },
    {
     "data": {
      "text/html": [
       "<pre>recommendations finished on 55000/372991 queries. users per second: 4566.38</pre>"
      ],
      "text/plain": [
       "recommendations finished on 55000/372991 queries. users per second: 4566.38"
      ]
     },
     "metadata": {},
     "output_type": "display_data"
    },
    {
     "data": {
      "text/html": [
       "<pre>recommendations finished on 56000/372991 queries. users per second: 4565.75</pre>"
      ],
      "text/plain": [
       "recommendations finished on 56000/372991 queries. users per second: 4565.75"
      ]
     },
     "metadata": {},
     "output_type": "display_data"
    },
    {
     "data": {
      "text/html": [
       "<pre>recommendations finished on 57000/372991 queries. users per second: 4565.51</pre>"
      ],
      "text/plain": [
       "recommendations finished on 57000/372991 queries. users per second: 4565.51"
      ]
     },
     "metadata": {},
     "output_type": "display_data"
    },
    {
     "data": {
      "text/html": [
       "<pre>recommendations finished on 58000/372991 queries. users per second: 4567.49</pre>"
      ],
      "text/plain": [
       "recommendations finished on 58000/372991 queries. users per second: 4567.49"
      ]
     },
     "metadata": {},
     "output_type": "display_data"
    },
    {
     "data": {
      "text/html": [
       "<pre>recommendations finished on 59000/372991 queries. users per second: 4566.52</pre>"
      ],
      "text/plain": [
       "recommendations finished on 59000/372991 queries. users per second: 4566.52"
      ]
     },
     "metadata": {},
     "output_type": "display_data"
    },
    {
     "data": {
      "text/html": [
       "<pre>recommendations finished on 60000/372991 queries. users per second: 4565.62</pre>"
      ],
      "text/plain": [
       "recommendations finished on 60000/372991 queries. users per second: 4565.62"
      ]
     },
     "metadata": {},
     "output_type": "display_data"
    },
    {
     "data": {
      "text/html": [
       "<pre>recommendations finished on 61000/372991 queries. users per second: 4563.37</pre>"
      ],
      "text/plain": [
       "recommendations finished on 61000/372991 queries. users per second: 4563.37"
      ]
     },
     "metadata": {},
     "output_type": "display_data"
    },
    {
     "data": {
      "text/html": [
       "<pre>recommendations finished on 62000/372991 queries. users per second: 4564.67</pre>"
      ],
      "text/plain": [
       "recommendations finished on 62000/372991 queries. users per second: 4564.67"
      ]
     },
     "metadata": {},
     "output_type": "display_data"
    },
    {
     "data": {
      "text/html": [
       "<pre>recommendations finished on 63000/372991 queries. users per second: 4565.66</pre>"
      ],
      "text/plain": [
       "recommendations finished on 63000/372991 queries. users per second: 4565.66"
      ]
     },
     "metadata": {},
     "output_type": "display_data"
    },
    {
     "data": {
      "text/html": [
       "<pre>recommendations finished on 64000/372991 queries. users per second: 4563.83</pre>"
      ],
      "text/plain": [
       "recommendations finished on 64000/372991 queries. users per second: 4563.83"
      ]
     },
     "metadata": {},
     "output_type": "display_data"
    },
    {
     "data": {
      "text/html": [
       "<pre>recommendations finished on 65000/372991 queries. users per second: 4564.27</pre>"
      ],
      "text/plain": [
       "recommendations finished on 65000/372991 queries. users per second: 4564.27"
      ]
     },
     "metadata": {},
     "output_type": "display_data"
    },
    {
     "data": {
      "text/html": [
       "<pre>recommendations finished on 66000/372991 queries. users per second: 4562.05</pre>"
      ],
      "text/plain": [
       "recommendations finished on 66000/372991 queries. users per second: 4562.05"
      ]
     },
     "metadata": {},
     "output_type": "display_data"
    },
    {
     "data": {
      "text/html": [
       "<pre>recommendations finished on 67000/372991 queries. users per second: 4561.89</pre>"
      ],
      "text/plain": [
       "recommendations finished on 67000/372991 queries. users per second: 4561.89"
      ]
     },
     "metadata": {},
     "output_type": "display_data"
    },
    {
     "data": {
      "text/html": [
       "<pre>recommendations finished on 68000/372991 queries. users per second: 4561.91</pre>"
      ],
      "text/plain": [
       "recommendations finished on 68000/372991 queries. users per second: 4561.91"
      ]
     },
     "metadata": {},
     "output_type": "display_data"
    },
    {
     "data": {
      "text/html": [
       "<pre>recommendations finished on 69000/372991 queries. users per second: 4563.54</pre>"
      ],
      "text/plain": [
       "recommendations finished on 69000/372991 queries. users per second: 4563.54"
      ]
     },
     "metadata": {},
     "output_type": "display_data"
    },
    {
     "data": {
      "text/html": [
       "<pre>recommendations finished on 70000/372991 queries. users per second: 4564.31</pre>"
      ],
      "text/plain": [
       "recommendations finished on 70000/372991 queries. users per second: 4564.31"
      ]
     },
     "metadata": {},
     "output_type": "display_data"
    },
    {
     "data": {
      "text/html": [
       "<pre>recommendations finished on 71000/372991 queries. users per second: 4564.45</pre>"
      ],
      "text/plain": [
       "recommendations finished on 71000/372991 queries. users per second: 4564.45"
      ]
     },
     "metadata": {},
     "output_type": "display_data"
    },
    {
     "data": {
      "text/html": [
       "<pre>recommendations finished on 72000/372991 queries. users per second: 4564.54</pre>"
      ],
      "text/plain": [
       "recommendations finished on 72000/372991 queries. users per second: 4564.54"
      ]
     },
     "metadata": {},
     "output_type": "display_data"
    },
    {
     "data": {
      "text/html": [
       "<pre>recommendations finished on 73000/372991 queries. users per second: 4561.79</pre>"
      ],
      "text/plain": [
       "recommendations finished on 73000/372991 queries. users per second: 4561.79"
      ]
     },
     "metadata": {},
     "output_type": "display_data"
    },
    {
     "data": {
      "text/html": [
       "<pre>recommendations finished on 74000/372991 queries. users per second: 4562.16</pre>"
      ],
      "text/plain": [
       "recommendations finished on 74000/372991 queries. users per second: 4562.16"
      ]
     },
     "metadata": {},
     "output_type": "display_data"
    },
    {
     "data": {
      "text/html": [
       "<pre>recommendations finished on 75000/372991 queries. users per second: 4562.26</pre>"
      ],
      "text/plain": [
       "recommendations finished on 75000/372991 queries. users per second: 4562.26"
      ]
     },
     "metadata": {},
     "output_type": "display_data"
    },
    {
     "data": {
      "text/html": [
       "<pre>recommendations finished on 76000/372991 queries. users per second: 4562.93</pre>"
      ],
      "text/plain": [
       "recommendations finished on 76000/372991 queries. users per second: 4562.93"
      ]
     },
     "metadata": {},
     "output_type": "display_data"
    },
    {
     "data": {
      "text/html": [
       "<pre>recommendations finished on 77000/372991 queries. users per second: 4563.08</pre>"
      ],
      "text/plain": [
       "recommendations finished on 77000/372991 queries. users per second: 4563.08"
      ]
     },
     "metadata": {},
     "output_type": "display_data"
    },
    {
     "data": {
      "text/html": [
       "<pre>recommendations finished on 78000/372991 queries. users per second: 4560.89</pre>"
      ],
      "text/plain": [
       "recommendations finished on 78000/372991 queries. users per second: 4560.89"
      ]
     },
     "metadata": {},
     "output_type": "display_data"
    },
    {
     "data": {
      "text/html": [
       "<pre>recommendations finished on 79000/372991 queries. users per second: 4559.97</pre>"
      ],
      "text/plain": [
       "recommendations finished on 79000/372991 queries. users per second: 4559.97"
      ]
     },
     "metadata": {},
     "output_type": "display_data"
    },
    {
     "data": {
      "text/html": [
       "<pre>recommendations finished on 80000/372991 queries. users per second: 4558.77</pre>"
      ],
      "text/plain": [
       "recommendations finished on 80000/372991 queries. users per second: 4558.77"
      ]
     },
     "metadata": {},
     "output_type": "display_data"
    },
    {
     "data": {
      "text/html": [
       "<pre>recommendations finished on 81000/372991 queries. users per second: 4560.1</pre>"
      ],
      "text/plain": [
       "recommendations finished on 81000/372991 queries. users per second: 4560.1"
      ]
     },
     "metadata": {},
     "output_type": "display_data"
    },
    {
     "data": {
      "text/html": [
       "<pre>recommendations finished on 82000/372991 queries. users per second: 4558.55</pre>"
      ],
      "text/plain": [
       "recommendations finished on 82000/372991 queries. users per second: 4558.55"
      ]
     },
     "metadata": {},
     "output_type": "display_data"
    },
    {
     "data": {
      "text/html": [
       "<pre>recommendations finished on 83000/372991 queries. users per second: 4556.51</pre>"
      ],
      "text/plain": [
       "recommendations finished on 83000/372991 queries. users per second: 4556.51"
      ]
     },
     "metadata": {},
     "output_type": "display_data"
    },
    {
     "data": {
      "text/html": [
       "<pre>recommendations finished on 84000/372991 queries. users per second: 4558.63</pre>"
      ],
      "text/plain": [
       "recommendations finished on 84000/372991 queries. users per second: 4558.63"
      ]
     },
     "metadata": {},
     "output_type": "display_data"
    },
    {
     "data": {
      "text/html": [
       "<pre>recommendations finished on 85000/372991 queries. users per second: 4559.21</pre>"
      ],
      "text/plain": [
       "recommendations finished on 85000/372991 queries. users per second: 4559.21"
      ]
     },
     "metadata": {},
     "output_type": "display_data"
    },
    {
     "data": {
      "text/html": [
       "<pre>recommendations finished on 86000/372991 queries. users per second: 4559.28</pre>"
      ],
      "text/plain": [
       "recommendations finished on 86000/372991 queries. users per second: 4559.28"
      ]
     },
     "metadata": {},
     "output_type": "display_data"
    },
    {
     "data": {
      "text/html": [
       "<pre>recommendations finished on 87000/372991 queries. users per second: 4560.18</pre>"
      ],
      "text/plain": [
       "recommendations finished on 87000/372991 queries. users per second: 4560.18"
      ]
     },
     "metadata": {},
     "output_type": "display_data"
    },
    {
     "data": {
      "text/html": [
       "<pre>recommendations finished on 88000/372991 queries. users per second: 4559.04</pre>"
      ],
      "text/plain": [
       "recommendations finished on 88000/372991 queries. users per second: 4559.04"
      ]
     },
     "metadata": {},
     "output_type": "display_data"
    },
    {
     "data": {
      "text/html": [
       "<pre>recommendations finished on 89000/372991 queries. users per second: 4558.12</pre>"
      ],
      "text/plain": [
       "recommendations finished on 89000/372991 queries. users per second: 4558.12"
      ]
     },
     "metadata": {},
     "output_type": "display_data"
    },
    {
     "data": {
      "text/html": [
       "<pre>recommendations finished on 90000/372991 queries. users per second: 4556.91</pre>"
      ],
      "text/plain": [
       "recommendations finished on 90000/372991 queries. users per second: 4556.91"
      ]
     },
     "metadata": {},
     "output_type": "display_data"
    },
    {
     "data": {
      "text/html": [
       "<pre>recommendations finished on 91000/372991 queries. users per second: 4555.21</pre>"
      ],
      "text/plain": [
       "recommendations finished on 91000/372991 queries. users per second: 4555.21"
      ]
     },
     "metadata": {},
     "output_type": "display_data"
    },
    {
     "data": {
      "text/html": [
       "<pre>recommendations finished on 92000/372991 queries. users per second: 4553.93</pre>"
      ],
      "text/plain": [
       "recommendations finished on 92000/372991 queries. users per second: 4553.93"
      ]
     },
     "metadata": {},
     "output_type": "display_data"
    },
    {
     "data": {
      "text/html": [
       "<pre>recommendations finished on 93000/372991 queries. users per second: 4552.44</pre>"
      ],
      "text/plain": [
       "recommendations finished on 93000/372991 queries. users per second: 4552.44"
      ]
     },
     "metadata": {},
     "output_type": "display_data"
    },
    {
     "data": {
      "text/html": [
       "<pre>recommendations finished on 94000/372991 queries. users per second: 4551.1</pre>"
      ],
      "text/plain": [
       "recommendations finished on 94000/372991 queries. users per second: 4551.1"
      ]
     },
     "metadata": {},
     "output_type": "display_data"
    },
    {
     "data": {
      "text/html": [
       "<pre>recommendations finished on 95000/372991 queries. users per second: 4549.69</pre>"
      ],
      "text/plain": [
       "recommendations finished on 95000/372991 queries. users per second: 4549.69"
      ]
     },
     "metadata": {},
     "output_type": "display_data"
    },
    {
     "data": {
      "text/html": [
       "<pre>recommendations finished on 96000/372991 queries. users per second: 4549.14</pre>"
      ],
      "text/plain": [
       "recommendations finished on 96000/372991 queries. users per second: 4549.14"
      ]
     },
     "metadata": {},
     "output_type": "display_data"
    },
    {
     "data": {
      "text/html": [
       "<pre>recommendations finished on 97000/372991 queries. users per second: 4549.16</pre>"
      ],
      "text/plain": [
       "recommendations finished on 97000/372991 queries. users per second: 4549.16"
      ]
     },
     "metadata": {},
     "output_type": "display_data"
    },
    {
     "data": {
      "text/html": [
       "<pre>recommendations finished on 98000/372991 queries. users per second: 4549.42</pre>"
      ],
      "text/plain": [
       "recommendations finished on 98000/372991 queries. users per second: 4549.42"
      ]
     },
     "metadata": {},
     "output_type": "display_data"
    },
    {
     "data": {
      "text/html": [
       "<pre>recommendations finished on 99000/372991 queries. users per second: 4549.76</pre>"
      ],
      "text/plain": [
       "recommendations finished on 99000/372991 queries. users per second: 4549.76"
      ]
     },
     "metadata": {},
     "output_type": "display_data"
    },
    {
     "data": {
      "text/html": [
       "<pre>recommendations finished on 100000/372991 queries. users per second: 4548.46</pre>"
      ],
      "text/plain": [
       "recommendations finished on 100000/372991 queries. users per second: 4548.46"
      ]
     },
     "metadata": {},
     "output_type": "display_data"
    },
    {
     "data": {
      "text/html": [
       "<pre>recommendations finished on 101000/372991 queries. users per second: 4547.1</pre>"
      ],
      "text/plain": [
       "recommendations finished on 101000/372991 queries. users per second: 4547.1"
      ]
     },
     "metadata": {},
     "output_type": "display_data"
    },
    {
     "data": {
      "text/html": [
       "<pre>recommendations finished on 102000/372991 queries. users per second: 4545.61</pre>"
      ],
      "text/plain": [
       "recommendations finished on 102000/372991 queries. users per second: 4545.61"
      ]
     },
     "metadata": {},
     "output_type": "display_data"
    },
    {
     "data": {
      "text/html": [
       "<pre>recommendations finished on 103000/372991 queries. users per second: 4544.76</pre>"
      ],
      "text/plain": [
       "recommendations finished on 103000/372991 queries. users per second: 4544.76"
      ]
     },
     "metadata": {},
     "output_type": "display_data"
    },
    {
     "data": {
      "text/html": [
       "<pre>recommendations finished on 104000/372991 queries. users per second: 4544.88</pre>"
      ],
      "text/plain": [
       "recommendations finished on 104000/372991 queries. users per second: 4544.88"
      ]
     },
     "metadata": {},
     "output_type": "display_data"
    },
    {
     "data": {
      "text/html": [
       "<pre>recommendations finished on 105000/372991 queries. users per second: 4542.58</pre>"
      ],
      "text/plain": [
       "recommendations finished on 105000/372991 queries. users per second: 4542.58"
      ]
     },
     "metadata": {},
     "output_type": "display_data"
    },
    {
     "data": {
      "text/html": [
       "<pre>recommendations finished on 106000/372991 queries. users per second: 4539.85</pre>"
      ],
      "text/plain": [
       "recommendations finished on 106000/372991 queries. users per second: 4539.85"
      ]
     },
     "metadata": {},
     "output_type": "display_data"
    },
    {
     "data": {
      "text/html": [
       "<pre>recommendations finished on 107000/372991 queries. users per second: 4539.04</pre>"
      ],
      "text/plain": [
       "recommendations finished on 107000/372991 queries. users per second: 4539.04"
      ]
     },
     "metadata": {},
     "output_type": "display_data"
    },
    {
     "data": {
      "text/html": [
       "<pre>recommendations finished on 108000/372991 queries. users per second: 4536.81</pre>"
      ],
      "text/plain": [
       "recommendations finished on 108000/372991 queries. users per second: 4536.81"
      ]
     },
     "metadata": {},
     "output_type": "display_data"
    },
    {
     "data": {
      "text/html": [
       "<pre>recommendations finished on 109000/372991 queries. users per second: 4536.16</pre>"
      ],
      "text/plain": [
       "recommendations finished on 109000/372991 queries. users per second: 4536.16"
      ]
     },
     "metadata": {},
     "output_type": "display_data"
    },
    {
     "data": {
      "text/html": [
       "<pre>recommendations finished on 110000/372991 queries. users per second: 4535.86</pre>"
      ],
      "text/plain": [
       "recommendations finished on 110000/372991 queries. users per second: 4535.86"
      ]
     },
     "metadata": {},
     "output_type": "display_data"
    },
    {
     "data": {
      "text/html": [
       "<pre>recommendations finished on 111000/372991 queries. users per second: 4536.26</pre>"
      ],
      "text/plain": [
       "recommendations finished on 111000/372991 queries. users per second: 4536.26"
      ]
     },
     "metadata": {},
     "output_type": "display_data"
    },
    {
     "data": {
      "text/html": [
       "<pre>recommendations finished on 112000/372991 queries. users per second: 4536.42</pre>"
      ],
      "text/plain": [
       "recommendations finished on 112000/372991 queries. users per second: 4536.42"
      ]
     },
     "metadata": {},
     "output_type": "display_data"
    },
    {
     "data": {
      "text/html": [
       "<pre>recommendations finished on 113000/372991 queries. users per second: 4535.73</pre>"
      ],
      "text/plain": [
       "recommendations finished on 113000/372991 queries. users per second: 4535.73"
      ]
     },
     "metadata": {},
     "output_type": "display_data"
    },
    {
     "data": {
      "text/html": [
       "<pre>recommendations finished on 114000/372991 queries. users per second: 4535.5</pre>"
      ],
      "text/plain": [
       "recommendations finished on 114000/372991 queries. users per second: 4535.5"
      ]
     },
     "metadata": {},
     "output_type": "display_data"
    },
    {
     "data": {
      "text/html": [
       "<pre>recommendations finished on 115000/372991 queries. users per second: 4534.98</pre>"
      ],
      "text/plain": [
       "recommendations finished on 115000/372991 queries. users per second: 4534.98"
      ]
     },
     "metadata": {},
     "output_type": "display_data"
    },
    {
     "data": {
      "text/html": [
       "<pre>recommendations finished on 116000/372991 queries. users per second: 4533.78</pre>"
      ],
      "text/plain": [
       "recommendations finished on 116000/372991 queries. users per second: 4533.78"
      ]
     },
     "metadata": {},
     "output_type": "display_data"
    },
    {
     "data": {
      "text/html": [
       "<pre>recommendations finished on 117000/372991 queries. users per second: 4532.21</pre>"
      ],
      "text/plain": [
       "recommendations finished on 117000/372991 queries. users per second: 4532.21"
      ]
     },
     "metadata": {},
     "output_type": "display_data"
    },
    {
     "data": {
      "text/html": [
       "<pre>recommendations finished on 118000/372991 queries. users per second: 4530.48</pre>"
      ],
      "text/plain": [
       "recommendations finished on 118000/372991 queries. users per second: 4530.48"
      ]
     },
     "metadata": {},
     "output_type": "display_data"
    },
    {
     "data": {
      "text/html": [
       "<pre>recommendations finished on 119000/372991 queries. users per second: 4529.14</pre>"
      ],
      "text/plain": [
       "recommendations finished on 119000/372991 queries. users per second: 4529.14"
      ]
     },
     "metadata": {},
     "output_type": "display_data"
    },
    {
     "data": {
      "text/html": [
       "<pre>recommendations finished on 120000/372991 queries. users per second: 4527.84</pre>"
      ],
      "text/plain": [
       "recommendations finished on 120000/372991 queries. users per second: 4527.84"
      ]
     },
     "metadata": {},
     "output_type": "display_data"
    },
    {
     "data": {
      "text/html": [
       "<pre>recommendations finished on 121000/372991 queries. users per second: 4527.68</pre>"
      ],
      "text/plain": [
       "recommendations finished on 121000/372991 queries. users per second: 4527.68"
      ]
     },
     "metadata": {},
     "output_type": "display_data"
    },
    {
     "data": {
      "text/html": [
       "<pre>recommendations finished on 122000/372991 queries. users per second: 4526.22</pre>"
      ],
      "text/plain": [
       "recommendations finished on 122000/372991 queries. users per second: 4526.22"
      ]
     },
     "metadata": {},
     "output_type": "display_data"
    },
    {
     "data": {
      "text/html": [
       "<pre>recommendations finished on 123000/372991 queries. users per second: 4525.39</pre>"
      ],
      "text/plain": [
       "recommendations finished on 123000/372991 queries. users per second: 4525.39"
      ]
     },
     "metadata": {},
     "output_type": "display_data"
    },
    {
     "data": {
      "text/html": [
       "<pre>recommendations finished on 124000/372991 queries. users per second: 4524.83</pre>"
      ],
      "text/plain": [
       "recommendations finished on 124000/372991 queries. users per second: 4524.83"
      ]
     },
     "metadata": {},
     "output_type": "display_data"
    },
    {
     "data": {
      "text/html": [
       "<pre>recommendations finished on 125000/372991 queries. users per second: 4523.91</pre>"
      ],
      "text/plain": [
       "recommendations finished on 125000/372991 queries. users per second: 4523.91"
      ]
     },
     "metadata": {},
     "output_type": "display_data"
    },
    {
     "data": {
      "text/html": [
       "<pre>recommendations finished on 126000/372991 queries. users per second: 4522.68</pre>"
      ],
      "text/plain": [
       "recommendations finished on 126000/372991 queries. users per second: 4522.68"
      ]
     },
     "metadata": {},
     "output_type": "display_data"
    },
    {
     "data": {
      "text/html": [
       "<pre>recommendations finished on 127000/372991 queries. users per second: 4522.2</pre>"
      ],
      "text/plain": [
       "recommendations finished on 127000/372991 queries. users per second: 4522.2"
      ]
     },
     "metadata": {},
     "output_type": "display_data"
    },
    {
     "data": {
      "text/html": [
       "<pre>recommendations finished on 128000/372991 queries. users per second: 4522.47</pre>"
      ],
      "text/plain": [
       "recommendations finished on 128000/372991 queries. users per second: 4522.47"
      ]
     },
     "metadata": {},
     "output_type": "display_data"
    },
    {
     "data": {
      "text/html": [
       "<pre>recommendations finished on 129000/372991 queries. users per second: 4522.02</pre>"
      ],
      "text/plain": [
       "recommendations finished on 129000/372991 queries. users per second: 4522.02"
      ]
     },
     "metadata": {},
     "output_type": "display_data"
    },
    {
     "data": {
      "text/html": [
       "<pre>recommendations finished on 130000/372991 queries. users per second: 4521.14</pre>"
      ],
      "text/plain": [
       "recommendations finished on 130000/372991 queries. users per second: 4521.14"
      ]
     },
     "metadata": {},
     "output_type": "display_data"
    },
    {
     "data": {
      "text/html": [
       "<pre>recommendations finished on 131000/372991 queries. users per second: 4519.42</pre>"
      ],
      "text/plain": [
       "recommendations finished on 131000/372991 queries. users per second: 4519.42"
      ]
     },
     "metadata": {},
     "output_type": "display_data"
    },
    {
     "data": {
      "text/html": [
       "<pre>recommendations finished on 132000/372991 queries. users per second: 4518.31</pre>"
      ],
      "text/plain": [
       "recommendations finished on 132000/372991 queries. users per second: 4518.31"
      ]
     },
     "metadata": {},
     "output_type": "display_data"
    },
    {
     "data": {
      "text/html": [
       "<pre>recommendations finished on 133000/372991 queries. users per second: 4518.42</pre>"
      ],
      "text/plain": [
       "recommendations finished on 133000/372991 queries. users per second: 4518.42"
      ]
     },
     "metadata": {},
     "output_type": "display_data"
    },
    {
     "data": {
      "text/html": [
       "<pre>recommendations finished on 134000/372991 queries. users per second: 4516.83</pre>"
      ],
      "text/plain": [
       "recommendations finished on 134000/372991 queries. users per second: 4516.83"
      ]
     },
     "metadata": {},
     "output_type": "display_data"
    },
    {
     "data": {
      "text/html": [
       "<pre>recommendations finished on 135000/372991 queries. users per second: 4516.76</pre>"
      ],
      "text/plain": [
       "recommendations finished on 135000/372991 queries. users per second: 4516.76"
      ]
     },
     "metadata": {},
     "output_type": "display_data"
    },
    {
     "data": {
      "text/html": [
       "<pre>recommendations finished on 136000/372991 queries. users per second: 4516.66</pre>"
      ],
      "text/plain": [
       "recommendations finished on 136000/372991 queries. users per second: 4516.66"
      ]
     },
     "metadata": {},
     "output_type": "display_data"
    },
    {
     "data": {
      "text/html": [
       "<pre>recommendations finished on 137000/372991 queries. users per second: 4516.07</pre>"
      ],
      "text/plain": [
       "recommendations finished on 137000/372991 queries. users per second: 4516.07"
      ]
     },
     "metadata": {},
     "output_type": "display_data"
    },
    {
     "data": {
      "text/html": [
       "<pre>recommendations finished on 138000/372991 queries. users per second: 4516.89</pre>"
      ],
      "text/plain": [
       "recommendations finished on 138000/372991 queries. users per second: 4516.89"
      ]
     },
     "metadata": {},
     "output_type": "display_data"
    },
    {
     "data": {
      "text/html": [
       "<pre>recommendations finished on 139000/372991 queries. users per second: 4516.98</pre>"
      ],
      "text/plain": [
       "recommendations finished on 139000/372991 queries. users per second: 4516.98"
      ]
     },
     "metadata": {},
     "output_type": "display_data"
    },
    {
     "data": {
      "text/html": [
       "<pre>recommendations finished on 140000/372991 queries. users per second: 4516.16</pre>"
      ],
      "text/plain": [
       "recommendations finished on 140000/372991 queries. users per second: 4516.16"
      ]
     },
     "metadata": {},
     "output_type": "display_data"
    },
    {
     "data": {
      "text/html": [
       "<pre>recommendations finished on 141000/372991 queries. users per second: 4516.3</pre>"
      ],
      "text/plain": [
       "recommendations finished on 141000/372991 queries. users per second: 4516.3"
      ]
     },
     "metadata": {},
     "output_type": "display_data"
    },
    {
     "data": {
      "text/html": [
       "<pre>recommendations finished on 142000/372991 queries. users per second: 4515.36</pre>"
      ],
      "text/plain": [
       "recommendations finished on 142000/372991 queries. users per second: 4515.36"
      ]
     },
     "metadata": {},
     "output_type": "display_data"
    },
    {
     "data": {
      "text/html": [
       "<pre>recommendations finished on 143000/372991 queries. users per second: 4514.71</pre>"
      ],
      "text/plain": [
       "recommendations finished on 143000/372991 queries. users per second: 4514.71"
      ]
     },
     "metadata": {},
     "output_type": "display_data"
    },
    {
     "data": {
      "text/html": [
       "<pre>recommendations finished on 144000/372991 queries. users per second: 4514.58</pre>"
      ],
      "text/plain": [
       "recommendations finished on 144000/372991 queries. users per second: 4514.58"
      ]
     },
     "metadata": {},
     "output_type": "display_data"
    },
    {
     "data": {
      "text/html": [
       "<pre>recommendations finished on 145000/372991 queries. users per second: 4514.69</pre>"
      ],
      "text/plain": [
       "recommendations finished on 145000/372991 queries. users per second: 4514.69"
      ]
     },
     "metadata": {},
     "output_type": "display_data"
    },
    {
     "data": {
      "text/html": [
       "<pre>recommendations finished on 146000/372991 queries. users per second: 4514.58</pre>"
      ],
      "text/plain": [
       "recommendations finished on 146000/372991 queries. users per second: 4514.58"
      ]
     },
     "metadata": {},
     "output_type": "display_data"
    },
    {
     "data": {
      "text/html": [
       "<pre>recommendations finished on 147000/372991 queries. users per second: 4514.22</pre>"
      ],
      "text/plain": [
       "recommendations finished on 147000/372991 queries. users per second: 4514.22"
      ]
     },
     "metadata": {},
     "output_type": "display_data"
    },
    {
     "data": {
      "text/html": [
       "<pre>recommendations finished on 148000/372991 queries. users per second: 4514.11</pre>"
      ],
      "text/plain": [
       "recommendations finished on 148000/372991 queries. users per second: 4514.11"
      ]
     },
     "metadata": {},
     "output_type": "display_data"
    },
    {
     "data": {
      "text/html": [
       "<pre>recommendations finished on 149000/372991 queries. users per second: 4513.87</pre>"
      ],
      "text/plain": [
       "recommendations finished on 149000/372991 queries. users per second: 4513.87"
      ]
     },
     "metadata": {},
     "output_type": "display_data"
    },
    {
     "data": {
      "text/html": [
       "<pre>recommendations finished on 150000/372991 queries. users per second: 4512.28</pre>"
      ],
      "text/plain": [
       "recommendations finished on 150000/372991 queries. users per second: 4512.28"
      ]
     },
     "metadata": {},
     "output_type": "display_data"
    },
    {
     "data": {
      "text/html": [
       "<pre>recommendations finished on 151000/372991 queries. users per second: 4511.13</pre>"
      ],
      "text/plain": [
       "recommendations finished on 151000/372991 queries. users per second: 4511.13"
      ]
     },
     "metadata": {},
     "output_type": "display_data"
    },
    {
     "data": {
      "text/html": [
       "<pre>recommendations finished on 152000/372991 queries. users per second: 4511.13</pre>"
      ],
      "text/plain": [
       "recommendations finished on 152000/372991 queries. users per second: 4511.13"
      ]
     },
     "metadata": {},
     "output_type": "display_data"
    },
    {
     "data": {
      "text/html": [
       "<pre>recommendations finished on 153000/372991 queries. users per second: 4510.39</pre>"
      ],
      "text/plain": [
       "recommendations finished on 153000/372991 queries. users per second: 4510.39"
      ]
     },
     "metadata": {},
     "output_type": "display_data"
    },
    {
     "data": {
      "text/html": [
       "<pre>recommendations finished on 154000/372991 queries. users per second: 4509.64</pre>"
      ],
      "text/plain": [
       "recommendations finished on 154000/372991 queries. users per second: 4509.64"
      ]
     },
     "metadata": {},
     "output_type": "display_data"
    },
    {
     "data": {
      "text/html": [
       "<pre>recommendations finished on 155000/372991 queries. users per second: 4509.97</pre>"
      ],
      "text/plain": [
       "recommendations finished on 155000/372991 queries. users per second: 4509.97"
      ]
     },
     "metadata": {},
     "output_type": "display_data"
    },
    {
     "data": {
      "text/html": [
       "<pre>recommendations finished on 156000/372991 queries. users per second: 4509.73</pre>"
      ],
      "text/plain": [
       "recommendations finished on 156000/372991 queries. users per second: 4509.73"
      ]
     },
     "metadata": {},
     "output_type": "display_data"
    },
    {
     "data": {
      "text/html": [
       "<pre>recommendations finished on 157000/372991 queries. users per second: 4509.23</pre>"
      ],
      "text/plain": [
       "recommendations finished on 157000/372991 queries. users per second: 4509.23"
      ]
     },
     "metadata": {},
     "output_type": "display_data"
    },
    {
     "data": {
      "text/html": [
       "<pre>recommendations finished on 158000/372991 queries. users per second: 4509.47</pre>"
      ],
      "text/plain": [
       "recommendations finished on 158000/372991 queries. users per second: 4509.47"
      ]
     },
     "metadata": {},
     "output_type": "display_data"
    },
    {
     "data": {
      "text/html": [
       "<pre>recommendations finished on 159000/372991 queries. users per second: 4508.6</pre>"
      ],
      "text/plain": [
       "recommendations finished on 159000/372991 queries. users per second: 4508.6"
      ]
     },
     "metadata": {},
     "output_type": "display_data"
    },
    {
     "data": {
      "text/html": [
       "<pre>recommendations finished on 160000/372991 queries. users per second: 4507.53</pre>"
      ],
      "text/plain": [
       "recommendations finished on 160000/372991 queries. users per second: 4507.53"
      ]
     },
     "metadata": {},
     "output_type": "display_data"
    },
    {
     "data": {
      "text/html": [
       "<pre>recommendations finished on 161000/372991 queries. users per second: 4507.15</pre>"
      ],
      "text/plain": [
       "recommendations finished on 161000/372991 queries. users per second: 4507.15"
      ]
     },
     "metadata": {},
     "output_type": "display_data"
    },
    {
     "data": {
      "text/html": [
       "<pre>recommendations finished on 162000/372991 queries. users per second: 4506.14</pre>"
      ],
      "text/plain": [
       "recommendations finished on 162000/372991 queries. users per second: 4506.14"
      ]
     },
     "metadata": {},
     "output_type": "display_data"
    },
    {
     "data": {
      "text/html": [
       "<pre>recommendations finished on 163000/372991 queries. users per second: 4505.7</pre>"
      ],
      "text/plain": [
       "recommendations finished on 163000/372991 queries. users per second: 4505.7"
      ]
     },
     "metadata": {},
     "output_type": "display_data"
    },
    {
     "data": {
      "text/html": [
       "<pre>recommendations finished on 164000/372991 queries. users per second: 4506.15</pre>"
      ],
      "text/plain": [
       "recommendations finished on 164000/372991 queries. users per second: 4506.15"
      ]
     },
     "metadata": {},
     "output_type": "display_data"
    },
    {
     "data": {
      "text/html": [
       "<pre>recommendations finished on 165000/372991 queries. users per second: 4505.9</pre>"
      ],
      "text/plain": [
       "recommendations finished on 165000/372991 queries. users per second: 4505.9"
      ]
     },
     "metadata": {},
     "output_type": "display_data"
    },
    {
     "data": {
      "text/html": [
       "<pre>recommendations finished on 166000/372991 queries. users per second: 4505.94</pre>"
      ],
      "text/plain": [
       "recommendations finished on 166000/372991 queries. users per second: 4505.94"
      ]
     },
     "metadata": {},
     "output_type": "display_data"
    },
    {
     "data": {
      "text/html": [
       "<pre>recommendations finished on 167000/372991 queries. users per second: 4506.37</pre>"
      ],
      "text/plain": [
       "recommendations finished on 167000/372991 queries. users per second: 4506.37"
      ]
     },
     "metadata": {},
     "output_type": "display_data"
    },
    {
     "data": {
      "text/html": [
       "<pre>recommendations finished on 168000/372991 queries. users per second: 4506.12</pre>"
      ],
      "text/plain": [
       "recommendations finished on 168000/372991 queries. users per second: 4506.12"
      ]
     },
     "metadata": {},
     "output_type": "display_data"
    },
    {
     "data": {
      "text/html": [
       "<pre>recommendations finished on 169000/372991 queries. users per second: 4506.13</pre>"
      ],
      "text/plain": [
       "recommendations finished on 169000/372991 queries. users per second: 4506.13"
      ]
     },
     "metadata": {},
     "output_type": "display_data"
    },
    {
     "data": {
      "text/html": [
       "<pre>recommendations finished on 170000/372991 queries. users per second: 4506.28</pre>"
      ],
      "text/plain": [
       "recommendations finished on 170000/372991 queries. users per second: 4506.28"
      ]
     },
     "metadata": {},
     "output_type": "display_data"
    },
    {
     "data": {
      "text/html": [
       "<pre>recommendations finished on 171000/372991 queries. users per second: 4506.11</pre>"
      ],
      "text/plain": [
       "recommendations finished on 171000/372991 queries. users per second: 4506.11"
      ]
     },
     "metadata": {},
     "output_type": "display_data"
    },
    {
     "data": {
      "text/html": [
       "<pre>recommendations finished on 172000/372991 queries. users per second: 4505.95</pre>"
      ],
      "text/plain": [
       "recommendations finished on 172000/372991 queries. users per second: 4505.95"
      ]
     },
     "metadata": {},
     "output_type": "display_data"
    },
    {
     "data": {
      "text/html": [
       "<pre>recommendations finished on 173000/372991 queries. users per second: 4505.02</pre>"
      ],
      "text/plain": [
       "recommendations finished on 173000/372991 queries. users per second: 4505.02"
      ]
     },
     "metadata": {},
     "output_type": "display_data"
    },
    {
     "data": {
      "text/html": [
       "<pre>recommendations finished on 174000/372991 queries. users per second: 4505.13</pre>"
      ],
      "text/plain": [
       "recommendations finished on 174000/372991 queries. users per second: 4505.13"
      ]
     },
     "metadata": {},
     "output_type": "display_data"
    },
    {
     "data": {
      "text/html": [
       "<pre>recommendations finished on 175000/372991 queries. users per second: 4504.83</pre>"
      ],
      "text/plain": [
       "recommendations finished on 175000/372991 queries. users per second: 4504.83"
      ]
     },
     "metadata": {},
     "output_type": "display_data"
    },
    {
     "data": {
      "text/html": [
       "<pre>recommendations finished on 176000/372991 queries. users per second: 4505.04</pre>"
      ],
      "text/plain": [
       "recommendations finished on 176000/372991 queries. users per second: 4505.04"
      ]
     },
     "metadata": {},
     "output_type": "display_data"
    },
    {
     "data": {
      "text/html": [
       "<pre>recommendations finished on 177000/372991 queries. users per second: 4503.92</pre>"
      ],
      "text/plain": [
       "recommendations finished on 177000/372991 queries. users per second: 4503.92"
      ]
     },
     "metadata": {},
     "output_type": "display_data"
    },
    {
     "data": {
      "text/html": [
       "<pre>recommendations finished on 178000/372991 queries. users per second: 4503.23</pre>"
      ],
      "text/plain": [
       "recommendations finished on 178000/372991 queries. users per second: 4503.23"
      ]
     },
     "metadata": {},
     "output_type": "display_data"
    },
    {
     "data": {
      "text/html": [
       "<pre>recommendations finished on 179000/372991 queries. users per second: 4503.08</pre>"
      ],
      "text/plain": [
       "recommendations finished on 179000/372991 queries. users per second: 4503.08"
      ]
     },
     "metadata": {},
     "output_type": "display_data"
    },
    {
     "data": {
      "text/html": [
       "<pre>recommendations finished on 180000/372991 queries. users per second: 4503.23</pre>"
      ],
      "text/plain": [
       "recommendations finished on 180000/372991 queries. users per second: 4503.23"
      ]
     },
     "metadata": {},
     "output_type": "display_data"
    },
    {
     "data": {
      "text/html": [
       "<pre>recommendations finished on 181000/372991 queries. users per second: 4502.53</pre>"
      ],
      "text/plain": [
       "recommendations finished on 181000/372991 queries. users per second: 4502.53"
      ]
     },
     "metadata": {},
     "output_type": "display_data"
    },
    {
     "data": {
      "text/html": [
       "<pre>recommendations finished on 182000/372991 queries. users per second: 4501.23</pre>"
      ],
      "text/plain": [
       "recommendations finished on 182000/372991 queries. users per second: 4501.23"
      ]
     },
     "metadata": {},
     "output_type": "display_data"
    },
    {
     "data": {
      "text/html": [
       "<pre>recommendations finished on 183000/372991 queries. users per second: 4500.74</pre>"
      ],
      "text/plain": [
       "recommendations finished on 183000/372991 queries. users per second: 4500.74"
      ]
     },
     "metadata": {},
     "output_type": "display_data"
    },
    {
     "data": {
      "text/html": [
       "<pre>recommendations finished on 184000/372991 queries. users per second: 4499.83</pre>"
      ],
      "text/plain": [
       "recommendations finished on 184000/372991 queries. users per second: 4499.83"
      ]
     },
     "metadata": {},
     "output_type": "display_data"
    },
    {
     "data": {
      "text/html": [
       "<pre>recommendations finished on 185000/372991 queries. users per second: 4499.61</pre>"
      ],
      "text/plain": [
       "recommendations finished on 185000/372991 queries. users per second: 4499.61"
      ]
     },
     "metadata": {},
     "output_type": "display_data"
    },
    {
     "data": {
      "text/html": [
       "<pre>recommendations finished on 186000/372991 queries. users per second: 4498.8</pre>"
      ],
      "text/plain": [
       "recommendations finished on 186000/372991 queries. users per second: 4498.8"
      ]
     },
     "metadata": {},
     "output_type": "display_data"
    },
    {
     "data": {
      "text/html": [
       "<pre>recommendations finished on 187000/372991 queries. users per second: 4498.87</pre>"
      ],
      "text/plain": [
       "recommendations finished on 187000/372991 queries. users per second: 4498.87"
      ]
     },
     "metadata": {},
     "output_type": "display_data"
    },
    {
     "data": {
      "text/html": [
       "<pre>recommendations finished on 188000/372991 queries. users per second: 4499.41</pre>"
      ],
      "text/plain": [
       "recommendations finished on 188000/372991 queries. users per second: 4499.41"
      ]
     },
     "metadata": {},
     "output_type": "display_data"
    },
    {
     "data": {
      "text/html": [
       "<pre>recommendations finished on 189000/372991 queries. users per second: 4499.63</pre>"
      ],
      "text/plain": [
       "recommendations finished on 189000/372991 queries. users per second: 4499.63"
      ]
     },
     "metadata": {},
     "output_type": "display_data"
    },
    {
     "data": {
      "text/html": [
       "<pre>recommendations finished on 190000/372991 queries. users per second: 4499.66</pre>"
      ],
      "text/plain": [
       "recommendations finished on 190000/372991 queries. users per second: 4499.66"
      ]
     },
     "metadata": {},
     "output_type": "display_data"
    },
    {
     "data": {
      "text/html": [
       "<pre>recommendations finished on 191000/372991 queries. users per second: 4499.43</pre>"
      ],
      "text/plain": [
       "recommendations finished on 191000/372991 queries. users per second: 4499.43"
      ]
     },
     "metadata": {},
     "output_type": "display_data"
    },
    {
     "data": {
      "text/html": [
       "<pre>recommendations finished on 192000/372991 queries. users per second: 4499.11</pre>"
      ],
      "text/plain": [
       "recommendations finished on 192000/372991 queries. users per second: 4499.11"
      ]
     },
     "metadata": {},
     "output_type": "display_data"
    },
    {
     "data": {
      "text/html": [
       "<pre>recommendations finished on 193000/372991 queries. users per second: 4498.35</pre>"
      ],
      "text/plain": [
       "recommendations finished on 193000/372991 queries. users per second: 4498.35"
      ]
     },
     "metadata": {},
     "output_type": "display_data"
    },
    {
     "data": {
      "text/html": [
       "<pre>recommendations finished on 194000/372991 queries. users per second: 4497.86</pre>"
      ],
      "text/plain": [
       "recommendations finished on 194000/372991 queries. users per second: 4497.86"
      ]
     },
     "metadata": {},
     "output_type": "display_data"
    },
    {
     "data": {
      "text/html": [
       "<pre>recommendations finished on 195000/372991 queries. users per second: 4497.13</pre>"
      ],
      "text/plain": [
       "recommendations finished on 195000/372991 queries. users per second: 4497.13"
      ]
     },
     "metadata": {},
     "output_type": "display_data"
    },
    {
     "data": {
      "text/html": [
       "<pre>recommendations finished on 196000/372991 queries. users per second: 4494.73</pre>"
      ],
      "text/plain": [
       "recommendations finished on 196000/372991 queries. users per second: 4494.73"
      ]
     },
     "metadata": {},
     "output_type": "display_data"
    },
    {
     "data": {
      "text/html": [
       "<pre>recommendations finished on 197000/372991 queries. users per second: 4494.74</pre>"
      ],
      "text/plain": [
       "recommendations finished on 197000/372991 queries. users per second: 4494.74"
      ]
     },
     "metadata": {},
     "output_type": "display_data"
    },
    {
     "data": {
      "text/html": [
       "<pre>recommendations finished on 198000/372991 queries. users per second: 4494.94</pre>"
      ],
      "text/plain": [
       "recommendations finished on 198000/372991 queries. users per second: 4494.94"
      ]
     },
     "metadata": {},
     "output_type": "display_data"
    },
    {
     "data": {
      "text/html": [
       "<pre>recommendations finished on 199000/372991 queries. users per second: 4494.51</pre>"
      ],
      "text/plain": [
       "recommendations finished on 199000/372991 queries. users per second: 4494.51"
      ]
     },
     "metadata": {},
     "output_type": "display_data"
    },
    {
     "data": {
      "text/html": [
       "<pre>recommendations finished on 200000/372991 queries. users per second: 4493.49</pre>"
      ],
      "text/plain": [
       "recommendations finished on 200000/372991 queries. users per second: 4493.49"
      ]
     },
     "metadata": {},
     "output_type": "display_data"
    },
    {
     "data": {
      "text/html": [
       "<pre>recommendations finished on 201000/372991 queries. users per second: 4494.01</pre>"
      ],
      "text/plain": [
       "recommendations finished on 201000/372991 queries. users per second: 4494.01"
      ]
     },
     "metadata": {},
     "output_type": "display_data"
    },
    {
     "data": {
      "text/html": [
       "<pre>recommendations finished on 202000/372991 queries. users per second: 4493.79</pre>"
      ],
      "text/plain": [
       "recommendations finished on 202000/372991 queries. users per second: 4493.79"
      ]
     },
     "metadata": {},
     "output_type": "display_data"
    },
    {
     "data": {
      "text/html": [
       "<pre>recommendations finished on 203000/372991 queries. users per second: 4493.22</pre>"
      ],
      "text/plain": [
       "recommendations finished on 203000/372991 queries. users per second: 4493.22"
      ]
     },
     "metadata": {},
     "output_type": "display_data"
    },
    {
     "data": {
      "text/html": [
       "<pre>recommendations finished on 204000/372991 queries. users per second: 4492.8</pre>"
      ],
      "text/plain": [
       "recommendations finished on 204000/372991 queries. users per second: 4492.8"
      ]
     },
     "metadata": {},
     "output_type": "display_data"
    },
    {
     "data": {
      "text/html": [
       "<pre>recommendations finished on 205000/372991 queries. users per second: 4492.58</pre>"
      ],
      "text/plain": [
       "recommendations finished on 205000/372991 queries. users per second: 4492.58"
      ]
     },
     "metadata": {},
     "output_type": "display_data"
    },
    {
     "data": {
      "text/html": [
       "<pre>recommendations finished on 206000/372991 queries. users per second: 4492.73</pre>"
      ],
      "text/plain": [
       "recommendations finished on 206000/372991 queries. users per second: 4492.73"
      ]
     },
     "metadata": {},
     "output_type": "display_data"
    },
    {
     "data": {
      "text/html": [
       "<pre>recommendations finished on 207000/372991 queries. users per second: 4492.77</pre>"
      ],
      "text/plain": [
       "recommendations finished on 207000/372991 queries. users per second: 4492.77"
      ]
     },
     "metadata": {},
     "output_type": "display_data"
    },
    {
     "data": {
      "text/html": [
       "<pre>recommendations finished on 208000/372991 queries. users per second: 4492.57</pre>"
      ],
      "text/plain": [
       "recommendations finished on 208000/372991 queries. users per second: 4492.57"
      ]
     },
     "metadata": {},
     "output_type": "display_data"
    },
    {
     "data": {
      "text/html": [
       "<pre>recommendations finished on 209000/372991 queries. users per second: 4492.65</pre>"
      ],
      "text/plain": [
       "recommendations finished on 209000/372991 queries. users per second: 4492.65"
      ]
     },
     "metadata": {},
     "output_type": "display_data"
    },
    {
     "data": {
      "text/html": [
       "<pre>recommendations finished on 210000/372991 queries. users per second: 4493.08</pre>"
      ],
      "text/plain": [
       "recommendations finished on 210000/372991 queries. users per second: 4493.08"
      ]
     },
     "metadata": {},
     "output_type": "display_data"
    },
    {
     "data": {
      "text/html": [
       "<pre>recommendations finished on 211000/372991 queries. users per second: 4492.28</pre>"
      ],
      "text/plain": [
       "recommendations finished on 211000/372991 queries. users per second: 4492.28"
      ]
     },
     "metadata": {},
     "output_type": "display_data"
    },
    {
     "data": {
      "text/html": [
       "<pre>recommendations finished on 212000/372991 queries. users per second: 4492.29</pre>"
      ],
      "text/plain": [
       "recommendations finished on 212000/372991 queries. users per second: 4492.29"
      ]
     },
     "metadata": {},
     "output_type": "display_data"
    },
    {
     "data": {
      "text/html": [
       "<pre>recommendations finished on 213000/372991 queries. users per second: 4491.32</pre>"
      ],
      "text/plain": [
       "recommendations finished on 213000/372991 queries. users per second: 4491.32"
      ]
     },
     "metadata": {},
     "output_type": "display_data"
    },
    {
     "data": {
      "text/html": [
       "<pre>recommendations finished on 214000/372991 queries. users per second: 4490.7</pre>"
      ],
      "text/plain": [
       "recommendations finished on 214000/372991 queries. users per second: 4490.7"
      ]
     },
     "metadata": {},
     "output_type": "display_data"
    },
    {
     "data": {
      "text/html": [
       "<pre>recommendations finished on 215000/372991 queries. users per second: 4490.45</pre>"
      ],
      "text/plain": [
       "recommendations finished on 215000/372991 queries. users per second: 4490.45"
      ]
     },
     "metadata": {},
     "output_type": "display_data"
    },
    {
     "data": {
      "text/html": [
       "<pre>recommendations finished on 216000/372991 queries. users per second: 4490.4</pre>"
      ],
      "text/plain": [
       "recommendations finished on 216000/372991 queries. users per second: 4490.4"
      ]
     },
     "metadata": {},
     "output_type": "display_data"
    },
    {
     "data": {
      "text/html": [
       "<pre>recommendations finished on 217000/372991 queries. users per second: 4489.33</pre>"
      ],
      "text/plain": [
       "recommendations finished on 217000/372991 queries. users per second: 4489.33"
      ]
     },
     "metadata": {},
     "output_type": "display_data"
    },
    {
     "data": {
      "text/html": [
       "<pre>recommendations finished on 218000/372991 queries. users per second: 4488.21</pre>"
      ],
      "text/plain": [
       "recommendations finished on 218000/372991 queries. users per second: 4488.21"
      ]
     },
     "metadata": {},
     "output_type": "display_data"
    },
    {
     "data": {
      "text/html": [
       "<pre>recommendations finished on 219000/372991 queries. users per second: 4487.6</pre>"
      ],
      "text/plain": [
       "recommendations finished on 219000/372991 queries. users per second: 4487.6"
      ]
     },
     "metadata": {},
     "output_type": "display_data"
    },
    {
     "data": {
      "text/html": [
       "<pre>recommendations finished on 220000/372991 queries. users per second: 4487.66</pre>"
      ],
      "text/plain": [
       "recommendations finished on 220000/372991 queries. users per second: 4487.66"
      ]
     },
     "metadata": {},
     "output_type": "display_data"
    },
    {
     "data": {
      "text/html": [
       "<pre>recommendations finished on 221000/372991 queries. users per second: 4487.77</pre>"
      ],
      "text/plain": [
       "recommendations finished on 221000/372991 queries. users per second: 4487.77"
      ]
     },
     "metadata": {},
     "output_type": "display_data"
    },
    {
     "data": {
      "text/html": [
       "<pre>recommendations finished on 222000/372991 queries. users per second: 4487.41</pre>"
      ],
      "text/plain": [
       "recommendations finished on 222000/372991 queries. users per second: 4487.41"
      ]
     },
     "metadata": {},
     "output_type": "display_data"
    },
    {
     "data": {
      "text/html": [
       "<pre>recommendations finished on 223000/372991 queries. users per second: 4487.99</pre>"
      ],
      "text/plain": [
       "recommendations finished on 223000/372991 queries. users per second: 4487.99"
      ]
     },
     "metadata": {},
     "output_type": "display_data"
    },
    {
     "data": {
      "text/html": [
       "<pre>recommendations finished on 224000/372991 queries. users per second: 4487.1</pre>"
      ],
      "text/plain": [
       "recommendations finished on 224000/372991 queries. users per second: 4487.1"
      ]
     },
     "metadata": {},
     "output_type": "display_data"
    },
    {
     "data": {
      "text/html": [
       "<pre>recommendations finished on 225000/372991 queries. users per second: 4486.95</pre>"
      ],
      "text/plain": [
       "recommendations finished on 225000/372991 queries. users per second: 4486.95"
      ]
     },
     "metadata": {},
     "output_type": "display_data"
    },
    {
     "data": {
      "text/html": [
       "<pre>recommendations finished on 226000/372991 queries. users per second: 4486.48</pre>"
      ],
      "text/plain": [
       "recommendations finished on 226000/372991 queries. users per second: 4486.48"
      ]
     },
     "metadata": {},
     "output_type": "display_data"
    },
    {
     "data": {
      "text/html": [
       "<pre>recommendations finished on 227000/372991 queries. users per second: 4485.97</pre>"
      ],
      "text/plain": [
       "recommendations finished on 227000/372991 queries. users per second: 4485.97"
      ]
     },
     "metadata": {},
     "output_type": "display_data"
    },
    {
     "data": {
      "text/html": [
       "<pre>recommendations finished on 228000/372991 queries. users per second: 4485.51</pre>"
      ],
      "text/plain": [
       "recommendations finished on 228000/372991 queries. users per second: 4485.51"
      ]
     },
     "metadata": {},
     "output_type": "display_data"
    },
    {
     "data": {
      "text/html": [
       "<pre>recommendations finished on 229000/372991 queries. users per second: 4485.68</pre>"
      ],
      "text/plain": [
       "recommendations finished on 229000/372991 queries. users per second: 4485.68"
      ]
     },
     "metadata": {},
     "output_type": "display_data"
    },
    {
     "data": {
      "text/html": [
       "<pre>recommendations finished on 230000/372991 queries. users per second: 4485.21</pre>"
      ],
      "text/plain": [
       "recommendations finished on 230000/372991 queries. users per second: 4485.21"
      ]
     },
     "metadata": {},
     "output_type": "display_data"
    },
    {
     "data": {
      "text/html": [
       "<pre>recommendations finished on 231000/372991 queries. users per second: 4485.93</pre>"
      ],
      "text/plain": [
       "recommendations finished on 231000/372991 queries. users per second: 4485.93"
      ]
     },
     "metadata": {},
     "output_type": "display_data"
    },
    {
     "data": {
      "text/html": [
       "<pre>recommendations finished on 232000/372991 queries. users per second: 4486.3</pre>"
      ],
      "text/plain": [
       "recommendations finished on 232000/372991 queries. users per second: 4486.3"
      ]
     },
     "metadata": {},
     "output_type": "display_data"
    },
    {
     "data": {
      "text/html": [
       "<pre>recommendations finished on 233000/372991 queries. users per second: 4486.4</pre>"
      ],
      "text/plain": [
       "recommendations finished on 233000/372991 queries. users per second: 4486.4"
      ]
     },
     "metadata": {},
     "output_type": "display_data"
    },
    {
     "data": {
      "text/html": [
       "<pre>recommendations finished on 234000/372991 queries. users per second: 4486.21</pre>"
      ],
      "text/plain": [
       "recommendations finished on 234000/372991 queries. users per second: 4486.21"
      ]
     },
     "metadata": {},
     "output_type": "display_data"
    },
    {
     "data": {
      "text/html": [
       "<pre>recommendations finished on 235000/372991 queries. users per second: 4486.52</pre>"
      ],
      "text/plain": [
       "recommendations finished on 235000/372991 queries. users per second: 4486.52"
      ]
     },
     "metadata": {},
     "output_type": "display_data"
    },
    {
     "data": {
      "text/html": [
       "<pre>recommendations finished on 236000/372991 queries. users per second: 4486.49</pre>"
      ],
      "text/plain": [
       "recommendations finished on 236000/372991 queries. users per second: 4486.49"
      ]
     },
     "metadata": {},
     "output_type": "display_data"
    },
    {
     "data": {
      "text/html": [
       "<pre>recommendations finished on 237000/372991 queries. users per second: 4485.69</pre>"
      ],
      "text/plain": [
       "recommendations finished on 237000/372991 queries. users per second: 4485.69"
      ]
     },
     "metadata": {},
     "output_type": "display_data"
    },
    {
     "data": {
      "text/html": [
       "<pre>recommendations finished on 238000/372991 queries. users per second: 4485.83</pre>"
      ],
      "text/plain": [
       "recommendations finished on 238000/372991 queries. users per second: 4485.83"
      ]
     },
     "metadata": {},
     "output_type": "display_data"
    },
    {
     "data": {
      "text/html": [
       "<pre>recommendations finished on 239000/372991 queries. users per second: 4485.95</pre>"
      ],
      "text/plain": [
       "recommendations finished on 239000/372991 queries. users per second: 4485.95"
      ]
     },
     "metadata": {},
     "output_type": "display_data"
    },
    {
     "data": {
      "text/html": [
       "<pre>recommendations finished on 240000/372991 queries. users per second: 4486.33</pre>"
      ],
      "text/plain": [
       "recommendations finished on 240000/372991 queries. users per second: 4486.33"
      ]
     },
     "metadata": {},
     "output_type": "display_data"
    },
    {
     "data": {
      "text/html": [
       "<pre>recommendations finished on 241000/372991 queries. users per second: 4486.23</pre>"
      ],
      "text/plain": [
       "recommendations finished on 241000/372991 queries. users per second: 4486.23"
      ]
     },
     "metadata": {},
     "output_type": "display_data"
    },
    {
     "data": {
      "text/html": [
       "<pre>recommendations finished on 242000/372991 queries. users per second: 4485.89</pre>"
      ],
      "text/plain": [
       "recommendations finished on 242000/372991 queries. users per second: 4485.89"
      ]
     },
     "metadata": {},
     "output_type": "display_data"
    },
    {
     "data": {
      "text/html": [
       "<pre>recommendations finished on 243000/372991 queries. users per second: 4485.96</pre>"
      ],
      "text/plain": [
       "recommendations finished on 243000/372991 queries. users per second: 4485.96"
      ]
     },
     "metadata": {},
     "output_type": "display_data"
    },
    {
     "data": {
      "text/html": [
       "<pre>recommendations finished on 244000/372991 queries. users per second: 4486.03</pre>"
      ],
      "text/plain": [
       "recommendations finished on 244000/372991 queries. users per second: 4486.03"
      ]
     },
     "metadata": {},
     "output_type": "display_data"
    },
    {
     "data": {
      "text/html": [
       "<pre>recommendations finished on 245000/372991 queries. users per second: 4486.1</pre>"
      ],
      "text/plain": [
       "recommendations finished on 245000/372991 queries. users per second: 4486.1"
      ]
     },
     "metadata": {},
     "output_type": "display_data"
    },
    {
     "data": {
      "text/html": [
       "<pre>recommendations finished on 246000/372991 queries. users per second: 4486.43</pre>"
      ],
      "text/plain": [
       "recommendations finished on 246000/372991 queries. users per second: 4486.43"
      ]
     },
     "metadata": {},
     "output_type": "display_data"
    },
    {
     "data": {
      "text/html": [
       "<pre>recommendations finished on 247000/372991 queries. users per second: 4486.59</pre>"
      ],
      "text/plain": [
       "recommendations finished on 247000/372991 queries. users per second: 4486.59"
      ]
     },
     "metadata": {},
     "output_type": "display_data"
    },
    {
     "data": {
      "text/html": [
       "<pre>recommendations finished on 248000/372991 queries. users per second: 4486.45</pre>"
      ],
      "text/plain": [
       "recommendations finished on 248000/372991 queries. users per second: 4486.45"
      ]
     },
     "metadata": {},
     "output_type": "display_data"
    },
    {
     "data": {
      "text/html": [
       "<pre>recommendations finished on 249000/372991 queries. users per second: 4484.87</pre>"
      ],
      "text/plain": [
       "recommendations finished on 249000/372991 queries. users per second: 4484.87"
      ]
     },
     "metadata": {},
     "output_type": "display_data"
    },
    {
     "data": {
      "text/html": [
       "<pre>recommendations finished on 250000/372991 queries. users per second: 4484.41</pre>"
      ],
      "text/plain": [
       "recommendations finished on 250000/372991 queries. users per second: 4484.41"
      ]
     },
     "metadata": {},
     "output_type": "display_data"
    },
    {
     "data": {
      "text/html": [
       "<pre>recommendations finished on 251000/372991 queries. users per second: 4484.4</pre>"
      ],
      "text/plain": [
       "recommendations finished on 251000/372991 queries. users per second: 4484.4"
      ]
     },
     "metadata": {},
     "output_type": "display_data"
    },
    {
     "data": {
      "text/html": [
       "<pre>recommendations finished on 252000/372991 queries. users per second: 4484.09</pre>"
      ],
      "text/plain": [
       "recommendations finished on 252000/372991 queries. users per second: 4484.09"
      ]
     },
     "metadata": {},
     "output_type": "display_data"
    },
    {
     "data": {
      "text/html": [
       "<pre>recommendations finished on 253000/372991 queries. users per second: 4484.29</pre>"
      ],
      "text/plain": [
       "recommendations finished on 253000/372991 queries. users per second: 4484.29"
      ]
     },
     "metadata": {},
     "output_type": "display_data"
    },
    {
     "data": {
      "text/html": [
       "<pre>recommendations finished on 254000/372991 queries. users per second: 4484.23</pre>"
      ],
      "text/plain": [
       "recommendations finished on 254000/372991 queries. users per second: 4484.23"
      ]
     },
     "metadata": {},
     "output_type": "display_data"
    },
    {
     "data": {
      "text/html": [
       "<pre>recommendations finished on 255000/372991 queries. users per second: 4484.45</pre>"
      ],
      "text/plain": [
       "recommendations finished on 255000/372991 queries. users per second: 4484.45"
      ]
     },
     "metadata": {},
     "output_type": "display_data"
    },
    {
     "data": {
      "text/html": [
       "<pre>recommendations finished on 256000/372991 queries. users per second: 4484.71</pre>"
      ],
      "text/plain": [
       "recommendations finished on 256000/372991 queries. users per second: 4484.71"
      ]
     },
     "metadata": {},
     "output_type": "display_data"
    },
    {
     "data": {
      "text/html": [
       "<pre>recommendations finished on 257000/372991 queries. users per second: 4484.89</pre>"
      ],
      "text/plain": [
       "recommendations finished on 257000/372991 queries. users per second: 4484.89"
      ]
     },
     "metadata": {},
     "output_type": "display_data"
    },
    {
     "data": {
      "text/html": [
       "<pre>recommendations finished on 258000/372991 queries. users per second: 4485.18</pre>"
      ],
      "text/plain": [
       "recommendations finished on 258000/372991 queries. users per second: 4485.18"
      ]
     },
     "metadata": {},
     "output_type": "display_data"
    },
    {
     "data": {
      "text/html": [
       "<pre>recommendations finished on 259000/372991 queries. users per second: 4485.02</pre>"
      ],
      "text/plain": [
       "recommendations finished on 259000/372991 queries. users per second: 4485.02"
      ]
     },
     "metadata": {},
     "output_type": "display_data"
    },
    {
     "data": {
      "text/html": [
       "<pre>recommendations finished on 260000/372991 queries. users per second: 4484.84</pre>"
      ],
      "text/plain": [
       "recommendations finished on 260000/372991 queries. users per second: 4484.84"
      ]
     },
     "metadata": {},
     "output_type": "display_data"
    },
    {
     "data": {
      "text/html": [
       "<pre>recommendations finished on 261000/372991 queries. users per second: 4484.73</pre>"
      ],
      "text/plain": [
       "recommendations finished on 261000/372991 queries. users per second: 4484.73"
      ]
     },
     "metadata": {},
     "output_type": "display_data"
    },
    {
     "data": {
      "text/html": [
       "<pre>recommendations finished on 262000/372991 queries. users per second: 4484.7</pre>"
      ],
      "text/plain": [
       "recommendations finished on 262000/372991 queries. users per second: 4484.7"
      ]
     },
     "metadata": {},
     "output_type": "display_data"
    },
    {
     "data": {
      "text/html": [
       "<pre>recommendations finished on 263000/372991 queries. users per second: 4484.77</pre>"
      ],
      "text/plain": [
       "recommendations finished on 263000/372991 queries. users per second: 4484.77"
      ]
     },
     "metadata": {},
     "output_type": "display_data"
    },
    {
     "data": {
      "text/html": [
       "<pre>recommendations finished on 264000/372991 queries. users per second: 4484.38</pre>"
      ],
      "text/plain": [
       "recommendations finished on 264000/372991 queries. users per second: 4484.38"
      ]
     },
     "metadata": {},
     "output_type": "display_data"
    },
    {
     "data": {
      "text/html": [
       "<pre>recommendations finished on 265000/372991 queries. users per second: 4484.6</pre>"
      ],
      "text/plain": [
       "recommendations finished on 265000/372991 queries. users per second: 4484.6"
      ]
     },
     "metadata": {},
     "output_type": "display_data"
    },
    {
     "data": {
      "text/html": [
       "<pre>recommendations finished on 266000/372991 queries. users per second: 4484.13</pre>"
      ],
      "text/plain": [
       "recommendations finished on 266000/372991 queries. users per second: 4484.13"
      ]
     },
     "metadata": {},
     "output_type": "display_data"
    },
    {
     "data": {
      "text/html": [
       "<pre>recommendations finished on 267000/372991 queries. users per second: 4484.12</pre>"
      ],
      "text/plain": [
       "recommendations finished on 267000/372991 queries. users per second: 4484.12"
      ]
     },
     "metadata": {},
     "output_type": "display_data"
    },
    {
     "data": {
      "text/html": [
       "<pre>recommendations finished on 268000/372991 queries. users per second: 4483.94</pre>"
      ],
      "text/plain": [
       "recommendations finished on 268000/372991 queries. users per second: 4483.94"
      ]
     },
     "metadata": {},
     "output_type": "display_data"
    },
    {
     "data": {
      "text/html": [
       "<pre>recommendations finished on 269000/372991 queries. users per second: 4484.28</pre>"
      ],
      "text/plain": [
       "recommendations finished on 269000/372991 queries. users per second: 4484.28"
      ]
     },
     "metadata": {},
     "output_type": "display_data"
    },
    {
     "data": {
      "text/html": [
       "<pre>recommendations finished on 270000/372991 queries. users per second: 4484.52</pre>"
      ],
      "text/plain": [
       "recommendations finished on 270000/372991 queries. users per second: 4484.52"
      ]
     },
     "metadata": {},
     "output_type": "display_data"
    },
    {
     "data": {
      "text/html": [
       "<pre>recommendations finished on 271000/372991 queries. users per second: 4484.2</pre>"
      ],
      "text/plain": [
       "recommendations finished on 271000/372991 queries. users per second: 4484.2"
      ]
     },
     "metadata": {},
     "output_type": "display_data"
    },
    {
     "data": {
      "text/html": [
       "<pre>recommendations finished on 272000/372991 queries. users per second: 4483.84</pre>"
      ],
      "text/plain": [
       "recommendations finished on 272000/372991 queries. users per second: 4483.84"
      ]
     },
     "metadata": {},
     "output_type": "display_data"
    },
    {
     "data": {
      "text/html": [
       "<pre>recommendations finished on 273000/372991 queries. users per second: 4483.09</pre>"
      ],
      "text/plain": [
       "recommendations finished on 273000/372991 queries. users per second: 4483.09"
      ]
     },
     "metadata": {},
     "output_type": "display_data"
    },
    {
     "data": {
      "text/html": [
       "<pre>recommendations finished on 274000/372991 queries. users per second: 4483.05</pre>"
      ],
      "text/plain": [
       "recommendations finished on 274000/372991 queries. users per second: 4483.05"
      ]
     },
     "metadata": {},
     "output_type": "display_data"
    },
    {
     "data": {
      "text/html": [
       "<pre>recommendations finished on 275000/372991 queries. users per second: 4482.91</pre>"
      ],
      "text/plain": [
       "recommendations finished on 275000/372991 queries. users per second: 4482.91"
      ]
     },
     "metadata": {},
     "output_type": "display_data"
    },
    {
     "data": {
      "text/html": [
       "<pre>recommendations finished on 276000/372991 queries. users per second: 4482.05</pre>"
      ],
      "text/plain": [
       "recommendations finished on 276000/372991 queries. users per second: 4482.05"
      ]
     },
     "metadata": {},
     "output_type": "display_data"
    },
    {
     "data": {
      "text/html": [
       "<pre>recommendations finished on 277000/372991 queries. users per second: 4481.82</pre>"
      ],
      "text/plain": [
       "recommendations finished on 277000/372991 queries. users per second: 4481.82"
      ]
     },
     "metadata": {},
     "output_type": "display_data"
    },
    {
     "data": {
      "text/html": [
       "<pre>recommendations finished on 278000/372991 queries. users per second: 4481.26</pre>"
      ],
      "text/plain": [
       "recommendations finished on 278000/372991 queries. users per second: 4481.26"
      ]
     },
     "metadata": {},
     "output_type": "display_data"
    },
    {
     "data": {
      "text/html": [
       "<pre>recommendations finished on 279000/372991 queries. users per second: 4480.98</pre>"
      ],
      "text/plain": [
       "recommendations finished on 279000/372991 queries. users per second: 4480.98"
      ]
     },
     "metadata": {},
     "output_type": "display_data"
    },
    {
     "data": {
      "text/html": [
       "<pre>recommendations finished on 280000/372991 queries. users per second: 4480.82</pre>"
      ],
      "text/plain": [
       "recommendations finished on 280000/372991 queries. users per second: 4480.82"
      ]
     },
     "metadata": {},
     "output_type": "display_data"
    },
    {
     "data": {
      "text/html": [
       "<pre>recommendations finished on 281000/372991 queries. users per second: 4480.14</pre>"
      ],
      "text/plain": [
       "recommendations finished on 281000/372991 queries. users per second: 4480.14"
      ]
     },
     "metadata": {},
     "output_type": "display_data"
    },
    {
     "data": {
      "text/html": [
       "<pre>recommendations finished on 282000/372991 queries. users per second: 4479.88</pre>"
      ],
      "text/plain": [
       "recommendations finished on 282000/372991 queries. users per second: 4479.88"
      ]
     },
     "metadata": {},
     "output_type": "display_data"
    },
    {
     "data": {
      "text/html": [
       "<pre>recommendations finished on 283000/372991 queries. users per second: 4479.63</pre>"
      ],
      "text/plain": [
       "recommendations finished on 283000/372991 queries. users per second: 4479.63"
      ]
     },
     "metadata": {},
     "output_type": "display_data"
    },
    {
     "data": {
      "text/html": [
       "<pre>recommendations finished on 284000/372991 queries. users per second: 4478.96</pre>"
      ],
      "text/plain": [
       "recommendations finished on 284000/372991 queries. users per second: 4478.96"
      ]
     },
     "metadata": {},
     "output_type": "display_data"
    },
    {
     "data": {
      "text/html": [
       "<pre>recommendations finished on 285000/372991 queries. users per second: 4478.53</pre>"
      ],
      "text/plain": [
       "recommendations finished on 285000/372991 queries. users per second: 4478.53"
      ]
     },
     "metadata": {},
     "output_type": "display_data"
    },
    {
     "data": {
      "text/html": [
       "<pre>recommendations finished on 286000/372991 queries. users per second: 4478.09</pre>"
      ],
      "text/plain": [
       "recommendations finished on 286000/372991 queries. users per second: 4478.09"
      ]
     },
     "metadata": {},
     "output_type": "display_data"
    },
    {
     "data": {
      "text/html": [
       "<pre>recommendations finished on 287000/372991 queries. users per second: 4477.83</pre>"
      ],
      "text/plain": [
       "recommendations finished on 287000/372991 queries. users per second: 4477.83"
      ]
     },
     "metadata": {},
     "output_type": "display_data"
    },
    {
     "data": {
      "text/html": [
       "<pre>recommendations finished on 288000/372991 queries. users per second: 4476.91</pre>"
      ],
      "text/plain": [
       "recommendations finished on 288000/372991 queries. users per second: 4476.91"
      ]
     },
     "metadata": {},
     "output_type": "display_data"
    },
    {
     "data": {
      "text/html": [
       "<pre>recommendations finished on 289000/372991 queries. users per second: 4477.07</pre>"
      ],
      "text/plain": [
       "recommendations finished on 289000/372991 queries. users per second: 4477.07"
      ]
     },
     "metadata": {},
     "output_type": "display_data"
    },
    {
     "data": {
      "text/html": [
       "<pre>recommendations finished on 290000/372991 queries. users per second: 4476.96</pre>"
      ],
      "text/plain": [
       "recommendations finished on 290000/372991 queries. users per second: 4476.96"
      ]
     },
     "metadata": {},
     "output_type": "display_data"
    },
    {
     "data": {
      "text/html": [
       "<pre>recommendations finished on 291000/372991 queries. users per second: 4477.05</pre>"
      ],
      "text/plain": [
       "recommendations finished on 291000/372991 queries. users per second: 4477.05"
      ]
     },
     "metadata": {},
     "output_type": "display_data"
    },
    {
     "data": {
      "text/html": [
       "<pre>recommendations finished on 292000/372991 queries. users per second: 4476.89</pre>"
      ],
      "text/plain": [
       "recommendations finished on 292000/372991 queries. users per second: 4476.89"
      ]
     },
     "metadata": {},
     "output_type": "display_data"
    },
    {
     "data": {
      "text/html": [
       "<pre>recommendations finished on 293000/372991 queries. users per second: 4476.24</pre>"
      ],
      "text/plain": [
       "recommendations finished on 293000/372991 queries. users per second: 4476.24"
      ]
     },
     "metadata": {},
     "output_type": "display_data"
    },
    {
     "data": {
      "text/html": [
       "<pre>recommendations finished on 294000/372991 queries. users per second: 4476.32</pre>"
      ],
      "text/plain": [
       "recommendations finished on 294000/372991 queries. users per second: 4476.32"
      ]
     },
     "metadata": {},
     "output_type": "display_data"
    },
    {
     "data": {
      "text/html": [
       "<pre>recommendations finished on 295000/372991 queries. users per second: 4476.34</pre>"
      ],
      "text/plain": [
       "recommendations finished on 295000/372991 queries. users per second: 4476.34"
      ]
     },
     "metadata": {},
     "output_type": "display_data"
    },
    {
     "data": {
      "text/html": [
       "<pre>recommendations finished on 296000/372991 queries. users per second: 4475.84</pre>"
      ],
      "text/plain": [
       "recommendations finished on 296000/372991 queries. users per second: 4475.84"
      ]
     },
     "metadata": {},
     "output_type": "display_data"
    },
    {
     "data": {
      "text/html": [
       "<pre>recommendations finished on 297000/372991 queries. users per second: 4475.59</pre>"
      ],
      "text/plain": [
       "recommendations finished on 297000/372991 queries. users per second: 4475.59"
      ]
     },
     "metadata": {},
     "output_type": "display_data"
    },
    {
     "data": {
      "text/html": [
       "<pre>recommendations finished on 298000/372991 queries. users per second: 4475.45</pre>"
      ],
      "text/plain": [
       "recommendations finished on 298000/372991 queries. users per second: 4475.45"
      ]
     },
     "metadata": {},
     "output_type": "display_data"
    },
    {
     "data": {
      "text/html": [
       "<pre>recommendations finished on 299000/372991 queries. users per second: 4475.53</pre>"
      ],
      "text/plain": [
       "recommendations finished on 299000/372991 queries. users per second: 4475.53"
      ]
     },
     "metadata": {},
     "output_type": "display_data"
    },
    {
     "data": {
      "text/html": [
       "<pre>recommendations finished on 300000/372991 queries. users per second: 4475.41</pre>"
      ],
      "text/plain": [
       "recommendations finished on 300000/372991 queries. users per second: 4475.41"
      ]
     },
     "metadata": {},
     "output_type": "display_data"
    },
    {
     "data": {
      "text/html": [
       "<pre>recommendations finished on 301000/372991 queries. users per second: 4472.8</pre>"
      ],
      "text/plain": [
       "recommendations finished on 301000/372991 queries. users per second: 4472.8"
      ]
     },
     "metadata": {},
     "output_type": "display_data"
    },
    {
     "data": {
      "text/html": [
       "<pre>recommendations finished on 302000/372991 queries. users per second: 4470.16</pre>"
      ],
      "text/plain": [
       "recommendations finished on 302000/372991 queries. users per second: 4470.16"
      ]
     },
     "metadata": {},
     "output_type": "display_data"
    },
    {
     "data": {
      "text/html": [
       "<pre>recommendations finished on 303000/372991 queries. users per second: 4467.94</pre>"
      ],
      "text/plain": [
       "recommendations finished on 303000/372991 queries. users per second: 4467.94"
      ]
     },
     "metadata": {},
     "output_type": "display_data"
    },
    {
     "data": {
      "text/html": [
       "<pre>recommendations finished on 304000/372991 queries. users per second: 4465.78</pre>"
      ],
      "text/plain": [
       "recommendations finished on 304000/372991 queries. users per second: 4465.78"
      ]
     },
     "metadata": {},
     "output_type": "display_data"
    },
    {
     "data": {
      "text/html": [
       "<pre>recommendations finished on 305000/372991 queries. users per second: 4464.61</pre>"
      ],
      "text/plain": [
       "recommendations finished on 305000/372991 queries. users per second: 4464.61"
      ]
     },
     "metadata": {},
     "output_type": "display_data"
    },
    {
     "data": {
      "text/html": [
       "<pre>recommendations finished on 306000/372991 queries. users per second: 4463.72</pre>"
      ],
      "text/plain": [
       "recommendations finished on 306000/372991 queries. users per second: 4463.72"
      ]
     },
     "metadata": {},
     "output_type": "display_data"
    },
    {
     "data": {
      "text/html": [
       "<pre>recommendations finished on 307000/372991 queries. users per second: 4463.15</pre>"
      ],
      "text/plain": [
       "recommendations finished on 307000/372991 queries. users per second: 4463.15"
      ]
     },
     "metadata": {},
     "output_type": "display_data"
    },
    {
     "data": {
      "text/html": [
       "<pre>recommendations finished on 308000/372991 queries. users per second: 4460.83</pre>"
      ],
      "text/plain": [
       "recommendations finished on 308000/372991 queries. users per second: 4460.83"
      ]
     },
     "metadata": {},
     "output_type": "display_data"
    },
    {
     "data": {
      "text/html": [
       "<pre>recommendations finished on 309000/372991 queries. users per second: 4456.73</pre>"
      ],
      "text/plain": [
       "recommendations finished on 309000/372991 queries. users per second: 4456.73"
      ]
     },
     "metadata": {},
     "output_type": "display_data"
    },
    {
     "data": {
      "text/html": [
       "<pre>recommendations finished on 310000/372991 queries. users per second: 4455.12</pre>"
      ],
      "text/plain": [
       "recommendations finished on 310000/372991 queries. users per second: 4455.12"
      ]
     },
     "metadata": {},
     "output_type": "display_data"
    },
    {
     "data": {
      "text/html": [
       "<pre>recommendations finished on 311000/372991 queries. users per second: 4451.85</pre>"
      ],
      "text/plain": [
       "recommendations finished on 311000/372991 queries. users per second: 4451.85"
      ]
     },
     "metadata": {},
     "output_type": "display_data"
    },
    {
     "data": {
      "text/html": [
       "<pre>recommendations finished on 312000/372991 queries. users per second: 4447.16</pre>"
      ],
      "text/plain": [
       "recommendations finished on 312000/372991 queries. users per second: 4447.16"
      ]
     },
     "metadata": {},
     "output_type": "display_data"
    },
    {
     "data": {
      "text/html": [
       "<pre>recommendations finished on 313000/372991 queries. users per second: 4443.99</pre>"
      ],
      "text/plain": [
       "recommendations finished on 313000/372991 queries. users per second: 4443.99"
      ]
     },
     "metadata": {},
     "output_type": "display_data"
    },
    {
     "data": {
      "text/html": [
       "<pre>recommendations finished on 314000/372991 queries. users per second: 4443.63</pre>"
      ],
      "text/plain": [
       "recommendations finished on 314000/372991 queries. users per second: 4443.63"
      ]
     },
     "metadata": {},
     "output_type": "display_data"
    },
    {
     "data": {
      "text/html": [
       "<pre>recommendations finished on 315000/372991 queries. users per second: 4443.11</pre>"
      ],
      "text/plain": [
       "recommendations finished on 315000/372991 queries. users per second: 4443.11"
      ]
     },
     "metadata": {},
     "output_type": "display_data"
    },
    {
     "data": {
      "text/html": [
       "<pre>recommendations finished on 316000/372991 queries. users per second: 4437.45</pre>"
      ],
      "text/plain": [
       "recommendations finished on 316000/372991 queries. users per second: 4437.45"
      ]
     },
     "metadata": {},
     "output_type": "display_data"
    },
    {
     "data": {
      "text/html": [
       "<pre>recommendations finished on 317000/372991 queries. users per second: 4435.39</pre>"
      ],
      "text/plain": [
       "recommendations finished on 317000/372991 queries. users per second: 4435.39"
      ]
     },
     "metadata": {},
     "output_type": "display_data"
    },
    {
     "data": {
      "text/html": [
       "<pre>recommendations finished on 318000/372991 queries. users per second: 4433.97</pre>"
      ],
      "text/plain": [
       "recommendations finished on 318000/372991 queries. users per second: 4433.97"
      ]
     },
     "metadata": {},
     "output_type": "display_data"
    },
    {
     "data": {
      "text/html": [
       "<pre>recommendations finished on 319000/372991 queries. users per second: 4432.5</pre>"
      ],
      "text/plain": [
       "recommendations finished on 319000/372991 queries. users per second: 4432.5"
      ]
     },
     "metadata": {},
     "output_type": "display_data"
    },
    {
     "data": {
      "text/html": [
       "<pre>recommendations finished on 320000/372991 queries. users per second: 4429.4</pre>"
      ],
      "text/plain": [
       "recommendations finished on 320000/372991 queries. users per second: 4429.4"
      ]
     },
     "metadata": {},
     "output_type": "display_data"
    },
    {
     "data": {
      "text/html": [
       "<pre>recommendations finished on 321000/372991 queries. users per second: 4427.76</pre>"
      ],
      "text/plain": [
       "recommendations finished on 321000/372991 queries. users per second: 4427.76"
      ]
     },
     "metadata": {},
     "output_type": "display_data"
    },
    {
     "data": {
      "text/html": [
       "<pre>recommendations finished on 322000/372991 queries. users per second: 4426.1</pre>"
      ],
      "text/plain": [
       "recommendations finished on 322000/372991 queries. users per second: 4426.1"
      ]
     },
     "metadata": {},
     "output_type": "display_data"
    },
    {
     "data": {
      "text/html": [
       "<pre>recommendations finished on 323000/372991 queries. users per second: 4425.47</pre>"
      ],
      "text/plain": [
       "recommendations finished on 323000/372991 queries. users per second: 4425.47"
      ]
     },
     "metadata": {},
     "output_type": "display_data"
    },
    {
     "data": {
      "text/html": [
       "<pre>recommendations finished on 324000/372991 queries. users per second: 4424.35</pre>"
      ],
      "text/plain": [
       "recommendations finished on 324000/372991 queries. users per second: 4424.35"
      ]
     },
     "metadata": {},
     "output_type": "display_data"
    },
    {
     "data": {
      "text/html": [
       "<pre>recommendations finished on 325000/372991 queries. users per second: 4421.22</pre>"
      ],
      "text/plain": [
       "recommendations finished on 325000/372991 queries. users per second: 4421.22"
      ]
     },
     "metadata": {},
     "output_type": "display_data"
    },
    {
     "data": {
      "text/html": [
       "<pre>recommendations finished on 326000/372991 queries. users per second: 4419.18</pre>"
      ],
      "text/plain": [
       "recommendations finished on 326000/372991 queries. users per second: 4419.18"
      ]
     },
     "metadata": {},
     "output_type": "display_data"
    },
    {
     "data": {
      "text/html": [
       "<pre>recommendations finished on 327000/372991 queries. users per second: 4416.65</pre>"
      ],
      "text/plain": [
       "recommendations finished on 327000/372991 queries. users per second: 4416.65"
      ]
     },
     "metadata": {},
     "output_type": "display_data"
    },
    {
     "data": {
      "text/html": [
       "<pre>recommendations finished on 328000/372991 queries. users per second: 4414.22</pre>"
      ],
      "text/plain": [
       "recommendations finished on 328000/372991 queries. users per second: 4414.22"
      ]
     },
     "metadata": {},
     "output_type": "display_data"
    },
    {
     "data": {
      "text/html": [
       "<pre>recommendations finished on 329000/372991 queries. users per second: 4412.17</pre>"
      ],
      "text/plain": [
       "recommendations finished on 329000/372991 queries. users per second: 4412.17"
      ]
     },
     "metadata": {},
     "output_type": "display_data"
    },
    {
     "data": {
      "text/html": [
       "<pre>recommendations finished on 330000/372991 queries. users per second: 4409.46</pre>"
      ],
      "text/plain": [
       "recommendations finished on 330000/372991 queries. users per second: 4409.46"
      ]
     },
     "metadata": {},
     "output_type": "display_data"
    },
    {
     "data": {
      "text/html": [
       "<pre>recommendations finished on 331000/372991 queries. users per second: 4408.45</pre>"
      ],
      "text/plain": [
       "recommendations finished on 331000/372991 queries. users per second: 4408.45"
      ]
     },
     "metadata": {},
     "output_type": "display_data"
    },
    {
     "data": {
      "text/html": [
       "<pre>recommendations finished on 332000/372991 queries. users per second: 4405.54</pre>"
      ],
      "text/plain": [
       "recommendations finished on 332000/372991 queries. users per second: 4405.54"
      ]
     },
     "metadata": {},
     "output_type": "display_data"
    },
    {
     "data": {
      "text/html": [
       "<pre>recommendations finished on 333000/372991 queries. users per second: 4402.93</pre>"
      ],
      "text/plain": [
       "recommendations finished on 333000/372991 queries. users per second: 4402.93"
      ]
     },
     "metadata": {},
     "output_type": "display_data"
    },
    {
     "data": {
      "text/html": [
       "<pre>recommendations finished on 334000/372991 queries. users per second: 4401.21</pre>"
      ],
      "text/plain": [
       "recommendations finished on 334000/372991 queries. users per second: 4401.21"
      ]
     },
     "metadata": {},
     "output_type": "display_data"
    },
    {
     "data": {
      "text/html": [
       "<pre>recommendations finished on 335000/372991 queries. users per second: 4399.46</pre>"
      ],
      "text/plain": [
       "recommendations finished on 335000/372991 queries. users per second: 4399.46"
      ]
     },
     "metadata": {},
     "output_type": "display_data"
    },
    {
     "data": {
      "text/html": [
       "<pre>recommendations finished on 336000/372991 queries. users per second: 4398.05</pre>"
      ],
      "text/plain": [
       "recommendations finished on 336000/372991 queries. users per second: 4398.05"
      ]
     },
     "metadata": {},
     "output_type": "display_data"
    },
    {
     "data": {
      "text/html": [
       "<pre>recommendations finished on 337000/372991 queries. users per second: 4398.15</pre>"
      ],
      "text/plain": [
       "recommendations finished on 337000/372991 queries. users per second: 4398.15"
      ]
     },
     "metadata": {},
     "output_type": "display_data"
    },
    {
     "data": {
      "text/html": [
       "<pre>recommendations finished on 338000/372991 queries. users per second: 4395.69</pre>"
      ],
      "text/plain": [
       "recommendations finished on 338000/372991 queries. users per second: 4395.69"
      ]
     },
     "metadata": {},
     "output_type": "display_data"
    },
    {
     "data": {
      "text/html": [
       "<pre>recommendations finished on 339000/372991 queries. users per second: 4393.34</pre>"
      ],
      "text/plain": [
       "recommendations finished on 339000/372991 queries. users per second: 4393.34"
      ]
     },
     "metadata": {},
     "output_type": "display_data"
    },
    {
     "data": {
      "text/html": [
       "<pre>recommendations finished on 340000/372991 queries. users per second: 4391.46</pre>"
      ],
      "text/plain": [
       "recommendations finished on 340000/372991 queries. users per second: 4391.46"
      ]
     },
     "metadata": {},
     "output_type": "display_data"
    },
    {
     "data": {
      "text/html": [
       "<pre>recommendations finished on 341000/372991 queries. users per second: 4389.26</pre>"
      ],
      "text/plain": [
       "recommendations finished on 341000/372991 queries. users per second: 4389.26"
      ]
     },
     "metadata": {},
     "output_type": "display_data"
    },
    {
     "data": {
      "text/html": [
       "<pre>recommendations finished on 342000/372991 queries. users per second: 4387.51</pre>"
      ],
      "text/plain": [
       "recommendations finished on 342000/372991 queries. users per second: 4387.51"
      ]
     },
     "metadata": {},
     "output_type": "display_data"
    },
    {
     "data": {
      "text/html": [
       "<pre>recommendations finished on 343000/372991 queries. users per second: 4386.76</pre>"
      ],
      "text/plain": [
       "recommendations finished on 343000/372991 queries. users per second: 4386.76"
      ]
     },
     "metadata": {},
     "output_type": "display_data"
    },
    {
     "data": {
      "text/html": [
       "<pre>recommendations finished on 344000/372991 queries. users per second: 4383.79</pre>"
      ],
      "text/plain": [
       "recommendations finished on 344000/372991 queries. users per second: 4383.79"
      ]
     },
     "metadata": {},
     "output_type": "display_data"
    },
    {
     "data": {
      "text/html": [
       "<pre>recommendations finished on 345000/372991 queries. users per second: 4381.61</pre>"
      ],
      "text/plain": [
       "recommendations finished on 345000/372991 queries. users per second: 4381.61"
      ]
     },
     "metadata": {},
     "output_type": "display_data"
    },
    {
     "data": {
      "text/html": [
       "<pre>recommendations finished on 346000/372991 queries. users per second: 4379.64</pre>"
      ],
      "text/plain": [
       "recommendations finished on 346000/372991 queries. users per second: 4379.64"
      ]
     },
     "metadata": {},
     "output_type": "display_data"
    },
    {
     "data": {
      "text/html": [
       "<pre>recommendations finished on 347000/372991 queries. users per second: 4377.81</pre>"
      ],
      "text/plain": [
       "recommendations finished on 347000/372991 queries. users per second: 4377.81"
      ]
     },
     "metadata": {},
     "output_type": "display_data"
    },
    {
     "data": {
      "text/html": [
       "<pre>recommendations finished on 348000/372991 queries. users per second: 4376.09</pre>"
      ],
      "text/plain": [
       "recommendations finished on 348000/372991 queries. users per second: 4376.09"
      ]
     },
     "metadata": {},
     "output_type": "display_data"
    },
    {
     "data": {
      "text/html": [
       "<pre>recommendations finished on 349000/372991 queries. users per second: 4374.78</pre>"
      ],
      "text/plain": [
       "recommendations finished on 349000/372991 queries. users per second: 4374.78"
      ]
     },
     "metadata": {},
     "output_type": "display_data"
    },
    {
     "data": {
      "text/html": [
       "<pre>recommendations finished on 350000/372991 queries. users per second: 4374.14</pre>"
      ],
      "text/plain": [
       "recommendations finished on 350000/372991 queries. users per second: 4374.14"
      ]
     },
     "metadata": {},
     "output_type": "display_data"
    },
    {
     "data": {
      "text/html": [
       "<pre>recommendations finished on 351000/372991 queries. users per second: 4373.75</pre>"
      ],
      "text/plain": [
       "recommendations finished on 351000/372991 queries. users per second: 4373.75"
      ]
     },
     "metadata": {},
     "output_type": "display_data"
    },
    {
     "data": {
      "text/html": [
       "<pre>recommendations finished on 352000/372991 queries. users per second: 4373.57</pre>"
      ],
      "text/plain": [
       "recommendations finished on 352000/372991 queries. users per second: 4373.57"
      ]
     },
     "metadata": {},
     "output_type": "display_data"
    },
    {
     "data": {
      "text/html": [
       "<pre>recommendations finished on 353000/372991 queries. users per second: 4373.25</pre>"
      ],
      "text/plain": [
       "recommendations finished on 353000/372991 queries. users per second: 4373.25"
      ]
     },
     "metadata": {},
     "output_type": "display_data"
    },
    {
     "data": {
      "text/html": [
       "<pre>recommendations finished on 354000/372991 queries. users per second: 4373.45</pre>"
      ],
      "text/plain": [
       "recommendations finished on 354000/372991 queries. users per second: 4373.45"
      ]
     },
     "metadata": {},
     "output_type": "display_data"
    },
    {
     "data": {
      "text/html": [
       "<pre>recommendations finished on 355000/372991 queries. users per second: 4371.93</pre>"
      ],
      "text/plain": [
       "recommendations finished on 355000/372991 queries. users per second: 4371.93"
      ]
     },
     "metadata": {},
     "output_type": "display_data"
    },
    {
     "data": {
      "text/html": [
       "<pre>recommendations finished on 356000/372991 queries. users per second: 4371.3</pre>"
      ],
      "text/plain": [
       "recommendations finished on 356000/372991 queries. users per second: 4371.3"
      ]
     },
     "metadata": {},
     "output_type": "display_data"
    },
    {
     "data": {
      "text/html": [
       "<pre>recommendations finished on 357000/372991 queries. users per second: 4371.63</pre>"
      ],
      "text/plain": [
       "recommendations finished on 357000/372991 queries. users per second: 4371.63"
      ]
     },
     "metadata": {},
     "output_type": "display_data"
    },
    {
     "data": {
      "text/html": [
       "<pre>recommendations finished on 358000/372991 queries. users per second: 4370.15</pre>"
      ],
      "text/plain": [
       "recommendations finished on 358000/372991 queries. users per second: 4370.15"
      ]
     },
     "metadata": {},
     "output_type": "display_data"
    },
    {
     "data": {
      "text/html": [
       "<pre>recommendations finished on 359000/372991 queries. users per second: 4368.78</pre>"
      ],
      "text/plain": [
       "recommendations finished on 359000/372991 queries. users per second: 4368.78"
      ]
     },
     "metadata": {},
     "output_type": "display_data"
    },
    {
     "data": {
      "text/html": [
       "<pre>recommendations finished on 360000/372991 queries. users per second: 4366.99</pre>"
      ],
      "text/plain": [
       "recommendations finished on 360000/372991 queries. users per second: 4366.99"
      ]
     },
     "metadata": {},
     "output_type": "display_data"
    },
    {
     "data": {
      "text/html": [
       "<pre>recommendations finished on 361000/372991 queries. users per second: 4366.52</pre>"
      ],
      "text/plain": [
       "recommendations finished on 361000/372991 queries. users per second: 4366.52"
      ]
     },
     "metadata": {},
     "output_type": "display_data"
    },
    {
     "data": {
      "text/html": [
       "<pre>recommendations finished on 362000/372991 queries. users per second: 4366.26</pre>"
      ],
      "text/plain": [
       "recommendations finished on 362000/372991 queries. users per second: 4366.26"
      ]
     },
     "metadata": {},
     "output_type": "display_data"
    },
    {
     "data": {
      "text/html": [
       "<pre>recommendations finished on 363000/372991 queries. users per second: 4366.42</pre>"
      ],
      "text/plain": [
       "recommendations finished on 363000/372991 queries. users per second: 4366.42"
      ]
     },
     "metadata": {},
     "output_type": "display_data"
    },
    {
     "data": {
      "text/html": [
       "<pre>recommendations finished on 364000/372991 queries. users per second: 4365.95</pre>"
      ],
      "text/plain": [
       "recommendations finished on 364000/372991 queries. users per second: 4365.95"
      ]
     },
     "metadata": {},
     "output_type": "display_data"
    },
    {
     "data": {
      "text/html": [
       "<pre>recommendations finished on 365000/372991 queries. users per second: 4366.2</pre>"
      ],
      "text/plain": [
       "recommendations finished on 365000/372991 queries. users per second: 4366.2"
      ]
     },
     "metadata": {},
     "output_type": "display_data"
    },
    {
     "data": {
      "text/html": [
       "<pre>recommendations finished on 366000/372991 queries. users per second: 4365.94</pre>"
      ],
      "text/plain": [
       "recommendations finished on 366000/372991 queries. users per second: 4365.94"
      ]
     },
     "metadata": {},
     "output_type": "display_data"
    },
    {
     "data": {
      "text/html": [
       "<pre>recommendations finished on 367000/372991 queries. users per second: 4365.58</pre>"
      ],
      "text/plain": [
       "recommendations finished on 367000/372991 queries. users per second: 4365.58"
      ]
     },
     "metadata": {},
     "output_type": "display_data"
    },
    {
     "data": {
      "text/html": [
       "<pre>recommendations finished on 368000/372991 queries. users per second: 4365.78</pre>"
      ],
      "text/plain": [
       "recommendations finished on 368000/372991 queries. users per second: 4365.78"
      ]
     },
     "metadata": {},
     "output_type": "display_data"
    },
    {
     "data": {
      "text/html": [
       "<pre>recommendations finished on 369000/372991 queries. users per second: 4365.76</pre>"
      ],
      "text/plain": [
       "recommendations finished on 369000/372991 queries. users per second: 4365.76"
      ]
     },
     "metadata": {},
     "output_type": "display_data"
    },
    {
     "data": {
      "text/html": [
       "<pre>recommendations finished on 370000/372991 queries. users per second: 4365.52</pre>"
      ],
      "text/plain": [
       "recommendations finished on 370000/372991 queries. users per second: 4365.52"
      ]
     },
     "metadata": {},
     "output_type": "display_data"
    },
    {
     "data": {
      "text/html": [
       "<pre>recommendations finished on 371000/372991 queries. users per second: 4364.63</pre>"
      ],
      "text/plain": [
       "recommendations finished on 371000/372991 queries. users per second: 4364.63"
      ]
     },
     "metadata": {},
     "output_type": "display_data"
    },
    {
     "data": {
      "text/html": [
       "<pre>recommendations finished on 372000/372991 queries. users per second: 4362.98</pre>"
      ],
      "text/plain": [
       "recommendations finished on 372000/372991 queries. users per second: 4362.98"
      ]
     },
     "metadata": {},
     "output_type": "display_data"
    },
    {
     "name": "stdout",
     "output_type": "stream",
     "text": [
      "+--------+--------+---------------------+------+\n",
      "| userId | itemId |        score        | rank |\n",
      "+--------+--------+---------------------+------+\n",
      "|   2    | 35010  | 0.44767352512904574 |  1   |\n",
      "|   2    |  5828  |  0.4475716395037515 |  2   |\n",
      "|   2    | 36411  | 0.44739533747945515 |  3   |\n",
      "|   2    | 14228  |  0.4472952059337071 |  4   |\n",
      "|   2    | 14446  |  0.4472178816795349 |  5   |\n",
      "|   2    | 36266  |  0.4466805841241564 |  6   |\n",
      "|   2    | 12086  |  0.4464670036520277 |  7   |\n",
      "|   2    | 36082  | 0.44558458243097576 |  8   |\n",
      "|   2    | 36271  |  0.4422305311475481 |  9   |\n",
      "|   2    | 36363  |  0.4039241245814732 |  10  |\n",
      "|   2    | 35010  | 0.44767352512904574 |  1   |\n",
      "|   2    |  5828  |  0.4475716395037515 |  2   |\n",
      "|   2    | 36411  | 0.44739533747945515 |  3   |\n",
      "|   2    | 14228  |  0.4472952059337071 |  4   |\n",
      "|   2    | 14446  |  0.4472178816795349 |  5   |\n",
      "|   2    | 36266  |  0.4466805841241564 |  6   |\n",
      "|   2    | 12086  |  0.4464670036520277 |  7   |\n",
      "|   2    | 36082  | 0.44558458243097576 |  8   |\n",
      "|   2    | 36271  |  0.4422305311475481 |  9   |\n",
      "|   2    | 36363  |  0.4039241245814732 |  10  |\n",
      "|   2    | 35010  | 0.44767352512904574 |  1   |\n",
      "|   2    |  5828  |  0.4475716395037515 |  2   |\n",
      "|   2    | 36411  | 0.44739533747945515 |  3   |\n",
      "|   2    | 14228  |  0.4472952059337071 |  4   |\n",
      "|   2    | 14446  |  0.4472178816795349 |  5   |\n",
      "|   2    | 36266  |  0.4466805841241564 |  6   |\n",
      "|   2    | 12086  |  0.4464670036520277 |  7   |\n",
      "|   2    | 36082  | 0.44558458243097576 |  8   |\n",
      "|   2    | 36271  |  0.4422305311475481 |  9   |\n",
      "|   2    | 36363  |  0.4039241245814732 |  10  |\n",
      "+--------+--------+---------------------+------+\n",
      "[3729910 rows x 4 columns]\n",
      "\n"
     ]
    }
   ],
   "source": [
    "if(tc.load_model('cos_dummy')):\n",
    "    cos_dummy = tc.load_model('cos_dummy')\n",
    "else:\n",
    "    target = 'purchase_dummy'\n",
    "    cos_dummy = model(train_data_dummy, user_id, item_id, target, users_to_recommend, n_rec, n_display)\n",
    "    cos_dummy.save('cos_dummy_model')"
   ]
  },
  {
   "cell_type": "code",
   "execution_count": 36,
   "metadata": {},
   "outputs": [
    {
     "data": {
      "text/html": [
       "<pre>Preparing data set.</pre>"
      ],
      "text/plain": [
       "Preparing data set."
      ]
     },
     "metadata": {},
     "output_type": "display_data"
    },
    {
     "data": {
      "text/html": [
       "<pre>    Data has 510 observations with 42 users and 277 items.</pre>"
      ],
      "text/plain": [
       "    Data has 510 observations with 42 users and 277 items."
      ]
     },
     "metadata": {},
     "output_type": "display_data"
    },
    {
     "data": {
      "text/html": [
       "<pre>    Data prepared in: 0.002493s</pre>"
      ],
      "text/plain": [
       "    Data prepared in: 0.002493s"
      ]
     },
     "metadata": {},
     "output_type": "display_data"
    },
    {
     "data": {
      "text/html": [
       "<pre>Training model from provided data.</pre>"
      ],
      "text/plain": [
       "Training model from provided data."
      ]
     },
     "metadata": {},
     "output_type": "display_data"
    },
    {
     "data": {
      "text/html": [
       "<pre>Gathering per-item and per-user statistics.</pre>"
      ],
      "text/plain": [
       "Gathering per-item and per-user statistics."
      ]
     },
     "metadata": {},
     "output_type": "display_data"
    },
    {
     "data": {
      "text/html": [
       "<pre>+--------------------------------+------------+</pre>"
      ],
      "text/plain": [
       "+--------------------------------+------------+"
      ]
     },
     "metadata": {},
     "output_type": "display_data"
    },
    {
     "data": {
      "text/html": [
       "<pre>| Elapsed Time (Item Statistics) | % Complete |</pre>"
      ],
      "text/plain": [
       "| Elapsed Time (Item Statistics) | % Complete |"
      ]
     },
     "metadata": {},
     "output_type": "display_data"
    },
    {
     "data": {
      "text/html": [
       "<pre>+--------------------------------+------------+</pre>"
      ],
      "text/plain": [
       "+--------------------------------+------------+"
      ]
     },
     "metadata": {},
     "output_type": "display_data"
    },
    {
     "data": {
      "text/html": [
       "<pre>| 283us                          | 100        |</pre>"
      ],
      "text/plain": [
       "| 283us                          | 100        |"
      ]
     },
     "metadata": {},
     "output_type": "display_data"
    },
    {
     "data": {
      "text/html": [
       "<pre>+--------------------------------+------------+</pre>"
      ],
      "text/plain": [
       "+--------------------------------+------------+"
      ]
     },
     "metadata": {},
     "output_type": "display_data"
    },
    {
     "data": {
      "text/html": [
       "<pre>Setting up lookup tables.</pre>"
      ],
      "text/plain": [
       "Setting up lookup tables."
      ]
     },
     "metadata": {},
     "output_type": "display_data"
    },
    {
     "data": {
      "text/html": [
       "<pre>Processing data in one pass using dense lookup tables.</pre>"
      ],
      "text/plain": [
       "Processing data in one pass using dense lookup tables."
      ]
     },
     "metadata": {},
     "output_type": "display_data"
    },
    {
     "data": {
      "text/html": [
       "<pre>+-------------------------------------+------------------+-----------------+</pre>"
      ],
      "text/plain": [
       "+-------------------------------------+------------------+-----------------+"
      ]
     },
     "metadata": {},
     "output_type": "display_data"
    },
    {
     "data": {
      "text/html": [
       "<pre>| Elapsed Time (Constructing Lookups) | Total % Complete | Items Processed |</pre>"
      ],
      "text/plain": [
       "| Elapsed Time (Constructing Lookups) | Total % Complete | Items Processed |"
      ]
     },
     "metadata": {},
     "output_type": "display_data"
    },
    {
     "data": {
      "text/html": [
       "<pre>+-------------------------------------+------------------+-----------------+</pre>"
      ],
      "text/plain": [
       "+-------------------------------------+------------------+-----------------+"
      ]
     },
     "metadata": {},
     "output_type": "display_data"
    },
    {
     "data": {
      "text/html": [
       "<pre>| 477us                               | 1                | 2               |</pre>"
      ],
      "text/plain": [
       "| 477us                               | 1                | 2               |"
      ]
     },
     "metadata": {},
     "output_type": "display_data"
    },
    {
     "data": {
      "text/html": [
       "<pre>| 1.702ms                             | 100              | 277             |</pre>"
      ],
      "text/plain": [
       "| 1.702ms                             | 100              | 277             |"
      ]
     },
     "metadata": {},
     "output_type": "display_data"
    },
    {
     "data": {
      "text/html": [
       "<pre>+-------------------------------------+------------------+-----------------+</pre>"
      ],
      "text/plain": [
       "+-------------------------------------+------------------+-----------------+"
      ]
     },
     "metadata": {},
     "output_type": "display_data"
    },
    {
     "data": {
      "text/html": [
       "<pre>Finalizing lookup tables.</pre>"
      ],
      "text/plain": [
       "Finalizing lookup tables."
      ]
     },
     "metadata": {},
     "output_type": "display_data"
    },
    {
     "data": {
      "text/html": [
       "<pre>Generating candidate set for working with new users.</pre>"
      ],
      "text/plain": [
       "Generating candidate set for working with new users."
      ]
     },
     "metadata": {},
     "output_type": "display_data"
    },
    {
     "data": {
      "text/html": [
       "<pre>Finished training in 0.002652s</pre>"
      ],
      "text/plain": [
       "Finished training in 0.002652s"
      ]
     },
     "metadata": {},
     "output_type": "display_data"
    },
    {
     "data": {
      "text/html": [
       "<pre>recommendations finished on 1000/372991 queries. users per second: 388802</pre>"
      ],
      "text/plain": [
       "recommendations finished on 1000/372991 queries. users per second: 388802"
      ]
     },
     "metadata": {},
     "output_type": "display_data"
    },
    {
     "data": {
      "text/html": [
       "<pre>recommendations finished on 2000/372991 queries. users per second: 412031</pre>"
      ],
      "text/plain": [
       "recommendations finished on 2000/372991 queries. users per second: 412031"
      ]
     },
     "metadata": {},
     "output_type": "display_data"
    },
    {
     "data": {
      "text/html": [
       "<pre>recommendations finished on 3000/372991 queries. users per second: 418877</pre>"
      ],
      "text/plain": [
       "recommendations finished on 3000/372991 queries. users per second: 418877"
      ]
     },
     "metadata": {},
     "output_type": "display_data"
    },
    {
     "data": {
      "text/html": [
       "<pre>recommendations finished on 4000/372991 queries. users per second: 413950</pre>"
      ],
      "text/plain": [
       "recommendations finished on 4000/372991 queries. users per second: 413950"
      ]
     },
     "metadata": {},
     "output_type": "display_data"
    },
    {
     "data": {
      "text/html": [
       "<pre>recommendations finished on 5000/372991 queries. users per second: 419533</pre>"
      ],
      "text/plain": [
       "recommendations finished on 5000/372991 queries. users per second: 419533"
      ]
     },
     "metadata": {},
     "output_type": "display_data"
    },
    {
     "data": {
      "text/html": [
       "<pre>recommendations finished on 6000/372991 queries. users per second: 419962</pre>"
      ],
      "text/plain": [
       "recommendations finished on 6000/372991 queries. users per second: 419962"
      ]
     },
     "metadata": {},
     "output_type": "display_data"
    },
    {
     "data": {
      "text/html": [
       "<pre>recommendations finished on 7000/372991 queries. users per second: 418936</pre>"
      ],
      "text/plain": [
       "recommendations finished on 7000/372991 queries. users per second: 418936"
      ]
     },
     "metadata": {},
     "output_type": "display_data"
    },
    {
     "data": {
      "text/html": [
       "<pre>recommendations finished on 8000/372991 queries. users per second: 413309</pre>"
      ],
      "text/plain": [
       "recommendations finished on 8000/372991 queries. users per second: 413309"
      ]
     },
     "metadata": {},
     "output_type": "display_data"
    },
    {
     "data": {
      "text/html": [
       "<pre>recommendations finished on 9000/372991 queries. users per second: 413831</pre>"
      ],
      "text/plain": [
       "recommendations finished on 9000/372991 queries. users per second: 413831"
      ]
     },
     "metadata": {},
     "output_type": "display_data"
    },
    {
     "data": {
      "text/html": [
       "<pre>recommendations finished on 10000/372991 queries. users per second: 415852</pre>"
      ],
      "text/plain": [
       "recommendations finished on 10000/372991 queries. users per second: 415852"
      ]
     },
     "metadata": {},
     "output_type": "display_data"
    },
    {
     "data": {
      "text/html": [
       "<pre>recommendations finished on 11000/372991 queries. users per second: 415863</pre>"
      ],
      "text/plain": [
       "recommendations finished on 11000/372991 queries. users per second: 415863"
      ]
     },
     "metadata": {},
     "output_type": "display_data"
    },
    {
     "data": {
      "text/html": [
       "<pre>recommendations finished on 12000/372991 queries. users per second: 406023</pre>"
      ],
      "text/plain": [
       "recommendations finished on 12000/372991 queries. users per second: 406023"
      ]
     },
     "metadata": {},
     "output_type": "display_data"
    },
    {
     "data": {
      "text/html": [
       "<pre>recommendations finished on 13000/372991 queries. users per second: 401991</pre>"
      ],
      "text/plain": [
       "recommendations finished on 13000/372991 queries. users per second: 401991"
      ]
     },
     "metadata": {},
     "output_type": "display_data"
    },
    {
     "data": {
      "text/html": [
       "<pre>recommendations finished on 14000/372991 queries. users per second: 396646</pre>"
      ],
      "text/plain": [
       "recommendations finished on 14000/372991 queries. users per second: 396646"
      ]
     },
     "metadata": {},
     "output_type": "display_data"
    },
    {
     "data": {
      "text/html": [
       "<pre>recommendations finished on 15000/372991 queries. users per second: 395434</pre>"
      ],
      "text/plain": [
       "recommendations finished on 15000/372991 queries. users per second: 395434"
      ]
     },
     "metadata": {},
     "output_type": "display_data"
    },
    {
     "data": {
      "text/html": [
       "<pre>recommendations finished on 16000/372991 queries. users per second: 396138</pre>"
      ],
      "text/plain": [
       "recommendations finished on 16000/372991 queries. users per second: 396138"
      ]
     },
     "metadata": {},
     "output_type": "display_data"
    },
    {
     "data": {
      "text/html": [
       "<pre>recommendations finished on 17000/372991 queries. users per second: 392673</pre>"
      ],
      "text/plain": [
       "recommendations finished on 17000/372991 queries. users per second: 392673"
      ]
     },
     "metadata": {},
     "output_type": "display_data"
    },
    {
     "data": {
      "text/html": [
       "<pre>recommendations finished on 18000/372991 queries. users per second: 388006</pre>"
      ],
      "text/plain": [
       "recommendations finished on 18000/372991 queries. users per second: 388006"
      ]
     },
     "metadata": {},
     "output_type": "display_data"
    },
    {
     "data": {
      "text/html": [
       "<pre>recommendations finished on 19000/372991 queries. users per second: 386768</pre>"
      ],
      "text/plain": [
       "recommendations finished on 19000/372991 queries. users per second: 386768"
      ]
     },
     "metadata": {},
     "output_type": "display_data"
    },
    {
     "data": {
      "text/html": [
       "<pre>recommendations finished on 20000/372991 queries. users per second: 384986</pre>"
      ],
      "text/plain": [
       "recommendations finished on 20000/372991 queries. users per second: 384986"
      ]
     },
     "metadata": {},
     "output_type": "display_data"
    },
    {
     "data": {
      "text/html": [
       "<pre>recommendations finished on 21000/372991 queries. users per second: 383289</pre>"
      ],
      "text/plain": [
       "recommendations finished on 21000/372991 queries. users per second: 383289"
      ]
     },
     "metadata": {},
     "output_type": "display_data"
    },
    {
     "data": {
      "text/html": [
       "<pre>recommendations finished on 22000/372991 queries. users per second: 385228</pre>"
      ],
      "text/plain": [
       "recommendations finished on 22000/372991 queries. users per second: 385228"
      ]
     },
     "metadata": {},
     "output_type": "display_data"
    },
    {
     "data": {
      "text/html": [
       "<pre>recommendations finished on 23000/372991 queries. users per second: 383640</pre>"
      ],
      "text/plain": [
       "recommendations finished on 23000/372991 queries. users per second: 383640"
      ]
     },
     "metadata": {},
     "output_type": "display_data"
    },
    {
     "data": {
      "text/html": [
       "<pre>recommendations finished on 24000/372991 queries. users per second: 379255</pre>"
      ],
      "text/plain": [
       "recommendations finished on 24000/372991 queries. users per second: 379255"
      ]
     },
     "metadata": {},
     "output_type": "display_data"
    },
    {
     "data": {
      "text/html": [
       "<pre>recommendations finished on 25000/372991 queries. users per second: 377250</pre>"
      ],
      "text/plain": [
       "recommendations finished on 25000/372991 queries. users per second: 377250"
      ]
     },
     "metadata": {},
     "output_type": "display_data"
    },
    {
     "data": {
      "text/html": [
       "<pre>recommendations finished on 26000/372991 queries. users per second: 373918</pre>"
      ],
      "text/plain": [
       "recommendations finished on 26000/372991 queries. users per second: 373918"
      ]
     },
     "metadata": {},
     "output_type": "display_data"
    },
    {
     "data": {
      "text/html": [
       "<pre>recommendations finished on 27000/372991 queries. users per second: 373268</pre>"
      ],
      "text/plain": [
       "recommendations finished on 27000/372991 queries. users per second: 373268"
      ]
     },
     "metadata": {},
     "output_type": "display_data"
    },
    {
     "data": {
      "text/html": [
       "<pre>recommendations finished on 28000/372991 queries. users per second: 374737</pre>"
      ],
      "text/plain": [
       "recommendations finished on 28000/372991 queries. users per second: 374737"
      ]
     },
     "metadata": {},
     "output_type": "display_data"
    },
    {
     "data": {
      "text/html": [
       "<pre>recommendations finished on 29000/372991 queries. users per second: 373365</pre>"
      ],
      "text/plain": [
       "recommendations finished on 29000/372991 queries. users per second: 373365"
      ]
     },
     "metadata": {},
     "output_type": "display_data"
    },
    {
     "data": {
      "text/html": [
       "<pre>recommendations finished on 30000/372991 queries. users per second: 373385</pre>"
      ],
      "text/plain": [
       "recommendations finished on 30000/372991 queries. users per second: 373385"
      ]
     },
     "metadata": {},
     "output_type": "display_data"
    },
    {
     "data": {
      "text/html": [
       "<pre>recommendations finished on 31000/372991 queries. users per second: 374428</pre>"
      ],
      "text/plain": [
       "recommendations finished on 31000/372991 queries. users per second: 374428"
      ]
     },
     "metadata": {},
     "output_type": "display_data"
    },
    {
     "data": {
      "text/html": [
       "<pre>recommendations finished on 32000/372991 queries. users per second: 375028</pre>"
      ],
      "text/plain": [
       "recommendations finished on 32000/372991 queries. users per second: 375028"
      ]
     },
     "metadata": {},
     "output_type": "display_data"
    },
    {
     "data": {
      "text/html": [
       "<pre>recommendations finished on 33000/372991 queries. users per second: 375166</pre>"
      ],
      "text/plain": [
       "recommendations finished on 33000/372991 queries. users per second: 375166"
      ]
     },
     "metadata": {},
     "output_type": "display_data"
    },
    {
     "data": {
      "text/html": [
       "<pre>recommendations finished on 34000/372991 queries. users per second: 376594</pre>"
      ],
      "text/plain": [
       "recommendations finished on 34000/372991 queries. users per second: 376594"
      ]
     },
     "metadata": {},
     "output_type": "display_data"
    },
    {
     "data": {
      "text/html": [
       "<pre>recommendations finished on 35000/372991 queries. users per second: 377289</pre>"
      ],
      "text/plain": [
       "recommendations finished on 35000/372991 queries. users per second: 377289"
      ]
     },
     "metadata": {},
     "output_type": "display_data"
    },
    {
     "data": {
      "text/html": [
       "<pre>recommendations finished on 36000/372991 queries. users per second: 376955</pre>"
      ],
      "text/plain": [
       "recommendations finished on 36000/372991 queries. users per second: 376955"
      ]
     },
     "metadata": {},
     "output_type": "display_data"
    },
    {
     "data": {
      "text/html": [
       "<pre>recommendations finished on 37000/372991 queries. users per second: 376181</pre>"
      ],
      "text/plain": [
       "recommendations finished on 37000/372991 queries. users per second: 376181"
      ]
     },
     "metadata": {},
     "output_type": "display_data"
    },
    {
     "data": {
      "text/html": [
       "<pre>recommendations finished on 38000/372991 queries. users per second: 376115</pre>"
      ],
      "text/plain": [
       "recommendations finished on 38000/372991 queries. users per second: 376115"
      ]
     },
     "metadata": {},
     "output_type": "display_data"
    },
    {
     "data": {
      "text/html": [
       "<pre>recommendations finished on 39000/372991 queries. users per second: 377136</pre>"
      ],
      "text/plain": [
       "recommendations finished on 39000/372991 queries. users per second: 377136"
      ]
     },
     "metadata": {},
     "output_type": "display_data"
    },
    {
     "data": {
      "text/html": [
       "<pre>recommendations finished on 40000/372991 queries. users per second: 378745</pre>"
      ],
      "text/plain": [
       "recommendations finished on 40000/372991 queries. users per second: 378745"
      ]
     },
     "metadata": {},
     "output_type": "display_data"
    },
    {
     "data": {
      "text/html": [
       "<pre>recommendations finished on 41000/372991 queries. users per second: 379609</pre>"
      ],
      "text/plain": [
       "recommendations finished on 41000/372991 queries. users per second: 379609"
      ]
     },
     "metadata": {},
     "output_type": "display_data"
    },
    {
     "data": {
      "text/html": [
       "<pre>recommendations finished on 42000/372991 queries. users per second: 379428</pre>"
      ],
      "text/plain": [
       "recommendations finished on 42000/372991 queries. users per second: 379428"
      ]
     },
     "metadata": {},
     "output_type": "display_data"
    },
    {
     "data": {
      "text/html": [
       "<pre>recommendations finished on 43000/372991 queries. users per second: 378678</pre>"
      ],
      "text/plain": [
       "recommendations finished on 43000/372991 queries. users per second: 378678"
      ]
     },
     "metadata": {},
     "output_type": "display_data"
    },
    {
     "data": {
      "text/html": [
       "<pre>recommendations finished on 44000/372991 queries. users per second: 378837</pre>"
      ],
      "text/plain": [
       "recommendations finished on 44000/372991 queries. users per second: 378837"
      ]
     },
     "metadata": {},
     "output_type": "display_data"
    },
    {
     "data": {
      "text/html": [
       "<pre>recommendations finished on 45000/372991 queries. users per second: 378848</pre>"
      ],
      "text/plain": [
       "recommendations finished on 45000/372991 queries. users per second: 378848"
      ]
     },
     "metadata": {},
     "output_type": "display_data"
    },
    {
     "data": {
      "text/html": [
       "<pre>recommendations finished on 46000/372991 queries. users per second: 379764</pre>"
      ],
      "text/plain": [
       "recommendations finished on 46000/372991 queries. users per second: 379764"
      ]
     },
     "metadata": {},
     "output_type": "display_data"
    },
    {
     "data": {
      "text/html": [
       "<pre>recommendations finished on 47000/372991 queries. users per second: 380508</pre>"
      ],
      "text/plain": [
       "recommendations finished on 47000/372991 queries. users per second: 380508"
      ]
     },
     "metadata": {},
     "output_type": "display_data"
    },
    {
     "data": {
      "text/html": [
       "<pre>recommendations finished on 48000/372991 queries. users per second: 380765</pre>"
      ],
      "text/plain": [
       "recommendations finished on 48000/372991 queries. users per second: 380765"
      ]
     },
     "metadata": {},
     "output_type": "display_data"
    },
    {
     "data": {
      "text/html": [
       "<pre>recommendations finished on 49000/372991 queries. users per second: 379151</pre>"
      ],
      "text/plain": [
       "recommendations finished on 49000/372991 queries. users per second: 379151"
      ]
     },
     "metadata": {},
     "output_type": "display_data"
    },
    {
     "data": {
      "text/html": [
       "<pre>recommendations finished on 50000/372991 queries. users per second: 378538</pre>"
      ],
      "text/plain": [
       "recommendations finished on 50000/372991 queries. users per second: 378538"
      ]
     },
     "metadata": {},
     "output_type": "display_data"
    },
    {
     "data": {
      "text/html": [
       "<pre>recommendations finished on 51000/372991 queries. users per second: 377697</pre>"
      ],
      "text/plain": [
       "recommendations finished on 51000/372991 queries. users per second: 377697"
      ]
     },
     "metadata": {},
     "output_type": "display_data"
    },
    {
     "data": {
      "text/html": [
       "<pre>recommendations finished on 52000/372991 queries. users per second: 377542</pre>"
      ],
      "text/plain": [
       "recommendations finished on 52000/372991 queries. users per second: 377542"
      ]
     },
     "metadata": {},
     "output_type": "display_data"
    },
    {
     "data": {
      "text/html": [
       "<pre>recommendations finished on 53000/372991 queries. users per second: 376929</pre>"
      ],
      "text/plain": [
       "recommendations finished on 53000/372991 queries. users per second: 376929"
      ]
     },
     "metadata": {},
     "output_type": "display_data"
    },
    {
     "data": {
      "text/html": [
       "<pre>recommendations finished on 54000/372991 queries. users per second: 375188</pre>"
      ],
      "text/plain": [
       "recommendations finished on 54000/372991 queries. users per second: 375188"
      ]
     },
     "metadata": {},
     "output_type": "display_data"
    },
    {
     "data": {
      "text/html": [
       "<pre>recommendations finished on 55000/372991 queries. users per second: 373786</pre>"
      ],
      "text/plain": [
       "recommendations finished on 55000/372991 queries. users per second: 373786"
      ]
     },
     "metadata": {},
     "output_type": "display_data"
    },
    {
     "data": {
      "text/html": [
       "<pre>recommendations finished on 56000/372991 queries. users per second: 371097</pre>"
      ],
      "text/plain": [
       "recommendations finished on 56000/372991 queries. users per second: 371097"
      ]
     },
     "metadata": {},
     "output_type": "display_data"
    },
    {
     "data": {
      "text/html": [
       "<pre>recommendations finished on 57000/372991 queries. users per second: 370688</pre>"
      ],
      "text/plain": [
       "recommendations finished on 57000/372991 queries. users per second: 370688"
      ]
     },
     "metadata": {},
     "output_type": "display_data"
    },
    {
     "data": {
      "text/html": [
       "<pre>recommendations finished on 58000/372991 queries. users per second: 370844</pre>"
      ],
      "text/plain": [
       "recommendations finished on 58000/372991 queries. users per second: 370844"
      ]
     },
     "metadata": {},
     "output_type": "display_data"
    },
    {
     "data": {
      "text/html": [
       "<pre>recommendations finished on 59000/372991 queries. users per second: 368649</pre>"
      ],
      "text/plain": [
       "recommendations finished on 59000/372991 queries. users per second: 368649"
      ]
     },
     "metadata": {},
     "output_type": "display_data"
    },
    {
     "data": {
      "text/html": [
       "<pre>recommendations finished on 60000/372991 queries. users per second: 366885</pre>"
      ],
      "text/plain": [
       "recommendations finished on 60000/372991 queries. users per second: 366885"
      ]
     },
     "metadata": {},
     "output_type": "display_data"
    },
    {
     "data": {
      "text/html": [
       "<pre>recommendations finished on 61000/372991 queries. users per second: 365980</pre>"
      ],
      "text/plain": [
       "recommendations finished on 61000/372991 queries. users per second: 365980"
      ]
     },
     "metadata": {},
     "output_type": "display_data"
    },
    {
     "data": {
      "text/html": [
       "<pre>recommendations finished on 62000/372991 queries. users per second: 364036</pre>"
      ],
      "text/plain": [
       "recommendations finished on 62000/372991 queries. users per second: 364036"
      ]
     },
     "metadata": {},
     "output_type": "display_data"
    },
    {
     "data": {
      "text/html": [
       "<pre>recommendations finished on 63000/372991 queries. users per second: 361971</pre>"
      ],
      "text/plain": [
       "recommendations finished on 63000/372991 queries. users per second: 361971"
      ]
     },
     "metadata": {},
     "output_type": "display_data"
    },
    {
     "data": {
      "text/html": [
       "<pre>recommendations finished on 64000/372991 queries. users per second: 360143</pre>"
      ],
      "text/plain": [
       "recommendations finished on 64000/372991 queries. users per second: 360143"
      ]
     },
     "metadata": {},
     "output_type": "display_data"
    },
    {
     "data": {
      "text/html": [
       "<pre>recommendations finished on 65000/372991 queries. users per second: 357782</pre>"
      ],
      "text/plain": [
       "recommendations finished on 65000/372991 queries. users per second: 357782"
      ]
     },
     "metadata": {},
     "output_type": "display_data"
    },
    {
     "data": {
      "text/html": [
       "<pre>recommendations finished on 66000/372991 queries. users per second: 356045</pre>"
      ],
      "text/plain": [
       "recommendations finished on 66000/372991 queries. users per second: 356045"
      ]
     },
     "metadata": {},
     "output_type": "display_data"
    },
    {
     "data": {
      "text/html": [
       "<pre>recommendations finished on 67000/372991 queries. users per second: 354394</pre>"
      ],
      "text/plain": [
       "recommendations finished on 67000/372991 queries. users per second: 354394"
      ]
     },
     "metadata": {},
     "output_type": "display_data"
    },
    {
     "data": {
      "text/html": [
       "<pre>recommendations finished on 68000/372991 queries. users per second: 351796</pre>"
      ],
      "text/plain": [
       "recommendations finished on 68000/372991 queries. users per second: 351796"
      ]
     },
     "metadata": {},
     "output_type": "display_data"
    },
    {
     "data": {
      "text/html": [
       "<pre>recommendations finished on 69000/372991 queries. users per second: 349464</pre>"
      ],
      "text/plain": [
       "recommendations finished on 69000/372991 queries. users per second: 349464"
      ]
     },
     "metadata": {},
     "output_type": "display_data"
    },
    {
     "data": {
      "text/html": [
       "<pre>recommendations finished on 70000/372991 queries. users per second: 348444</pre>"
      ],
      "text/plain": [
       "recommendations finished on 70000/372991 queries. users per second: 348444"
      ]
     },
     "metadata": {},
     "output_type": "display_data"
    },
    {
     "data": {
      "text/html": [
       "<pre>recommendations finished on 71000/372991 queries. users per second: 347576</pre>"
      ],
      "text/plain": [
       "recommendations finished on 71000/372991 queries. users per second: 347576"
      ]
     },
     "metadata": {},
     "output_type": "display_data"
    },
    {
     "data": {
      "text/html": [
       "<pre>recommendations finished on 72000/372991 queries. users per second: 346069</pre>"
      ],
      "text/plain": [
       "recommendations finished on 72000/372991 queries. users per second: 346069"
      ]
     },
     "metadata": {},
     "output_type": "display_data"
    },
    {
     "data": {
      "text/html": [
       "<pre>recommendations finished on 73000/372991 queries. users per second: 344039</pre>"
      ],
      "text/plain": [
       "recommendations finished on 73000/372991 queries. users per second: 344039"
      ]
     },
     "metadata": {},
     "output_type": "display_data"
    },
    {
     "data": {
      "text/html": [
       "<pre>recommendations finished on 74000/372991 queries. users per second: 344550</pre>"
      ],
      "text/plain": [
       "recommendations finished on 74000/372991 queries. users per second: 344550"
      ]
     },
     "metadata": {},
     "output_type": "display_data"
    },
    {
     "data": {
      "text/html": [
       "<pre>recommendations finished on 75000/372991 queries. users per second: 345164</pre>"
      ],
      "text/plain": [
       "recommendations finished on 75000/372991 queries. users per second: 345164"
      ]
     },
     "metadata": {},
     "output_type": "display_data"
    },
    {
     "data": {
      "text/html": [
       "<pre>recommendations finished on 76000/372991 queries. users per second: 345582</pre>"
      ],
      "text/plain": [
       "recommendations finished on 76000/372991 queries. users per second: 345582"
      ]
     },
     "metadata": {},
     "output_type": "display_data"
    },
    {
     "data": {
      "text/html": [
       "<pre>recommendations finished on 77000/372991 queries. users per second: 345969</pre>"
      ],
      "text/plain": [
       "recommendations finished on 77000/372991 queries. users per second: 345969"
      ]
     },
     "metadata": {},
     "output_type": "display_data"
    },
    {
     "data": {
      "text/html": [
       "<pre>recommendations finished on 78000/372991 queries. users per second: 346368</pre>"
      ],
      "text/plain": [
       "recommendations finished on 78000/372991 queries. users per second: 346368"
      ]
     },
     "metadata": {},
     "output_type": "display_data"
    },
    {
     "data": {
      "text/html": [
       "<pre>recommendations finished on 79000/372991 queries. users per second: 346420</pre>"
      ],
      "text/plain": [
       "recommendations finished on 79000/372991 queries. users per second: 346420"
      ]
     },
     "metadata": {},
     "output_type": "display_data"
    },
    {
     "data": {
      "text/html": [
       "<pre>recommendations finished on 80000/372991 queries. users per second: 346202</pre>"
      ],
      "text/plain": [
       "recommendations finished on 80000/372991 queries. users per second: 346202"
      ]
     },
     "metadata": {},
     "output_type": "display_data"
    },
    {
     "data": {
      "text/html": [
       "<pre>recommendations finished on 81000/372991 queries. users per second: 344775</pre>"
      ],
      "text/plain": [
       "recommendations finished on 81000/372991 queries. users per second: 344775"
      ]
     },
     "metadata": {},
     "output_type": "display_data"
    },
    {
     "data": {
      "text/html": [
       "<pre>recommendations finished on 82000/372991 queries. users per second: 344215</pre>"
      ],
      "text/plain": [
       "recommendations finished on 82000/372991 queries. users per second: 344215"
      ]
     },
     "metadata": {},
     "output_type": "display_data"
    },
    {
     "data": {
      "text/html": [
       "<pre>recommendations finished on 83000/372991 queries. users per second: 342894</pre>"
      ],
      "text/plain": [
       "recommendations finished on 83000/372991 queries. users per second: 342894"
      ]
     },
     "metadata": {},
     "output_type": "display_data"
    },
    {
     "data": {
      "text/html": [
       "<pre>recommendations finished on 84000/372991 queries. users per second: 340383</pre>"
      ],
      "text/plain": [
       "recommendations finished on 84000/372991 queries. users per second: 340383"
      ]
     },
     "metadata": {},
     "output_type": "display_data"
    },
    {
     "data": {
      "text/html": [
       "<pre>recommendations finished on 85000/372991 queries. users per second: 339116</pre>"
      ],
      "text/plain": [
       "recommendations finished on 85000/372991 queries. users per second: 339116"
      ]
     },
     "metadata": {},
     "output_type": "display_data"
    },
    {
     "data": {
      "text/html": [
       "<pre>recommendations finished on 86000/372991 queries. users per second: 339161</pre>"
      ],
      "text/plain": [
       "recommendations finished on 86000/372991 queries. users per second: 339161"
      ]
     },
     "metadata": {},
     "output_type": "display_data"
    },
    {
     "data": {
      "text/html": [
       "<pre>recommendations finished on 87000/372991 queries. users per second: 339445</pre>"
      ],
      "text/plain": [
       "recommendations finished on 87000/372991 queries. users per second: 339445"
      ]
     },
     "metadata": {},
     "output_type": "display_data"
    },
    {
     "data": {
      "text/html": [
       "<pre>recommendations finished on 88000/372991 queries. users per second: 338000</pre>"
      ],
      "text/plain": [
       "recommendations finished on 88000/372991 queries. users per second: 338000"
      ]
     },
     "metadata": {},
     "output_type": "display_data"
    },
    {
     "data": {
      "text/html": [
       "<pre>recommendations finished on 89000/372991 queries. users per second: 337351</pre>"
      ],
      "text/plain": [
       "recommendations finished on 89000/372991 queries. users per second: 337351"
      ]
     },
     "metadata": {},
     "output_type": "display_data"
    },
    {
     "data": {
      "text/html": [
       "<pre>recommendations finished on 90000/372991 queries. users per second: 337007</pre>"
      ],
      "text/plain": [
       "recommendations finished on 90000/372991 queries. users per second: 337007"
      ]
     },
     "metadata": {},
     "output_type": "display_data"
    },
    {
     "data": {
      "text/html": [
       "<pre>recommendations finished on 91000/372991 queries. users per second: 337307</pre>"
      ],
      "text/plain": [
       "recommendations finished on 91000/372991 queries. users per second: 337307"
      ]
     },
     "metadata": {},
     "output_type": "display_data"
    },
    {
     "data": {
      "text/html": [
       "<pre>recommendations finished on 92000/372991 queries. users per second: 336829</pre>"
      ],
      "text/plain": [
       "recommendations finished on 92000/372991 queries. users per second: 336829"
      ]
     },
     "metadata": {},
     "output_type": "display_data"
    },
    {
     "data": {
      "text/html": [
       "<pre>recommendations finished on 93000/372991 queries. users per second: 336614</pre>"
      ],
      "text/plain": [
       "recommendations finished on 93000/372991 queries. users per second: 336614"
      ]
     },
     "metadata": {},
     "output_type": "display_data"
    },
    {
     "data": {
      "text/html": [
       "<pre>recommendations finished on 94000/372991 queries. users per second: 336130</pre>"
      ],
      "text/plain": [
       "recommendations finished on 94000/372991 queries. users per second: 336130"
      ]
     },
     "metadata": {},
     "output_type": "display_data"
    },
    {
     "data": {
      "text/html": [
       "<pre>recommendations finished on 95000/372991 queries. users per second: 336074</pre>"
      ],
      "text/plain": [
       "recommendations finished on 95000/372991 queries. users per second: 336074"
      ]
     },
     "metadata": {},
     "output_type": "display_data"
    },
    {
     "data": {
      "text/html": [
       "<pre>recommendations finished on 96000/372991 queries. users per second: 336501</pre>"
      ],
      "text/plain": [
       "recommendations finished on 96000/372991 queries. users per second: 336501"
      ]
     },
     "metadata": {},
     "output_type": "display_data"
    },
    {
     "data": {
      "text/html": [
       "<pre>recommendations finished on 97000/372991 queries. users per second: 336510</pre>"
      ],
      "text/plain": [
       "recommendations finished on 97000/372991 queries. users per second: 336510"
      ]
     },
     "metadata": {},
     "output_type": "display_data"
    },
    {
     "data": {
      "text/html": [
       "<pre>recommendations finished on 98000/372991 queries. users per second: 335599</pre>"
      ],
      "text/plain": [
       "recommendations finished on 98000/372991 queries. users per second: 335599"
      ]
     },
     "metadata": {},
     "output_type": "display_data"
    },
    {
     "data": {
      "text/html": [
       "<pre>recommendations finished on 99000/372991 queries. users per second: 334407</pre>"
      ],
      "text/plain": [
       "recommendations finished on 99000/372991 queries. users per second: 334407"
      ]
     },
     "metadata": {},
     "output_type": "display_data"
    },
    {
     "data": {
      "text/html": [
       "<pre>recommendations finished on 100000/372991 queries. users per second: 334363</pre>"
      ],
      "text/plain": [
       "recommendations finished on 100000/372991 queries. users per second: 334363"
      ]
     },
     "metadata": {},
     "output_type": "display_data"
    },
    {
     "data": {
      "text/html": [
       "<pre>recommendations finished on 101000/372991 queries. users per second: 333331</pre>"
      ],
      "text/plain": [
       "recommendations finished on 101000/372991 queries. users per second: 333331"
      ]
     },
     "metadata": {},
     "output_type": "display_data"
    },
    {
     "data": {
      "text/html": [
       "<pre>recommendations finished on 102000/372991 queries. users per second: 331703</pre>"
      ],
      "text/plain": [
       "recommendations finished on 102000/372991 queries. users per second: 331703"
      ]
     },
     "metadata": {},
     "output_type": "display_data"
    },
    {
     "data": {
      "text/html": [
       "<pre>recommendations finished on 103000/372991 queries. users per second: 329756</pre>"
      ],
      "text/plain": [
       "recommendations finished on 103000/372991 queries. users per second: 329756"
      ]
     },
     "metadata": {},
     "output_type": "display_data"
    },
    {
     "data": {
      "text/html": [
       "<pre>recommendations finished on 104000/372991 queries. users per second: 328422</pre>"
      ],
      "text/plain": [
       "recommendations finished on 104000/372991 queries. users per second: 328422"
      ]
     },
     "metadata": {},
     "output_type": "display_data"
    },
    {
     "data": {
      "text/html": [
       "<pre>recommendations finished on 105000/372991 queries. users per second: 327756</pre>"
      ],
      "text/plain": [
       "recommendations finished on 105000/372991 queries. users per second: 327756"
      ]
     },
     "metadata": {},
     "output_type": "display_data"
    },
    {
     "data": {
      "text/html": [
       "<pre>recommendations finished on 106000/372991 queries. users per second: 326450</pre>"
      ],
      "text/plain": [
       "recommendations finished on 106000/372991 queries. users per second: 326450"
      ]
     },
     "metadata": {},
     "output_type": "display_data"
    },
    {
     "data": {
      "text/html": [
       "<pre>recommendations finished on 107000/372991 queries. users per second: 322580</pre>"
      ],
      "text/plain": [
       "recommendations finished on 107000/372991 queries. users per second: 322580"
      ]
     },
     "metadata": {},
     "output_type": "display_data"
    },
    {
     "data": {
      "text/html": [
       "<pre>recommendations finished on 108000/372991 queries. users per second: 322131</pre>"
      ],
      "text/plain": [
       "recommendations finished on 108000/372991 queries. users per second: 322131"
      ]
     },
     "metadata": {},
     "output_type": "display_data"
    },
    {
     "data": {
      "text/html": [
       "<pre>recommendations finished on 109000/372991 queries. users per second: 321607</pre>"
      ],
      "text/plain": [
       "recommendations finished on 109000/372991 queries. users per second: 321607"
      ]
     },
     "metadata": {},
     "output_type": "display_data"
    },
    {
     "data": {
      "text/html": [
       "<pre>recommendations finished on 110000/372991 queries. users per second: 321481</pre>"
      ],
      "text/plain": [
       "recommendations finished on 110000/372991 queries. users per second: 321481"
      ]
     },
     "metadata": {},
     "output_type": "display_data"
    },
    {
     "data": {
      "text/html": [
       "<pre>recommendations finished on 111000/372991 queries. users per second: 321099</pre>"
      ],
      "text/plain": [
       "recommendations finished on 111000/372991 queries. users per second: 321099"
      ]
     },
     "metadata": {},
     "output_type": "display_data"
    },
    {
     "data": {
      "text/html": [
       "<pre>recommendations finished on 112000/372991 queries. users per second: 321027</pre>"
      ],
      "text/plain": [
       "recommendations finished on 112000/372991 queries. users per second: 321027"
      ]
     },
     "metadata": {},
     "output_type": "display_data"
    },
    {
     "data": {
      "text/html": [
       "<pre>recommendations finished on 113000/372991 queries. users per second: 320100</pre>"
      ],
      "text/plain": [
       "recommendations finished on 113000/372991 queries. users per second: 320100"
      ]
     },
     "metadata": {},
     "output_type": "display_data"
    },
    {
     "data": {
      "text/html": [
       "<pre>recommendations finished on 114000/372991 queries. users per second: 319666</pre>"
      ],
      "text/plain": [
       "recommendations finished on 114000/372991 queries. users per second: 319666"
      ]
     },
     "metadata": {},
     "output_type": "display_data"
    },
    {
     "data": {
      "text/html": [
       "<pre>recommendations finished on 115000/372991 queries. users per second: 319240</pre>"
      ],
      "text/plain": [
       "recommendations finished on 115000/372991 queries. users per second: 319240"
      ]
     },
     "metadata": {},
     "output_type": "display_data"
    },
    {
     "data": {
      "text/html": [
       "<pre>recommendations finished on 116000/372991 queries. users per second: 318949</pre>"
      ],
      "text/plain": [
       "recommendations finished on 116000/372991 queries. users per second: 318949"
      ]
     },
     "metadata": {},
     "output_type": "display_data"
    },
    {
     "data": {
      "text/html": [
       "<pre>recommendations finished on 117000/372991 queries. users per second: 318962</pre>"
      ],
      "text/plain": [
       "recommendations finished on 117000/372991 queries. users per second: 318962"
      ]
     },
     "metadata": {},
     "output_type": "display_data"
    },
    {
     "data": {
      "text/html": [
       "<pre>recommendations finished on 118000/372991 queries. users per second: 319147</pre>"
      ],
      "text/plain": [
       "recommendations finished on 118000/372991 queries. users per second: 319147"
      ]
     },
     "metadata": {},
     "output_type": "display_data"
    },
    {
     "data": {
      "text/html": [
       "<pre>recommendations finished on 119000/372991 queries. users per second: 319138</pre>"
      ],
      "text/plain": [
       "recommendations finished on 119000/372991 queries. users per second: 319138"
      ]
     },
     "metadata": {},
     "output_type": "display_data"
    },
    {
     "data": {
      "text/html": [
       "<pre>recommendations finished on 120000/372991 queries. users per second: 318839</pre>"
      ],
      "text/plain": [
       "recommendations finished on 120000/372991 queries. users per second: 318839"
      ]
     },
     "metadata": {},
     "output_type": "display_data"
    },
    {
     "data": {
      "text/html": [
       "<pre>recommendations finished on 121000/372991 queries. users per second: 318888</pre>"
      ],
      "text/plain": [
       "recommendations finished on 121000/372991 queries. users per second: 318888"
      ]
     },
     "metadata": {},
     "output_type": "display_data"
    },
    {
     "data": {
      "text/html": [
       "<pre>recommendations finished on 122000/372991 queries. users per second: 318684</pre>"
      ],
      "text/plain": [
       "recommendations finished on 122000/372991 queries. users per second: 318684"
      ]
     },
     "metadata": {},
     "output_type": "display_data"
    },
    {
     "data": {
      "text/html": [
       "<pre>recommendations finished on 123000/372991 queries. users per second: 318657</pre>"
      ],
      "text/plain": [
       "recommendations finished on 123000/372991 queries. users per second: 318657"
      ]
     },
     "metadata": {},
     "output_type": "display_data"
    },
    {
     "data": {
      "text/html": [
       "<pre>recommendations finished on 124000/372991 queries. users per second: 318667</pre>"
      ],
      "text/plain": [
       "recommendations finished on 124000/372991 queries. users per second: 318667"
      ]
     },
     "metadata": {},
     "output_type": "display_data"
    },
    {
     "data": {
      "text/html": [
       "<pre>recommendations finished on 125000/372991 queries. users per second: 318270</pre>"
      ],
      "text/plain": [
       "recommendations finished on 125000/372991 queries. users per second: 318270"
      ]
     },
     "metadata": {},
     "output_type": "display_data"
    },
    {
     "data": {
      "text/html": [
       "<pre>recommendations finished on 126000/372991 queries. users per second: 317939</pre>"
      ],
      "text/plain": [
       "recommendations finished on 126000/372991 queries. users per second: 317939"
      ]
     },
     "metadata": {},
     "output_type": "display_data"
    },
    {
     "data": {
      "text/html": [
       "<pre>recommendations finished on 127000/372991 queries. users per second: 317502</pre>"
      ],
      "text/plain": [
       "recommendations finished on 127000/372991 queries. users per second: 317502"
      ]
     },
     "metadata": {},
     "output_type": "display_data"
    },
    {
     "data": {
      "text/html": [
       "<pre>recommendations finished on 128000/372991 queries. users per second: 317385</pre>"
      ],
      "text/plain": [
       "recommendations finished on 128000/372991 queries. users per second: 317385"
      ]
     },
     "metadata": {},
     "output_type": "display_data"
    },
    {
     "data": {
      "text/html": [
       "<pre>recommendations finished on 129000/372991 queries. users per second: 317250</pre>"
      ],
      "text/plain": [
       "recommendations finished on 129000/372991 queries. users per second: 317250"
      ]
     },
     "metadata": {},
     "output_type": "display_data"
    },
    {
     "data": {
      "text/html": [
       "<pre>recommendations finished on 130000/372991 queries. users per second: 317096</pre>"
      ],
      "text/plain": [
       "recommendations finished on 130000/372991 queries. users per second: 317096"
      ]
     },
     "metadata": {},
     "output_type": "display_data"
    },
    {
     "data": {
      "text/html": [
       "<pre>recommendations finished on 131000/372991 queries. users per second: 316953</pre>"
      ],
      "text/plain": [
       "recommendations finished on 131000/372991 queries. users per second: 316953"
      ]
     },
     "metadata": {},
     "output_type": "display_data"
    },
    {
     "data": {
      "text/html": [
       "<pre>recommendations finished on 132000/372991 queries. users per second: 316527</pre>"
      ],
      "text/plain": [
       "recommendations finished on 132000/372991 queries. users per second: 316527"
      ]
     },
     "metadata": {},
     "output_type": "display_data"
    },
    {
     "data": {
      "text/html": [
       "<pre>recommendations finished on 133000/372991 queries. users per second: 316609</pre>"
      ],
      "text/plain": [
       "recommendations finished on 133000/372991 queries. users per second: 316609"
      ]
     },
     "metadata": {},
     "output_type": "display_data"
    },
    {
     "data": {
      "text/html": [
       "<pre>recommendations finished on 134000/372991 queries. users per second: 316447</pre>"
      ],
      "text/plain": [
       "recommendations finished on 134000/372991 queries. users per second: 316447"
      ]
     },
     "metadata": {},
     "output_type": "display_data"
    },
    {
     "data": {
      "text/html": [
       "<pre>recommendations finished on 135000/372991 queries. users per second: 316247</pre>"
      ],
      "text/plain": [
       "recommendations finished on 135000/372991 queries. users per second: 316247"
      ]
     },
     "metadata": {},
     "output_type": "display_data"
    },
    {
     "data": {
      "text/html": [
       "<pre>recommendations finished on 136000/372991 queries. users per second: 315894</pre>"
      ],
      "text/plain": [
       "recommendations finished on 136000/372991 queries. users per second: 315894"
      ]
     },
     "metadata": {},
     "output_type": "display_data"
    },
    {
     "data": {
      "text/html": [
       "<pre>recommendations finished on 137000/372991 queries. users per second: 315964</pre>"
      ],
      "text/plain": [
       "recommendations finished on 137000/372991 queries. users per second: 315964"
      ]
     },
     "metadata": {},
     "output_type": "display_data"
    },
    {
     "data": {
      "text/html": [
       "<pre>recommendations finished on 138000/372991 queries. users per second: 315547</pre>"
      ],
      "text/plain": [
       "recommendations finished on 138000/372991 queries. users per second: 315547"
      ]
     },
     "metadata": {},
     "output_type": "display_data"
    },
    {
     "data": {
      "text/html": [
       "<pre>recommendations finished on 139000/372991 queries. users per second: 315422</pre>"
      ],
      "text/plain": [
       "recommendations finished on 139000/372991 queries. users per second: 315422"
      ]
     },
     "metadata": {},
     "output_type": "display_data"
    },
    {
     "data": {
      "text/html": [
       "<pre>recommendations finished on 140000/372991 queries. users per second: 315173</pre>"
      ],
      "text/plain": [
       "recommendations finished on 140000/372991 queries. users per second: 315173"
      ]
     },
     "metadata": {},
     "output_type": "display_data"
    },
    {
     "data": {
      "text/html": [
       "<pre>recommendations finished on 141000/372991 queries. users per second: 315149</pre>"
      ],
      "text/plain": [
       "recommendations finished on 141000/372991 queries. users per second: 315149"
      ]
     },
     "metadata": {},
     "output_type": "display_data"
    },
    {
     "data": {
      "text/html": [
       "<pre>recommendations finished on 142000/372991 queries. users per second: 315082</pre>"
      ],
      "text/plain": [
       "recommendations finished on 142000/372991 queries. users per second: 315082"
      ]
     },
     "metadata": {},
     "output_type": "display_data"
    },
    {
     "data": {
      "text/html": [
       "<pre>recommendations finished on 143000/372991 queries. users per second: 314832</pre>"
      ],
      "text/plain": [
       "recommendations finished on 143000/372991 queries. users per second: 314832"
      ]
     },
     "metadata": {},
     "output_type": "display_data"
    },
    {
     "data": {
      "text/html": [
       "<pre>recommendations finished on 144000/372991 queries. users per second: 314703</pre>"
      ],
      "text/plain": [
       "recommendations finished on 144000/372991 queries. users per second: 314703"
      ]
     },
     "metadata": {},
     "output_type": "display_data"
    },
    {
     "data": {
      "text/html": [
       "<pre>recommendations finished on 145000/372991 queries. users per second: 314386</pre>"
      ],
      "text/plain": [
       "recommendations finished on 145000/372991 queries. users per second: 314386"
      ]
     },
     "metadata": {},
     "output_type": "display_data"
    },
    {
     "data": {
      "text/html": [
       "<pre>recommendations finished on 146000/372991 queries. users per second: 314505</pre>"
      ],
      "text/plain": [
       "recommendations finished on 146000/372991 queries. users per second: 314505"
      ]
     },
     "metadata": {},
     "output_type": "display_data"
    },
    {
     "data": {
      "text/html": [
       "<pre>recommendations finished on 147000/372991 queries. users per second: 314413</pre>"
      ],
      "text/plain": [
       "recommendations finished on 147000/372991 queries. users per second: 314413"
      ]
     },
     "metadata": {},
     "output_type": "display_data"
    },
    {
     "data": {
      "text/html": [
       "<pre>recommendations finished on 148000/372991 queries. users per second: 314540</pre>"
      ],
      "text/plain": [
       "recommendations finished on 148000/372991 queries. users per second: 314540"
      ]
     },
     "metadata": {},
     "output_type": "display_data"
    },
    {
     "data": {
      "text/html": [
       "<pre>recommendations finished on 149000/372991 queries. users per second: 314695</pre>"
      ],
      "text/plain": [
       "recommendations finished on 149000/372991 queries. users per second: 314695"
      ]
     },
     "metadata": {},
     "output_type": "display_data"
    },
    {
     "data": {
      "text/html": [
       "<pre>recommendations finished on 150000/372991 queries. users per second: 314690</pre>"
      ],
      "text/plain": [
       "recommendations finished on 150000/372991 queries. users per second: 314690"
      ]
     },
     "metadata": {},
     "output_type": "display_data"
    },
    {
     "data": {
      "text/html": [
       "<pre>recommendations finished on 151000/372991 queries. users per second: 314697</pre>"
      ],
      "text/plain": [
       "recommendations finished on 151000/372991 queries. users per second: 314697"
      ]
     },
     "metadata": {},
     "output_type": "display_data"
    },
    {
     "data": {
      "text/html": [
       "<pre>recommendations finished on 152000/372991 queries. users per second: 314541</pre>"
      ],
      "text/plain": [
       "recommendations finished on 152000/372991 queries. users per second: 314541"
      ]
     },
     "metadata": {},
     "output_type": "display_data"
    },
    {
     "data": {
      "text/html": [
       "<pre>recommendations finished on 153000/372991 queries. users per second: 314753</pre>"
      ],
      "text/plain": [
       "recommendations finished on 153000/372991 queries. users per second: 314753"
      ]
     },
     "metadata": {},
     "output_type": "display_data"
    },
    {
     "data": {
      "text/html": [
       "<pre>recommendations finished on 154000/372991 queries. users per second: 314964</pre>"
      ],
      "text/plain": [
       "recommendations finished on 154000/372991 queries. users per second: 314964"
      ]
     },
     "metadata": {},
     "output_type": "display_data"
    },
    {
     "data": {
      "text/html": [
       "<pre>recommendations finished on 155000/372991 queries. users per second: 314907</pre>"
      ],
      "text/plain": [
       "recommendations finished on 155000/372991 queries. users per second: 314907"
      ]
     },
     "metadata": {},
     "output_type": "display_data"
    },
    {
     "data": {
      "text/html": [
       "<pre>recommendations finished on 156000/372991 queries. users per second: 314740</pre>"
      ],
      "text/plain": [
       "recommendations finished on 156000/372991 queries. users per second: 314740"
      ]
     },
     "metadata": {},
     "output_type": "display_data"
    },
    {
     "data": {
      "text/html": [
       "<pre>recommendations finished on 157000/372991 queries. users per second: 314689</pre>"
      ],
      "text/plain": [
       "recommendations finished on 157000/372991 queries. users per second: 314689"
      ]
     },
     "metadata": {},
     "output_type": "display_data"
    },
    {
     "data": {
      "text/html": [
       "<pre>recommendations finished on 158000/372991 queries. users per second: 314717</pre>"
      ],
      "text/plain": [
       "recommendations finished on 158000/372991 queries. users per second: 314717"
      ]
     },
     "metadata": {},
     "output_type": "display_data"
    },
    {
     "data": {
      "text/html": [
       "<pre>recommendations finished on 159000/372991 queries. users per second: 314885</pre>"
      ],
      "text/plain": [
       "recommendations finished on 159000/372991 queries. users per second: 314885"
      ]
     },
     "metadata": {},
     "output_type": "display_data"
    },
    {
     "data": {
      "text/html": [
       "<pre>recommendations finished on 160000/372991 queries. users per second: 315227</pre>"
      ],
      "text/plain": [
       "recommendations finished on 160000/372991 queries. users per second: 315227"
      ]
     },
     "metadata": {},
     "output_type": "display_data"
    },
    {
     "data": {
      "text/html": [
       "<pre>recommendations finished on 161000/372991 queries. users per second: 315264</pre>"
      ],
      "text/plain": [
       "recommendations finished on 161000/372991 queries. users per second: 315264"
      ]
     },
     "metadata": {},
     "output_type": "display_data"
    },
    {
     "data": {
      "text/html": [
       "<pre>recommendations finished on 162000/372991 queries. users per second: 315019</pre>"
      ],
      "text/plain": [
       "recommendations finished on 162000/372991 queries. users per second: 315019"
      ]
     },
     "metadata": {},
     "output_type": "display_data"
    },
    {
     "data": {
      "text/html": [
       "<pre>recommendations finished on 163000/372991 queries. users per second: 315522</pre>"
      ],
      "text/plain": [
       "recommendations finished on 163000/372991 queries. users per second: 315522"
      ]
     },
     "metadata": {},
     "output_type": "display_data"
    },
    {
     "data": {
      "text/html": [
       "<pre>recommendations finished on 164000/372991 queries. users per second: 315799</pre>"
      ],
      "text/plain": [
       "recommendations finished on 164000/372991 queries. users per second: 315799"
      ]
     },
     "metadata": {},
     "output_type": "display_data"
    },
    {
     "data": {
      "text/html": [
       "<pre>recommendations finished on 165000/372991 queries. users per second: 315800</pre>"
      ],
      "text/plain": [
       "recommendations finished on 165000/372991 queries. users per second: 315800"
      ]
     },
     "metadata": {},
     "output_type": "display_data"
    },
    {
     "data": {
      "text/html": [
       "<pre>recommendations finished on 166000/372991 queries. users per second: 315677</pre>"
      ],
      "text/plain": [
       "recommendations finished on 166000/372991 queries. users per second: 315677"
      ]
     },
     "metadata": {},
     "output_type": "display_data"
    },
    {
     "data": {
      "text/html": [
       "<pre>recommendations finished on 167000/372991 queries. users per second: 315562</pre>"
      ],
      "text/plain": [
       "recommendations finished on 167000/372991 queries. users per second: 315562"
      ]
     },
     "metadata": {},
     "output_type": "display_data"
    },
    {
     "data": {
      "text/html": [
       "<pre>recommendations finished on 168000/372991 queries. users per second: 315632</pre>"
      ],
      "text/plain": [
       "recommendations finished on 168000/372991 queries. users per second: 315632"
      ]
     },
     "metadata": {},
     "output_type": "display_data"
    },
    {
     "data": {
      "text/html": [
       "<pre>recommendations finished on 169000/372991 queries. users per second: 315359</pre>"
      ],
      "text/plain": [
       "recommendations finished on 169000/372991 queries. users per second: 315359"
      ]
     },
     "metadata": {},
     "output_type": "display_data"
    },
    {
     "data": {
      "text/html": [
       "<pre>recommendations finished on 170000/372991 queries. users per second: 315597</pre>"
      ],
      "text/plain": [
       "recommendations finished on 170000/372991 queries. users per second: 315597"
      ]
     },
     "metadata": {},
     "output_type": "display_data"
    },
    {
     "data": {
      "text/html": [
       "<pre>recommendations finished on 171000/372991 queries. users per second: 315942</pre>"
      ],
      "text/plain": [
       "recommendations finished on 171000/372991 queries. users per second: 315942"
      ]
     },
     "metadata": {},
     "output_type": "display_data"
    },
    {
     "data": {
      "text/html": [
       "<pre>recommendations finished on 172000/372991 queries. users per second: 315699</pre>"
      ],
      "text/plain": [
       "recommendations finished on 172000/372991 queries. users per second: 315699"
      ]
     },
     "metadata": {},
     "output_type": "display_data"
    },
    {
     "data": {
      "text/html": [
       "<pre>recommendations finished on 173000/372991 queries. users per second: 316533</pre>"
      ],
      "text/plain": [
       "recommendations finished on 173000/372991 queries. users per second: 316533"
      ]
     },
     "metadata": {},
     "output_type": "display_data"
    },
    {
     "data": {
      "text/html": [
       "<pre>recommendations finished on 174000/372991 queries. users per second: 316835</pre>"
      ],
      "text/plain": [
       "recommendations finished on 174000/372991 queries. users per second: 316835"
      ]
     },
     "metadata": {},
     "output_type": "display_data"
    },
    {
     "data": {
      "text/html": [
       "<pre>recommendations finished on 175000/372991 queries. users per second: 316810</pre>"
      ],
      "text/plain": [
       "recommendations finished on 175000/372991 queries. users per second: 316810"
      ]
     },
     "metadata": {},
     "output_type": "display_data"
    },
    {
     "data": {
      "text/html": [
       "<pre>recommendations finished on 176000/372991 queries. users per second: 316913</pre>"
      ],
      "text/plain": [
       "recommendations finished on 176000/372991 queries. users per second: 316913"
      ]
     },
     "metadata": {},
     "output_type": "display_data"
    },
    {
     "data": {
      "text/html": [
       "<pre>recommendations finished on 177000/372991 queries. users per second: 316375</pre>"
      ],
      "text/plain": [
       "recommendations finished on 177000/372991 queries. users per second: 316375"
      ]
     },
     "metadata": {},
     "output_type": "display_data"
    },
    {
     "data": {
      "text/html": [
       "<pre>recommendations finished on 178000/372991 queries. users per second: 316462</pre>"
      ],
      "text/plain": [
       "recommendations finished on 178000/372991 queries. users per second: 316462"
      ]
     },
     "metadata": {},
     "output_type": "display_data"
    },
    {
     "data": {
      "text/html": [
       "<pre>recommendations finished on 179000/372991 queries. users per second: 316133</pre>"
      ],
      "text/plain": [
       "recommendations finished on 179000/372991 queries. users per second: 316133"
      ]
     },
     "metadata": {},
     "output_type": "display_data"
    },
    {
     "data": {
      "text/html": [
       "<pre>recommendations finished on 180000/372991 queries. users per second: 316344</pre>"
      ],
      "text/plain": [
       "recommendations finished on 180000/372991 queries. users per second: 316344"
      ]
     },
     "metadata": {},
     "output_type": "display_data"
    },
    {
     "data": {
      "text/html": [
       "<pre>recommendations finished on 181000/372991 queries. users per second: 316509</pre>"
      ],
      "text/plain": [
       "recommendations finished on 181000/372991 queries. users per second: 316509"
      ]
     },
     "metadata": {},
     "output_type": "display_data"
    },
    {
     "data": {
      "text/html": [
       "<pre>recommendations finished on 182000/372991 queries. users per second: 316605</pre>"
      ],
      "text/plain": [
       "recommendations finished on 182000/372991 queries. users per second: 316605"
      ]
     },
     "metadata": {},
     "output_type": "display_data"
    },
    {
     "data": {
      "text/html": [
       "<pre>recommendations finished on 183000/372991 queries. users per second: 315871</pre>"
      ],
      "text/plain": [
       "recommendations finished on 183000/372991 queries. users per second: 315871"
      ]
     },
     "metadata": {},
     "output_type": "display_data"
    },
    {
     "data": {
      "text/html": [
       "<pre>recommendations finished on 184000/372991 queries. users per second: 315987</pre>"
      ],
      "text/plain": [
       "recommendations finished on 184000/372991 queries. users per second: 315987"
      ]
     },
     "metadata": {},
     "output_type": "display_data"
    },
    {
     "data": {
      "text/html": [
       "<pre>recommendations finished on 185000/372991 queries. users per second: 315991</pre>"
      ],
      "text/plain": [
       "recommendations finished on 185000/372991 queries. users per second: 315991"
      ]
     },
     "metadata": {},
     "output_type": "display_data"
    },
    {
     "data": {
      "text/html": [
       "<pre>recommendations finished on 186000/372991 queries. users per second: 315931</pre>"
      ],
      "text/plain": [
       "recommendations finished on 186000/372991 queries. users per second: 315931"
      ]
     },
     "metadata": {},
     "output_type": "display_data"
    },
    {
     "data": {
      "text/html": [
       "<pre>recommendations finished on 187000/372991 queries. users per second: 315832</pre>"
      ],
      "text/plain": [
       "recommendations finished on 187000/372991 queries. users per second: 315832"
      ]
     },
     "metadata": {},
     "output_type": "display_data"
    },
    {
     "data": {
      "text/html": [
       "<pre>recommendations finished on 188000/372991 queries. users per second: 315618</pre>"
      ],
      "text/plain": [
       "recommendations finished on 188000/372991 queries. users per second: 315618"
      ]
     },
     "metadata": {},
     "output_type": "display_data"
    },
    {
     "data": {
      "text/html": [
       "<pre>recommendations finished on 189000/372991 queries. users per second: 315704</pre>"
      ],
      "text/plain": [
       "recommendations finished on 189000/372991 queries. users per second: 315704"
      ]
     },
     "metadata": {},
     "output_type": "display_data"
    },
    {
     "data": {
      "text/html": [
       "<pre>recommendations finished on 190000/372991 queries. users per second: 315564</pre>"
      ],
      "text/plain": [
       "recommendations finished on 190000/372991 queries. users per second: 315564"
      ]
     },
     "metadata": {},
     "output_type": "display_data"
    },
    {
     "data": {
      "text/html": [
       "<pre>recommendations finished on 191000/372991 queries. users per second: 315789</pre>"
      ],
      "text/plain": [
       "recommendations finished on 191000/372991 queries. users per second: 315789"
      ]
     },
     "metadata": {},
     "output_type": "display_data"
    },
    {
     "data": {
      "text/html": [
       "<pre>recommendations finished on 192000/372991 queries. users per second: 315909</pre>"
      ],
      "text/plain": [
       "recommendations finished on 192000/372991 queries. users per second: 315909"
      ]
     },
     "metadata": {},
     "output_type": "display_data"
    },
    {
     "data": {
      "text/html": [
       "<pre>recommendations finished on 193000/372991 queries. users per second: 315791</pre>"
      ],
      "text/plain": [
       "recommendations finished on 193000/372991 queries. users per second: 315791"
      ]
     },
     "metadata": {},
     "output_type": "display_data"
    },
    {
     "data": {
      "text/html": [
       "<pre>recommendations finished on 194000/372991 queries. users per second: 315639</pre>"
      ],
      "text/plain": [
       "recommendations finished on 194000/372991 queries. users per second: 315639"
      ]
     },
     "metadata": {},
     "output_type": "display_data"
    },
    {
     "data": {
      "text/html": [
       "<pre>recommendations finished on 195000/372991 queries. users per second: 315891</pre>"
      ],
      "text/plain": [
       "recommendations finished on 195000/372991 queries. users per second: 315891"
      ]
     },
     "metadata": {},
     "output_type": "display_data"
    },
    {
     "data": {
      "text/html": [
       "<pre>recommendations finished on 196000/372991 queries. users per second: 316231</pre>"
      ],
      "text/plain": [
       "recommendations finished on 196000/372991 queries. users per second: 316231"
      ]
     },
     "metadata": {},
     "output_type": "display_data"
    },
    {
     "data": {
      "text/html": [
       "<pre>recommendations finished on 197000/372991 queries. users per second: 316412</pre>"
      ],
      "text/plain": [
       "recommendations finished on 197000/372991 queries. users per second: 316412"
      ]
     },
     "metadata": {},
     "output_type": "display_data"
    },
    {
     "data": {
      "text/html": [
       "<pre>recommendations finished on 198000/372991 queries. users per second: 316429</pre>"
      ],
      "text/plain": [
       "recommendations finished on 198000/372991 queries. users per second: 316429"
      ]
     },
     "metadata": {},
     "output_type": "display_data"
    },
    {
     "data": {
      "text/html": [
       "<pre>recommendations finished on 199000/372991 queries. users per second: 315942</pre>"
      ],
      "text/plain": [
       "recommendations finished on 199000/372991 queries. users per second: 315942"
      ]
     },
     "metadata": {},
     "output_type": "display_data"
    },
    {
     "data": {
      "text/html": [
       "<pre>recommendations finished on 200000/372991 queries. users per second: 315647</pre>"
      ],
      "text/plain": [
       "recommendations finished on 200000/372991 queries. users per second: 315647"
      ]
     },
     "metadata": {},
     "output_type": "display_data"
    },
    {
     "data": {
      "text/html": [
       "<pre>recommendations finished on 201000/372991 queries. users per second: 315634</pre>"
      ],
      "text/plain": [
       "recommendations finished on 201000/372991 queries. users per second: 315634"
      ]
     },
     "metadata": {},
     "output_type": "display_data"
    },
    {
     "data": {
      "text/html": [
       "<pre>recommendations finished on 202000/372991 queries. users per second: 315711</pre>"
      ],
      "text/plain": [
       "recommendations finished on 202000/372991 queries. users per second: 315711"
      ]
     },
     "metadata": {},
     "output_type": "display_data"
    },
    {
     "data": {
      "text/html": [
       "<pre>recommendations finished on 203000/372991 queries. users per second: 315436</pre>"
      ],
      "text/plain": [
       "recommendations finished on 203000/372991 queries. users per second: 315436"
      ]
     },
     "metadata": {},
     "output_type": "display_data"
    },
    {
     "data": {
      "text/html": [
       "<pre>recommendations finished on 204000/372991 queries. users per second: 314983</pre>"
      ],
      "text/plain": [
       "recommendations finished on 204000/372991 queries. users per second: 314983"
      ]
     },
     "metadata": {},
     "output_type": "display_data"
    },
    {
     "data": {
      "text/html": [
       "<pre>recommendations finished on 205000/372991 queries. users per second: 314906</pre>"
      ],
      "text/plain": [
       "recommendations finished on 205000/372991 queries. users per second: 314906"
      ]
     },
     "metadata": {},
     "output_type": "display_data"
    },
    {
     "data": {
      "text/html": [
       "<pre>recommendations finished on 206000/372991 queries. users per second: 314671</pre>"
      ],
      "text/plain": [
       "recommendations finished on 206000/372991 queries. users per second: 314671"
      ]
     },
     "metadata": {},
     "output_type": "display_data"
    },
    {
     "data": {
      "text/html": [
       "<pre>recommendations finished on 207000/372991 queries. users per second: 314613</pre>"
      ],
      "text/plain": [
       "recommendations finished on 207000/372991 queries. users per second: 314613"
      ]
     },
     "metadata": {},
     "output_type": "display_data"
    },
    {
     "data": {
      "text/html": [
       "<pre>recommendations finished on 208000/372991 queries. users per second: 314131</pre>"
      ],
      "text/plain": [
       "recommendations finished on 208000/372991 queries. users per second: 314131"
      ]
     },
     "metadata": {},
     "output_type": "display_data"
    },
    {
     "data": {
      "text/html": [
       "<pre>recommendations finished on 209000/372991 queries. users per second: 313951</pre>"
      ],
      "text/plain": [
       "recommendations finished on 209000/372991 queries. users per second: 313951"
      ]
     },
     "metadata": {},
     "output_type": "display_data"
    },
    {
     "data": {
      "text/html": [
       "<pre>recommendations finished on 210000/372991 queries. users per second: 314070</pre>"
      ],
      "text/plain": [
       "recommendations finished on 210000/372991 queries. users per second: 314070"
      ]
     },
     "metadata": {},
     "output_type": "display_data"
    },
    {
     "data": {
      "text/html": [
       "<pre>recommendations finished on 211000/372991 queries. users per second: 314258</pre>"
      ],
      "text/plain": [
       "recommendations finished on 211000/372991 queries. users per second: 314258"
      ]
     },
     "metadata": {},
     "output_type": "display_data"
    },
    {
     "data": {
      "text/html": [
       "<pre>recommendations finished on 212000/372991 queries. users per second: 313586</pre>"
      ],
      "text/plain": [
       "recommendations finished on 212000/372991 queries. users per second: 313586"
      ]
     },
     "metadata": {},
     "output_type": "display_data"
    },
    {
     "data": {
      "text/html": [
       "<pre>recommendations finished on 213000/372991 queries. users per second: 312084</pre>"
      ],
      "text/plain": [
       "recommendations finished on 213000/372991 queries. users per second: 312084"
      ]
     },
     "metadata": {},
     "output_type": "display_data"
    },
    {
     "data": {
      "text/html": [
       "<pre>recommendations finished on 214000/372991 queries. users per second: 311476</pre>"
      ],
      "text/plain": [
       "recommendations finished on 214000/372991 queries. users per second: 311476"
      ]
     },
     "metadata": {},
     "output_type": "display_data"
    },
    {
     "data": {
      "text/html": [
       "<pre>recommendations finished on 215000/372991 queries. users per second: 311456</pre>"
      ],
      "text/plain": [
       "recommendations finished on 215000/372991 queries. users per second: 311456"
      ]
     },
     "metadata": {},
     "output_type": "display_data"
    },
    {
     "data": {
      "text/html": [
       "<pre>recommendations finished on 216000/372991 queries. users per second: 311411</pre>"
      ],
      "text/plain": [
       "recommendations finished on 216000/372991 queries. users per second: 311411"
      ]
     },
     "metadata": {},
     "output_type": "display_data"
    },
    {
     "data": {
      "text/html": [
       "<pre>recommendations finished on 217000/372991 queries. users per second: 310535</pre>"
      ],
      "text/plain": [
       "recommendations finished on 217000/372991 queries. users per second: 310535"
      ]
     },
     "metadata": {},
     "output_type": "display_data"
    },
    {
     "data": {
      "text/html": [
       "<pre>recommendations finished on 218000/372991 queries. users per second: 310439</pre>"
      ],
      "text/plain": [
       "recommendations finished on 218000/372991 queries. users per second: 310439"
      ]
     },
     "metadata": {},
     "output_type": "display_data"
    },
    {
     "data": {
      "text/html": [
       "<pre>recommendations finished on 219000/372991 queries. users per second: 310529</pre>"
      ],
      "text/plain": [
       "recommendations finished on 219000/372991 queries. users per second: 310529"
      ]
     },
     "metadata": {},
     "output_type": "display_data"
    },
    {
     "data": {
      "text/html": [
       "<pre>recommendations finished on 220000/372991 queries. users per second: 310477</pre>"
      ],
      "text/plain": [
       "recommendations finished on 220000/372991 queries. users per second: 310477"
      ]
     },
     "metadata": {},
     "output_type": "display_data"
    },
    {
     "data": {
      "text/html": [
       "<pre>recommendations finished on 221000/372991 queries. users per second: 310411</pre>"
      ],
      "text/plain": [
       "recommendations finished on 221000/372991 queries. users per second: 310411"
      ]
     },
     "metadata": {},
     "output_type": "display_data"
    },
    {
     "data": {
      "text/html": [
       "<pre>recommendations finished on 222000/372991 queries. users per second: 310369</pre>"
      ],
      "text/plain": [
       "recommendations finished on 222000/372991 queries. users per second: 310369"
      ]
     },
     "metadata": {},
     "output_type": "display_data"
    },
    {
     "data": {
      "text/html": [
       "<pre>recommendations finished on 223000/372991 queries. users per second: 310564</pre>"
      ],
      "text/plain": [
       "recommendations finished on 223000/372991 queries. users per second: 310564"
      ]
     },
     "metadata": {},
     "output_type": "display_data"
    },
    {
     "data": {
      "text/html": [
       "<pre>recommendations finished on 224000/372991 queries. users per second: 310758</pre>"
      ],
      "text/plain": [
       "recommendations finished on 224000/372991 queries. users per second: 310758"
      ]
     },
     "metadata": {},
     "output_type": "display_data"
    },
    {
     "data": {
      "text/html": [
       "<pre>recommendations finished on 225000/372991 queries. users per second: 310887</pre>"
      ],
      "text/plain": [
       "recommendations finished on 225000/372991 queries. users per second: 310887"
      ]
     },
     "metadata": {},
     "output_type": "display_data"
    },
    {
     "data": {
      "text/html": [
       "<pre>recommendations finished on 226000/372991 queries. users per second: 310908</pre>"
      ],
      "text/plain": [
       "recommendations finished on 226000/372991 queries. users per second: 310908"
      ]
     },
     "metadata": {},
     "output_type": "display_data"
    },
    {
     "data": {
      "text/html": [
       "<pre>recommendations finished on 227000/372991 queries. users per second: 310864</pre>"
      ],
      "text/plain": [
       "recommendations finished on 227000/372991 queries. users per second: 310864"
      ]
     },
     "metadata": {},
     "output_type": "display_data"
    },
    {
     "data": {
      "text/html": [
       "<pre>recommendations finished on 228000/372991 queries. users per second: 310863</pre>"
      ],
      "text/plain": [
       "recommendations finished on 228000/372991 queries. users per second: 310863"
      ]
     },
     "metadata": {},
     "output_type": "display_data"
    },
    {
     "data": {
      "text/html": [
       "<pre>recommendations finished on 229000/372991 queries. users per second: 311001</pre>"
      ],
      "text/plain": [
       "recommendations finished on 229000/372991 queries. users per second: 311001"
      ]
     },
     "metadata": {},
     "output_type": "display_data"
    },
    {
     "data": {
      "text/html": [
       "<pre>recommendations finished on 230000/372991 queries. users per second: 311015</pre>"
      ],
      "text/plain": [
       "recommendations finished on 230000/372991 queries. users per second: 311015"
      ]
     },
     "metadata": {},
     "output_type": "display_data"
    },
    {
     "data": {
      "text/html": [
       "<pre>recommendations finished on 231000/372991 queries. users per second: 310823</pre>"
      ],
      "text/plain": [
       "recommendations finished on 231000/372991 queries. users per second: 310823"
      ]
     },
     "metadata": {},
     "output_type": "display_data"
    },
    {
     "data": {
      "text/html": [
       "<pre>recommendations finished on 232000/372991 queries. users per second: 310832</pre>"
      ],
      "text/plain": [
       "recommendations finished on 232000/372991 queries. users per second: 310832"
      ]
     },
     "metadata": {},
     "output_type": "display_data"
    },
    {
     "data": {
      "text/html": [
       "<pre>recommendations finished on 233000/372991 queries. users per second: 310956</pre>"
      ],
      "text/plain": [
       "recommendations finished on 233000/372991 queries. users per second: 310956"
      ]
     },
     "metadata": {},
     "output_type": "display_data"
    },
    {
     "data": {
      "text/html": [
       "<pre>recommendations finished on 234000/372991 queries. users per second: 310872</pre>"
      ],
      "text/plain": [
       "recommendations finished on 234000/372991 queries. users per second: 310872"
      ]
     },
     "metadata": {},
     "output_type": "display_data"
    },
    {
     "data": {
      "text/html": [
       "<pre>recommendations finished on 235000/372991 queries. users per second: 311017</pre>"
      ],
      "text/plain": [
       "recommendations finished on 235000/372991 queries. users per second: 311017"
      ]
     },
     "metadata": {},
     "output_type": "display_data"
    },
    {
     "data": {
      "text/html": [
       "<pre>recommendations finished on 236000/372991 queries. users per second: 310810</pre>"
      ],
      "text/plain": [
       "recommendations finished on 236000/372991 queries. users per second: 310810"
      ]
     },
     "metadata": {},
     "output_type": "display_data"
    },
    {
     "data": {
      "text/html": [
       "<pre>recommendations finished on 237000/372991 queries. users per second: 310738</pre>"
      ],
      "text/plain": [
       "recommendations finished on 237000/372991 queries. users per second: 310738"
      ]
     },
     "metadata": {},
     "output_type": "display_data"
    },
    {
     "data": {
      "text/html": [
       "<pre>recommendations finished on 238000/372991 queries. users per second: 310898</pre>"
      ],
      "text/plain": [
       "recommendations finished on 238000/372991 queries. users per second: 310898"
      ]
     },
     "metadata": {},
     "output_type": "display_data"
    },
    {
     "data": {
      "text/html": [
       "<pre>recommendations finished on 239000/372991 queries. users per second: 310710</pre>"
      ],
      "text/plain": [
       "recommendations finished on 239000/372991 queries. users per second: 310710"
      ]
     },
     "metadata": {},
     "output_type": "display_data"
    },
    {
     "data": {
      "text/html": [
       "<pre>recommendations finished on 240000/372991 queries. users per second: 310844</pre>"
      ],
      "text/plain": [
       "recommendations finished on 240000/372991 queries. users per second: 310844"
      ]
     },
     "metadata": {},
     "output_type": "display_data"
    },
    {
     "data": {
      "text/html": [
       "<pre>recommendations finished on 241000/372991 queries. users per second: 310952</pre>"
      ],
      "text/plain": [
       "recommendations finished on 241000/372991 queries. users per second: 310952"
      ]
     },
     "metadata": {},
     "output_type": "display_data"
    },
    {
     "data": {
      "text/html": [
       "<pre>recommendations finished on 242000/372991 queries. users per second: 310938</pre>"
      ],
      "text/plain": [
       "recommendations finished on 242000/372991 queries. users per second: 310938"
      ]
     },
     "metadata": {},
     "output_type": "display_data"
    },
    {
     "data": {
      "text/html": [
       "<pre>recommendations finished on 243000/372991 queries. users per second: 310889</pre>"
      ],
      "text/plain": [
       "recommendations finished on 243000/372991 queries. users per second: 310889"
      ]
     },
     "metadata": {},
     "output_type": "display_data"
    },
    {
     "data": {
      "text/html": [
       "<pre>recommendations finished on 244000/372991 queries. users per second: 311090</pre>"
      ],
      "text/plain": [
       "recommendations finished on 244000/372991 queries. users per second: 311090"
      ]
     },
     "metadata": {},
     "output_type": "display_data"
    },
    {
     "data": {
      "text/html": [
       "<pre>recommendations finished on 245000/372991 queries. users per second: 311203</pre>"
      ],
      "text/plain": [
       "recommendations finished on 245000/372991 queries. users per second: 311203"
      ]
     },
     "metadata": {},
     "output_type": "display_data"
    },
    {
     "data": {
      "text/html": [
       "<pre>recommendations finished on 246000/372991 queries. users per second: 311072</pre>"
      ],
      "text/plain": [
       "recommendations finished on 246000/372991 queries. users per second: 311072"
      ]
     },
     "metadata": {},
     "output_type": "display_data"
    },
    {
     "data": {
      "text/html": [
       "<pre>recommendations finished on 247000/372991 queries. users per second: 310889</pre>"
      ],
      "text/plain": [
       "recommendations finished on 247000/372991 queries. users per second: 310889"
      ]
     },
     "metadata": {},
     "output_type": "display_data"
    },
    {
     "data": {
      "text/html": [
       "<pre>recommendations finished on 248000/372991 queries. users per second: 310751</pre>"
      ],
      "text/plain": [
       "recommendations finished on 248000/372991 queries. users per second: 310751"
      ]
     },
     "metadata": {},
     "output_type": "display_data"
    },
    {
     "data": {
      "text/html": [
       "<pre>recommendations finished on 249000/372991 queries. users per second: 310874</pre>"
      ],
      "text/plain": [
       "recommendations finished on 249000/372991 queries. users per second: 310874"
      ]
     },
     "metadata": {},
     "output_type": "display_data"
    },
    {
     "data": {
      "text/html": [
       "<pre>recommendations finished on 250000/372991 queries. users per second: 310945</pre>"
      ],
      "text/plain": [
       "recommendations finished on 250000/372991 queries. users per second: 310945"
      ]
     },
     "metadata": {},
     "output_type": "display_data"
    },
    {
     "data": {
      "text/html": [
       "<pre>recommendations finished on 251000/372991 queries. users per second: 310903</pre>"
      ],
      "text/plain": [
       "recommendations finished on 251000/372991 queries. users per second: 310903"
      ]
     },
     "metadata": {},
     "output_type": "display_data"
    },
    {
     "data": {
      "text/html": [
       "<pre>recommendations finished on 252000/372991 queries. users per second: 310933</pre>"
      ],
      "text/plain": [
       "recommendations finished on 252000/372991 queries. users per second: 310933"
      ]
     },
     "metadata": {},
     "output_type": "display_data"
    },
    {
     "data": {
      "text/html": [
       "<pre>recommendations finished on 253000/372991 queries. users per second: 310817</pre>"
      ],
      "text/plain": [
       "recommendations finished on 253000/372991 queries. users per second: 310817"
      ]
     },
     "metadata": {},
     "output_type": "display_data"
    },
    {
     "data": {
      "text/html": [
       "<pre>recommendations finished on 254000/372991 queries. users per second: 310973</pre>"
      ],
      "text/plain": [
       "recommendations finished on 254000/372991 queries. users per second: 310973"
      ]
     },
     "metadata": {},
     "output_type": "display_data"
    },
    {
     "data": {
      "text/html": [
       "<pre>recommendations finished on 255000/372991 queries. users per second: 311260</pre>"
      ],
      "text/plain": [
       "recommendations finished on 255000/372991 queries. users per second: 311260"
      ]
     },
     "metadata": {},
     "output_type": "display_data"
    },
    {
     "data": {
      "text/html": [
       "<pre>recommendations finished on 256000/372991 queries. users per second: 311429</pre>"
      ],
      "text/plain": [
       "recommendations finished on 256000/372991 queries. users per second: 311429"
      ]
     },
     "metadata": {},
     "output_type": "display_data"
    },
    {
     "data": {
      "text/html": [
       "<pre>recommendations finished on 257000/372991 queries. users per second: 311524</pre>"
      ],
      "text/plain": [
       "recommendations finished on 257000/372991 queries. users per second: 311524"
      ]
     },
     "metadata": {},
     "output_type": "display_data"
    },
    {
     "data": {
      "text/html": [
       "<pre>recommendations finished on 258000/372991 queries. users per second: 311398</pre>"
      ],
      "text/plain": [
       "recommendations finished on 258000/372991 queries. users per second: 311398"
      ]
     },
     "metadata": {},
     "output_type": "display_data"
    },
    {
     "data": {
      "text/html": [
       "<pre>recommendations finished on 259000/372991 queries. users per second: 311368</pre>"
      ],
      "text/plain": [
       "recommendations finished on 259000/372991 queries. users per second: 311368"
      ]
     },
     "metadata": {},
     "output_type": "display_data"
    },
    {
     "data": {
      "text/html": [
       "<pre>recommendations finished on 260000/372991 queries. users per second: 311383</pre>"
      ],
      "text/plain": [
       "recommendations finished on 260000/372991 queries. users per second: 311383"
      ]
     },
     "metadata": {},
     "output_type": "display_data"
    },
    {
     "data": {
      "text/html": [
       "<pre>recommendations finished on 261000/372991 queries. users per second: 311518</pre>"
      ],
      "text/plain": [
       "recommendations finished on 261000/372991 queries. users per second: 311518"
      ]
     },
     "metadata": {},
     "output_type": "display_data"
    },
    {
     "data": {
      "text/html": [
       "<pre>recommendations finished on 262000/372991 queries. users per second: 311630</pre>"
      ],
      "text/plain": [
       "recommendations finished on 262000/372991 queries. users per second: 311630"
      ]
     },
     "metadata": {},
     "output_type": "display_data"
    },
    {
     "data": {
      "text/html": [
       "<pre>recommendations finished on 263000/372991 queries. users per second: 311593</pre>"
      ],
      "text/plain": [
       "recommendations finished on 263000/372991 queries. users per second: 311593"
      ]
     },
     "metadata": {},
     "output_type": "display_data"
    },
    {
     "data": {
      "text/html": [
       "<pre>recommendations finished on 264000/372991 queries. users per second: 311326</pre>"
      ],
      "text/plain": [
       "recommendations finished on 264000/372991 queries. users per second: 311326"
      ]
     },
     "metadata": {},
     "output_type": "display_data"
    },
    {
     "data": {
      "text/html": [
       "<pre>recommendations finished on 265000/372991 queries. users per second: 311409</pre>"
      ],
      "text/plain": [
       "recommendations finished on 265000/372991 queries. users per second: 311409"
      ]
     },
     "metadata": {},
     "output_type": "display_data"
    },
    {
     "data": {
      "text/html": [
       "<pre>recommendations finished on 266000/372991 queries. users per second: 311761</pre>"
      ],
      "text/plain": [
       "recommendations finished on 266000/372991 queries. users per second: 311761"
      ]
     },
     "metadata": {},
     "output_type": "display_data"
    },
    {
     "data": {
      "text/html": [
       "<pre>recommendations finished on 267000/372991 queries. users per second: 312084</pre>"
      ],
      "text/plain": [
       "recommendations finished on 267000/372991 queries. users per second: 312084"
      ]
     },
     "metadata": {},
     "output_type": "display_data"
    },
    {
     "data": {
      "text/html": [
       "<pre>recommendations finished on 268000/372991 queries. users per second: 312060</pre>"
      ],
      "text/plain": [
       "recommendations finished on 268000/372991 queries. users per second: 312060"
      ]
     },
     "metadata": {},
     "output_type": "display_data"
    },
    {
     "data": {
      "text/html": [
       "<pre>recommendations finished on 269000/372991 queries. users per second: 312070</pre>"
      ],
      "text/plain": [
       "recommendations finished on 269000/372991 queries. users per second: 312070"
      ]
     },
     "metadata": {},
     "output_type": "display_data"
    },
    {
     "data": {
      "text/html": [
       "<pre>recommendations finished on 270000/372991 queries. users per second: 312055</pre>"
      ],
      "text/plain": [
       "recommendations finished on 270000/372991 queries. users per second: 312055"
      ]
     },
     "metadata": {},
     "output_type": "display_data"
    },
    {
     "data": {
      "text/html": [
       "<pre>recommendations finished on 271000/372991 queries. users per second: 312112</pre>"
      ],
      "text/plain": [
       "recommendations finished on 271000/372991 queries. users per second: 312112"
      ]
     },
     "metadata": {},
     "output_type": "display_data"
    },
    {
     "data": {
      "text/html": [
       "<pre>recommendations finished on 272000/372991 queries. users per second: 312222</pre>"
      ],
      "text/plain": [
       "recommendations finished on 272000/372991 queries. users per second: 312222"
      ]
     },
     "metadata": {},
     "output_type": "display_data"
    },
    {
     "data": {
      "text/html": [
       "<pre>recommendations finished on 273000/372991 queries. users per second: 312203</pre>"
      ],
      "text/plain": [
       "recommendations finished on 273000/372991 queries. users per second: 312203"
      ]
     },
     "metadata": {},
     "output_type": "display_data"
    },
    {
     "data": {
      "text/html": [
       "<pre>recommendations finished on 274000/372991 queries. users per second: 312125</pre>"
      ],
      "text/plain": [
       "recommendations finished on 274000/372991 queries. users per second: 312125"
      ]
     },
     "metadata": {},
     "output_type": "display_data"
    },
    {
     "data": {
      "text/html": [
       "<pre>recommendations finished on 275000/372991 queries. users per second: 312100</pre>"
      ],
      "text/plain": [
       "recommendations finished on 275000/372991 queries. users per second: 312100"
      ]
     },
     "metadata": {},
     "output_type": "display_data"
    },
    {
     "data": {
      "text/html": [
       "<pre>recommendations finished on 276000/372991 queries. users per second: 312078</pre>"
      ],
      "text/plain": [
       "recommendations finished on 276000/372991 queries. users per second: 312078"
      ]
     },
     "metadata": {},
     "output_type": "display_data"
    },
    {
     "data": {
      "text/html": [
       "<pre>recommendations finished on 277000/372991 queries. users per second: 312182</pre>"
      ],
      "text/plain": [
       "recommendations finished on 277000/372991 queries. users per second: 312182"
      ]
     },
     "metadata": {},
     "output_type": "display_data"
    },
    {
     "data": {
      "text/html": [
       "<pre>recommendations finished on 278000/372991 queries. users per second: 312349</pre>"
      ],
      "text/plain": [
       "recommendations finished on 278000/372991 queries. users per second: 312349"
      ]
     },
     "metadata": {},
     "output_type": "display_data"
    },
    {
     "data": {
      "text/html": [
       "<pre>recommendations finished on 279000/372991 queries. users per second: 312283</pre>"
      ],
      "text/plain": [
       "recommendations finished on 279000/372991 queries. users per second: 312283"
      ]
     },
     "metadata": {},
     "output_type": "display_data"
    },
    {
     "data": {
      "text/html": [
       "<pre>recommendations finished on 280000/372991 queries. users per second: 312066</pre>"
      ],
      "text/plain": [
       "recommendations finished on 280000/372991 queries. users per second: 312066"
      ]
     },
     "metadata": {},
     "output_type": "display_data"
    },
    {
     "data": {
      "text/html": [
       "<pre>recommendations finished on 281000/372991 queries. users per second: 312124</pre>"
      ],
      "text/plain": [
       "recommendations finished on 281000/372991 queries. users per second: 312124"
      ]
     },
     "metadata": {},
     "output_type": "display_data"
    },
    {
     "data": {
      "text/html": [
       "<pre>recommendations finished on 282000/372991 queries. users per second: 312331</pre>"
      ],
      "text/plain": [
       "recommendations finished on 282000/372991 queries. users per second: 312331"
      ]
     },
     "metadata": {},
     "output_type": "display_data"
    },
    {
     "data": {
      "text/html": [
       "<pre>recommendations finished on 283000/372991 queries. users per second: 312465</pre>"
      ],
      "text/plain": [
       "recommendations finished on 283000/372991 queries. users per second: 312465"
      ]
     },
     "metadata": {},
     "output_type": "display_data"
    },
    {
     "data": {
      "text/html": [
       "<pre>recommendations finished on 284000/372991 queries. users per second: 312445</pre>"
      ],
      "text/plain": [
       "recommendations finished on 284000/372991 queries. users per second: 312445"
      ]
     },
     "metadata": {},
     "output_type": "display_data"
    },
    {
     "data": {
      "text/html": [
       "<pre>recommendations finished on 285000/372991 queries. users per second: 312413</pre>"
      ],
      "text/plain": [
       "recommendations finished on 285000/372991 queries. users per second: 312413"
      ]
     },
     "metadata": {},
     "output_type": "display_data"
    },
    {
     "data": {
      "text/html": [
       "<pre>recommendations finished on 286000/372991 queries. users per second: 312592</pre>"
      ],
      "text/plain": [
       "recommendations finished on 286000/372991 queries. users per second: 312592"
      ]
     },
     "metadata": {},
     "output_type": "display_data"
    },
    {
     "data": {
      "text/html": [
       "<pre>recommendations finished on 287000/372991 queries. users per second: 312802</pre>"
      ],
      "text/plain": [
       "recommendations finished on 287000/372991 queries. users per second: 312802"
      ]
     },
     "metadata": {},
     "output_type": "display_data"
    },
    {
     "data": {
      "text/html": [
       "<pre>recommendations finished on 288000/372991 queries. users per second: 312710</pre>"
      ],
      "text/plain": [
       "recommendations finished on 288000/372991 queries. users per second: 312710"
      ]
     },
     "metadata": {},
     "output_type": "display_data"
    },
    {
     "data": {
      "text/html": [
       "<pre>recommendations finished on 289000/372991 queries. users per second: 312797</pre>"
      ],
      "text/plain": [
       "recommendations finished on 289000/372991 queries. users per second: 312797"
      ]
     },
     "metadata": {},
     "output_type": "display_data"
    },
    {
     "data": {
      "text/html": [
       "<pre>recommendations finished on 290000/372991 queries. users per second: 312731</pre>"
      ],
      "text/plain": [
       "recommendations finished on 290000/372991 queries. users per second: 312731"
      ]
     },
     "metadata": {},
     "output_type": "display_data"
    },
    {
     "data": {
      "text/html": [
       "<pre>recommendations finished on 291000/372991 queries. users per second: 312688</pre>"
      ],
      "text/plain": [
       "recommendations finished on 291000/372991 queries. users per second: 312688"
      ]
     },
     "metadata": {},
     "output_type": "display_data"
    },
    {
     "data": {
      "text/html": [
       "<pre>recommendations finished on 292000/372991 queries. users per second: 312644</pre>"
      ],
      "text/plain": [
       "recommendations finished on 292000/372991 queries. users per second: 312644"
      ]
     },
     "metadata": {},
     "output_type": "display_data"
    },
    {
     "data": {
      "text/html": [
       "<pre>recommendations finished on 293000/372991 queries. users per second: 312786</pre>"
      ],
      "text/plain": [
       "recommendations finished on 293000/372991 queries. users per second: 312786"
      ]
     },
     "metadata": {},
     "output_type": "display_data"
    },
    {
     "data": {
      "text/html": [
       "<pre>recommendations finished on 294000/372991 queries. users per second: 312883</pre>"
      ],
      "text/plain": [
       "recommendations finished on 294000/372991 queries. users per second: 312883"
      ]
     },
     "metadata": {},
     "output_type": "display_data"
    },
    {
     "data": {
      "text/html": [
       "<pre>recommendations finished on 295000/372991 queries. users per second: 312961</pre>"
      ],
      "text/plain": [
       "recommendations finished on 295000/372991 queries. users per second: 312961"
      ]
     },
     "metadata": {},
     "output_type": "display_data"
    },
    {
     "data": {
      "text/html": [
       "<pre>recommendations finished on 296000/372991 queries. users per second: 312809</pre>"
      ],
      "text/plain": [
       "recommendations finished on 296000/372991 queries. users per second: 312809"
      ]
     },
     "metadata": {},
     "output_type": "display_data"
    },
    {
     "data": {
      "text/html": [
       "<pre>recommendations finished on 297000/372991 queries. users per second: 312926</pre>"
      ],
      "text/plain": [
       "recommendations finished on 297000/372991 queries. users per second: 312926"
      ]
     },
     "metadata": {},
     "output_type": "display_data"
    },
    {
     "data": {
      "text/html": [
       "<pre>recommendations finished on 298000/372991 queries. users per second: 312983</pre>"
      ],
      "text/plain": [
       "recommendations finished on 298000/372991 queries. users per second: 312983"
      ]
     },
     "metadata": {},
     "output_type": "display_data"
    },
    {
     "data": {
      "text/html": [
       "<pre>recommendations finished on 299000/372991 queries. users per second: 313094</pre>"
      ],
      "text/plain": [
       "recommendations finished on 299000/372991 queries. users per second: 313094"
      ]
     },
     "metadata": {},
     "output_type": "display_data"
    },
    {
     "data": {
      "text/html": [
       "<pre>recommendations finished on 300000/372991 queries. users per second: 313161</pre>"
      ],
      "text/plain": [
       "recommendations finished on 300000/372991 queries. users per second: 313161"
      ]
     },
     "metadata": {},
     "output_type": "display_data"
    },
    {
     "data": {
      "text/html": [
       "<pre>recommendations finished on 301000/372991 queries. users per second: 312777</pre>"
      ],
      "text/plain": [
       "recommendations finished on 301000/372991 queries. users per second: 312777"
      ]
     },
     "metadata": {},
     "output_type": "display_data"
    },
    {
     "data": {
      "text/html": [
       "<pre>recommendations finished on 302000/372991 queries. users per second: 312904</pre>"
      ],
      "text/plain": [
       "recommendations finished on 302000/372991 queries. users per second: 312904"
      ]
     },
     "metadata": {},
     "output_type": "display_data"
    },
    {
     "data": {
      "text/html": [
       "<pre>recommendations finished on 303000/372991 queries. users per second: 312993</pre>"
      ],
      "text/plain": [
       "recommendations finished on 303000/372991 queries. users per second: 312993"
      ]
     },
     "metadata": {},
     "output_type": "display_data"
    },
    {
     "data": {
      "text/html": [
       "<pre>recommendations finished on 304000/372991 queries. users per second: 313033</pre>"
      ],
      "text/plain": [
       "recommendations finished on 304000/372991 queries. users per second: 313033"
      ]
     },
     "metadata": {},
     "output_type": "display_data"
    },
    {
     "data": {
      "text/html": [
       "<pre>recommendations finished on 305000/372991 queries. users per second: 313144</pre>"
      ],
      "text/plain": [
       "recommendations finished on 305000/372991 queries. users per second: 313144"
      ]
     },
     "metadata": {},
     "output_type": "display_data"
    },
    {
     "data": {
      "text/html": [
       "<pre>recommendations finished on 306000/372991 queries. users per second: 313232</pre>"
      ],
      "text/plain": [
       "recommendations finished on 306000/372991 queries. users per second: 313232"
      ]
     },
     "metadata": {},
     "output_type": "display_data"
    },
    {
     "data": {
      "text/html": [
       "<pre>recommendations finished on 307000/372991 queries. users per second: 313081</pre>"
      ],
      "text/plain": [
       "recommendations finished on 307000/372991 queries. users per second: 313081"
      ]
     },
     "metadata": {},
     "output_type": "display_data"
    },
    {
     "data": {
      "text/html": [
       "<pre>recommendations finished on 308000/372991 queries. users per second: 313198</pre>"
      ],
      "text/plain": [
       "recommendations finished on 308000/372991 queries. users per second: 313198"
      ]
     },
     "metadata": {},
     "output_type": "display_data"
    },
    {
     "data": {
      "text/html": [
       "<pre>recommendations finished on 309000/372991 queries. users per second: 313220</pre>"
      ],
      "text/plain": [
       "recommendations finished on 309000/372991 queries. users per second: 313220"
      ]
     },
     "metadata": {},
     "output_type": "display_data"
    },
    {
     "data": {
      "text/html": [
       "<pre>recommendations finished on 310000/372991 queries. users per second: 313259</pre>"
      ],
      "text/plain": [
       "recommendations finished on 310000/372991 queries. users per second: 313259"
      ]
     },
     "metadata": {},
     "output_type": "display_data"
    },
    {
     "data": {
      "text/html": [
       "<pre>recommendations finished on 311000/372991 queries. users per second: 313204</pre>"
      ],
      "text/plain": [
       "recommendations finished on 311000/372991 queries. users per second: 313204"
      ]
     },
     "metadata": {},
     "output_type": "display_data"
    },
    {
     "data": {
      "text/html": [
       "<pre>recommendations finished on 312000/372991 queries. users per second: 313169</pre>"
      ],
      "text/plain": [
       "recommendations finished on 312000/372991 queries. users per second: 313169"
      ]
     },
     "metadata": {},
     "output_type": "display_data"
    },
    {
     "data": {
      "text/html": [
       "<pre>recommendations finished on 313000/372991 queries. users per second: 312977</pre>"
      ],
      "text/plain": [
       "recommendations finished on 313000/372991 queries. users per second: 312977"
      ]
     },
     "metadata": {},
     "output_type": "display_data"
    },
    {
     "data": {
      "text/html": [
       "<pre>recommendations finished on 314000/372991 queries. users per second: 313119</pre>"
      ],
      "text/plain": [
       "recommendations finished on 314000/372991 queries. users per second: 313119"
      ]
     },
     "metadata": {},
     "output_type": "display_data"
    },
    {
     "data": {
      "text/html": [
       "<pre>recommendations finished on 315000/372991 queries. users per second: 313166</pre>"
      ],
      "text/plain": [
       "recommendations finished on 315000/372991 queries. users per second: 313166"
      ]
     },
     "metadata": {},
     "output_type": "display_data"
    },
    {
     "data": {
      "text/html": [
       "<pre>recommendations finished on 316000/372991 queries. users per second: 313375</pre>"
      ],
      "text/plain": [
       "recommendations finished on 316000/372991 queries. users per second: 313375"
      ]
     },
     "metadata": {},
     "output_type": "display_data"
    },
    {
     "data": {
      "text/html": [
       "<pre>recommendations finished on 317000/372991 queries. users per second: 313534</pre>"
      ],
      "text/plain": [
       "recommendations finished on 317000/372991 queries. users per second: 313534"
      ]
     },
     "metadata": {},
     "output_type": "display_data"
    },
    {
     "data": {
      "text/html": [
       "<pre>recommendations finished on 318000/372991 queries. users per second: 313773</pre>"
      ],
      "text/plain": [
       "recommendations finished on 318000/372991 queries. users per second: 313773"
      ]
     },
     "metadata": {},
     "output_type": "display_data"
    },
    {
     "data": {
      "text/html": [
       "<pre>recommendations finished on 319000/372991 queries. users per second: 313861</pre>"
      ],
      "text/plain": [
       "recommendations finished on 319000/372991 queries. users per second: 313861"
      ]
     },
     "metadata": {},
     "output_type": "display_data"
    },
    {
     "data": {
      "text/html": [
       "<pre>recommendations finished on 320000/372991 queries. users per second: 313970</pre>"
      ],
      "text/plain": [
       "recommendations finished on 320000/372991 queries. users per second: 313970"
      ]
     },
     "metadata": {},
     "output_type": "display_data"
    },
    {
     "data": {
      "text/html": [
       "<pre>recommendations finished on 321000/372991 queries. users per second: 313877</pre>"
      ],
      "text/plain": [
       "recommendations finished on 321000/372991 queries. users per second: 313877"
      ]
     },
     "metadata": {},
     "output_type": "display_data"
    },
    {
     "data": {
      "text/html": [
       "<pre>recommendations finished on 322000/372991 queries. users per second: 313884</pre>"
      ],
      "text/plain": [
       "recommendations finished on 322000/372991 queries. users per second: 313884"
      ]
     },
     "metadata": {},
     "output_type": "display_data"
    },
    {
     "data": {
      "text/html": [
       "<pre>recommendations finished on 323000/372991 queries. users per second: 313808</pre>"
      ],
      "text/plain": [
       "recommendations finished on 323000/372991 queries. users per second: 313808"
      ]
     },
     "metadata": {},
     "output_type": "display_data"
    },
    {
     "data": {
      "text/html": [
       "<pre>recommendations finished on 324000/372991 queries. users per second: 313784</pre>"
      ],
      "text/plain": [
       "recommendations finished on 324000/372991 queries. users per second: 313784"
      ]
     },
     "metadata": {},
     "output_type": "display_data"
    },
    {
     "data": {
      "text/html": [
       "<pre>recommendations finished on 325000/372991 queries. users per second: 313957</pre>"
      ],
      "text/plain": [
       "recommendations finished on 325000/372991 queries. users per second: 313957"
      ]
     },
     "metadata": {},
     "output_type": "display_data"
    },
    {
     "data": {
      "text/html": [
       "<pre>recommendations finished on 326000/372991 queries. users per second: 314066</pre>"
      ],
      "text/plain": [
       "recommendations finished on 326000/372991 queries. users per second: 314066"
      ]
     },
     "metadata": {},
     "output_type": "display_data"
    },
    {
     "data": {
      "text/html": [
       "<pre>recommendations finished on 327000/372991 queries. users per second: 314164</pre>"
      ],
      "text/plain": [
       "recommendations finished on 327000/372991 queries. users per second: 314164"
      ]
     },
     "metadata": {},
     "output_type": "display_data"
    },
    {
     "data": {
      "text/html": [
       "<pre>recommendations finished on 328000/372991 queries. users per second: 314169</pre>"
      ],
      "text/plain": [
       "recommendations finished on 328000/372991 queries. users per second: 314169"
      ]
     },
     "metadata": {},
     "output_type": "display_data"
    },
    {
     "data": {
      "text/html": [
       "<pre>recommendations finished on 329000/372991 queries. users per second: 314198</pre>"
      ],
      "text/plain": [
       "recommendations finished on 329000/372991 queries. users per second: 314198"
      ]
     },
     "metadata": {},
     "output_type": "display_data"
    },
    {
     "data": {
      "text/html": [
       "<pre>recommendations finished on 330000/372991 queries. users per second: 314127</pre>"
      ],
      "text/plain": [
       "recommendations finished on 330000/372991 queries. users per second: 314127"
      ]
     },
     "metadata": {},
     "output_type": "display_data"
    },
    {
     "data": {
      "text/html": [
       "<pre>recommendations finished on 331000/372991 queries. users per second: 314262</pre>"
      ],
      "text/plain": [
       "recommendations finished on 331000/372991 queries. users per second: 314262"
      ]
     },
     "metadata": {},
     "output_type": "display_data"
    },
    {
     "data": {
      "text/html": [
       "<pre>recommendations finished on 332000/372991 queries. users per second: 314282</pre>"
      ],
      "text/plain": [
       "recommendations finished on 332000/372991 queries. users per second: 314282"
      ]
     },
     "metadata": {},
     "output_type": "display_data"
    },
    {
     "data": {
      "text/html": [
       "<pre>recommendations finished on 333000/372991 queries. users per second: 314285</pre>"
      ],
      "text/plain": [
       "recommendations finished on 333000/372991 queries. users per second: 314285"
      ]
     },
     "metadata": {},
     "output_type": "display_data"
    },
    {
     "data": {
      "text/html": [
       "<pre>recommendations finished on 334000/372991 queries. users per second: 314266</pre>"
      ],
      "text/plain": [
       "recommendations finished on 334000/372991 queries. users per second: 314266"
      ]
     },
     "metadata": {},
     "output_type": "display_data"
    },
    {
     "data": {
      "text/html": [
       "<pre>recommendations finished on 335000/372991 queries. users per second: 314267</pre>"
      ],
      "text/plain": [
       "recommendations finished on 335000/372991 queries. users per second: 314267"
      ]
     },
     "metadata": {},
     "output_type": "display_data"
    },
    {
     "data": {
      "text/html": [
       "<pre>recommendations finished on 336000/372991 queries. users per second: 314405</pre>"
      ],
      "text/plain": [
       "recommendations finished on 336000/372991 queries. users per second: 314405"
      ]
     },
     "metadata": {},
     "output_type": "display_data"
    },
    {
     "data": {
      "text/html": [
       "<pre>recommendations finished on 337000/372991 queries. users per second: 314518</pre>"
      ],
      "text/plain": [
       "recommendations finished on 337000/372991 queries. users per second: 314518"
      ]
     },
     "metadata": {},
     "output_type": "display_data"
    },
    {
     "data": {
      "text/html": [
       "<pre>recommendations finished on 338000/372991 queries. users per second: 314547</pre>"
      ],
      "text/plain": [
       "recommendations finished on 338000/372991 queries. users per second: 314547"
      ]
     },
     "metadata": {},
     "output_type": "display_data"
    },
    {
     "data": {
      "text/html": [
       "<pre>recommendations finished on 339000/372991 queries. users per second: 314496</pre>"
      ],
      "text/plain": [
       "recommendations finished on 339000/372991 queries. users per second: 314496"
      ]
     },
     "metadata": {},
     "output_type": "display_data"
    },
    {
     "data": {
      "text/html": [
       "<pre>recommendations finished on 340000/372991 queries. users per second: 314439</pre>"
      ],
      "text/plain": [
       "recommendations finished on 340000/372991 queries. users per second: 314439"
      ]
     },
     "metadata": {},
     "output_type": "display_data"
    },
    {
     "data": {
      "text/html": [
       "<pre>recommendations finished on 341000/372991 queries. users per second: 314586</pre>"
      ],
      "text/plain": [
       "recommendations finished on 341000/372991 queries. users per second: 314586"
      ]
     },
     "metadata": {},
     "output_type": "display_data"
    },
    {
     "data": {
      "text/html": [
       "<pre>recommendations finished on 342000/372991 queries. users per second: 314745</pre>"
      ],
      "text/plain": [
       "recommendations finished on 342000/372991 queries. users per second: 314745"
      ]
     },
     "metadata": {},
     "output_type": "display_data"
    },
    {
     "data": {
      "text/html": [
       "<pre>recommendations finished on 343000/372991 queries. users per second: 314899</pre>"
      ],
      "text/plain": [
       "recommendations finished on 343000/372991 queries. users per second: 314899"
      ]
     },
     "metadata": {},
     "output_type": "display_data"
    },
    {
     "data": {
      "text/html": [
       "<pre>recommendations finished on 344000/372991 queries. users per second: 314816</pre>"
      ],
      "text/plain": [
       "recommendations finished on 344000/372991 queries. users per second: 314816"
      ]
     },
     "metadata": {},
     "output_type": "display_data"
    },
    {
     "data": {
      "text/html": [
       "<pre>recommendations finished on 345000/372991 queries. users per second: 314762</pre>"
      ],
      "text/plain": [
       "recommendations finished on 345000/372991 queries. users per second: 314762"
      ]
     },
     "metadata": {},
     "output_type": "display_data"
    },
    {
     "data": {
      "text/html": [
       "<pre>recommendations finished on 346000/372991 queries. users per second: 314655</pre>"
      ],
      "text/plain": [
       "recommendations finished on 346000/372991 queries. users per second: 314655"
      ]
     },
     "metadata": {},
     "output_type": "display_data"
    },
    {
     "data": {
      "text/html": [
       "<pre>recommendations finished on 347000/372991 queries. users per second: 314783</pre>"
      ],
      "text/plain": [
       "recommendations finished on 347000/372991 queries. users per second: 314783"
      ]
     },
     "metadata": {},
     "output_type": "display_data"
    },
    {
     "data": {
      "text/html": [
       "<pre>recommendations finished on 348000/372991 queries. users per second: 314879</pre>"
      ],
      "text/plain": [
       "recommendations finished on 348000/372991 queries. users per second: 314879"
      ]
     },
     "metadata": {},
     "output_type": "display_data"
    },
    {
     "data": {
      "text/html": [
       "<pre>recommendations finished on 349000/372991 queries. users per second: 314904</pre>"
      ],
      "text/plain": [
       "recommendations finished on 349000/372991 queries. users per second: 314904"
      ]
     },
     "metadata": {},
     "output_type": "display_data"
    },
    {
     "data": {
      "text/html": [
       "<pre>recommendations finished on 350000/372991 queries. users per second: 314875</pre>"
      ],
      "text/plain": [
       "recommendations finished on 350000/372991 queries. users per second: 314875"
      ]
     },
     "metadata": {},
     "output_type": "display_data"
    },
    {
     "data": {
      "text/html": [
       "<pre>recommendations finished on 351000/372991 queries. users per second: 314812</pre>"
      ],
      "text/plain": [
       "recommendations finished on 351000/372991 queries. users per second: 314812"
      ]
     },
     "metadata": {},
     "output_type": "display_data"
    },
    {
     "data": {
      "text/html": [
       "<pre>recommendations finished on 352000/372991 queries. users per second: 314971</pre>"
      ],
      "text/plain": [
       "recommendations finished on 352000/372991 queries. users per second: 314971"
      ]
     },
     "metadata": {},
     "output_type": "display_data"
    },
    {
     "data": {
      "text/html": [
       "<pre>recommendations finished on 353000/372991 queries. users per second: 315101</pre>"
      ],
      "text/plain": [
       "recommendations finished on 353000/372991 queries. users per second: 315101"
      ]
     },
     "metadata": {},
     "output_type": "display_data"
    },
    {
     "data": {
      "text/html": [
       "<pre>recommendations finished on 354000/372991 queries. users per second: 315109</pre>"
      ],
      "text/plain": [
       "recommendations finished on 354000/372991 queries. users per second: 315109"
      ]
     },
     "metadata": {},
     "output_type": "display_data"
    },
    {
     "data": {
      "text/html": [
       "<pre>recommendations finished on 355000/372991 queries. users per second: 315178</pre>"
      ],
      "text/plain": [
       "recommendations finished on 355000/372991 queries. users per second: 315178"
      ]
     },
     "metadata": {},
     "output_type": "display_data"
    },
    {
     "data": {
      "text/html": [
       "<pre>recommendations finished on 356000/372991 queries. users per second: 315226</pre>"
      ],
      "text/plain": [
       "recommendations finished on 356000/372991 queries. users per second: 315226"
      ]
     },
     "metadata": {},
     "output_type": "display_data"
    },
    {
     "data": {
      "text/html": [
       "<pre>recommendations finished on 357000/372991 queries. users per second: 315118</pre>"
      ],
      "text/plain": [
       "recommendations finished on 357000/372991 queries. users per second: 315118"
      ]
     },
     "metadata": {},
     "output_type": "display_data"
    },
    {
     "data": {
      "text/html": [
       "<pre>recommendations finished on 358000/372991 queries. users per second: 315221</pre>"
      ],
      "text/plain": [
       "recommendations finished on 358000/372991 queries. users per second: 315221"
      ]
     },
     "metadata": {},
     "output_type": "display_data"
    },
    {
     "data": {
      "text/html": [
       "<pre>recommendations finished on 359000/372991 queries. users per second: 315316</pre>"
      ],
      "text/plain": [
       "recommendations finished on 359000/372991 queries. users per second: 315316"
      ]
     },
     "metadata": {},
     "output_type": "display_data"
    },
    {
     "data": {
      "text/html": [
       "<pre>recommendations finished on 360000/372991 queries. users per second: 315320</pre>"
      ],
      "text/plain": [
       "recommendations finished on 360000/372991 queries. users per second: 315320"
      ]
     },
     "metadata": {},
     "output_type": "display_data"
    },
    {
     "data": {
      "text/html": [
       "<pre>recommendations finished on 361000/372991 queries. users per second: 315257</pre>"
      ],
      "text/plain": [
       "recommendations finished on 361000/372991 queries. users per second: 315257"
      ]
     },
     "metadata": {},
     "output_type": "display_data"
    },
    {
     "data": {
      "text/html": [
       "<pre>recommendations finished on 362000/372991 queries. users per second: 315207</pre>"
      ],
      "text/plain": [
       "recommendations finished on 362000/372991 queries. users per second: 315207"
      ]
     },
     "metadata": {},
     "output_type": "display_data"
    },
    {
     "data": {
      "text/html": [
       "<pre>recommendations finished on 363000/372991 queries. users per second: 315352</pre>"
      ],
      "text/plain": [
       "recommendations finished on 363000/372991 queries. users per second: 315352"
      ]
     },
     "metadata": {},
     "output_type": "display_data"
    },
    {
     "data": {
      "text/html": [
       "<pre>recommendations finished on 364000/372991 queries. users per second: 315404</pre>"
      ],
      "text/plain": [
       "recommendations finished on 364000/372991 queries. users per second: 315404"
      ]
     },
     "metadata": {},
     "output_type": "display_data"
    },
    {
     "data": {
      "text/html": [
       "<pre>recommendations finished on 365000/372991 queries. users per second: 315445</pre>"
      ],
      "text/plain": [
       "recommendations finished on 365000/372991 queries. users per second: 315445"
      ]
     },
     "metadata": {},
     "output_type": "display_data"
    },
    {
     "data": {
      "text/html": [
       "<pre>recommendations finished on 366000/372991 queries. users per second: 315482</pre>"
      ],
      "text/plain": [
       "recommendations finished on 366000/372991 queries. users per second: 315482"
      ]
     },
     "metadata": {},
     "output_type": "display_data"
    },
    {
     "data": {
      "text/html": [
       "<pre>recommendations finished on 367000/372991 queries. users per second: 315503</pre>"
      ],
      "text/plain": [
       "recommendations finished on 367000/372991 queries. users per second: 315503"
      ]
     },
     "metadata": {},
     "output_type": "display_data"
    },
    {
     "data": {
      "text/html": [
       "<pre>recommendations finished on 368000/372991 queries. users per second: 315351</pre>"
      ],
      "text/plain": [
       "recommendations finished on 368000/372991 queries. users per second: 315351"
      ]
     },
     "metadata": {},
     "output_type": "display_data"
    },
    {
     "data": {
      "text/html": [
       "<pre>recommendations finished on 369000/372991 queries. users per second: 315326</pre>"
      ],
      "text/plain": [
       "recommendations finished on 369000/372991 queries. users per second: 315326"
      ]
     },
     "metadata": {},
     "output_type": "display_data"
    },
    {
     "data": {
      "text/html": [
       "<pre>recommendations finished on 370000/372991 queries. users per second: 315217</pre>"
      ],
      "text/plain": [
       "recommendations finished on 370000/372991 queries. users per second: 315217"
      ]
     },
     "metadata": {},
     "output_type": "display_data"
    },
    {
     "data": {
      "text/html": [
       "<pre>recommendations finished on 371000/372991 queries. users per second: 314842</pre>"
      ],
      "text/plain": [
       "recommendations finished on 371000/372991 queries. users per second: 314842"
      ]
     },
     "metadata": {},
     "output_type": "display_data"
    },
    {
     "data": {
      "text/html": [
       "<pre>recommendations finished on 372000/372991 queries. users per second: 314201</pre>"
      ],
      "text/plain": [
       "recommendations finished on 372000/372991 queries. users per second: 314201"
      ]
     },
     "metadata": {},
     "output_type": "display_data"
    },
    {
     "name": "stdout",
     "output_type": "stream",
     "text": [
      "+--------+--------+-------+------+\n",
      "| userId | itemId | score | rank |\n",
      "+--------+--------+-------+------+\n",
      "|   2    | 43979  |  0.0  |  1   |\n",
      "|   2    |  5132  |  0.0  |  2   |\n",
      "|   2    | 13757  |  0.0  |  3   |\n",
      "|   2    | 39090  |  0.0  |  4   |\n",
      "|   2    |  2227  |  0.0  |  5   |\n",
      "|   2    | 19597  |  0.0  |  6   |\n",
      "|   2    |  6033  |  0.0  |  7   |\n",
      "|   2    |  5704  |  0.0  |  8   |\n",
      "|   2    |  8056  |  0.0  |  9   |\n",
      "|   2    | 35380  |  0.0  |  10  |\n",
      "|   2    | 43979  |  0.0  |  1   |\n",
      "|   2    |  5132  |  0.0  |  2   |\n",
      "|   2    | 13757  |  0.0  |  3   |\n",
      "|   2    | 39090  |  0.0  |  4   |\n",
      "|   2    |  2227  |  0.0  |  5   |\n",
      "|   2    | 19597  |  0.0  |  6   |\n",
      "|   2    |  6033  |  0.0  |  7   |\n",
      "|   2    |  5704  |  0.0  |  8   |\n",
      "|   2    |  8056  |  0.0  |  9   |\n",
      "|   2    | 35380  |  0.0  |  10  |\n",
      "|   2    | 43979  |  0.0  |  1   |\n",
      "|   2    |  5132  |  0.0  |  2   |\n",
      "|   2    | 13757  |  0.0  |  3   |\n",
      "|   2    | 39090  |  0.0  |  4   |\n",
      "|   2    |  2227  |  0.0  |  5   |\n",
      "|   2    | 19597  |  0.0  |  6   |\n",
      "|   2    |  6033  |  0.0  |  7   |\n",
      "|   2    |  5704  |  0.0  |  8   |\n",
      "|   2    |  8056  |  0.0  |  9   |\n",
      "|   2    | 35380  |  0.0  |  10  |\n",
      "+--------+--------+-------+------+\n",
      "[3729910 rows x 4 columns]\n",
      "\n"
     ]
    }
   ],
   "source": [
    "if(tc.load_model('cos_norm')):\n",
    "    cos_norm = tc.load_model('cos_norm')\n",
    "else:\n",
    "    target = 'scaled_purchase_freq'\n",
    "    cos_norm = model(train_data_norm, user_id, item_id, target, users_to_recommend, n_rec, n_display)\n",
    "    cos_norm.save('cos_norm_model')"
   ]
  },
  {
   "cell_type": "code",
   "execution_count": 38,
   "metadata": {},
   "outputs": [],
   "source": []
  },
  {
   "cell_type": "code",
   "execution_count": null,
   "metadata": {},
   "outputs": [],
   "source": []
  },
  {
   "cell_type": "code",
   "execution_count": null,
   "metadata": {},
   "outputs": [],
   "source": []
  },
  {
   "cell_type": "code",
   "execution_count": null,
   "metadata": {},
   "outputs": [],
   "source": []
  },
  {
   "cell_type": "code",
   "execution_count": null,
   "metadata": {},
   "outputs": [],
   "source": []
  },
  {
   "cell_type": "code",
   "execution_count": null,
   "metadata": {},
   "outputs": [],
   "source": []
  },
  {
   "cell_type": "code",
   "execution_count": null,
   "metadata": {},
   "outputs": [],
   "source": []
  },
  {
   "cell_type": "code",
   "execution_count": null,
   "metadata": {},
   "outputs": [],
   "source": []
  },
  {
   "cell_type": "code",
   "execution_count": null,
   "metadata": {},
   "outputs": [],
   "source": []
  },
  {
   "cell_type": "code",
   "execution_count": null,
   "metadata": {},
   "outputs": [],
   "source": []
  }
 ],
 "metadata": {
  "colab": {
   "collapsed_sections": [],
   "name": "Intelligent_System.ipynb",
   "provenance": []
  },
  "kernelspec": {
   "display_name": "Python 3 (ipykernel)",
   "language": "python",
   "name": "python3"
  },
  "language_info": {
   "codemirror_mode": {
    "name": "ipython",
    "version": 3
   },
   "file_extension": ".py",
   "mimetype": "text/x-python",
   "name": "python",
   "nbconvert_exporter": "python",
   "pygments_lexer": "ipython3",
   "version": "3.8.12"
  }
 },
 "nbformat": 4,
 "nbformat_minor": 1
}
